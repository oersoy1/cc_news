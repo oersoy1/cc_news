{
 "cells": [
  {
   "cell_type": "markdown",
   "metadata": {},
   "source": [
    "# Topic Modeling\n",
    "\n",
    "Here given the main topic (politics, business, world etc...) we will try to detect the top N topics. Topic modeling in essence is difficult to do it does not always produce reasonable topics but we will give it a try. "
   ]
  },
  {
   "cell_type": "code",
   "execution_count": 1,
   "metadata": {},
   "outputs": [],
   "source": [
    "import pandas as pd\n",
    "import os\n",
    "import sys\n",
    "\n",
    "from multiprocessing import cpu_count\n",
    "from loguru import logger\n",
    "from pathlib import Path\n",
    "from pprint import pprint\n",
    "from time import time, strftime, gmtime"
   ]
  },
  {
   "cell_type": "code",
   "execution_count": 2,
   "metadata": {},
   "outputs": [],
   "source": [
    "data_folder = Path.home() / 'Data' / 'cc_news'\n",
    "model_input_folder = data_folder / 'model_output' "
   ]
  },
  {
   "cell_type": "code",
   "execution_count": 3,
   "metadata": {},
   "outputs": [
    {
     "data": {
      "text/plain": [
       "[1]"
      ]
     },
     "execution_count": 3,
     "metadata": {},
     "output_type": "execute_result"
    }
   ],
   "source": [
    "# Configuring the logger\n",
    "config = {\"handlers\": [{\"sink\": sys.stdout,\"colorize\": True,\n",
    "          \"format\": \"<green>{time:YYYY-MM-DD HH:mm:ss}</green> | <level>{level: <8}</level> | <cyan>{name}</cyan>:<cyan>{function}</cyan>:<cyan>{line}</cyan> - <level>{message}</level>\"}]}\n",
    "logger.configure(**config)"
   ]
  },
  {
   "cell_type": "code",
   "execution_count": 4,
   "metadata": {},
   "outputs": [],
   "source": [
    "# Read data from previous section\n",
    "df = pd.read_csv(model_input_folder / 'data_topic_model_ready.csv')"
   ]
  },
  {
   "cell_type": "code",
   "execution_count": 5,
   "metadata": {},
   "outputs": [
    {
     "name": "stdout",
     "output_type": "stream",
     "text": [
      "('Why ROC: G.W. Lisk Skip to content RochesterFirst Rochester 23  Sponsored By '\n",
      " 'Search Primary Menu News Local News State News National News International '\n",
      " 'Washington Business News Entertainment News Your Local Election HQ Adam '\n",
      " 'Interviews News 8 Archives Crime Education Weird News Digital Exclusives Top '\n",
      " 'Stories News 8 at Noon: Online broadcast for December 18, 2019 Top Stories '\n",
      " 'Where to watch: SU vs. Oakland Public Market mainstay Scott’s II closing '\n",
      " 'this week after 28 years in business Despite team’s record, Tre White is '\n",
      " 'Bills’ only Pro-Bowler How much would ‘The 12 Days of Christmas’ gifts cost '\n",
      " 'today? Weather Weather Today’s Forecast 8-Day Forecast Almanac Interactive '\n",
      " 'Radar Map Center Weather Cameras Weather Dogs Hourly Forecast Weekend '\n",
      " 'Forecast Weather Watchers Traffic Closings and Delays Sports Local Sports '\n",
      " 'National Sports Rochester Pro Teams The Bills Report High School Sports '\n",
      " 'College Sports Buffalo Sabres Section V Best Orange Nation Every Team Has A '\n",
      " 'Story Western NY PGA Tips Sports Video The Big Game Top Stories ROC native '\n",
      " 'Isaiah Stewart dominates in 81-59 win over rival Seattle Top Stories Bills '\n",
      " 'vs. Patriots matchup broken down by those who are on the beat Bills vs. '\n",
      " 'Patriots game this Saturday is only on NFL Network Section V Best: Fall 2019 '\n",
      " 'Awards Show The last time the Bills had 10 wins … Video Center All Video '\n",
      " 'Sports Video Live CBSN Live Kucko’s Camera Top Stories News 8 at Noon: '\n",
      " 'Online broadcast for December 18, 2019 Top Stories RPO presents Gala Holiday '\n",
      " 'Pops Concert at Kodak Hall Top Stories Sunrise Smart Start: Wednesday, '\n",
      " 'December 18 Unveiling sign of new roadway name New public works facility in '\n",
      " 'Irondequoit ready for snowy days Weather forecast: Temperatures tumble, '\n",
      " 'winds whip, and lake effect snow squalls fly today … Lifestyle Around Town '\n",
      " 'Remarkable Women Health News Recalls Fuel Finder Games Be Inspired Ask The '\n",
      " 'Experts Home Improvement Career Connection Community Photos The Mel Robbins '\n",
      " 'Show Plugged-In Parent Sunrise Smart Start Community News 8 Events Calendar '\n",
      " 'News 8 Celebrates Honor Roll Golden Apple Award Golden Apple Scholarship '\n",
      " 'Putting You First Why ROC Friend For Life Zoo Life Share The Warmth Veterans '\n",
      " 'Voices Home for the Holidays Food For Families TV Schedule Contests About Us '\n",
      " 'Meet The Team Contact Us Advertise With Us Alexa Email Alerts Text Alerts '\n",
      " 'CBS Full Episodes TV Schedule Work For Us Search Search Search 1 of / 2 Live '\n",
      " 'Now Live Now News 8 at Noon: Online broadcast for December 18, 2019 1 of / 2 '\n",
      " 'Live Now House votes on impeachment of ')\n"
     ]
    }
   ],
   "source": [
    "# Printing a sample doc\n",
    "pprint(df.sample(1).iloc[0].text)"
   ]
  },
  {
   "cell_type": "code",
   "execution_count": 6,
   "metadata": {},
   "outputs": [
    {
     "data": {
      "text/plain": [
       "business_economy    48536\n",
       "sports              27930\n",
       "politics             8785\n",
       "entertainment        6514\n",
       "world                1115\n",
       "Name: main_topic, dtype: int64"
      ]
     },
     "execution_count": 6,
     "metadata": {},
     "output_type": "execute_result"
    }
   ],
   "source": [
    "# The distribution of our classes: \n",
    "df.main_topic.value_counts()"
   ]
  },
  {
   "cell_type": "markdown",
   "metadata": {},
   "source": [
    "##  1. Subsetting the data\n",
    "Here, we will arbitrarily subset the data to \"politics\" and see what topics come up"
   ]
  },
  {
   "cell_type": "code",
   "execution_count": 7,
   "metadata": {},
   "outputs": [],
   "source": [
    "data = df[df.main_topic == 'politics']\n",
    "data = data.text.values.tolist()"
   ]
  },
  {
   "cell_type": "markdown",
   "metadata": {},
   "source": [
    "## 2. Preprocessing\n",
    "\n",
    "\n",
    "Preprocessing pipeline for Topic Modeling is involved.  \n",
    "\n",
    "First, I will ike to tokenize and then I would like to detect `collocations` which `gensim` guys call `Phrases`. "
   ]
  },
  {
   "cell_type": "code",
   "execution_count": 8,
   "metadata": {},
   "outputs": [],
   "source": [
    "from gensim.utils import simple_preprocess\n",
    "from gensim.models import Phrases\n",
    "from gensim.models.phrases import Phraser"
   ]
  },
  {
   "cell_type": "code",
   "execution_count": 10,
   "metadata": {},
   "outputs": [],
   "source": [
    "# Tokenize removing punctuations with gensim\n",
    "# Create a generator function \n",
    "def sent_to_words(sentences):\n",
    "    for sentence in sentences:\n",
    "        yield(simple_preprocess(str(sentence), deacc=True))"
   ]
  },
  {
   "cell_type": "code",
   "execution_count": 11,
   "metadata": {},
   "outputs": [],
   "source": [
    "data_tokenized = list(sent_to_words(data))"
   ]
  },
  {
   "cell_type": "code",
   "execution_count": 12,
   "metadata": {},
   "outputs": [
    {
     "name": "stdout",
     "output_type": "stream",
     "text": [
      "['impeachment', 'hits', 'house', 'floor', 'what', 'to', 'watch', 'on', 'historic', 'vote', 'fnewslocal', 'the', 'kitchen', 'newsinside', 'editionevents', 'preparedweather', 'sportsbig', 'game', 'coverageinstant', 'replayhigh', 'athletesa', 'liveelder', 'eatscool', 'schoolsbig', 'rulessaqtv', 'listingssa', 'picksksat', 'kidsksat', 'tvksat', 'communitysa', 'salutesh', 'backyard', 'kitchenchristus', 'circle', 'ksan', 'antonio', 'river', 'authorityday', 'of', 'the', 'deadksat', 'expertsfoodauto', 'to', 'donewslettersif', 'you', 'are', 'disabled', 'and', 'need', 'help', 'with', 'the', 'public', 'file', 'call', 'to', 'to', 'donewsletters', 'fpoliticslaurie', 'december', 'pmtags', 'jerrold', 'nadler', 'bill', 'clinton', 'michael', 'pence', 'mitch', 'mcconnell', 'john', 'roberts', 'adam', 'schiff', 'justin', 'amash', 'gerald', 'ford', 'richard', 'nixon', 'nancy', 'pelosi', 'donald', 'trump', 'charles', 'schumer', 'george', 'bush', 'politics', 'government', 'jimmy', 'cartersign', 'up', 'for', 'our', 'news', 'minutes', 'agovolunteers', 'battle', 'health', 'crisis', 'of', 'asylum', 'seekers', 'in', 'mexico', 'hour', 'agotrump', 'on', 'brink', 'of', 'impeachment', 'as', 'house', 'readies', 'historic', 'vote', 'hour', 'agoimpeachment', 'hits', 'house', 'floor', 'what', 'to', 'watch', 'on', 'historic', 'vote', 'hour', 'agosanders', 'bloomberg', 'test', 'different', 'paths', 'to', 'california', 'hits', 'house', 'floor', 'what', 'to', 'watch', 'on', 'historic', 'votelaurie', 'december', 'pmtags', 'jerrold', 'nadler', 'bill', 'clinton', 'michael', 'pence', 'mitch', 'mcconnell', 'john', 'roberts', 'adam', 'schiff', 'justin', 'amash', 'gerald', 'ford', 'richard', 'nixon', 'nancy', 'pelosi', 'donald', 'trump', 'charles', 'schumer', 'george', 'bush', 'politics', 'government', 'jimmy', 'carter', 'house', 'rules', 'committee', 'chairman', 'rep', 'jim', 'mcgovern', 'mass', 'speaks', 'during', 'house', 'rules', 'committee', 'hearing', 'on', 'the', 'impeachment', 'against', 'president', 'donald', 'trump', 'tuesday', 'dec', 'on', 'capitol', 'hill', 'in', 'washington', 'ap', 'photo', 'andrew', 'harnik', 'pool', 'washington', 'dc', 'american', 'history', 'is', 'happening', 'on', 'the', 'house', 'floor', 'democrats', 'are', 'driving', 'president', 'donald', 'trump', 'to', 'the', 'brink', 'of', 'impeachment', 'wednesday', 'when', 'they', 'bring', 'abuse', 'and', 'obstruction', 'charges', 'against', 'him', 'to', 'full', 'house', 'vote', 'that', 'could', 'take', 'place', 'early', 'wednesday', 'evening', 'making', 'the', 'th', 'president', 'only', 'the', 'third', 'commander', 'in', 'chief', 'to', 'face', 'that', 'penalty', 'but', 'first', 'watch', 'for', 'daylong', 'showdown', 'that']\n"
     ]
    }
   ],
   "source": [
    "# Inspect an example\n",
    "print(data_tokenized[1111])"
   ]
  },
  {
   "cell_type": "code",
   "execution_count": 18,
   "metadata": {},
   "outputs": [],
   "source": [
    "# Training bigram and Trigram Phrase models,\n",
    "# The higher the threshold the less Phrases you will get. \n",
    "# That is just just thresholding the Mutual Information\n",
    "bigram = Phrases(data_tokenized, threshold=20)\n",
    "trigram = Phrases(bigram[data_tokenized], threshold=20)"
   ]
  },
  {
   "cell_type": "code",
   "execution_count": 19,
   "metadata": {},
   "outputs": [],
   "source": [
    "# Run the models with Phraser which is a lot faster\n",
    "bigram_model = Phraser(bigram)\n",
    "trigram_model = Phraser(trigram)\n",
    "os.system(\"play /usr/share/sounds/sound-icons/trumpet-1.wav\") "
   ]
  },
  {
   "cell_type": "code",
   "execution_count": 20,
   "metadata": {},
   "outputs": [
    {
     "name": "stdout",
     "output_type": "stream",
     "text": [
      "['is', 'this', 'final', 'jeopardy', 'for', 'democrats', 'subscribe', 'nowfor_full_windsopen_city', 'settingsfull', 'forecastusa', 'todayphoto', 'videoscrime', 'newsthe', 'job', 'adsdeath', 'noticespublic', 'noticesbusiness', 'directoryusa', 'today', 'todayphoto', 'videoscrime', 'newsthe', 'job', 'adsdeath', 'noticespublic', 'noticesbusiness', 'directoryusa', 'today', 'accountaccess_billreport_delivery_issuespause', 'guidehelp_centersign_outhave_an', 'existing_account_sign_inalready', 'have_subscription_activate', 'your_accountdon_have', 'an_account_create', 'oneget', 'the', 'newsshare_this_story_let', 'friends', 'in', 'your_social_network', 'know', 'what', 'you', 'are', 'reading', 'this', 'final', 'jeopardy', 'for', 'democrats', 'what', 'the', 'wager', 'wrong', 'answers', 'will_leave', 'the', 'party', 'with', 'nothing', 'against', 'the', 'president', 'post', 'to', 'link_has_been_sent', 'to', 'your_friend_email_address', 'posted_link_has_been', 'posted', 'to', 'your_facebook_feed', 'join', 'the', 'conversationto_find_out', 'more', 'about_facebook_commenting', 'please_read', 'the', 'conversation_guidelines', 'and', 'faqscomments_welcome', 'to', 'our', 'new', 'and', 'improved_comments_which', 'are', 'for', 'subscribers_only_this', 'is', 'test', 'to', 'see_whether_we', 'can_improve', 'the', 'experience', 'for', 'you', 'you', 'do', 'not', 'need_facebook', 'profile', 'to', 'participate_you_will', 'need', 'to', 'register_before_adding_comment', 'typed_comments_will', 'be_lost_if', 'you', 'are_not_logged', 'in', 'please_be_polite', 'it_ok', 'to', 'disagree_with_someone_ideas', 'but_personal_attacks', 'insults_threats_hate_speech', 'advocating_violence', 'and', 'other_violations_can_result', 'in', 'ban_if_you', 'see_comments', 'in', 'violation', 'of', 'our_community_guidelines', 'please_report', 'them', 'opinionis', 'this', 'final', 'jeopardy', 'for', 'democrats', 'what', 'the', 'wager', 'cal_thomas', 'published_ct_dec', 'watching', 'jeopardy', 'the', 'other', 'night', 'had', 'fantasy', 'suppose', 'alex', 'trebek', 'had', 'final', 'jeopardy', 'category', 'called', 'the', 'ultimate', 'impeachment', 'hypocrite', 'here', 'how', 'thought', 'it', 'might', 'go', 'trebek', 'we', 'go', 'first', 'to', 'joe', 'who', 'is', 'in', 'third', 'place', 'and', 'he', 'wrote', 'who', 'is', 'bill_clinton', 'no', 'that', 'wrong', 'but', 'good', 'guess', 'clinton', 'did', 'say', 'about', 'the', 'house', 'impeachment', 'of', 'president', 'tru']\n"
     ]
    }
   ],
   "source": [
    "#Inspect\n",
    "print(trigram_model[bigram_model[data_tokenized[42]]])"
   ]
  },
  {
   "cell_type": "markdown",
   "metadata": {},
   "source": [
    "### Stopword removal\n",
    "Now we can get rid of stop words"
   ]
  },
  {
   "cell_type": "code",
   "execution_count": 21,
   "metadata": {},
   "outputs": [],
   "source": [
    "from nltk.corpus import stopwords"
   ]
  },
  {
   "cell_type": "code",
   "execution_count": 22,
   "metadata": {},
   "outputs": [],
   "source": [
    "stop_words = stopwords.words('english')\n",
    "stop_words.extend(['news', \"local\", 'say'])"
   ]
  },
  {
   "cell_type": "code",
   "execution_count": 23,
   "metadata": {},
   "outputs": [],
   "source": [
    "data_no_stopwords = [[toke for toke in simple_preprocess(str(doc)) if toke not in stop_words] for doc in data_tokenized]"
   ]
  },
  {
   "cell_type": "code",
   "execution_count": 24,
   "metadata": {},
   "outputs": [
    {
     "data": {
      "text/plain": [
       "0"
      ]
     },
     "execution_count": 24,
     "metadata": {},
     "output_type": "execute_result"
    }
   ],
   "source": [
    "# Let's finally get our bigrams and trigrams\n",
    "corpus_trigrammed = [trigram_model[bigram_model[doc]] for doc in data_no_stopwords]\n",
    "os.system(\"play /usr/share/sounds/sound-icons/trumpet-1.wav\") "
   ]
  },
  {
   "cell_type": "code",
   "execution_count": 25,
   "metadata": {},
   "outputs": [
    {
     "name": "stdout",
     "output_type": "stream",
     "text": [
      "['final', 'jeopardy', 'democrats', 'subscribe', 'nowfor_full_windsopen_city', 'settingsfull', 'forecastusa', 'todayphoto', 'videoscrime', 'newsthe', 'job', 'adsdeath', 'noticespublic', 'noticesbusiness', 'directoryusa', 'today', 'todayphoto', 'videoscrime', 'newsthe', 'job', 'adsdeath', 'noticespublic', 'noticesbusiness', 'directoryusa', 'today', 'accountaccess_billreport_delivery_issuespause', 'guidehelp_centersign', 'outhave', 'existing_account_sign_inalready', 'subscription_activate', 'accountdon', 'account_create_oneget', 'newsshare', 'story_let_friends', 'social_network_know', 'reading', 'final', 'jeopardy', 'democrats', 'wager', 'wrong', 'answers', 'leave', 'party', 'nothing', 'president', 'post', 'link', 'sent', 'friend_email', 'address_posted', 'link', 'posted', 'facebook_feed_join', 'conversationto_find', 'facebook_commenting_please_read', 'conversation_guidelines', 'faqscomments_welcome', 'new', 'improved_comments', 'subscribers', 'test', 'see_whether', 'improve', 'experience', 'need_facebook', 'profile', 'participate', 'need', 'register', 'adding_comment_typed_comments', 'lost', 'logged', 'please', 'polite', 'ok', 'disagree', 'someone_ideas', 'personal_attacks_insults_threats', 'hate_speech_advocating_violence', 'violations', 'result', 'ban', 'see_comments', 'violation', 'community_guidelines_please', 'report', 'opinionis', 'final', 'jeopardy', 'democrats', 'wager', 'cal_thomas', 'published_ct_dec', 'watching', 'jeopardy', 'night', 'fantasy', 'suppose', 'alex', 'trebek', 'final', 'jeopardy', 'category', 'called', 'ultimate', 'impeachment', 'hypocrite', 'thought', 'might', 'go', 'trebek', 'go', 'first', 'joe', 'third', 'place', 'wrote', 'bill_clinton', 'wrong', 'good', 'guess', 'clinton', 'house', 'impeachment', 'president', 'tru']\n"
     ]
    }
   ],
   "source": [
    "print(corpus_trigrammed[42])"
   ]
  },
  {
   "cell_type": "markdown",
   "metadata": {},
   "source": [
    "### Lemmatization\n",
    "\n",
    "For lemmatization, which gives a lot better results than stemming (better, best -> good), we will use spacy package "
   ]
  },
  {
   "cell_type": "code",
   "execution_count": 26,
   "metadata": {},
   "outputs": [],
   "source": [
    "import spacy"
   ]
  },
  {
   "cell_type": "code",
   "execution_count": 27,
   "metadata": {},
   "outputs": [],
   "source": [
    "nlp = spacy.load('en', disable=['parser', 'ner'])"
   ]
  },
  {
   "cell_type": "code",
   "execution_count": 28,
   "metadata": {},
   "outputs": [
    {
     "name": "stdout",
     "output_type": "stream",
     "text": [
      "\u001b[32m2020-01-12 21:43:55\u001b[0m | \u001b[1mINFO    \u001b[0m | \u001b[36m__main__\u001b[0m:\u001b[36m<module>\u001b[0m:\u001b[36m7\u001b[0m - \u001b[1mIt took 00:05:15 to run this script!\u001b[0m\n"
     ]
    },
    {
     "data": {
      "text/plain": [
       "0"
      ]
     },
     "execution_count": 28,
     "metadata": {},
     "output_type": "execute_result"
    }
   ],
   "source": [
    "start_time = time()\n",
    "lemmatized= []\n",
    "for sent in corpus_trigrammed:\n",
    "    doc = nlp(\" \".join(sent)) \n",
    "    lemmatized.append([token.lemma_ for token in doc if token.pos_ in ['NOUN', 'ADJ', 'VERB', 'ADV']])\n",
    "elapsed = strftime(\"%H:%M:%S\", gmtime(time() - start_time))\n",
    "logger.info(f'It took {elapsed} to run this script!')\n",
    "os.system(\"play /usr/share/sounds/sound-icons/trumpet-1.wav\")"
   ]
  },
  {
   "cell_type": "markdown",
   "metadata": {},
   "source": [
    "## 3. Training the Model \n",
    "OK now we can train our LDA model..."
   ]
  },
  {
   "cell_type": "code",
   "execution_count": 29,
   "metadata": {},
   "outputs": [],
   "source": [
    "from gensim.corpora import Dictionary\n",
    "from gensim.models import LdaModel"
   ]
  },
  {
   "cell_type": "code",
   "execution_count": 30,
   "metadata": {},
   "outputs": [],
   "source": [
    "# Create Dictionary\n",
    "id_2_word = Dictionary(lemmatized)\n",
    "\n",
    "# Filter out words that occur less than 5 documents, or more than 70% of the documents.\n",
    "id_2_word.filter_extremes(no_below=5, no_above=0.7)"
   ]
  },
  {
   "cell_type": "code",
   "execution_count": 31,
   "metadata": {},
   "outputs": [
    {
     "data": {
      "text/plain": [
       "12879"
      ]
     },
     "execution_count": 31,
     "metadata": {},
     "output_type": "execute_result"
    }
   ],
   "source": [
    "len(id_2_word)"
   ]
  },
  {
   "cell_type": "code",
   "execution_count": 32,
   "metadata": {},
   "outputs": [],
   "source": [
    "# Convert the corpus to a BOW corpus\n",
    "# Term Document Frequency \n",
    "corpus_bow = [id_2_word.doc2bow(doc) for doc in lemmatized]"
   ]
  },
  {
   "cell_type": "code",
   "execution_count": 33,
   "metadata": {},
   "outputs": [
    {
     "name": "stdout",
     "output_type": "stream",
     "text": [
      "\u001b[32m2020-01-12 21:45:34\u001b[0m | \u001b[1mINFO    \u001b[0m | \u001b[36m__main__\u001b[0m:\u001b[36m<module>\u001b[0m:\u001b[36m14\u001b[0m - \u001b[1mIt took 00:00:42 to run this script!\u001b[0m\n"
     ]
    },
    {
     "data": {
      "text/plain": [
       "0"
      ]
     },
     "execution_count": 33,
     "metadata": {},
     "output_type": "execute_result"
    }
   ],
   "source": [
    "# And train the model at k=30 first\n",
    "start_time = time()\n",
    "lda_model =  LdaModel(corpus_bow,\n",
    "                      num_topics = 30, \n",
    "                      id2word = id_2_word,\n",
    "                      random_state=42,\n",
    "                      passes = 10,\n",
    "                      alpha='auto',\n",
    "                      eta='auto',\n",
    "                      per_word_topics=True,\n",
    "                      eval_every=None\n",
    "                      )\n",
    "elapsed = strftime(\"%H:%M:%S\", gmtime(time() - start_time))\n",
    "logger.info(f'It took {elapsed} to run this script!')\n",
    "os.system(\"play /usr/share/sounds/sound-icons/trumpet-1.wav\")"
   ]
  },
  {
   "cell_type": "code",
   "execution_count": 34,
   "metadata": {},
   "outputs": [
    {
     "name": "stdout",
     "output_type": "stream",
     "text": [
      "[(13,\n",
      "  '0.031*\"gun\" + 0.030*\"sign\" + 0.030*\"trump\" + 0.023*\"quiz\" + 0.023*\"page\" + '\n",
      "  '0.022*\"politic\" + 0.021*\"trend\" + 0.020*\"remember\" + 0.019*\"website\" + '\n",
      "  '0.018*\"technology\"'),\n",
      " (7,\n",
      "  '0.057*\"disable\" + 0.030*\"recipe\" + 0.029*\"minute\" + 0.026*\"break\" + '\n",
      "  '0.024*\"public_file_call_bestcw\" + '\n",
      "  '0.024*\"healthlive_healthymodern_votingtv_listingsjax\" + 0.017*\"monitor\" + '\n",
      "  '0.017*\"jail\" + 0.017*\"result\" + 0.016*\"dolphinstampa_bay\"'),\n",
      " (20,\n",
      "  '0.023*\"live\" + 0.020*\"trade\" + 0.017*\"trump\" + 0.016*\"penny\" + 0.015*\"home\" '\n",
      "  '+ 0.014*\"vote\" + 0.014*\"community\" + 0.011*\"life\" + 0.010*\"pence\" + '\n",
      "  '0.010*\"politic\"'),\n",
      " (3,\n",
      "  '0.019*\"hour\" + 0.018*\"sport\" + 0.017*\"editor_submit\" + 0.017*\"vote\" + '\n",
      "  '0.015*\"obituary_subscribe_start_subscription\" + 0.013*\"com\" + 0.011*\"bid\" + '\n",
      "  '0.011*\"business\" + 0.010*\"purchase_photos_submit_letter\" + 0.010*\"break\"'),\n",
      " (2,\n",
      "  '0.036*\"sport\" + 0.021*\"cheat\" + 0.018*\"home\" + 0.014*\"health\" + '\n",
      "  '0.013*\"open\" + 0.011*\"debate\" + 0.010*\"shadow\" + 0.009*\"story\" + '\n",
      "  '0.009*\"confess\" + 0.009*\"use\"'),\n",
      " (24,\n",
      "  '0.058*\"trump\" + 0.046*\"share\" + 0.034*\"facebookshare_tweet_email_print\" + '\n",
      "  '0.031*\"impeachment\" + 0.029*\"continue\" + 0.026*\"term\" + 0.022*\"op_ed\" + '\n",
      "  '0.021*\"advertise\" + 0.020*\"money_entertainment_faith_health\" + '\n",
      "  '0.020*\"liftable_animals_celebrities_faith\"'),\n",
      " (6,\n",
      "  '0.031*\"charge\" + 0.025*\"state\" + 0.019*\"former\" + 0.017*\"week\" + '\n",
      "  '0.016*\"prosecutor\" + 0.013*\"judge\" + 0.012*\"book\" + '\n",
      "  '0.011*\"wednesday_morning\" + 0.011*\"would\" + 0.010*\"provide\"'),\n",
      " (1,\n",
      "  '0.034*\"post\" + 0.032*\"link\" + 0.032*\"violation\" + 0.021*\"improve\" + '\n",
      "  '0.019*\"participate\" + 0.018*\"experience\" + 0.018*\"register\" + 0.018*\"new\" + '\n",
      "  '0.017*\"subscriber\" + 0.017*\"profile\"'),\n",
      " (28,\n",
      "  '0.022*\"weather\" + 0.014*\"politics\" + 0.014*\"job\" + 0.013*\"election\" + '\n",
      "  '0.011*\"neighborhood\" + 0.011*\"mail\" + 0.010*\"week\" + 0.010*\"password\" + '\n",
      "  '0.010*\"station\" + 0.009*\"gust\"'),\n",
      " (4,\n",
      "  '0.015*\"weather\" + 0.011*\"meet\" + 0.010*\"asylum_seeker\" + 0.010*\"report\" + '\n",
      "  '0.009*\"home\" + 0.008*\"trump\" + 0.008*\"clear\" + '\n",
      "  '0.008*\"failure_lawsuit_allege\" + 0.007*\"sport\" + 0.007*\"nominee\"'),\n",
      " (18,\n",
      "  '0.037*\"sport\" + 0.037*\"weather\" + 0.031*\"video\" + 0.024*\"live\" + '\n",
      "  '0.018*\"impeachment\" + 0.018*\"entertainment\" + 0.017*\"traffic\" + '\n",
      "  '0.017*\"contest\" + 0.015*\"photo\" + 0.015*\"trump\"'),\n",
      " (23,\n",
      "  '0.028*\"sport\" + 0.026*\"business\" + 0.024*\"home\" + 0.021*\"opinion\" + '\n",
      "  '0.014*\"politic\" + 0.014*\"obituarie\" + 0.013*\"event\" + 0.013*\"sign\" + '\n",
      "  '0.012*\"subscribe\" + 0.012*\"editor\"'),\n",
      " (14,\n",
      "  '0.018*\"election\" + 0.017*\"part\" + 0.016*\"remain\" + 0.016*\"voter\" + '\n",
      "  '0.015*\"need\" + 0.015*\"percent\" + 0.014*\"decision\" + 0.014*\"former\" + '\n",
      "  '0.014*\"law\" + 0.013*\"review_needed\"'),\n",
      " (0,\n",
      "  '0.022*\"law\" + 0.020*\"court\" + 0.017*\"state\" + 0.017*\"rule\" + '\n",
      "  '0.014*\"government\" + 0.013*\"bill\" + 0.012*\"would\" + 0.011*\"include\" + '\n",
      "  '0.009*\"part\" + 0.009*\"new\"'),\n",
      " (5,\n",
      "  '0.055*\"trump\" + 0.027*\"impeachment\" + 0.018*\"rally\" + 0.018*\"say\" + '\n",
      "  '0.015*\"history\" + 0.015*\"support\" + 0.012*\"claim\" + 0.011*\"president\" + '\n",
      "  '0.011*\"people\" + 0.010*\"supporter\"'),\n",
      " (12,\n",
      "  '0.019*\"say\" + 0.016*\"man\" + 0.011*\"family\" + 0.010*\"police\" + 0.009*\"child\" '\n",
      "  '+ 0.009*\"home\" + 0.008*\"kill\" + 0.008*\"woman\" + 0.007*\"find\" + '\n",
      "  '0.007*\"file\"'),\n",
      " (10,\n",
      "  '0.099*\"trump\" + 0.062*\"impeachment\" + 0.046*\"impeach\" + 0.038*\"vote\" + '\n",
      "  '0.024*\"abuse\" + 0.020*\"charge\" + 0.014*\"president\" + 0.014*\"say\" + '\n",
      "  '0.014*\"house\" + 0.013*\"power\"'),\n",
      " (15,\n",
      "  '0.034*\"say\" + 0.031*\"trump\" + 0.030*\"impeachment\" + 0.015*\"call\" + '\n",
      "  '0.012*\"would\" + 0.010*\"trial\" + 0.010*\"live\" + 0.009*\"debate\" + '\n",
      "  '0.009*\"fact\" + 0.009*\"witness\"'),\n",
      " (9,\n",
      "  '0.084*\"impeachment\" + 0.052*\"vote\" + 0.050*\"trump\" + 0.019*\"house\" + '\n",
      "  '0.019*\"say\" + 0.017*\"impeach\" + 0.017*\"article\" + 0.017*\"president\" + '\n",
      "  '0.013*\"debate\" + 0.011*\"expect\"'),\n",
      " (27,\n",
      "  '0.016*\"say\" + 0.010*\"time\" + 0.008*\"go\" + 0.008*\"year\" + 0.008*\"people\" + '\n",
      "  '0.007*\"election\" + 0.007*\"make\" + 0.006*\"get\" + 0.006*\"state\" + '\n",
      "  '0.006*\"take\"')]\n"
     ]
    }
   ],
   "source": [
    "pprint(lda_model.print_topics())"
   ]
  },
  {
   "cell_type": "markdown",
   "metadata": {},
   "source": [
    "### Observation\n",
    "\n",
    "So we see some interesting stuff:\n",
    "\n",
    "1. a topic with guns and trump signing a law perhaps\n",
    "2. Several impeachment related stuff and bingo. December 18th was when President was impeached\n",
    "3. And some not so usefull topics\n",
    "\n",
    "## 4. Evaluating and hyper parameter tuning \n",
    "Let's get our Coherence scores: "
   ]
  },
  {
   "cell_type": "code",
   "execution_count": 35,
   "metadata": {},
   "outputs": [
    {
     "name": "stdout",
     "output_type": "stream",
     "text": [
      "Coherence Score:  0.4719949540934286\n"
     ]
    }
   ],
   "source": [
    "from gensim.models import CoherenceModel\n",
    "\n",
    "# Compute Coherence Score\n",
    "coherence_model_lda = CoherenceModel(model=lda_model, texts=lemmatized, dictionary=id_2_word, coherence='c_v')\n",
    "coherence_lda = coherence_model_lda.get_coherence()\n",
    "print(f'Coherence Score: ', coherence_lda)"
   ]
  },
  {
   "cell_type": "markdown",
   "metadata": {},
   "source": [
    "Not too good...  But how do we know we have select the k right?  Well, that is the difficult part and usually we do a grid search and get coherence scores: "
   ]
  },
  {
   "cell_type": "code",
   "execution_count": 36,
   "metadata": {},
   "outputs": [
    {
     "name": "stdout",
     "output_type": "stream",
     "text": [
      "done with => 5\n",
      "done with => 10\n",
      "done with => 15\n",
      "done with => 20\n",
      "done with => 25\n",
      "done with => 30\n",
      "done with => 35\n",
      "done with => 40\n",
      "done with => 45\n",
      "done with => 50\n",
      "\u001b[32m2020-01-12 21:57:59\u001b[0m | \u001b[1mINFO    \u001b[0m | \u001b[36m__main__\u001b[0m:\u001b[36m<module>\u001b[0m:\u001b[36m19\u001b[0m - \u001b[1mIt took 00:07:27 to run this script!\u001b[0m\n"
     ]
    },
    {
     "data": {
      "text/plain": [
       "0"
      ]
     },
     "execution_count": 36,
     "metadata": {},
     "output_type": "execute_result"
    }
   ],
   "source": [
    "start_time = time()\n",
    "coherence_scores = {}\n",
    "for k in list(range(0, 55, 5)[1:]):\n",
    "    lda_model =  LdaModel(corpus_bow,\n",
    "                              num_topics = k, \n",
    "                              id2word = id_2_word,\n",
    "                              random_state=42,\n",
    "                              passes = 10,\n",
    "                              alpha='auto',\n",
    "                              eta='auto',\n",
    "                              per_word_topics=True,\n",
    "                              eval_every=None\n",
    "                          )\n",
    "     \n",
    "    coherence_model_lda = CoherenceModel(model=lda_model, texts=lemmatized, dictionary=id_2_word, coherence='c_v')\n",
    "    coherence_scores[k] = coherence_model_lda.get_coherence()\n",
    "    print(f\"done with => {k}\")\n",
    "elapsed = strftime(\"%H:%M:%S\", gmtime(time() - start_time))\n",
    "logger.info(f'It took {elapsed} to run this script!')\n",
    "os.system(\"play /usr/share/sounds/sound-icons/trumpet-1.wav\") "
   ]
  },
  {
   "cell_type": "code",
   "execution_count": 37,
   "metadata": {},
   "outputs": [
    {
     "data": {
      "text/plain": [
       "{5: 0.5473958641578343,\n",
       " 10: 0.5176837263824698,\n",
       " 15: 0.5023169205958522,\n",
       " 20: 0.4715409043492447,\n",
       " 25: 0.47389579648455443,\n",
       " 30: 0.4719949540934286,\n",
       " 35: 0.4655300933667939,\n",
       " 40: 0.4904883165471784,\n",
       " 45: 0.44097625928281636,\n",
       " 50: 0.4399632918719032}"
      ]
     },
     "execution_count": 37,
     "metadata": {},
     "output_type": "execute_result"
    }
   ],
   "source": [
    "coherence_scores"
   ]
  },
  {
   "cell_type": "code",
   "execution_count": 38,
   "metadata": {},
   "outputs": [
    {
     "name": "stdout",
     "output_type": "stream",
     "text": [
      "done with => 5\n",
      "done with => 6\n",
      "done with => 7\n",
      "done with => 8\n",
      "done with => 9\n",
      "done with => 10\n",
      "done with => 11\n",
      "done with => 12\n",
      "done with => 13\n",
      "done with => 14\n",
      "done with => 15\n",
      "\u001b[32m2020-01-12 22:07:31\u001b[0m | \u001b[1mINFO    \u001b[0m | \u001b[36m__main__\u001b[0m:\u001b[36m<module>\u001b[0m:\u001b[36m18\u001b[0m - \u001b[1mIt took 00:16:59 to run this script!\u001b[0m\n"
     ]
    },
    {
     "data": {
      "text/plain": [
       "0"
      ]
     },
     "execution_count": 38,
     "metadata": {},
     "output_type": "execute_result"
    }
   ],
   "source": [
    "coherence_scores = {}\n",
    "for k in range(5, 16):\n",
    "    lda_model =  LdaModel(corpus_bow,\n",
    "                              num_topics = k, \n",
    "                              id2word = id_2_word,\n",
    "                              random_state=42,\n",
    "                              passes = 10,\n",
    "                              alpha='auto',\n",
    "                              eta='auto',\n",
    "                              per_word_topics=True,\n",
    "                              eval_every=None\n",
    "                          )\n",
    "     \n",
    "    coherence_model_lda = CoherenceModel(model=lda_model, texts=lemmatized, dictionary=id_2_word, coherence='c_v')\n",
    "    coherence_scores[k] = coherence_model_lda.get_coherence()\n",
    "    print(f\"done with => {k}\")\n",
    "elapsed = strftime(\"%H:%M:%S\", gmtime(time() - start_time))\n",
    "logger.info(f'It took {elapsed} to run this script!')\n",
    "os.system(\"play /usr/share/sounds/sound-icons/trumpet-1.wav\") "
   ]
  },
  {
   "cell_type": "code",
   "execution_count": 39,
   "metadata": {},
   "outputs": [
    {
     "data": {
      "text/plain": [
       "{5: 0.5473958641578343,\n",
       " 6: 0.5625845655663847,\n",
       " 7: 0.5807315378865728,\n",
       " 8: 0.5788981105242129,\n",
       " 9: 0.5597550378448293,\n",
       " 10: 0.5176837263824698,\n",
       " 11: 0.5298071688287204,\n",
       " 12: 0.5128208361628906,\n",
       " 13: 0.5371891025082393,\n",
       " 14: 0.5154255305395259,\n",
       " 15: 0.5023169205958522}"
      ]
     },
     "execution_count": 39,
     "metadata": {},
     "output_type": "execute_result"
    }
   ],
   "source": [
    "coherence_scores"
   ]
  },
  {
   "cell_type": "markdown",
   "metadata": {},
   "source": [
    "### Results \n",
    "Optimum k appears to be 9. Let's retrain that model. "
   ]
  },
  {
   "cell_type": "code",
   "execution_count": null,
   "metadata": {},
   "outputs": [],
   "source": [
    "lda_model_optim =  LdaModel(corpus_bow,\n",
    "                              num_topics = 9, \n",
    "                              id2word = id_2_word,\n",
    "                              random_state=42,\n",
    "                              passes = 10,\n",
    "                              alpha='auto',\n",
    "                              eta='auto',\n",
    "                              per_word_topics=True,\n",
    "                              eval_every=None\n",
    "                          )\n"
   ]
  },
  {
   "cell_type": "markdown",
   "metadata": {},
   "source": [
    "## 5. Scoring each document and getting the top topic for each"
   ]
  },
  {
   "cell_type": "code",
   "execution_count": 65,
   "metadata": {},
   "outputs": [],
   "source": [
    "df_topics = pd.DataFrame()\n",
    "for i, row in enumerate(lda_model_optim[corpus_bow]):\n",
    "    row = sorted(row[0], key=lambda x: (x[1]), reverse=True)\n",
    "    \n",
    "    for j, (topic_num, prop_topic) in enumerate(row):\n",
    "        if j == 0:  # => dominant topic\n",
    "            wp = lda_model_optim.show_topic(topic_num)\n",
    "            topic_keywords = \", \".join([word for word, prop in wp])\n",
    "            df_topics = df_topics.append(pd.Series([int(topic_num), round(prop_topic,2), topic_keywords]), ignore_index=True)\n",
    "        else:\n",
    "            break\n",
    "df_topics.columns = ['top_topic', 'perc_contrib', 'topic_kw']"
   ]
  },
  {
   "cell_type": "code",
   "execution_count": 66,
   "metadata": {},
   "outputs": [
    {
     "data": {
      "text/html": [
       "<div>\n",
       "<style scoped>\n",
       "    .dataframe tbody tr th:only-of-type {\n",
       "        vertical-align: middle;\n",
       "    }\n",
       "\n",
       "    .dataframe tbody tr th {\n",
       "        vertical-align: top;\n",
       "    }\n",
       "\n",
       "    .dataframe thead th {\n",
       "        text-align: right;\n",
       "    }\n",
       "</style>\n",
       "<table border=\"1\" class=\"dataframe\">\n",
       "  <thead>\n",
       "    <tr style=\"text-align: right;\">\n",
       "      <th></th>\n",
       "      <th>top_topic</th>\n",
       "      <th>perc_contrib</th>\n",
       "      <th>topic_kw</th>\n",
       "    </tr>\n",
       "  </thead>\n",
       "  <tbody>\n",
       "    <tr>\n",
       "      <th>0</th>\n",
       "      <td>7.0</td>\n",
       "      <td>0.66</td>\n",
       "      <td>say, disable, police, man, break, public_file_...</td>\n",
       "    </tr>\n",
       "    <tr>\n",
       "      <th>1</th>\n",
       "      <td>3.0</td>\n",
       "      <td>0.67</td>\n",
       "      <td>sport, live, weather, home, impeachment, meet,...</td>\n",
       "    </tr>\n",
       "    <tr>\n",
       "      <th>2</th>\n",
       "      <td>7.0</td>\n",
       "      <td>0.57</td>\n",
       "      <td>say, disable, police, man, break, public_file_...</td>\n",
       "    </tr>\n",
       "    <tr>\n",
       "      <th>3</th>\n",
       "      <td>2.0</td>\n",
       "      <td>0.55</td>\n",
       "      <td>sign, sport, subscribe, business, home, opinio...</td>\n",
       "    </tr>\n",
       "    <tr>\n",
       "      <th>4</th>\n",
       "      <td>0.0</td>\n",
       "      <td>0.39</td>\n",
       "      <td>say, state, would, year, law, make, people, al...</td>\n",
       "    </tr>\n",
       "    <tr>\n",
       "      <th>...</th>\n",
       "      <td>...</td>\n",
       "      <td>...</td>\n",
       "      <td>...</td>\n",
       "    </tr>\n",
       "    <tr>\n",
       "      <th>8780</th>\n",
       "      <td>2.0</td>\n",
       "      <td>0.42</td>\n",
       "      <td>sign, sport, subscribe, business, home, opinio...</td>\n",
       "    </tr>\n",
       "    <tr>\n",
       "      <th>8781</th>\n",
       "      <td>0.0</td>\n",
       "      <td>0.71</td>\n",
       "      <td>say, state, would, year, law, make, people, al...</td>\n",
       "    </tr>\n",
       "    <tr>\n",
       "      <th>8782</th>\n",
       "      <td>7.0</td>\n",
       "      <td>0.83</td>\n",
       "      <td>say, disable, police, man, break, public_file_...</td>\n",
       "    </tr>\n",
       "    <tr>\n",
       "      <th>8783</th>\n",
       "      <td>4.0</td>\n",
       "      <td>0.43</td>\n",
       "      <td>trump, share, impeachment, facebookshare_tweet...</td>\n",
       "    </tr>\n",
       "    <tr>\n",
       "      <th>8784</th>\n",
       "      <td>2.0</td>\n",
       "      <td>0.42</td>\n",
       "      <td>sign, sport, subscribe, business, home, opinio...</td>\n",
       "    </tr>\n",
       "  </tbody>\n",
       "</table>\n",
       "<p>8785 rows × 3 columns</p>\n",
       "</div>"
      ],
      "text/plain": [
       "      top_topic  perc_contrib  \\\n",
       "0           7.0          0.66   \n",
       "1           3.0          0.67   \n",
       "2           7.0          0.57   \n",
       "3           2.0          0.55   \n",
       "4           0.0          0.39   \n",
       "...         ...           ...   \n",
       "8780        2.0          0.42   \n",
       "8781        0.0          0.71   \n",
       "8782        7.0          0.83   \n",
       "8783        4.0          0.43   \n",
       "8784        2.0          0.42   \n",
       "\n",
       "                                               topic_kw  \n",
       "0     say, disable, police, man, break, public_file_...  \n",
       "1     sport, live, weather, home, impeachment, meet,...  \n",
       "2     say, disable, police, man, break, public_file_...  \n",
       "3     sign, sport, subscribe, business, home, opinio...  \n",
       "4     say, state, would, year, law, make, people, al...  \n",
       "...                                                 ...  \n",
       "8780  sign, sport, subscribe, business, home, opinio...  \n",
       "8781  say, state, would, year, law, make, people, al...  \n",
       "8782  say, disable, police, man, break, public_file_...  \n",
       "8783  trump, share, impeachment, facebookshare_tweet...  \n",
       "8784  sign, sport, subscribe, business, home, opinio...  \n",
       "\n",
       "[8785 rows x 3 columns]"
      ]
     },
     "execution_count": 66,
     "metadata": {},
     "output_type": "execute_result"
    }
   ],
   "source": [
    "df_topics"
   ]
  },
  {
   "cell_type": "code",
   "execution_count": 77,
   "metadata": {},
   "outputs": [],
   "source": [
    "topic_dist = df_topics.top_topic.value_counts().to_frame().sort_values(by='top_topic', ascending=False)"
   ]
  },
  {
   "cell_type": "code",
   "execution_count": 78,
   "metadata": {},
   "outputs": [
    {
     "data": {
      "text/html": [
       "<div>\n",
       "<style scoped>\n",
       "    .dataframe tbody tr th:only-of-type {\n",
       "        vertical-align: middle;\n",
       "    }\n",
       "\n",
       "    .dataframe tbody tr th {\n",
       "        vertical-align: top;\n",
       "    }\n",
       "\n",
       "    .dataframe thead th {\n",
       "        text-align: right;\n",
       "    }\n",
       "</style>\n",
       "<table border=\"1\" class=\"dataframe\">\n",
       "  <thead>\n",
       "    <tr style=\"text-align: right;\">\n",
       "      <th></th>\n",
       "      <th>top_topic</th>\n",
       "    </tr>\n",
       "  </thead>\n",
       "  <tbody>\n",
       "    <tr>\n",
       "      <th>0.0</th>\n",
       "      <td>2066</td>\n",
       "    </tr>\n",
       "    <tr>\n",
       "      <th>6.0</th>\n",
       "      <td>1537</td>\n",
       "    </tr>\n",
       "    <tr>\n",
       "      <th>5.0</th>\n",
       "      <td>1429</td>\n",
       "    </tr>\n",
       "    <tr>\n",
       "      <th>3.0</th>\n",
       "      <td>845</td>\n",
       "    </tr>\n",
       "    <tr>\n",
       "      <th>4.0</th>\n",
       "      <td>734</td>\n",
       "    </tr>\n",
       "    <tr>\n",
       "      <th>2.0</th>\n",
       "      <td>715</td>\n",
       "    </tr>\n",
       "    <tr>\n",
       "      <th>7.0</th>\n",
       "      <td>618</td>\n",
       "    </tr>\n",
       "    <tr>\n",
       "      <th>8.0</th>\n",
       "      <td>446</td>\n",
       "    </tr>\n",
       "    <tr>\n",
       "      <th>1.0</th>\n",
       "      <td>395</td>\n",
       "    </tr>\n",
       "  </tbody>\n",
       "</table>\n",
       "</div>"
      ],
      "text/plain": [
       "     top_topic\n",
       "0.0       2066\n",
       "6.0       1537\n",
       "5.0       1429\n",
       "3.0        845\n",
       "4.0        734\n",
       "2.0        715\n",
       "7.0        618\n",
       "8.0        446\n",
       "1.0        395"
      ]
     },
     "execution_count": 78,
     "metadata": {},
     "output_type": "execute_result"
    }
   ],
   "source": [
    "topic_dist"
   ]
  },
  {
   "cell_type": "code",
   "execution_count": 79,
   "metadata": {},
   "outputs": [
    {
     "name": "stdout",
     "output_type": "stream",
     "text": [
      "say, state, would, year, law, make, people, also, election, time \n",
      "\n",
      "impeachment, trump, vote, impeach, house, debate, abuse, article, say, expect \n",
      "\n",
      "trump, impeachment, say, president, politic, vote, election, support, impeach, call \n",
      "\n",
      "sport, live, weather, home, impeachment, meet, video, trump, vote, team \n",
      "\n",
      "trump, share, impeachment, facebookshare_tweet_email_print, continue, advertise, term, op_ed, terrorism_israel_russia_north, wj_email_subscribe \n",
      "\n",
      "sign, sport, subscribe, business, home, opinion, log, thank, read, email \n",
      "\n",
      "say, disable, police, man, break, public_file_call, charge, minute, shoot, live \n",
      "\n",
      "weather, live, impeachment, week, sport, trump, day, home, meet, video \n",
      "\n",
      "link, tip, post, violation, weather, photo, sport, new, weekend, send \n",
      "\n"
     ]
    }
   ],
   "source": [
    "# Topics sorted by the distribution \n",
    "for t in topic_dist.index:\n",
    "    wp = lda_model_optim.show_topic(int(t))\n",
    "    topic_keywords = \", \".join([word for word, prop in wp])\n",
    "    print(topic_keywords, \"\\n\")"
   ]
  },
  {
   "cell_type": "code",
   "execution_count": 80,
   "metadata": {},
   "outputs": [],
   "source": [
    "# Add Doc to the dataframe\n",
    "df_topics['text'] = df[df.main_topic=='politics'].text.tolist()\n",
    "df_topics['url'] = df[df.main_topic=='politics'].url.tolist()"
   ]
  },
  {
   "cell_type": "code",
   "execution_count": 81,
   "metadata": {},
   "outputs": [
    {
     "data": {
      "text/html": [
       "<div>\n",
       "<style scoped>\n",
       "    .dataframe tbody tr th:only-of-type {\n",
       "        vertical-align: middle;\n",
       "    }\n",
       "\n",
       "    .dataframe tbody tr th {\n",
       "        vertical-align: top;\n",
       "    }\n",
       "\n",
       "    .dataframe thead th {\n",
       "        text-align: right;\n",
       "    }\n",
       "</style>\n",
       "<table border=\"1\" class=\"dataframe\">\n",
       "  <thead>\n",
       "    <tr style=\"text-align: right;\">\n",
       "      <th></th>\n",
       "      <th>top_topic</th>\n",
       "      <th>perc_contrib</th>\n",
       "      <th>topic_kw</th>\n",
       "      <th>text</th>\n",
       "      <th>url</th>\n",
       "    </tr>\n",
       "  </thead>\n",
       "  <tbody>\n",
       "    <tr>\n",
       "      <th>0</th>\n",
       "      <td>7.0</td>\n",
       "      <td>0.66</td>\n",
       "      <td>say, disable, police, man, break, public_file_...</td>\n",
       "      <td>Volunteers Travel 2,000 Miles to Help Return S...</td>\n",
       "      <td>https://www.news4jax.com/inside-edition/2019/1...</td>\n",
       "    </tr>\n",
       "    <tr>\n",
       "      <th>1</th>\n",
       "      <td>3.0</td>\n",
       "      <td>0.67</td>\n",
       "      <td>sport, live, weather, home, impeachment, meet,...</td>\n",
       "      <td>NBC/WSJ poll: Public remains split on Trump’s ...</td>\n",
       "      <td>https://www.kark.com/news/national-news/nbc-ws...</td>\n",
       "    </tr>\n",
       "    <tr>\n",
       "      <th>2</th>\n",
       "      <td>7.0</td>\n",
       "      <td>0.57</td>\n",
       "      <td>say, disable, police, man, break, public_file_...</td>\n",
       "      <td>Feds: Man whose number found on NJ shooter was...</td>\n",
       "      <td>https://www.news4jax.com/news/2019/12/18/feds-...</td>\n",
       "    </tr>\n",
       "    <tr>\n",
       "      <th>3</th>\n",
       "      <td>2.0</td>\n",
       "      <td>0.55</td>\n",
       "      <td>sign, sport, subscribe, business, home, opinio...</td>\n",
       "      <td>Visclosky set to vote today for both impeachme...</td>\n",
       "      <td>https://www.nwitimes.com/news/local/govt-and-p...</td>\n",
       "    </tr>\n",
       "    <tr>\n",
       "      <th>4</th>\n",
       "      <td>0.0</td>\n",
       "      <td>0.39</td>\n",
       "      <td>say, state, would, year, law, make, people, al...</td>\n",
       "      <td>Domestic dispute leads to firing of deputy she...</td>\n",
       "      <td>https://www.fox46charlotte.com/news/domestic-d...</td>\n",
       "    </tr>\n",
       "    <tr>\n",
       "      <th>...</th>\n",
       "      <td>...</td>\n",
       "      <td>...</td>\n",
       "      <td>...</td>\n",
       "      <td>...</td>\n",
       "      <td>...</td>\n",
       "    </tr>\n",
       "    <tr>\n",
       "      <th>8780</th>\n",
       "      <td>2.0</td>\n",
       "      <td>0.42</td>\n",
       "      <td>sign, sport, subscribe, business, home, opinio...</td>\n",
       "      <td>Court: Part of ‘Obamacare’ invalid, more revie...</td>\n",
       "      <td>https://www.kmvt.com/content/news/Court-Obamac...</td>\n",
       "    </tr>\n",
       "    <tr>\n",
       "      <th>8781</th>\n",
       "      <td>0.0</td>\n",
       "      <td>0.71</td>\n",
       "      <td>say, state, would, year, law, make, people, al...</td>\n",
       "      <td>Director of Communications and Intergovernment...</td>\n",
       "      <td>https://medford.wickedlocal.com/news/20191218/...</td>\n",
       "    </tr>\n",
       "    <tr>\n",
       "      <th>8782</th>\n",
       "      <td>7.0</td>\n",
       "      <td>0.83</td>\n",
       "      <td>say, disable, police, man, break, public_file_...</td>\n",
       "      <td>Singer Camila Cabello apologizes for past raci...</td>\n",
       "      <td>https://www.clickondetroit.com/entertainment/2...</td>\n",
       "    </tr>\n",
       "    <tr>\n",
       "      <th>8783</th>\n",
       "      <td>4.0</td>\n",
       "      <td>0.43</td>\n",
       "      <td>trump, share, impeachment, facebookshare_tweet...</td>\n",
       "      <td>Trump administration setting up asylum seekers...</td>\n",
       "      <td>https://www.kget.com/border-report-tour/trump-...</td>\n",
       "    </tr>\n",
       "    <tr>\n",
       "      <th>8784</th>\n",
       "      <td>2.0</td>\n",
       "      <td>0.42</td>\n",
       "      <td>sign, sport, subscribe, business, home, opinio...</td>\n",
       "      <td>Court: Part of ‘Obamacare’ invalid, more revie...</td>\n",
       "      <td>https://www.wbko.com/content/news/Court-Obamac...</td>\n",
       "    </tr>\n",
       "  </tbody>\n",
       "</table>\n",
       "<p>8785 rows × 5 columns</p>\n",
       "</div>"
      ],
      "text/plain": [
       "      top_topic  perc_contrib  \\\n",
       "0           7.0          0.66   \n",
       "1           3.0          0.67   \n",
       "2           7.0          0.57   \n",
       "3           2.0          0.55   \n",
       "4           0.0          0.39   \n",
       "...         ...           ...   \n",
       "8780        2.0          0.42   \n",
       "8781        0.0          0.71   \n",
       "8782        7.0          0.83   \n",
       "8783        4.0          0.43   \n",
       "8784        2.0          0.42   \n",
       "\n",
       "                                               topic_kw  \\\n",
       "0     say, disable, police, man, break, public_file_...   \n",
       "1     sport, live, weather, home, impeachment, meet,...   \n",
       "2     say, disable, police, man, break, public_file_...   \n",
       "3     sign, sport, subscribe, business, home, opinio...   \n",
       "4     say, state, would, year, law, make, people, al...   \n",
       "...                                                 ...   \n",
       "8780  sign, sport, subscribe, business, home, opinio...   \n",
       "8781  say, state, would, year, law, make, people, al...   \n",
       "8782  say, disable, police, man, break, public_file_...   \n",
       "8783  trump, share, impeachment, facebookshare_tweet...   \n",
       "8784  sign, sport, subscribe, business, home, opinio...   \n",
       "\n",
       "                                                   text  \\\n",
       "0     Volunteers Travel 2,000 Miles to Help Return S...   \n",
       "1     NBC/WSJ poll: Public remains split on Trump’s ...   \n",
       "2     Feds: Man whose number found on NJ shooter was...   \n",
       "3     Visclosky set to vote today for both impeachme...   \n",
       "4     Domestic dispute leads to firing of deputy she...   \n",
       "...                                                 ...   \n",
       "8780  Court: Part of ‘Obamacare’ invalid, more revie...   \n",
       "8781  Director of Communications and Intergovernment...   \n",
       "8782  Singer Camila Cabello apologizes for past raci...   \n",
       "8783  Trump administration setting up asylum seekers...   \n",
       "8784  Court: Part of ‘Obamacare’ invalid, more revie...   \n",
       "\n",
       "                                                    url  \n",
       "0     https://www.news4jax.com/inside-edition/2019/1...  \n",
       "1     https://www.kark.com/news/national-news/nbc-ws...  \n",
       "2     https://www.news4jax.com/news/2019/12/18/feds-...  \n",
       "3     https://www.nwitimes.com/news/local/govt-and-p...  \n",
       "4     https://www.fox46charlotte.com/news/domestic-d...  \n",
       "...                                                 ...  \n",
       "8780  https://www.kmvt.com/content/news/Court-Obamac...  \n",
       "8781  https://medford.wickedlocal.com/news/20191218/...  \n",
       "8782  https://www.clickondetroit.com/entertainment/2...  \n",
       "8783  https://www.kget.com/border-report-tour/trump-...  \n",
       "8784  https://www.wbko.com/content/news/Court-Obamac...  \n",
       "\n",
       "[8785 rows x 5 columns]"
      ]
     },
     "execution_count": 81,
     "metadata": {},
     "output_type": "execute_result"
    }
   ],
   "source": [
    "df_topics"
   ]
  },
  {
   "cell_type": "code",
   "execution_count": 82,
   "metadata": {},
   "outputs": [],
   "source": [
    "# Thresholded at 0.5 contribution\n",
    "topic_dist_thresh = df_topics[df_topics.perc_contrib>=0.5].top_topic.value_counts().to_frame().sort_values(by='top_topic', ascending=False)"
   ]
  },
  {
   "cell_type": "code",
   "execution_count": 83,
   "metadata": {},
   "outputs": [
    {
     "data": {
      "text/html": [
       "<div>\n",
       "<style scoped>\n",
       "    .dataframe tbody tr th:only-of-type {\n",
       "        vertical-align: middle;\n",
       "    }\n",
       "\n",
       "    .dataframe tbody tr th {\n",
       "        vertical-align: top;\n",
       "    }\n",
       "\n",
       "    .dataframe thead th {\n",
       "        text-align: right;\n",
       "    }\n",
       "</style>\n",
       "<table border=\"1\" class=\"dataframe\">\n",
       "  <thead>\n",
       "    <tr style=\"text-align: right;\">\n",
       "      <th></th>\n",
       "      <th>top_topic</th>\n",
       "    </tr>\n",
       "  </thead>\n",
       "  <tbody>\n",
       "    <tr>\n",
       "      <th>0.0</th>\n",
       "      <td>1548</td>\n",
       "    </tr>\n",
       "    <tr>\n",
       "      <th>6.0</th>\n",
       "      <td>1230</td>\n",
       "    </tr>\n",
       "    <tr>\n",
       "      <th>5.0</th>\n",
       "      <td>1093</td>\n",
       "    </tr>\n",
       "    <tr>\n",
       "      <th>4.0</th>\n",
       "      <td>619</td>\n",
       "    </tr>\n",
       "    <tr>\n",
       "      <th>3.0</th>\n",
       "      <td>598</td>\n",
       "    </tr>\n",
       "    <tr>\n",
       "      <th>2.0</th>\n",
       "      <td>514</td>\n",
       "    </tr>\n",
       "    <tr>\n",
       "      <th>7.0</th>\n",
       "      <td>439</td>\n",
       "    </tr>\n",
       "    <tr>\n",
       "      <th>8.0</th>\n",
       "      <td>371</td>\n",
       "    </tr>\n",
       "    <tr>\n",
       "      <th>1.0</th>\n",
       "      <td>336</td>\n",
       "    </tr>\n",
       "  </tbody>\n",
       "</table>\n",
       "</div>"
      ],
      "text/plain": [
       "     top_topic\n",
       "0.0       1548\n",
       "6.0       1230\n",
       "5.0       1093\n",
       "4.0        619\n",
       "3.0        598\n",
       "2.0        514\n",
       "7.0        439\n",
       "8.0        371\n",
       "1.0        336"
      ]
     },
     "execution_count": 83,
     "metadata": {},
     "output_type": "execute_result"
    }
   ],
   "source": [
    "topic_dist_thresh"
   ]
  },
  {
   "cell_type": "code",
   "execution_count": 84,
   "metadata": {},
   "outputs": [
    {
     "name": "stdout",
     "output_type": "stream",
     "text": [
      "say, state, would, year, law, make, people, also, election, time \n",
      "\n",
      "impeachment, trump, vote, impeach, house, debate, abuse, article, say, expect \n",
      "\n",
      "trump, impeachment, say, president, politic, vote, election, support, impeach, call \n",
      "\n",
      "trump, share, impeachment, facebookshare_tweet_email_print, continue, advertise, term, op_ed, terrorism_israel_russia_north, wj_email_subscribe \n",
      "\n",
      "sport, live, weather, home, impeachment, meet, video, trump, vote, team \n",
      "\n",
      "sign, sport, subscribe, business, home, opinion, log, thank, read, email \n",
      "\n",
      "say, disable, police, man, break, public_file_call, charge, minute, shoot, live \n",
      "\n",
      "weather, live, impeachment, week, sport, trump, day, home, meet, video \n",
      "\n",
      "link, tip, post, violation, weather, photo, sport, new, weekend, send \n",
      "\n"
     ]
    }
   ],
   "source": [
    "# Topics sorted by the distribution Thresholded at 0.5 contribution\n",
    "for t in topic_dist_thresh.index:\n",
    "    wp = lda_model_optim.show_topic(int(t))\n",
    "    topic_keywords = \", \".join([word for word, prop in wp])\n",
    "    print(topic_keywords, \"\\n\")"
   ]
  },
  {
   "cell_type": "markdown",
   "metadata": {},
   "source": [
    "## 6. Comments and Conclusion\n",
    "\n",
    "We did find out what is the main topic talked about on that day: Impeachment and various versions of it: Partizan comments, Public opinion, courts, elections etc. \n",
    "However, it is not easy to label them and there are several words that should not be in the top n of the topic-word distributions, like weather, sports etc. \n",
    "\n",
    "A quick look at the distribution of words of our topics and spot checking a few records reveal the main problem immediately. Since we used the whole body of the html file, a lot of the sub sections of the webpages came with it.  A more advisable approach would be to parse only the main page content but since that would depend largely on the domain schema, it is out of scope for our exercises. \n",
    "\n",
    "Also, instead of topics, Named Entity Recognition could be applied to the corpus and we could find Persons, Locations and Organizations that have made the news a lot. \n",
    "\n",
    "And based on that we could do some topic modeling to see what are the key words that are being talked about. \n",
    "\n",
    "For instance, \n",
    "\n",
    "Google (ORG) -> CEO (PERSON) -> Announces blah blah... (topics)\n",
    "\n"
   ]
  },
  {
   "cell_type": "code",
   "execution_count": null,
   "metadata": {},
   "outputs": [],
   "source": []
  }
 ],
 "metadata": {
  "kernelspec": {
   "display_name": "Python 3.7 cc_news",
   "language": "python",
   "name": "cc_news_env"
  },
  "language_info": {
   "codemirror_mode": {
    "name": "ipython",
    "version": 3
   },
   "file_extension": ".py",
   "mimetype": "text/x-python",
   "name": "python",
   "nbconvert_exporter": "python",
   "pygments_lexer": "ipython3",
   "version": "3.7.5"
  }
 },
 "nbformat": 4,
 "nbformat_minor": 4
}
