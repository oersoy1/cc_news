{
 "cells": [
  {
   "cell_type": "code",
   "execution_count": 259,
   "metadata": {},
   "outputs": [],
   "source": [
    "import pandas as pd\n",
    "import os\n",
    "import sys\n",
    "\n",
    "\n",
    "from multiprocessing import cpu_count\n",
    "from loguru import logger\n",
    "from pathlib import Path\n",
    "from time import time, strftime, gmtime\n"
   ]
  },
  {
   "cell_type": "code",
   "execution_count": 4,
   "metadata": {},
   "outputs": [],
   "source": [
    "data_folder = Path.home() / 'Data' / 'cc_news'\n",
    "model_input_folder = data_folder / 'model_output' "
   ]
  },
  {
   "cell_type": "code",
   "execution_count": 9,
   "metadata": {},
   "outputs": [
    {
     "data": {
      "text/plain": [
       "[1]"
      ]
     },
     "execution_count": 9,
     "metadata": {},
     "output_type": "execute_result"
    }
   ],
   "source": [
    "# Configuring the logger\n",
    "config = {\"handlers\": [{\"sink\": sys.stdout,\"colorize\": True,\n",
    "          \"format\": \"<green>{time:YYYY-MM-DD HH:mm:ss}</green> | <level>{level: <8}</level> | <cyan>{name}</cyan>:<cyan>{function}</cyan>:<cyan>{line}</cyan> - <level>{message}</level>\"}]}\n",
    "logger.configure(**config)"
   ]
  },
  {
   "cell_type": "code",
   "execution_count": 5,
   "metadata": {},
   "outputs": [],
   "source": [
    "df = pd.read_csv(model_input_folder / 'data_topic_model_ready.csv')"
   ]
  },
  {
   "cell_type": "code",
   "execution_count": 16,
   "metadata": {},
   "outputs": [],
   "source": [
    "from pprint import pprint"
   ]
  },
  {
   "cell_type": "code",
   "execution_count": 143,
   "metadata": {},
   "outputs": [
    {
     "name": "stdout",
     "output_type": "stream",
     "text": [
      "('Juliet L. Shiebany, 1960-2019 - Obituaries - Devils Lake Journal - Devils '\n",
      " 'Lake, ND - Devils Lake, ND Sections '\n",
      " 'NewsSportsEntertainmentLifeObituariesCarsJobsClassifiedsMap '\n",
      " 'DirectoryHomesDealsSubscribe Site Archive Log in Subscribe Now Juliet L. '\n",
      " 'Shiebany, 1960-2019 Wednesday Dec 18, 2019 at 12:01 AM Juliet L. Shiebany '\n",
      " 'was granted her angel wings on Thursday, December 5, 2019. There will be a '\n",
      " 'private burial with family, and a Celebration of Life is scheduled for Jan. '\n",
      " '31. Born July 11, 1960 in Florida, she moved and spent her childhood until '\n",
      " 'college in St. Louis. She then moved west to Columbia to attend the '\n",
      " 'University of Missouri, where she graduated with a degree in Journalism and '\n",
      " 'met her husband of almost 40 years, Ali Shiebany. Columbia became her '\n",
      " 'permanent home where she spread her roots and started her family. After a '\n",
      " 'few years she was overjoyed to announce the birth of her daughter Sara. '\n",
      " 'Julie showered all those around her in a beautiful, warm blanket of love and '\n",
      " 'endless generosity. She truly found happiness by bringing happiness to all '\n",
      " 'those around her. No human or animal around her ever left with an empty '\n",
      " 'belly when she was around, as she loved to share her love through her '\n",
      " 'cooking. Her beautiful light still shines bright through her husband Ali; '\n",
      " 'daughter Sara; and granddaughter who is set to arrive in the next few weeks. '\n",
      " 'This light is also illuminated through her surviving brothers, Dave Slusher '\n",
      " 'and Mark Slusher; her sisters, Pam Crawford and Marie Brandt; and countless '\n",
      " 'cousins, nieces and nephews, each of which held a very special place in her '\n",
      " 'heart. Arrangements are under the direction of Parker-Millard Funeral '\n",
      " 'Service and Crematory; 12 East Ash Street, Columbia, Missouri, 65203; (573) '\n",
      " '449-4153. Condolences may be left online for the family at '\n",
      " \"www.ParkerMillard.com. Never miss a story Choose the plan that's right for \"\n",
      " 'you. Digital access or digital and print delivery. Subscribe Now Sign up for '\n",
      " 'daily e-mails Site ServicesMy ProfileContact UsPlace an AdAdvertise With '\n",
      " 'UsMarket PlaceClassifiedsPay Your Ad Bill LifestyleFamilyFoodHealthHome and '\n",
      " 'Garden   Gannett Co., Inc. 2019. All rights reserved. Original content '\n",
      " 'available for non-commercial use under a Creative Commons license, except '\n",
      " 'where noted. Devils Lake Journal - Devils Lake, ND ~ 516 4th street NE, '\n",
      " 'Devils Lake, ND 58301 ~ Do Not Sell My Personal Information ~ Cookie Policy '\n",
      " '~ Privacy Policy ~ Terms Of Service Gannett | USA TODAY NETWORK Subscribe '\n",
      " 'Now Site Archive HomeNewsCommunityCourt NewsEducati')\n"
     ]
    }
   ],
   "source": [
    "pprint(df.sample(1).iloc[0].text)"
   ]
  },
  {
   "cell_type": "code",
   "execution_count": 151,
   "metadata": {},
   "outputs": [
    {
     "data": {
      "text/plain": [
       "['Domestic dispute leads to firing of deputy sheriff | FOX 46 Charlotte NewsWeatherTrafficGood DaySportsContests More Expand / Collapse search ☰ Search site News LocalNationalWorldPoliticsUnusualFOX 46 News AppLinksWeather ClosingsClosings AdminTrafficGas PricesWeather AppGood Day Nick\\'s PicksPage\\'s Pep RallyTeachers Getting ResultsConsumerHealthPets & AnimalsWatch LiveSports PanthersHornetsAuto RacingFOX Sports AppEntertainment ContestsWhat\\'s On FOXViral StoriesAbout Us PersonalitiesTV ScheduleWork For UsFCC Public FileContact UsCopies of NewscastsClosed Captions Domestic dispute leads to firing of deputy sheriff Published 5 mins ago Updated 1 min ago Charlotte FOX 46 Charlotte Facebook Twitter Print Email article ( CMPD ) CHARLOTTE, N.C. - A deputy sheriff in Mecklenburg County has been arrested on an assault charge stemming from a domestic incident, the Mecklenburg County Sheriff\\'s Office announced on Wednesday. Minique Jackson faces charges of assault with a deadly weapon. Jackson was hired in 2008 and was terminated from Sheriff Garry McFadden\\'s office following the arrest. “I’m deeply disappointed in the conduct of one of my deputies as we are bound by an oath to uphold the law,\" McFadden said. \"All employees of the Mecklenburg County Sheriff’s Office are expected to demonstrate professional and ethical conduct both on and off-duty. Violations of the law are not acceptable and in absolute conflict with the high standards of the Mecklenburg County Sheriff’s Office.”The incident occurred Wednesday morning at Jackson\\'s residence and is being described as a domestic violence-related incident. Just in... Domestic dispute leads to firing of deputy sheriff Man sentenced for horrific abuse that caused girl to become blind, quadriplegic 75-year-old suspected of shooting 60-year-old Belmont man in the head, police say 4 arrested for breaking into car in Pineville, police say Suspect wanted in kidnapping of woman from Arboretum Shopping Center shot and killed by police in eastern NCTrending Toddler carried baby half mile in -31 degree temperatures Adoptive father accepts plea deal in murder of Erica Parsons Plane passenger gives first-class seat to 88-year-old woman, makes her \\'dream\\' come true More than a dozen volunteers form relay, travel 2,000 miles to return stolen dog to family President Trump signs executive order giving federal workers day off on Christmas Eve News LocalNationalWorldPoliticsUnusualFOX 46 News AppLinksWeather ClosingsClosings AdminTrafficG',\n",
       " 'Florida lawmakers look for ways to curb vaping57 FNewsLocal NewsFloridaGeorgiaNationalPoliticsI-TeamCommunityThis Week In JacksonvilleThe Morning ShowMoneyConsumerEntertainmentWeird NewsEducationSportsFootball FridayJaguarsPro Picks ContestThe Mark Brunell ShowTeal the PodcastGators BreakdownAll Star AthleteFeaturesRiver City LiveFood & Recipes4 Your InfoPositively JaxCommunity CalendarReady Set RenovateHolidaysMilitary GreetingsTalking HealthLive HealthyModern CitiesPetsContestsUsay VotingTV ListingsJax BestCW17CW Program GuideBounceThe TicketWeatherWeather NewsStorm PinsAlertsHurricanesGeorgiaSt. AugustineSurf and TidesOur EarthTrafficContact UsNewslettersIf you are disabled and need help with the Public File, call (904) 393-9801.NewsSportsFeaturesJax BestCW17WeatherTrafficContact UsNewslettersNewsSportsFeaturesJax BestCW17WeatherTrafficContact UsNewsletters BREAKING NEWS57 FNewsDara KamPublished: December 18, 2019, 4:47 pmTags: vaping, Florida Senate, Florida HouseSign up for our NewslettersLatest News24 seconds agoFlorida lawmakers look for ways to curb vaping11 minutes agoCivic Council calls for further investigation of ousted JEA CEO Aaron Zahn20 minutes agoInvestigators search for suspects in Jacksonville Beach attempted sexual battery25 minutes agoMiddleburg woman sentenced to 4 years in deadly hit-and-run caseNewsFlorida lawmakers look for ways to curb vapingState law limits the use of e-cigarettes or vaping products to people 18 or olderDara KamPublished: December 18, 2019, 4:47 pmTags: vaping, Florida Senate, Florida House(Photo by Dan Kitwood/Getty Images) (2014 Getty Images)TALLAHASSEE, Fla. – As state lawmakers ponder how -- and if -- to respond to teens’ skyrocketing use of electronic cigarettes, one university student is influencing the Florida Senate leader’s stance on the issue.Senate President Bill Galvano has made curbing vaping one of his priorities for the legislative session that starts Jan. 14, in part because his son William urged him to combat the widespread use of e-cigarettes among students.“He said, ‘Dad, you should see the prevalence on campus,’” Galvano told The News Service of Florida in a recent interview. “He said, ‘You have to do something.’”Galvano joked that the advice from his son, who attends Florida State University, is “usually better advice than I get from a lot of other sources.”But the Bradenton Republican is serious about taking on a topic that’s garnered pushback from some other state leaders, including Gov. Ro']"
      ]
     },
     "execution_count": 151,
     "metadata": {},
     "output_type": "execute_result"
    }
   ],
   "source": [
    "news_politics = df[df.main_topic == 'politics']\n",
    "news_politics_data = news_politics.text.values.tolist()\n"
   ]
  },
  {
   "cell_type": "code",
   "execution_count": 159,
   "metadata": {},
   "outputs": [],
   "source": [
    "from gensim.utils import simple_preprocess\n",
    "from gensim.models import Phrases\n",
    "from gensim.models.phrases import Phraser"
   ]
  },
  {
   "cell_type": "code",
   "execution_count": 153,
   "metadata": {},
   "outputs": [],
   "source": [
    "# Tokenize removing punctuations with gensim\n",
    "def sent_to_words(sentences):\n",
    "    for sentence in sentences:\n",
    "        yield(simple_preprocess(str(sentence), deacc=True))"
   ]
  },
  {
   "cell_type": "code",
   "execution_count": 154,
   "metadata": {},
   "outputs": [],
   "source": [
    "news_politics_data_tokens = list(sent_to_words(news_politics_data))"
   ]
  },
  {
   "cell_type": "code",
   "execution_count": 157,
   "metadata": {},
   "outputs": [
    {
     "name": "stdout",
     "output_type": "stream",
     "text": [
      "['is', 'this', 'final', 'jeopardy', 'for', 'democrats', 'subscribe', 'nowfor', 'full', 'windsopen', 'city', 'settingsfull', 'forecastusa', 'todayphoto', 'videoscrime', 'newsthe', 'job', 'adsdeath', 'noticespublic', 'noticesbusiness', 'directoryusa', 'today', 'todayphoto', 'videoscrime', 'newsthe', 'job', 'adsdeath', 'noticespublic', 'noticesbusiness', 'directoryusa', 'today', 'accountaccess', 'billreport', 'delivery', 'issuespause', 'guidehelp', 'centersign', 'outhave', 'an', 'existing', 'account', 'sign', 'inalready', 'have', 'subscription', 'activate', 'your', 'accountdon', 'have', 'an', 'account', 'create', 'oneget', 'the', 'newsshare', 'this', 'story', 'let', 'friends', 'in', 'your', 'social', 'network', 'know', 'what', 'you', 'are', 'reading', 'this', 'final', 'jeopardy', 'for', 'democrats', 'what', 'the', 'wager', 'wrong', 'answers', 'will', 'leave', 'the', 'party', 'with', 'nothing', 'against', 'the', 'president', 'post', 'to', 'link', 'has', 'been', 'sent', 'to', 'your', 'friend', 'email', 'address', 'posted', 'link', 'has', 'been', 'posted', 'to', 'your', 'facebook', 'feed', 'join', 'the', 'conversationto', 'find', 'out', 'more', 'about', 'facebook', 'commenting', 'please', 'read', 'the', 'conversation', 'guidelines', 'and', 'faqscomments', 'welcome', 'to', 'our', 'new', 'and', 'improved', 'comments', 'which', 'are', 'for', 'subscribers', 'only', 'this', 'is', 'test', 'to', 'see', 'whether', 'we', 'can', 'improve', 'the', 'experience', 'for', 'you', 'you', 'do', 'not', 'need', 'facebook', 'profile', 'to', 'participate', 'you', 'will', 'need', 'to', 'register', 'before', 'adding', 'comment', 'typed', 'comments', 'will', 'be', 'lost', 'if', 'you', 'are', 'not', 'logged', 'in', 'please', 'be', 'polite', 'it', 'ok', 'to', 'disagree', 'with', 'someone', 'ideas', 'but', 'personal', 'attacks', 'insults', 'threats', 'hate', 'speech', 'advocating', 'violence', 'and', 'other', 'violations', 'can', 'result', 'in', 'ban', 'if', 'you', 'see', 'comments', 'in', 'violation', 'of', 'our', 'community', 'guidelines', 'please', 'report', 'them', 'opinionis', 'this', 'final', 'jeopardy', 'for', 'democrats', 'what', 'the', 'wager', 'cal', 'thomas', 'published', 'ct', 'dec', 'watching', 'jeopardy', 'the', 'other', 'night', 'had', 'fantasy', 'suppose', 'alex', 'trebek', 'had', 'final', 'jeopardy', 'category', 'called', 'the', 'ultimate', 'impeachment', 'hypocrite', 'here', 'how', 'thought', 'it', 'might', 'go', 'trebek', 'we', 'go', 'first', 'to', 'joe', 'who', 'is', 'in', 'third', 'place', 'and', 'he', 'wrote', 'who', 'is', 'bill', 'clinton', 'no', 'that', 'wrong', 'but', 'good', 'guess', 'clinton', 'did', 'say', 'about', 'the', 'house', 'impeachment', 'of', 'president', 'tru']\n"
     ]
    }
   ],
   "source": [
    "print(news_politics_data_tokens[42])"
   ]
  },
  {
   "cell_type": "code",
   "execution_count": 187,
   "metadata": {},
   "outputs": [],
   "source": [
    "bigram = Phrases(news_politics_data_tokens, threshold=10)\n",
    "trigram = Phrases(bigram[news_politics_data_tokens], threshold=10)"
   ]
  },
  {
   "cell_type": "code",
   "execution_count": 188,
   "metadata": {},
   "outputs": [],
   "source": [
    "bigram_model = Phraser(bigram)\n",
    "trigram_model = Phraser(trigram)"
   ]
  },
  {
   "cell_type": "code",
   "execution_count": 189,
   "metadata": {},
   "outputs": [
    {
     "name": "stdout",
     "output_type": "stream",
     "text": [
      "['bash', 'putin', 'the', 'senate', 'is', 'willing', 'the', 'trick', 'is', 'not', 'impugning', 'trump', 'the', 'new_york_times_skip', 'to', 'contentskip', 'to', 'site_intoday_paperpolitics', 'bash', 'putin', 'the', 'senate', 'is', 'willing', 'the', 'trick', 'is', 'not', 'impugning', 'trump', 'reading', 'the', 'main_storysupported_bycontinue_reading', 'the', 'main', 'storynews', 'analysisbash', 'putin', 'the', 'senate', 'is', 'willing', 'the', 'trick', 'is', 'not', 'impugning', 'trump', 'senate', 'bill', 'to', 'defend', 'national_security', 'against', 'russia', 'looks_like', 'an', 'artifact', 'from', 'different', 'age', 'months_ago', 'when', 'both_parties', 'agreed', 'on', 'the', 'threat', 'from', 'moscow', 'senator_lindsey_graham', 'republican', 'of', 'south_carolina', 'is', 'the', 'lead', 'author', 'of', 'the', 'bill', 'credit', 'anna_moneymaker', 'the', 'new_york_timesby', 'david', 'sangerdec', 'etwashington', 'as', 'the', 'house', 'of', 'representatives_began_debating', 'wednesday', 'whether', 'to', 'impeach_president', 'trump', 'for', 'undercutting', 'ukraine', 'in', 'its', 'fight', 'with', 'russian', 'aggressors', 'the', 'senate_foreign_relations', 'committee_met', 'in', 'small', 'room', 'in', 'the', 'capitol', 'to', 'consider', 'bill', 'that', 'has_been', 'bubbling', 'along', 'all', 'year', 'with', 'bipartisan_support', 'the', 'defending_american_security', 'from_kremlin_aggression_act', 'of', 'the', 'bill', 'lead', 'author', 'is', 'senator_lindsey_graham', 'republican', 'of', 'south_carolina', 'who', 'introduced', 'it', 'in', 'february', 'long', 'before', 'he', 'became', 'the', 'senate', 'leading', 'defender', 'of', 'mr', 'trump', 'and', 'long', 'before', 'mr', 'trump', 'decided', 'to', 'undercut', 'his_own', 'administration', 'policy', 'today', 'the', 'bill', 'looks_like', 'it', 'is', 'preserved', 'in', 'legislative', 'amber', 'an', 'artifact', 'from', 'different', 'age', 'months_ago', 'when', 'one', 'of', 'the', 'few', 'topics', 'on', 'which', 'republicans', 'and', 'democrats', 'agreed', 'was', 'that', 'if', 'the', 'united_states', 'did_not', 'push', 'back', 'hard', 'against', 'president_vladimir_putin', 'russia', 'no_one', 'else', 'would', 'now', 'that', 'debate', 'has', 'mutated', 'to', 'match', 'the', 'politics', 'of', 'the', 'moment', 'republicans', 'mr', 'graham', 'included', 'remain', 'passionate_about', 'going', 'after', 'russia', 'they', 'just', 'argue', 'that', 'the', 'president', 'shadow_foreign', 'policy', 'to', 'undercut', 'that', 'effort', 'in', 'the', 'service', 'of', 'his_re_election', 'campaign', 'doesn', 'warrant', 'impeachment', 'the', 'debate', 'that', 'resonated', 'inside', 'the', 'ornate', 'senate_foreign_relations', 'committee', 'suite', 'where', 'senators', 'of', 'different', 'era', 'debated', 'how', 'to', 'push', 'back', 'against', 'hitler', 'in', 'the', 'and', 'how', 'to', 'define', 'cold', 'war', 'strategy', 'against', 'the', 'soviet_union', 'thereafter', 'featured', 'republicans', 'who', 'said', 'they', 'would', 'vote', 'for', 'any', 'bill', 'that', 'calls', 'for', 'punishing', 'moscow', 'or', 'containing', 'its', 'power', 'even_if', 'they', 'had', 'differences', 'over', 'specific', 'sanctions', 'the', 'trick', 'for', 'them', 'is', 'to', 'bash', 'mr', 'putin', 'without', 'impugning', 'mr', 'trump', 'this']\n"
     ]
    }
   ],
   "source": [
    "print(trigram_model[bigram_model[news_politics_data_tokens[500]]])"
   ]
  },
  {
   "cell_type": "code",
   "execution_count": 193,
   "metadata": {},
   "outputs": [],
   "source": [
    "from nltk.corpus import stopwords"
   ]
  },
  {
   "cell_type": "code",
   "execution_count": 195,
   "metadata": {},
   "outputs": [],
   "source": [
    "stop_words = stopwords.words('english')\n",
    "stop_words.extend(['news'])"
   ]
  },
  {
   "cell_type": "code",
   "execution_count": 225,
   "metadata": {},
   "outputs": [],
   "source": [
    "corpus_no_stopwords = [[toke for toke in simple_preprocess(str(doc)) if toke not in stop_words] for doc in news_politics_data_tokens]"
   ]
  },
  {
   "cell_type": "code",
   "execution_count": 226,
   "metadata": {},
   "outputs": [],
   "source": [
    "bigrammed = [bigram_model[doc] for doc in corpus_no_stopwords]"
   ]
  },
  {
   "cell_type": "code",
   "execution_count": 227,
   "metadata": {},
   "outputs": [],
   "source": [
    "trigrammed = [trigram_model[bigram_model[doc]] for doc in corpus_no_stopwords]"
   ]
  },
  {
   "cell_type": "code",
   "execution_count": 253,
   "metadata": {},
   "outputs": [
    {
     "name": "stdout",
     "output_type": "stream",
     "text": [
      "\u001b[32m2020-01-12 10:49:58\u001b[0m | \u001b[1mINFO    \u001b[0m | \u001b[36m__main__\u001b[0m:\u001b[36m<module>\u001b[0m:\u001b[36m7\u001b[0m - \u001b[1mIt took 00:05:01 to run this script!\u001b[0m\n"
     ]
    },
    {
     "ename": "NameError",
     "evalue": "name 'os' is not defined",
     "output_type": "error",
     "traceback": [
      "\u001b[0;31m---------------------------------------------------------------------------\u001b[0m",
      "\u001b[0;31mNameError\u001b[0m                                 Traceback (most recent call last)",
      "\u001b[0;32m<ipython-input-253-e9b54b67c83d>\u001b[0m in \u001b[0;36m<module>\u001b[0;34m\u001b[0m\n\u001b[1;32m      6\u001b[0m \u001b[0melapsed\u001b[0m \u001b[0;34m=\u001b[0m \u001b[0mstrftime\u001b[0m\u001b[0;34m(\u001b[0m\u001b[0;34m\"%H:%M:%S\"\u001b[0m\u001b[0;34m,\u001b[0m \u001b[0mgmtime\u001b[0m\u001b[0;34m(\u001b[0m\u001b[0mtime\u001b[0m\u001b[0;34m(\u001b[0m\u001b[0;34m)\u001b[0m \u001b[0;34m-\u001b[0m \u001b[0mstart_time\u001b[0m\u001b[0;34m)\u001b[0m\u001b[0;34m)\u001b[0m\u001b[0;34m\u001b[0m\u001b[0;34m\u001b[0m\u001b[0m\n\u001b[1;32m      7\u001b[0m \u001b[0mlogger\u001b[0m\u001b[0;34m.\u001b[0m\u001b[0minfo\u001b[0m\u001b[0;34m(\u001b[0m\u001b[0;34mf'It took {elapsed} to run this script!'\u001b[0m\u001b[0;34m)\u001b[0m\u001b[0;34m\u001b[0m\u001b[0;34m\u001b[0m\u001b[0m\n\u001b[0;32m----> 8\u001b[0;31m \u001b[0mos\u001b[0m\u001b[0;34m.\u001b[0m\u001b[0msystem\u001b[0m\u001b[0;34m(\u001b[0m\u001b[0;34m\"play /usr/share/sounds/sound-icons/trumpet-1.wav\"\u001b[0m\u001b[0;34m)\u001b[0m \u001b[0;31m# Beeps an alert. May not run on your machine\u001b[0m\u001b[0;34m\u001b[0m\u001b[0;34m\u001b[0m\u001b[0m\n\u001b[0m",
      "\u001b[0;31mNameError\u001b[0m: name 'os' is not defined"
     ]
    }
   ],
   "source": [
    "start_time = time()\n",
    "lemmatized= []\n",
    "for sent in trigrammed:\n",
    "    doc = nlp(\" \".join(sent)) \n",
    "    lemmatized.append([token.lemma_ for token in doc])\n",
    "elapsed = strftime(\"%H:%M:%S\", gmtime(time() - start_time))\n",
    "logger.info(f'It took {elapsed} to run this script!')\n",
    "os.system(\"play /usr/share/sounds/sound-icons/trumpet-1.wav\") # Beeps an alert. May not run on your machine"
   ]
  },
  {
   "cell_type": "code",
   "execution_count": 271,
   "metadata": {},
   "outputs": [],
   "source": [
    "from gensim.corpora import Dictionary, MmCorpus\n",
    "from gensim.models import LdaMulticore, LdaModel"
   ]
  },
  {
   "cell_type": "code",
   "execution_count": 298,
   "metadata": {},
   "outputs": [],
   "source": [
    "# Filter out words that occur less than 20 documents, or more than 70% of the documents.\n",
    "id_2_word.filter_extremes(no_below=5, no_above=0.7)"
   ]
  },
  {
   "cell_type": "code",
   "execution_count": 306,
   "metadata": {},
   "outputs": [],
   "source": [
    "# Create Dictionary\n",
    "id_2_word = Dictionary(lemmatized)\n",
    "# Filter out words that occur less than 20 documents, or more than 50% of the documents.\n",
    "id_2_word.filter_extremes(no_below=10, no_above=0.5)"
   ]
  },
  {
   "cell_type": "code",
   "execution_count": 307,
   "metadata": {},
   "outputs": [
    {
     "data": {
      "text/plain": [
       "17199"
      ]
     },
     "execution_count": 307,
     "metadata": {},
     "output_type": "execute_result"
    }
   ],
   "source": [
    "len(id_2_word)"
   ]
  },
  {
   "cell_type": "code",
   "execution_count": 308,
   "metadata": {},
   "outputs": [],
   "source": [
    "# Term Document Frequency\n",
    "corpus = [id_2_word.doc2bow(doc) for doc in lemmatized]"
   ]
  },
  {
   "cell_type": "code",
   "execution_count": 309,
   "metadata": {},
   "outputs": [
    {
     "name": "stdout",
     "output_type": "stream",
     "text": [
      "\u001b[32m2020-01-12 12:17:21\u001b[0m | \u001b[1mINFO    \u001b[0m | \u001b[36m__main__\u001b[0m:\u001b[36m<module>\u001b[0m:\u001b[36m13\u001b[0m - \u001b[1mIt took 00:00:42 to run this script!\u001b[0m\n"
     ]
    },
    {
     "data": {
      "text/plain": [
       "0"
      ]
     },
     "execution_count": 309,
     "metadata": {},
     "output_type": "execute_result"
    }
   ],
   "source": [
    "start_time = time()\n",
    "lda_model =  LdaModel(corpus,\n",
    "                          num_topics = 30, \n",
    "                          id2word = id_2_word,\n",
    "                          random_state=42,\n",
    "                          passes = 10,\n",
    "                          alpha='auto',\n",
    "                          eta='auto',\n",
    "                          per_word_topics=True,\n",
    "                          eval_every=None\n",
    "                          )\n",
    "elapsed = strftime(\"%H:%M:%S\", gmtime(time() - start_time))\n",
    "logger.info(f'It took {elapsed} to run this script!')\n",
    "os.system(\"play /usr/share/sounds/sound-icons/trumpet-1.wav\")"
   ]
  },
  {
   "cell_type": "code",
   "execution_count": 310,
   "metadata": {},
   "outputs": [
    {
     "name": "stdout",
     "output_type": "stream",
     "text": [
      "[(19,\n",
      "  '0.032*\"local\" + 0.014*\"weather\" + 0.010*\"report\" + 0.008*\"isd\" + '\n",
      "  '0.007*\"section\" + 0.007*\"place_ad\" + 0.007*\"late\" + '\n",
      "  '0.006*\"san_diego_union_tribune\" + 0.006*\"contact_information\" + '\n",
      "  '0.006*\"ad_directory\"'),\n",
      " (17,\n",
      "  '0.015*\"live\" + 0.010*\"top_stories\" + 0.010*\"special_effect\" + '\n",
      "  '0.009*\"president_donald_trump\" + 0.009*\"las_vegas\" + 0.009*\"never\" + '\n",
      "  '0.009*\"anti\" + 0.008*\"krqe\" + 0.007*\"house\" + 0.007*\"dench\"'),\n",
      " (20,\n",
      "  '0.031*\"historic_day\" + 0.024*\"impeachment_vote_marks\" + 0.023*\"congress\" + '\n",
      "  '0.019*\"local\" + 0.011*\"wednesday\" + 0.010*\"crime\" + '\n",
      "  '0.008*\"russell_falcon_nexstar\" + 0.008*\"morgan_wright\" + '\n",
      "  '0.008*\"anna_wiernicki_posted_dec\" + 0.007*\"inside\"'),\n",
      " (28,\n",
      "  '0.010*\"fox\" + 0.009*\"national\" + 0.009*\"maryland\" + 0.008*\"fair\" + '\n",
      "  '0.008*\"politics_business_technology\" + 0.008*\"shopping\" + 0.008*\"world\" + '\n",
      "  '0.008*\"usweekly\" + 0.008*\"weather_odd\" + '\n",
      "  '0.008*\"health_living_travel_science\"'),\n",
      " (18,\n",
      "  '0.027*\"video\" + 0.017*\"local\" + 0.011*\"politic\" + 0.010*\"new\" + '\n",
      "  '0.010*\"vote\" + 0.009*\"local_weather_investigation\" + 0.009*\"president\" + '\n",
      "  '0.009*\"tip\" + 0.008*\"sell\" + 0.008*\"advertise\"'),\n",
      " (25,\n",
      "  '0.025*\"email_print\" + 0.024*\"facebookshare_tweet\" + 0.014*\"continue\" + '\n",
      "  '0.013*\"world\" + 0.013*\"share\" + 0.013*\"syria\" + 0.013*\"submit\" + '\n",
      "  '0.012*\"woman\" + 0.012*\"science_technology\" + 0.012*\"business\"'),\n",
      " (2,\n",
      "  '0.011*\"sections_politics_donald_trump\" + 0.009*\"western_journal\" + '\n",
      "  '0.008*\"week\" + 0.008*\"report\" + 0.007*\"abuse\" + '\n",
      "  '0.007*\"joe_saunders_published_december\" + '\n",
      "  '0.007*\"top_stories_girl_basketball\" + 0.006*\"paul_manafort_fraud_charge\" + '\n",
      "  '0.006*\"local\" + 0.005*\"nation\"'),\n",
      " (6,\n",
      "  '0.028*\"jesus\" + 0.013*\"process\" + 0.012*\"debate\" + '\n",
      "  '0.011*\"nownightly_newsmeet\" + 0.011*\"latinonbcblknbc_outstay\" + '\n",
      "  '0.011*\"vetsparent_toolkitnbc\" + 0.011*\"searchsectionsu_mediadecision\" + '\n",
      "  '0.011*\"filmsnbc_left\" + '\n",
      "  '0.011*\"nbccnbcnbc_comnbc_learnpeacock_productionsnext\" + 0.011*\"newsmeet\"'),\n",
      " (21,\n",
      "  '0.019*\"labour\" + 0.015*\"brexit\" + 0.011*\"jeremy_corbyn\" + 0.010*\"corbyn\" + '\n",
      "  '0.008*\"general_election\" + 0.008*\"home\" + 0.008*\"party\" + '\n",
      "  '0.008*\"violent_crime\" + 0.007*\"say\" + 0.007*\"politic\"'),\n",
      " (24,\n",
      "  '0.070*\"share\" + 0.029*\"new_window_click\" + 0.016*\"house\" + 0.011*\"email\" + '\n",
      "  '0.009*\"would\" + 0.008*\"click\" + 0.008*\"state\" + 0.008*\"week\" + '\n",
      "  '0.008*\"twitter_opens\" + 0.008*\"facebook_share\"'),\n",
      " (27,\n",
      "  '0.028*\"debate\" + 0.017*\"live\" + 0.012*\"house\" + 0.011*\"sport\" + '\n",
      "  '0.009*\"top_stories\" + 0.009*\"world\" + 0.009*\"vote\" + 0.009*\"local\" + '\n",
      "  '0.009*\"cbs\" + 0.007*\"video\"'),\n",
      " (3,\n",
      "  '0.041*\"top_stories\" + 0.035*\"local\" + 0.023*\"live\" + '\n",
      "  '0.021*\"search_primary_menu\" + 0.016*\"home\" + 0.013*\"-PRON-\" + '\n",
      "  '0.012*\"sponsor\" + 0.011*\"sport\" + 0.011*\"president_donald_trump\" + '\n",
      "  '0.011*\"search_search_search\"'),\n",
      " (15,\n",
      "  '0.040*\"local\" + 0.038*\"sport\" + 0.023*\"business\" + 0.020*\"home\" + '\n",
      "  '0.019*\"weather\" + 0.016*\"community\" + 0.013*\"sports\" + 0.011*\"video\" + '\n",
      "  '0.011*\"photo\" + 0.009*\"entertainment\"'),\n",
      " (22,\n",
      "  '0.014*\"subscribe\" + 0.012*\"plan\" + 0.012*\"digital\" + 0.010*\"right\" + '\n",
      "  '0.009*\"available\" + 0.009*\"use\" + 0.008*\"dec_pm\" + 0.008*\"digital_access\" + '\n",
      "  '0.007*\"president_donald_trump\" + 0.007*\"inc\"'),\n",
      " (7,\n",
      "  '0.017*\"police\" + 0.016*\"say\" + 0.013*\"man\" + 0.010*\"arrest\" + 0.010*\"home\" '\n",
      "  '+ 0.008*\"fire\" + 0.008*\"shoot\" + 0.007*\"death\" + 0.007*\"kill\" + '\n",
      "  '0.007*\"break\"'),\n",
      " (26,\n",
      "  '0.026*\"president\" + 0.024*\"december\" + 0.021*\"https_co\" + 0.018*\"one\" + '\n",
      "  '0.015*\"club\" + 0.014*\"tweet\" + 0.013*\"us\" + 0.011*\"day\" + 0.011*\"letter\" + '\n",
      "  '0.010*\"rt\"'),\n",
      " (9,\n",
      "  '0.044*\"vote\" + 0.042*\"house\" + 0.025*\"president\" + 0.018*\"impeach\" + '\n",
      "  '0.016*\"democrats\" + 0.013*\"article\" + 0.012*\"abuse\" + 0.011*\"wednesday\" + '\n",
      "  '0.011*\"congress\" + 0.011*\"office\"'),\n",
      " (16,\n",
      "  '0.026*\"say\" + 0.019*\"president\" + 0.010*\"democrats\" + 0.009*\"senate\" + '\n",
      "  '0.009*\"would\" + 0.008*\"trial\" + 0.008*\"go\" + 0.007*\"call\" + 0.007*\"house\" + '\n",
      "  '0.007*\"one\"'),\n",
      " (10,\n",
      "  '0.012*\"say\" + 0.006*\"year\" + 0.006*\"see\" + 0.006*\"day\" + 0.006*\"one\" + '\n",
      "  '0.006*\"get\" + 0.006*\"family\" + 0.005*\"go\" + 0.004*\"christmas\" + '\n",
      "  '0.004*\"child\"'),\n",
      " (29,\n",
      "  '0.011*\"state\" + 0.010*\"say\" + 0.005*\"new\" + 0.005*\"election\" + 0.005*\"year\" '\n",
      "  '+ 0.005*\"would\" + 0.004*\"also\" + 0.004*\"campaign\" + 0.004*\"people\" + '\n",
      "  '0.004*\"bill\"')]\n"
     ]
    }
   ],
   "source": [
    "pprint(lda_model.print_topics())"
   ]
  },
  {
   "cell_type": "code",
   "execution_count": 315,
   "metadata": {},
   "outputs": [],
   "source": [
    "top_topics = lda_model.top_topics(texts=lemmatized, coherence='c_v')"
   ]
  },
  {
   "cell_type": "code",
   "execution_count": 323,
   "metadata": {},
   "outputs": [
    {
     "name": "stdout",
     "output_type": "stream",
     "text": [
      "[[(0.024817713, 'email_print'),\n",
      "  (0.02426203, 'facebookshare_tweet'),\n",
      "  (0.014217977, 'continue'),\n",
      "  (0.013282056, 'world'),\n",
      "  (0.013065503, 'share'),\n",
      "  (0.012759838, 'syria'),\n",
      "  (0.012582033, 'submit'),\n",
      "  (0.0124691995, 'woman'),\n",
      "  (0.012387017, 'science_technology'),\n",
      "  (0.012122037, 'business'),\n",
      "  (0.012115659, 'house_fbi_illegal'),\n",
      "  (0.012115654, 'standards_masthead_privacy_policy'),\n",
      "  (0.012115649, 'money_entertainment_faith_health'),\n",
      "  (0.012115649, 'service_connect'),\n",
      "  (0.012115649, 'wire_conservative'),\n",
      "  (0.012115647, 'rss_topbuzz_twitter_youtube'),\n",
      "  (0.012115647, 'op_ed_terms'),\n",
      "  (0.012115647, 'feedme_flipboard_instagram_parler'),\n",
      "  (0.012115644, 'sports_wj'),\n",
      "  (0.012115643, 'terrorism_israel')],\n",
      " [(0.01701509, 'post'),\n",
      "  (0.015470671, 'link'),\n",
      "  (0.01496721, 'violation'),\n",
      "  (0.009700586, 'new'),\n",
      "  (0.008970108, 'send'),\n",
      "  (0.008353036, 'need'),\n",
      "  (0.007994513, 'know'),\n",
      "  (0.0077568647, 'ban'),\n",
      "  (0.0076808278, 'read'),\n",
      "  (0.007633126, 'lose'),\n",
      "  (0.0075618555, 'log'),\n",
      "  (0.007474909, 'subscriber'),\n",
      "  (0.007451387, 'disagree'),\n",
      "  (0.007239256, 'test'),\n",
      "  (0.0072243153, 'register'),\n",
      "  (0.007144406, 'improve'),\n",
      "  (0.0071298317, 'participate'),\n",
      "  (0.007112788, 'experience'),\n",
      "  (0.007087725, 'ok'),\n",
      "  (0.0070521054, 'please')],\n",
      " [(0.019783907, 'brink'),\n",
      "  (0.019021241, 'president_donald_trump'),\n",
      "  (0.017483532, 'house'),\n",
      "  (0.017034672, 'impeach'),\n",
      "  (0.015113881, 'house_readies_historic_vote'),\n",
      "  (0.01490755, 'charge'),\n",
      "  (0.014604974, 'power'),\n",
      "  (0.014293352, 'vote'),\n",
      "  (0.0136357965, 'wednesday'),\n",
      "  (0.012761728, 'abuse'),\n",
      "  (0.011825684, 'white_house'),\n",
      "  (0.011538121, 'cusp'),\n",
      "  (0.01083667, 'historic_debate_set'),\n",
      "  (0.010476234, 'tenure'),\n",
      "  (0.010332402, 'mark'),\n",
      "  (0.008922741, 'associated_press'),\n",
      "  (0.008526967, 'leave_define'),\n",
      "  (0.007601291, 'sport'),\n",
      "  (0.0067224116, 'washington'),\n",
      "  (0.0065077003, 'obstructed_congress_ahead')],\n",
      " [(0.041302856, 'top_stories'),\n",
      "  (0.03464381, 'local'),\n",
      "  (0.023395041, 'live'),\n",
      "  (0.020687444, 'search_primary_menu'),\n",
      "  (0.016311027, 'home'),\n",
      "  (0.012956552, '-PRON-'),\n",
      "  (0.01247194, 'sponsor'),\n",
      "  (0.011271394, 'sport'),\n",
      "  (0.01080245, 'president_donald_trump'),\n",
      "  (0.010677278, 'search_search_search'),\n",
      "  (0.010094614, 'national'),\n",
      "  (0.010089287, 'meet'),\n",
      "  (0.0083825365, 'weather'),\n",
      "  (0.008318475, 'us_contact_us'),\n",
      "  (0.008304728, 'mel_robbins_show'),\n",
      "  (0.008053194, 'week'),\n",
      "  (0.007717891, 'entertainment'),\n",
      "  (0.0073504085, 'holiday'),\n",
      "  (0.007180611, 'us_meet'),\n",
      "  (0.0070548714, 'local_election_hq')],\n",
      " [(0.023623938, 'individual_mandate'),\n",
      "  (0.019967243, 'law'),\n",
      "  (0.016245535, 'part'),\n",
      "  (0.014227827, 'aca'),\n",
      "  (0.011795143, 'hours_ago'),\n",
      "  (0.010930795, 'remain'),\n",
      "  (0.010633024, 'severable'),\n",
      "  (0.010589248, 'obamacare'),\n",
      "  (0.010396172, 'decision'),\n",
      "  (0.0099444445, 'need'),\n",
      "  (0.009724359, 'obamacare_invalid'),\n",
      "  (0.009579637, 'review_needed'),\n",
      "  (0.008897657, 'court'),\n",
      "  (0.00856424, 'appeal'),\n",
      "  (0.007835593, 'mandate'),\n",
      "  (0.0077543724, 'invalid'),\n",
      "  (0.007674808, 'congress'),\n",
      "  (0.0076581067, 'former_president_barack'),\n",
      "  (0.0075458195, 'th_circuit_court'),\n",
      "  (0.0074063386, 'mins_ago')],\n",
      " [(0.031899754, 'sign'),\n",
      "  (0.030594673, 'log'),\n",
      "  (0.015753407, 'account_dashboard'),\n",
      "  (0.015606564, 'items_logout'),\n",
      "  (0.014995054, 'facebook_twitter_whatsapp_sms'),\n",
      "  (0.013852677, 'thank'),\n",
      "  (0.013101208, 'local'),\n",
      "  (0.0130541865, 'read'),\n",
      "  (0.0126895625, 'dashboard_logout'),\n",
      "  (0.0102870595, 'subscribe'),\n",
      "  (0.0100609865, 'profile_save'),\n",
      "  (0.009706349, 'continue'),\n",
      "  (0.009238211, 'enjoy'),\n",
      "  (0.008802813, 'email_print_save'),\n",
      "  (0.008118662, 'hope'),\n",
      "  (0.0075262715, 'purchase_subscription'),\n",
      "  (0.007094898, 'continue_reading'),\n",
      "  (0.0067526116, 'com'),\n",
      "  (0.0066009085, 'subscription'),\n",
      "  (0.006592934, 'home')],\n",
      " [(0.027999429, 'jesus'),\n",
      "  (0.013071056, 'process'),\n",
      "  (0.012080977, 'debate'),\n",
      "  (0.011192283, 'nownightly_newsmeet'),\n",
      "  (0.011079581, 'vetsparent_toolkitnbc'),\n",
      "  (0.011079581, 'searchsectionsu_mediadecision'),\n",
      "  (0.011079581, 'latinonbcblknbc_outstay'),\n",
      "  (0.0110795805, 'filmsnbc_left'),\n",
      "  (0.0110795805, 'nbccnbcnbc_comnbc_learnpeacock_productionsnext'),\n",
      "  (0.0110795805, 'newsmeet'),\n",
      "  (0.0110795805, 'archivesknow'),\n",
      "  (0.0110795805, 'tunedspecial_featuresmore'),\n",
      "  (0.0110795805, 'fieldasian_americanbc'),\n",
      "  (0.0110795805, 'value_follow_nbc'),\n",
      "  (0.010446764, 'step'),\n",
      "  (0.00942573, 'afford'),\n",
      "  (0.008964304, 'crucifixion'),\n",
      "  (0.008928816, 'wednesday'),\n",
      "  (0.008892496, 'expect'),\n",
      "  (0.008467955, 'vote')],\n",
      " [(0.03194203, 'local'),\n",
      "  (0.014373851, 'weather'),\n",
      "  (0.0100231245, 'report'),\n",
      "  (0.008128487, 'isd'),\n",
      "  (0.00712242, 'section'),\n",
      "  (0.007074262, 'place_ad'),\n",
      "  (0.0068838634, 'late'),\n",
      "  (0.006119466, 'san_diego_union_tribune'),\n",
      "  (0.006086682, 'contact_information'),\n",
      "  (0.0060639232, 'ad_directory'),\n",
      "  (0.0059998133, 'jobs_newspaper'),\n",
      "  (0.0059998133, 'contact_us_events_historical'),\n",
      "  (0.0059998133, 'bernardo_rancho_santa_fe'),\n",
      "  (0.0059998133, 'chieftain_ramona_sentinel_rancho'),\n",
      "  (0.0059998133, 'cars_classified'),\n",
      "  (0.0059998133, 'archives_newsletter'),\n",
      "  (0.0059998133, 'rep_rewards'),\n",
      "  (0.0059998133, 'ad_problem'),\n",
      "  (0.0059998133, 'poway'),\n",
      "  (0.0059998133, 'eldercare_directory')],\n",
      " [(0.044182327, 'vote'),\n",
      "  (0.042168602, 'house'),\n",
      "  (0.024869105, 'president'),\n",
      "  (0.018469708, 'impeach'),\n",
      "  (0.01606854, 'democrats'),\n",
      "  (0.013178413, 'article'),\n",
      "  (0.011941107, 'abuse'),\n",
      "  (0.011417907, 'wednesday'),\n",
      "  (0.011249472, 'congress'),\n",
      "  (0.01074327, 'office'),\n",
      "  (0.01018857, 'president_donald_trump'),\n",
      "  (0.009497221, 'say'),\n",
      "  (0.009422267, 'representative'),\n",
      "  (0.008726789, 'support'),\n",
      "  (0.008676211, 'expect'),\n",
      "  (0.008467851, 'power'),\n",
      "  (0.00830823, 'debate'),\n",
      "  (0.006773525, '-PRON-'),\n",
      "  (0.0062409504, 'two_articles'),\n",
      "  (0.006208812, 'rally')],\n",
      " [(0.027875682, 'need_help'),\n",
      "  (0.022643985, 'disable'),\n",
      "  (0.017776623, 'public_file_call'),\n",
      "  (0.010050029, 'december_pmtags'),\n",
      "  (0.008196519, 'break'),\n",
      "  (0.0063692033, 'sportsbig_game_coverageinstant_replayhigh'),\n",
      "  (0.0063692033, 'rulessaqtv_listingssa_picksksat_kidsksat'),\n",
      "  (0.0063692033, 'river_authorityday'),\n",
      "  (0.0063692033, 'tvksat_communitysa_salutesh_backyard'),\n",
      "  (0.0063692033, 'kitchenchristus_circle_ksan_antonio'),\n",
      "  (0.0063692033, 'kitchen_newsinside_editionevents_preparedweather'),\n",
      "  (0.0063692033, 'fnewslocal'),\n",
      "  (0.0063692033, 'donewslettersif'),\n",
      "  (0.0063692033, 'deadksat_expertsfoodauto'),\n",
      "  (0.0063692033, 'athletesa_liveelder_eatscool_schoolsbig'),\n",
      "  (0.0059241485, 'minute'),\n",
      "  (0.0058705164, 'rights_reserved'),\n",
      "  (0.0055669174, 'dann'),\n",
      "  (0.0053549935, 'zone_north_zone_south'),\n",
      "  (0.0053549935, 'duniquely_detroitdine')]]\n"
     ]
    }
   ],
   "source": [
    "pprint([tokens for tokens, coh in top_topics if coh > 0.7])"
   ]
  },
  {
   "cell_type": "code",
   "execution_count": 313,
   "metadata": {},
   "outputs": [
    {
     "name": "stdout",
     "output_type": "stream",
     "text": [
      "\n",
      "Perplexity:  -8.724782210936226\n",
      "\n",
      "Coherence Score:  0.5783244657876211\n"
     ]
    }
   ],
   "source": [
    "from gensim.models import CoherenceModel\n",
    "\n",
    "# Compute Coherence Score\n",
    "coherence_model_lda = CoherenceModel(model=lda_model, texts=lemmatized, dictionary=id_2_word, coherence='c_v')\n",
    "coherence_lda = coherence_model_lda.get_coherence()\n",
    "print('\\nCoherence Score: ', coherence_lda)"
   ]
  },
  {
   "cell_type": "code",
   "execution_count": 328,
   "metadata": {},
   "outputs": [
    {
     "data": {
      "text/plain": [
       "[5, 10, 15, 20, 25, 30, 35, 40, 45, 50]"
      ]
     },
     "execution_count": 328,
     "metadata": {},
     "output_type": "execute_result"
    }
   ],
   "source": [
    "list(range(0, 55, 5)[1:])"
   ]
  },
  {
   "cell_type": "code",
   "execution_count": 329,
   "metadata": {},
   "outputs": [
    {
     "name": "stdout",
     "output_type": "stream",
     "text": [
      "done with => 5\n",
      "done with => 10\n",
      "done with => 15\n",
      "done with => 20\n",
      "done with => 25\n",
      "done with => 30\n",
      "done with => 35\n",
      "done with => 40\n",
      "done with => 45\n",
      "done with => 50\n",
      "\u001b[32m2020-01-12 13:42:40\u001b[0m | \u001b[1mINFO    \u001b[0m | \u001b[36m__main__\u001b[0m:\u001b[36m<module>\u001b[0m:\u001b[36m19\u001b[0m - \u001b[1mIt took 00:08:00 to run this script!\u001b[0m\n"
     ]
    },
    {
     "data": {
      "text/plain": [
       "0"
      ]
     },
     "execution_count": 329,
     "metadata": {},
     "output_type": "execute_result"
    }
   ],
   "source": [
    "start_time = time()\n",
    "coherence_scores = {}\n",
    "for k in list(range(0, 55, 5)[1:]):\n",
    "    lda_model =  LdaModel(corpus,\n",
    "                              num_topics = k, \n",
    "                              id2word = id_2_word,\n",
    "                              random_state=42,\n",
    "                              passes = 10,\n",
    "                              alpha='auto',\n",
    "                              eta='auto',\n",
    "                              per_word_topics=True,\n",
    "                              eval_every=None\n",
    "                          )\n",
    "     \n",
    "    coherence_model_lda = CoherenceModel(model=lda_model, texts=lemmatized, dictionary=id_2_word, coherence='c_v')\n",
    "    coherence_scores[k] = coherence_model_lda.get_coherence()\n",
    "    print(f\"done with => {k}\")\n",
    "elapsed = strftime(\"%H:%M:%S\", gmtime(time() - start_time))\n",
    "logger.info(f'It took {elapsed} to run this script!')\n",
    "os.system(\"play /usr/share/sounds/sound-icons/trumpet-1.wav\") "
   ]
  },
  {
   "cell_type": "code",
   "execution_count": null,
   "metadata": {},
   "outputs": [],
   "source": []
  },
  {
   "cell_type": "code",
   "execution_count": 330,
   "metadata": {},
   "outputs": [
    {
     "data": {
      "text/plain": [
       "{5: 0.6134195424830422,\n",
       " 10: 0.5703540321227571,\n",
       " 15: 0.5439440604477297,\n",
       " 20: 0.5271261605905009,\n",
       " 25: 0.5874181850818787,\n",
       " 30: 0.5783244657876211,\n",
       " 35: 0.5255316259562004,\n",
       " 40: 0.5311503708615435,\n",
       " 45: 0.543467617771982,\n",
       " 50: 0.5340368451439997}"
      ]
     },
     "execution_count": 330,
     "metadata": {},
     "output_type": "execute_result"
    }
   ],
   "source": [
    "coherence_scores"
   ]
  },
  {
   "cell_type": "code",
   "execution_count": 337,
   "metadata": {},
   "outputs": [],
   "source": [
    "path_to_mallet_binary = \"/home/ozan/Mallet/bin/mallet\""
   ]
  },
  {
   "cell_type": "code",
   "execution_count": 338,
   "metadata": {},
   "outputs": [],
   "source": [
    "from gensim.models.wrappers import LdaMallet\n"
   ]
  },
  {
   "cell_type": "code",
   "execution_count": 339,
   "metadata": {},
   "outputs": [],
   "source": [
    "lda_model_mallet = LdaMallet(path_to_mallet_binary, corpus=corpus, num_topics=25, id2word=id_2_word)"
   ]
  },
  {
   "cell_type": "code",
   "execution_count": 340,
   "metadata": {},
   "outputs": [],
   "source": [
    "coherence_model_mallet = CoherenceModel(model=lda_model_mallet, texts=lemmatized, dictionary=id_2_word, coherence='c_v')"
   ]
  },
  {
   "cell_type": "code",
   "execution_count": 341,
   "metadata": {},
   "outputs": [
    {
     "data": {
      "text/plain": [
       "0.5340368451439997"
      ]
     },
     "execution_count": 341,
     "metadata": {},
     "output_type": "execute_result"
    }
   ],
   "source": [
    "coherence_model_lda.get_coherence()"
   ]
  },
  {
   "cell_type": "code",
   "execution_count": 345,
   "metadata": {},
   "outputs": [
    {
     "name": "stdout",
     "output_type": "stream",
     "text": [
      "done with => 20\n",
      "done with => 21\n",
      "done with => 22\n",
      "done with => 23\n",
      "done with => 24\n",
      "done with => 25\n",
      "done with => 26\n",
      "done with => 27\n",
      "done with => 28\n",
      "done with => 29\n",
      "done with => 30\n",
      "done with => 31\n",
      "done with => 32\n",
      "done with => 33\n",
      "done with => 34\n",
      "\u001b[32m2020-01-12 14:33:14\u001b[0m | \u001b[1mINFO    \u001b[0m | \u001b[36m__main__\u001b[0m:\u001b[36m<module>\u001b[0m:\u001b[36m18\u001b[0m - \u001b[1mIt took 00:32:51 to run this script!\u001b[0m\n"
     ]
    },
    {
     "data": {
      "text/plain": [
       "0"
      ]
     },
     "execution_count": 345,
     "metadata": {},
     "output_type": "execute_result"
    }
   ],
   "source": [
    "coherence_scores = {}\n",
    "for k in range(20, 35):\n",
    "    lda_model =  LdaModel(corpus,\n",
    "                              num_topics = k, \n",
    "                              id2word = id_2_word,\n",
    "                              random_state=42,\n",
    "                              passes = 10,\n",
    "                              alpha='auto',\n",
    "                              eta='auto',\n",
    "                              per_word_topics=True,\n",
    "                              eval_every=None\n",
    "                          )\n",
    "     \n",
    "    coherence_model_lda = CoherenceModel(model=lda_model, texts=lemmatized, dictionary=id_2_word, coherence='c_v')\n",
    "    coherence_scores[k] = coherence_model_lda.get_coherence()\n",
    "    print(f\"done with => {k}\")\n",
    "elapsed = strftime(\"%H:%M:%S\", gmtime(time() - start_time))\n",
    "logger.info(f'It took {elapsed} to run this script!')\n",
    "os.system(\"play /usr/share/sounds/sound-icons/trumpet-1.wav\") "
   ]
  },
  {
   "cell_type": "code",
   "execution_count": 347,
   "metadata": {},
   "outputs": [
    {
     "data": {
      "text/plain": [
       "{20: 0.5271261605905009,\n",
       " 21: 0.5283489776490575,\n",
       " 22: 0.5933197738736351,\n",
       " 23: 0.5467649445937937,\n",
       " 24: 0.5285951550220905,\n",
       " 25: 0.5874181850818787,\n",
       " 26: 0.5851504855567649,\n",
       " 27: 0.5602890752313544,\n",
       " 28: 0.5442390466632456,\n",
       " 29: 0.5549566175011115,\n",
       " 30: 0.5783244657876211,\n",
       " 31: 0.5563600039195533,\n",
       " 32: 0.5827256244179466,\n",
       " 33: 0.5891212577212019,\n",
       " 34: 0.5641129215158969}"
      ]
     },
     "execution_count": 347,
     "metadata": {},
     "output_type": "execute_result"
    }
   ],
   "source": [
    "coherence_scores"
   ]
  },
  {
   "cell_type": "code",
   "execution_count": 348,
   "metadata": {},
   "outputs": [],
   "source": [
    "lda_model =  LdaModel(corpus,\n",
    "                              num_topics = 22, \n",
    "                              id2word = id_2_word,\n",
    "                              random_state=42,\n",
    "                              passes = 10,\n",
    "                              alpha='auto',\n",
    "                              eta='auto',\n",
    "                              per_word_topics=True,\n",
    "                              eval_every=None\n",
    "                          )\n"
   ]
  },
  {
   "cell_type": "code",
   "execution_count": 368,
   "metadata": {},
   "outputs": [],
   "source": [
    "df_topics = pd.DataFrame()\n",
    "for i, row in enumerate(lda_model[corpus]):\n",
    "    row = sorted(row[0], key=lambda x: (x[1]), reverse=True)\n",
    "    \n",
    "    for j, (topic_num, prop_topic) in enumerate(row):\n",
    "        if j == 0:  # => dominant topic\n",
    "            wp = lda_model.show_topic(topic_num)\n",
    "            topic_keywords = \", \".join([word for word, prop in wp])\n",
    "            df_topics = df_topics.append(pd.Series([int(topic_num), round(prop_topic,2), topic_keywords]), ignore_index=True)\n",
    "        else:\n",
    "            break   "
   ]
  },
  {
   "cell_type": "code",
   "execution_count": 370,
   "metadata": {},
   "outputs": [],
   "source": [
    "df_topics.columns = ['top_topic', 'perc_contrib', 'topic_kw']\n"
   ]
  },
  {
   "cell_type": "code",
   "execution_count": 390,
   "metadata": {},
   "outputs": [
    {
     "data": {
      "text/plain": [
       "[9.0, 5.0, 10.0, 11.0, 18.0, 3.0, 1.0, 8.0, 16.0, 7.0]"
      ]
     },
     "execution_count": 390,
     "metadata": {},
     "output_type": "execute_result"
    }
   ],
   "source": [
    "top_10 = df_topics.top_topic.value_counts().nlargest(10).index.tolist()\n",
    "top_10"
   ]
  },
  {
   "cell_type": "code",
   "execution_count": 394,
   "metadata": {},
   "outputs": [
    {
     "name": "stdout",
     "output_type": "stream",
     "text": [
      "[('president', 0.026044648), ('vote', 0.024901558), ('house', 0.02467349), ('democrats', 0.014591674), ('say', 0.013838652), ('impeach', 0.009608715), ('article', 0.008304843), ('president_donald_trump', 0.0066399537), ('office', 0.0062946184), ('support', 0.006290204)] president, vote, house, democrats, say, impeach, article, president_donald_trump, office, support \n",
      "\n",
      "[('state', 0.013070506), ('say', 0.010057605), ('new', 0.0064726924), ('would', 0.004508413), ('post', 0.0043799174), ('people', 0.0043043816), ('candidate', 0.0042224154), ('election', 0.0041520307), ('year', 0.0040505063), ('bill', 0.003665372)] state, say, new, would, post, people, candidate, election, year, bill \n",
      "\n",
      "[('say', 0.01095082), ('one', 0.008053726), ('december', 0.005253373), ('day', 0.0051396526), ('year', 0.0046062986), ('time', 0.0045323484), ('report', 0.004464143), ('see', 0.004312752), ('get', 0.004309129), ('former', 0.0037976447)] say, one, december, day, year, time, report, see, get, former \n",
      "\n",
      "[('sign', 0.023813756), ('log', 0.020636857), ('local', 0.019867111), ('sport', 0.01573687), ('business', 0.0117739085), ('subscribe', 0.010732468), ('account_dashboard', 0.009840866), ('items_logout', 0.009745213), ('home', 0.009632338), ('facebook_twitter_whatsapp_sms', 0.00957369)] sign, log, local, sport, business, subscribe, account_dashboard, items_logout, home, facebook_twitter_whatsapp_sms \n",
      "\n",
      "[('email_print', 0.020911338), ('facebookshare_tweet', 0.02044384), ('continue', 0.012269942), ('business', 0.011454037), ('world', 0.011426783), ('woman', 0.011203521), ('advertise', 0.01103628), ('share', 0.0108432975), ('science_technology', 0.010825452), ('submit', 0.010798234)] email_print, facebookshare_tweet, continue, business, world, woman, advertise, share, science_technology, submit \n",
      "\n",
      "[('top_stories', 0.036884733), ('local', 0.028329594), ('search_primary_menu', 0.016404124), ('live', 0.014533149), ('home', 0.011751484), ('-PRON-', 0.010871635), ('sponsor', 0.009172742), ('sport', 0.0085542295), ('meet', 0.00837659), ('national', 0.008247632)] top_stories, local, search_primary_menu, live, home, -PRON-, sponsor, sport, meet, national \n",
      "\n",
      "[('house', 0.020632539), ('jesus', 0.015519788), ('say', 0.013595698), ('vote', 0.012416746), ('president', 0.011997798), ('ahead', 0.010872245), ('debate', 0.0104605), ('wednesday', 0.009523251), ('abuse', 0.00941147), ('charge', 0.0091339685)] house, jesus, say, vote, president, ahead, debate, wednesday, abuse, charge \n",
      "\n",
      "[('vote', 0.019547284), ('house', 0.019088693), ('president_donald_trump', 0.019022366), ('charge', 0.013558601), ('impeach', 0.013271623), ('brink', 0.0121693835), ('local', 0.011725387), ('wednesday', 0.0115626035), ('power', 0.011179898), ('abuse', 0.011050062)] vote, house, president_donald_trump, charge, impeach, brink, local, wednesday, power, abuse \n",
      "\n",
      "[('say', 0.022313686), ('senate', 0.01594659), ('trial', 0.013097237), ('house', 0.009263498), ('president', 0.009181782), ('letter', 0.008893921), ('would', 0.008064373), ('live', 0.0056215487), ('white_house', 0.005477988), ('mcconnell', 0.005470207)] say, senate, trial, house, president, letter, would, live, white_house, mcconnell \n",
      "\n",
      "[('police', 0.015261179), ('say', 0.014018595), ('man', 0.01151011), ('home', 0.009424576), ('fire', 0.0071281004), ('arrest', 0.0068368567), ('charge', 0.006259708), ('kill', 0.006048996), ('break', 0.0060301023), ('find', 0.0056862975)] police, say, man, home, fire, arrest, charge, kill, break, find \n",
      "\n"
     ]
    }
   ],
   "source": [
    "for t in top_10:\n",
    "    wp = lda_model.show_topic(int(t))\n",
    "    topic_keywords = \", \".join([word for word, prop in wp])\n",
    "    print(wp, topic_keywords, \"\\n\")"
   ]
  },
  {
   "cell_type": "code",
   "execution_count": 356,
   "metadata": {},
   "outputs": [
    {
     "data": {
      "text/plain": [
       "0                                                   10\n",
       "1                                               0.2931\n",
       "2    say, one, december, day, year, time, report, s...\n",
       "dtype: object"
      ]
     },
     "execution_count": 356,
     "metadata": {},
     "output_type": "execute_result"
    }
   ],
   "source": [
    "sent_topics"
   ]
  },
  {
   "cell_type": "code",
   "execution_count": 360,
   "metadata": {},
   "outputs": [
    {
     "data": {
      "text/plain": [
       "[('say', 0.01095082),\n",
       " ('one', 0.008053726),\n",
       " ('december', 0.005253373),\n",
       " ('day', 0.0051396526),\n",
       " ('year', 0.0046062986),\n",
       " ('time', 0.0045323484),\n",
       " ('report', 0.004464143),\n",
       " ('see', 0.004312752),\n",
       " ('get', 0.004309129),\n",
       " ('former', 0.0037976447),\n",
       " ('people', 0.003736288),\n",
       " ('make', 0.0037228055),\n",
       " ('https_co', 0.0035546585),\n",
       " ('fbi', 0.0034681538),\n",
       " ('world', 0.0032284926),\n",
       " ('new', 0.0030671554),\n",
       " ('go', 0.0030512789),\n",
       " ('may', 0.0030391335),\n",
       " ('page', 0.0030044757),\n",
       " ('good', 0.0029962612)]"
      ]
     },
     "execution_count": 360,
     "metadata": {},
     "output_type": "execute_result"
    }
   ],
   "source": [
    "lda_model.show_topic(10, topn=20)"
   ]
  },
  {
   "cell_type": "code",
   "execution_count": 361,
   "metadata": {},
   "outputs": [],
   "source": []
  },
  {
   "cell_type": "code",
   "execution_count": 359,
   "metadata": {},
   "outputs": [
    {
     "name": "stdout",
     "output_type": "stream",
     "text": [
      "[(19,\n",
      "  '0.015*\"local\" + 0.013*\"sport\" + 0.013*\"violent_crime\" + 0.009*\"password\" + '\n",
      "  '0.009*\"welcome_log\" + 0.009*\"account\" + 0.009*\"report\" + 0.009*\"york\" + '\n",
      "  '0.008*\"barr\" + 0.008*\"username_password_forgot_password\"'),\n",
      " (20,\n",
      "  '0.015*\"local\" + 0.009*\"crime\" + 0.008*\"subscribe\" + 0.007*\"inside\" + '\n",
      "  '0.007*\"books_music_theater_classical\" + '\n",
      "  '0.007*\"games_puzzles_horoscopes_life\" + '\n",
      "  '0.007*\"politics_education_education\" + '\n",
      "  '0.007*\"sports_seahawks_huskies_cougars\" + 0.007*\"music_tv_streaming_comics\" '\n",
      "  '+ 0.007*\"tv_radio_entertainment_movies\"'),\n",
      " (6,\n",
      "  '0.013*\"nownightly_newsmeet\" + 0.013*\"tunedspecial_featuresmore\" + '\n",
      "  '0.013*\"latinonbcblknbc_outstay\" + 0.013*\"searchsectionsu_mediadecision\" + '\n",
      "  '0.013*\"archivesknow\" + 0.013*\"vetsparent_toolkitnbc\" + '\n",
      "  '0.013*\"filmsnbc_left\" + 0.013*\"value_follow_nbc\" + '\n",
      "  '0.013*\"nbccnbcnbc_comnbc_learnpeacock_productionsnext\" + 0.013*\"newsmeet\"'),\n",
      " (17,\n",
      "  '0.027*\"individual_mandate\" + 0.020*\"law\" + 0.018*\"part\" + 0.018*\"share\" + '\n",
      "  '0.017*\"obamacare_invalid\" + 0.016*\"review_needed\" + 0.016*\"aca\" + '\n",
      "  '0.015*\"affordable_care_act\" + 0.012*\"need\" + 0.012*\"severable\"'),\n",
      " (18,\n",
      "  '0.021*\"email_print\" + 0.020*\"facebookshare_tweet\" + 0.012*\"continue\" + '\n",
      "  '0.011*\"business\" + 0.011*\"world\" + 0.011*\"woman\" + 0.011*\"advertise\" + '\n",
      "  '0.011*\"share\" + 0.011*\"science_technology\" + 0.011*\"submit\"'),\n",
      " (12,\n",
      "  '0.008*\"mark_brunell_showteal\" + 0.008*\"votingtv_listingsjax\" + '\n",
      "  '0.008*\"healthlive_healthymodern\" + 0.008*\"infopositively_jaxcommunity\" + '\n",
      "  '0.008*\"jacksonvillethe_morning_picks_contestthe\" + 0.008*\"livefood_recipes\" '\n",
      "  '+ 0.008*\"fnewslocal_week\" + 0.008*\"calendarready_set\" + '\n",
      "  '0.008*\"program_guidebouncethe\" + 0.008*\"bestcw_cw\"'),\n",
      " (15,\n",
      "  '0.026*\"local\" + 0.023*\"share\" + 0.019*\"sport\" + 0.017*\"new_window_click\" + '\n",
      "  '0.013*\"weather\" + 0.011*\"home\" + 0.009*\"tip\" + 0.008*\"live\" + '\n",
      "  '0.008*\"community\" + 0.008*\"sports\"'),\n",
      " (4,\n",
      "  '0.019*\"house\" + 0.018*\"vote\" + 0.013*\"debate\" + 0.011*\"say\" + '\n",
      "  '0.010*\"president\" + 0.008*\"impeach\" + 0.008*\"democrats\" + 0.008*\"expect\" + '\n",
      "  '0.006*\"representative\" + 0.006*\"abuse\"'),\n",
      " (21,\n",
      "  '0.015*\"labour\" + 0.013*\"party\" + 0.012*\"brexit\" + 0.010*\"house\" + '\n",
      "  '0.010*\"leader\" + 0.008*\"corbyn\" + 0.008*\"jeremy_corbyn\" + 0.008*\"week\" + '\n",
      "  '0.007*\"would\" + 0.007*\"election\"'),\n",
      " (14,\n",
      "  '0.028*\"need_help\" + 0.022*\"disable\" + 0.018*\"public_file_call\" + '\n",
      "  '0.010*\"december_pmtags\" + 0.008*\"break\" + 0.008*\"holiday\" + 0.007*\"minute\" '\n",
      "  '+ 0.006*\"wednesday\" + 0.006*\"athletesa_liveelder_eatscool_schoolsbig\" + '\n",
      "  '0.006*\"tvksat_communitysa_salutesh_backyard\"'),\n",
      " (8,\n",
      "  '0.020*\"vote\" + 0.019*\"house\" + 0.019*\"president_donald_trump\" + '\n",
      "  '0.014*\"charge\" + 0.013*\"impeach\" + 0.012*\"brink\" + 0.012*\"local\" + '\n",
      "  '0.012*\"wednesday\" + 0.011*\"power\" + 0.011*\"abuse\"'),\n",
      " (3,\n",
      "  '0.037*\"top_stories\" + 0.028*\"local\" + 0.016*\"search_primary_menu\" + '\n",
      "  '0.015*\"live\" + 0.012*\"home\" + 0.011*\"-PRON-\" + 0.009*\"sponsor\" + '\n",
      "  '0.009*\"sport\" + 0.008*\"meet\" + 0.008*\"national\"'),\n",
      " (0,\n",
      "  '0.013*\"house\" + 0.013*\"hours_ago\" + 0.011*\"vote\" + 0.010*\"politic\" + '\n",
      "  '0.010*\"radical_left\" + 0.008*\"assault\" + 0.008*\"rally\" + '\n",
      "  '0.008*\"nothing_democrats\" + 0.008*\"impeach\" + 0.007*\"say_prayer\"'),\n",
      " (13,\n",
      "  '0.019*\"video\" + 0.019*\"weather\" + 0.018*\"local\" + 0.016*\"congress\" + '\n",
      "  '0.014*\"sport\" + 0.012*\"historic_day\" + 0.012*\"wednesday\" + '\n",
      "  '0.009*\"impeachment_vote_marks\" + 0.009*\"president_donald_trump\" + '\n",
      "  '0.009*\"live\"'),\n",
      " (7,\n",
      "  '0.015*\"police\" + 0.014*\"say\" + 0.012*\"man\" + 0.009*\"home\" + 0.007*\"fire\" + '\n",
      "  '0.007*\"arrest\" + 0.006*\"charge\" + 0.006*\"kill\" + 0.006*\"break\" + '\n",
      "  '0.006*\"find\"'),\n",
      " (1,\n",
      "  '0.021*\"house\" + 0.016*\"jesus\" + 0.014*\"say\" + 0.012*\"vote\" + '\n",
      "  '0.012*\"president\" + 0.011*\"ahead\" + 0.010*\"debate\" + 0.010*\"wednesday\" + '\n",
      "  '0.009*\"abuse\" + 0.009*\"charge\"'),\n",
      " (16,\n",
      "  '0.022*\"say\" + 0.016*\"senate\" + 0.013*\"trial\" + 0.009*\"house\" + '\n",
      "  '0.009*\"president\" + 0.009*\"letter\" + 0.008*\"would\" + 0.006*\"live\" + '\n",
      "  '0.005*\"white_house\" + 0.005*\"mcconnell\"'),\n",
      " (5,\n",
      "  '0.013*\"state\" + 0.010*\"say\" + 0.006*\"new\" + 0.005*\"would\" + 0.004*\"post\" + '\n",
      "  '0.004*\"people\" + 0.004*\"candidate\" + 0.004*\"election\" + 0.004*\"year\" + '\n",
      "  '0.004*\"bill\"'),\n",
      " (9,\n",
      "  '0.026*\"president\" + 0.025*\"vote\" + 0.025*\"house\" + 0.015*\"democrats\" + '\n",
      "  '0.014*\"say\" + 0.010*\"impeach\" + 0.008*\"article\" + '\n",
      "  '0.007*\"president_donald_trump\" + 0.006*\"office\" + 0.006*\"support\"'),\n",
      " (10,\n",
      "  '0.011*\"say\" + 0.008*\"one\" + 0.005*\"december\" + 0.005*\"day\" + 0.005*\"year\" + '\n",
      "  '0.005*\"time\" + 0.004*\"report\" + 0.004*\"see\" + 0.004*\"get\" + 0.004*\"former\"')]\n"
     ]
    }
   ],
   "source": [
    "pprint(lda_model.print_topics(num_words))"
   ]
  },
  {
   "cell_type": "code",
   "execution_count": null,
   "metadata": {},
   "outputs": [],
   "source": []
  }
 ],
 "metadata": {
  "kernelspec": {
   "display_name": "Python 3.7 cc_news",
   "language": "python",
   "name": "cc_news_env"
  },
  "language_info": {
   "codemirror_mode": {
    "name": "ipython",
    "version": 3
   },
   "file_extension": ".py",
   "mimetype": "text/x-python",
   "name": "python",
   "nbconvert_exporter": "python",
   "pygments_lexer": "ipython3",
   "version": "3.7.5"
  }
 },
 "nbformat": 4,
 "nbformat_minor": 4
}
