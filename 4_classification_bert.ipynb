{
 "cells": [
  {
   "cell_type": "code",
   "execution_count": 104,
   "metadata": {},
   "outputs": [],
   "source": [
    "import csv\n",
    "import numpy as np\n",
    "import torch\n",
    "import torch.nn as nn\n",
    "\n",
    "from loguru import logger\n",
    "from multiprocessing import Pool, cpu_count\n",
    "from pathlib import Path\n",
    "from transformers import DistilBertConfig, DistilBertForSequenceClassification, DistilBertTokenizer\n",
    "from transformers import AdamW, get_linear_schedule_with_warmup\n",
    "\n",
    "from sklearn.metrics import matthews_corrcoef, confusion_matrix, f1_score\n",
    "from torch.utils.data import DataLoader, RandomSampler, SequentialSampler, TensorDataset\n",
    "from tqdm.notebook import tqdm, trange"
   ]
  },
  {
   "cell_type": "code",
   "execution_count": 2,
   "metadata": {},
   "outputs": [],
   "source": [
    "device = torch.device(\"cuda\" if torch.cuda.is_available() else \"cpu\")"
   ]
  },
  {
   "cell_type": "code",
   "execution_count": 3,
   "metadata": {},
   "outputs": [],
   "source": [
    "class InputExample():\n",
    "    \"\"\"A single training/test example for simple sequence classification.\"\"\"\n",
    "    def __init__(self, guid, text_a, text_b=None, label=None):\n",
    "        \"\"\"Construct an InputExample.\n",
    "\n",
    "        Args:\n",
    "            guid: Unique id for the example.\n",
    "            text_a: string. The untokenized text of the first sequence.\n",
    "            text_b: (Optional) string. The untokenized text of the second\n",
    "            sequence. Only must be specified for sequence pair tasks.\n",
    "            label: (Optional) string. The label of the example. This should be\n",
    "            specified for train and dev examples, but not for test examples.\n",
    "        \"\"\"\n",
    "        self.guid = guid\n",
    "        self.text_a = text_a\n",
    "        self.text_b = text_b\n",
    "        self.label = label\n",
    "\n",
    "class InputFeatures(object):\n",
    "    \"\"\"\n",
    "    A single set of features of data.\n",
    "    Args:\n",
    "        input_ids: Indices of input sequence tokens in the vocabulary.\n",
    "        attention_mask: Mask to avoid performing attention on padding token indices.\n",
    "            Mask values selected in ``[0, 1]``:\n",
    "            Usually  ``1`` for tokens that are NOT MASKED, ``0`` for MASKED (padded) tokens.\n",
    "        token_type_ids: Segment token indices to indicate first and second portions of the inputs.\n",
    "        label: Label corresponding to the input\n",
    "    \"\"\"\n",
    "\n",
    "    def __init__(self, input_ids, attention_mask=None, token_type_ids=None, label=None):\n",
    "        self.input_ids = input_ids\n",
    "        self.attention_mask = attention_mask\n",
    "        self.token_type_ids = token_type_ids\n",
    "        self.label = label\n",
    "\n",
    "def convert_example_to_feature(example_row):\n",
    "    \"\"\"\n",
    "    Loads a data file into a list of ``InputFeatures``\n",
    "    Args:\n",
    "        example_row mappings:\n",
    "        examples: List of ``InputExamples`` or ``tf.data.Dataset`` containing the examples.\n",
    "        tokenizer: Instance of a tokenizer that will tokenize the examples\n",
    "        max_seq_length: Maximum example length\n",
    "        label_list: List of labels.\n",
    "        output_mode: String indicating the output mode. Either ``regression`` or ``classification``\n",
    "        pad_on_left: If set to ``True``, the examples will be padded on the left rather than on the\n",
    "                    right (default)\n",
    "        pad_token: Padding token\n",
    "        pad_token_segment_id: The segment ID for the padding token (It is usually 0,\n",
    "                              but can vary such as for XLNet where it is 4)\n",
    "        mask_padding_with_zero: If set to ``True``, the attention mask will be filled by ``1``\n",
    "            for actual values and by ``0`` for padded values. If set to ``False``, inverts it (``1``\n",
    "            for padded values, ``0`` for actual values)\n",
    "    Returns:\n",
    "        If the ``examples`` input is a ``tf.data.Dataset``, will return a ``tf.data.Dataset``\n",
    "        containing the task-specific features. If the input is a list of ``InputExamples``, will return\n",
    "        a list of task-specific ``InputFeatures`` which can be fed to the model.\n",
    "    \"\"\"\n",
    "    # return example_row\n",
    "    example, label_map, max_seq_length, tokenizer, output_mode, \\\n",
    "    pad_on_left, pad_token, pad_token_segment_id, mask_padding_with_zero = example_row\n",
    "\n",
    "    inputs = tokenizer.encode_plus(example.text_a,\n",
    "                                   example.text_b,\n",
    "                                   add_special_tokens=True,\n",
    "                                   max_length=max_seq_length)\n",
    "\n",
    "    input_ids, token_type_ids = inputs[\"input_ids\"], inputs[\"token_type_ids\"]\n",
    "\n",
    "    # The mask has 1 for real tokens and 0 for padding tokens. Only real tokens are attended to.\n",
    "    attention_mask = [1 if mask_padding_with_zero else 0] * len(input_ids)\n",
    "    # Zero-pad up to the sequence length.\n",
    "    padding_length = max_seq_length - len(input_ids)\n",
    "\n",
    "    if pad_on_left:\n",
    "        input_ids = ([pad_token] * padding_length) + input_ids\n",
    "        attention_mask = ([0 if mask_padding_with_zero else 1] * padding_length) + attention_mask\n",
    "        token_type_ids = ([pad_token_segment_id] * padding_length) + token_type_ids\n",
    "    else:\n",
    "        input_ids = input_ids + ([pad_token] * padding_length)\n",
    "        attention_mask = attention_mask + ([0 if mask_padding_with_zero else 1] * padding_length)\n",
    "        token_type_ids = token_type_ids + ([pad_token_segment_id] * padding_length)\n",
    "\n",
    "    if example.label != \"\":\n",
    "        if output_mode == \"classification\":\n",
    "            label_id = label_map[example.label]\n",
    "        elif output_mode == \"regression\":\n",
    "            label_id = float(example.label)\n",
    "        else:\n",
    "            raise KeyError(output_mode)\n",
    "\n",
    "        return InputFeatures(input_ids=input_ids,\n",
    "                             attention_mask=attention_mask,\n",
    "                             token_type_ids=token_type_ids,\n",
    "                             label=label_id)\n",
    "    else:\n",
    "        return InputFeatures(input_ids=input_ids,\n",
    "                             attention_mask=attention_mask,\n",
    "                             token_type_ids=token_type_ids, \n",
    "                            )\n",
    "    "
   ]
  },
  {
   "cell_type": "code",
   "execution_count": 4,
   "metadata": {},
   "outputs": [],
   "source": [
    "class DataProcessor(object):\n",
    "    \"\"\"Base class for data converters for sequence classification data sets.\"\"\"\n",
    "\n",
    "    def __init__(self, labels=None):\n",
    "        self._labels=labels\n",
    "\n",
    "    def get_train_examples(self, data_dir):\n",
    "        \"\"\"Gets a collection of `InputExample`s for the train set.\"\"\"\n",
    "        raise NotImplementedError()\n",
    "\n",
    "    def get_test_examples(self, data_dir):\n",
    "        \"\"\"Gets a collection of `InputExample`s for the dev set.\"\"\"\n",
    "        raise NotImplementedError()\n",
    "\n",
    "    def set_labels(self, labs):\n",
    "        self._labels = labs\n",
    "\n",
    "    def get_labels(self):\n",
    "        \"\"\"Gets the list of labels for this data set.\"\"\"\n",
    "        raise NotImplementedError()\n",
    "\n",
    "    @classmethod\n",
    "    def _read_tsv(cls, input_file, quotechar=None):\n",
    "        \"\"\"Reads a tab separated value file.\"\"\"\n",
    "        with open(input_file, \"r\", encoding=\"utf-8\") as f:\n",
    "            reader = csv.reader(f, delimiter=\"\\t\", quotechar=quotechar)\n",
    "            lines = []\n",
    "            for line in reader:\n",
    "                lines.append(line)\n",
    "            return lines"
   ]
  },
  {
   "cell_type": "code",
   "execution_count": 5,
   "metadata": {},
   "outputs": [],
   "source": [
    "class ClassificationProcessor(DataProcessor):\n",
    "    \"\"\"Processor for multi-class classification dataset\"\"\"\n",
    "\n",
    "    def get_train_examples(self, data_dir):\n",
    "        \"\"\"See base class.\"\"\"\n",
    "        return self._create_examples(self._read_tsv(data_dir / 'train.tsv'), \"train\")\n",
    "\n",
    "    def get_dev_examples(self, data_dir):\n",
    "        \"\"\"See base class.\"\"\"\n",
    "        return self._create_examples(self._read_tsv(data_dir / 'dev.tsv'), \"dev\")\n",
    "    \n",
    "    def get_test_examples(self, data_dir):\n",
    "        \"\"\"See base class.\"\"\"\n",
    "        return self._create_examples(self._read_tsv(data_dir / 'test.tsv'), \"test\")\n",
    "\n",
    "    def get_labels(self):\n",
    "        \"\"\"See base class.\"\"\"\n",
    "        return self._labels\n",
    "\n",
    "    def _create_examples(self, lines, set_type):\n",
    "        \"\"\"Creates examples for the training and dev sets.\"\"\"\n",
    "        examples = []\n",
    "        for (_, line) in enumerate(lines):\n",
    "            guid = \"%s-%s\" % (set_type, line[0])\n",
    "            text_a = line[3]\n",
    "            label = line[1]\n",
    "            examples.append(InputExample(guid=guid, text_a=text_a, text_b=None, label=label))\n",
    "        return examples"
   ]
  },
  {
   "cell_type": "code",
   "execution_count": 6,
   "metadata": {},
   "outputs": [],
   "source": [
    "# Data Folder\n",
    "data_folder = Path.home() / 'Data' / 'cc_news'\n",
    "model_input_folder = data_folder / 'model_input'"
   ]
  },
  {
   "cell_type": "code",
   "execution_count": 7,
   "metadata": {},
   "outputs": [],
   "source": [
    "# Get your train examples\n",
    "processor = ClassificationProcessor()"
   ]
  },
  {
   "cell_type": "code",
   "execution_count": 8,
   "metadata": {},
   "outputs": [],
   "source": [
    "# Set labels \n",
    "labels = ['politics', 'sports', 'business_economy', 'world', 'entertainment']\n",
    "num_labels = len(labels)\n",
    "# Let the processor know what the labels are\n",
    "processor.set_labels(labels)\n",
    "\n",
    "# Create Label to Index Map \n",
    "label_map = {label: i for i, label in enumerate(labels)}"
   ]
  },
  {
   "cell_type": "code",
   "execution_count": 18,
   "metadata": {},
   "outputs": [],
   "source": [
    "# Set model Hyper Parameters\n",
    "max_seq_length = 256\n",
    "train_batch_size = 32\n",
    "gradient_accumulation_steps = 2\n",
    "num_train_epochs = 4\n",
    "learning_rate = 2e-5\n",
    "\n",
    "output_mode = 'classification'\n",
    "bert_model = 'distilbert-base-uncased'\n",
    "cache_dir = 'cache/'\n",
    "model_type = 'distilbert'\n",
    "\n",
    "processor_count = cpu_count() - 1"
   ]
  },
  {
   "cell_type": "code",
   "execution_count": 10,
   "metadata": {},
   "outputs": [],
   "source": [
    "# Load Tokenizer\n",
    "tokenizer = DistilBertTokenizer.from_pretrained(bert_model, do_lower_case=True)"
   ]
  },
  {
   "cell_type": "code",
   "execution_count": 11,
   "metadata": {},
   "outputs": [],
   "source": [
    "train_examples = processor.get_train_examples(model_input_folder)"
   ]
  },
  {
   "cell_type": "code",
   "execution_count": 12,
   "metadata": {},
   "outputs": [],
   "source": [
    "pad_on_the_left = False\n",
    "pad_token = tokenizer.convert_tokens_to_ids([tokenizer.pad_token])[0]\n",
    "pad_token_segment_id = 0\n",
    "mask_padding_with_zero = True\n",
    "examples = [(example, label_map, max_seq_length, tokenizer, output_mode, pad_on_the_left,\n",
    "                     pad_token, pad_token_segment_id, mask_padding_with_zero)\n",
    "                    for example in train_examples]"
   ]
  },
  {
   "cell_type": "code",
   "execution_count": 13,
   "metadata": {},
   "outputs": [
    {
     "data": {
      "application/vnd.jupyter.widget-view+json": {
       "model_id": "e6f6bc8ba3af4978b34ad588cf9bf338",
       "version_major": 2,
       "version_minor": 0
      },
      "text/plain": [
       "HBox(children=(FloatProgress(value=0.0, max=3302.0), HTML(value='')))"
      ]
     },
     "metadata": {},
     "output_type": "display_data"
    },
    {
     "name": "stdout",
     "output_type": "stream",
     "text": [
      "\n"
     ]
    }
   ],
   "source": [
    "with Pool(processor_count) as proc:\n",
    "    features = list(tqdm(proc.imap(convert_example_to_feature, examples), total=len(train_examples)))"
   ]
  },
  {
   "cell_type": "code",
   "execution_count": 35,
   "metadata": {},
   "outputs": [],
   "source": [
    "def convert_to_tensors(features, data_type=None):\n",
    "    \"\"\"Get your Feature Vectords into the tensors.\"\"\"\n",
    "    all_input_ids = torch.tensor([f.input_ids for f in features], dtype=torch.long)\n",
    "    all_attention_masks = torch.tensor([f.attention_mask for f in features], dtype=torch.long)\n",
    "    all_token_type_ids = torch.tensor([f.token_type_ids for f in features], dtype=torch.long)\n",
    "    if data_type != \"test\":\n",
    "        all_labels = torch.tensor([f.label for f in features if f.label !=\"\"], dtype=torch.long)\n",
    "        dataset = TensorDataset(all_input_ids, all_attention_masks, all_token_type_ids, all_labels)\n",
    "    else:\n",
    "        dataset = TensorDataset(all_input_ids, all_attention_masks, all_token_type_ids)\n",
    "    return dataset"
   ]
  },
  {
   "cell_type": "code",
   "execution_count": 15,
   "metadata": {},
   "outputs": [],
   "source": [
    "num_training_steps = int(len(features) / train_batch_size / gradient_accumulation_steps) * num_train_epochs"
   ]
  },
  {
   "cell_type": "code",
   "execution_count": 16,
   "metadata": {},
   "outputs": [],
   "source": [
    "train_data = convert_to_tensors(features)\n",
    "train_sampler = RandomSampler(train_data)\n",
    "train_dataloader = DataLoader(train_data, sampler=train_sampler, batch_size=train_batch_size)"
   ]
  },
  {
   "cell_type": "code",
   "execution_count": 17,
   "metadata": {},
   "outputs": [],
   "source": [
    "model = DistilBertForSequenceClassification.from_pretrained(bert_model, cache_dir=cache_dir, num_labels=num_labels)"
   ]
  },
  {
   "cell_type": "code",
   "execution_count": 19,
   "metadata": {
    "collapsed": true,
    "jupyter": {
     "outputs_hidden": true
    }
   },
   "outputs": [
    {
     "data": {
      "text/plain": [
       "DistilBertForSequenceClassification(\n",
       "  (distilbert): DistilBertModel(\n",
       "    (embeddings): Embeddings(\n",
       "      (word_embeddings): Embedding(30522, 768, padding_idx=0)\n",
       "      (position_embeddings): Embedding(512, 768)\n",
       "      (LayerNorm): LayerNorm((768,), eps=1e-12, elementwise_affine=True)\n",
       "      (dropout): Dropout(p=0.1, inplace=False)\n",
       "    )\n",
       "    (transformer): Transformer(\n",
       "      (layer): ModuleList(\n",
       "        (0): TransformerBlock(\n",
       "          (dropout): Dropout(p=0.1, inplace=False)\n",
       "          (attention): MultiHeadSelfAttention(\n",
       "            (dropout): Dropout(p=0.1, inplace=False)\n",
       "            (q_lin): Linear(in_features=768, out_features=768, bias=True)\n",
       "            (k_lin): Linear(in_features=768, out_features=768, bias=True)\n",
       "            (v_lin): Linear(in_features=768, out_features=768, bias=True)\n",
       "            (out_lin): Linear(in_features=768, out_features=768, bias=True)\n",
       "          )\n",
       "          (sa_layer_norm): LayerNorm((768,), eps=1e-12, elementwise_affine=True)\n",
       "          (ffn): FFN(\n",
       "            (dropout): Dropout(p=0.1, inplace=False)\n",
       "            (lin1): Linear(in_features=768, out_features=3072, bias=True)\n",
       "            (lin2): Linear(in_features=3072, out_features=768, bias=True)\n",
       "          )\n",
       "          (output_layer_norm): LayerNorm((768,), eps=1e-12, elementwise_affine=True)\n",
       "        )\n",
       "        (1): TransformerBlock(\n",
       "          (dropout): Dropout(p=0.1, inplace=False)\n",
       "          (attention): MultiHeadSelfAttention(\n",
       "            (dropout): Dropout(p=0.1, inplace=False)\n",
       "            (q_lin): Linear(in_features=768, out_features=768, bias=True)\n",
       "            (k_lin): Linear(in_features=768, out_features=768, bias=True)\n",
       "            (v_lin): Linear(in_features=768, out_features=768, bias=True)\n",
       "            (out_lin): Linear(in_features=768, out_features=768, bias=True)\n",
       "          )\n",
       "          (sa_layer_norm): LayerNorm((768,), eps=1e-12, elementwise_affine=True)\n",
       "          (ffn): FFN(\n",
       "            (dropout): Dropout(p=0.1, inplace=False)\n",
       "            (lin1): Linear(in_features=768, out_features=3072, bias=True)\n",
       "            (lin2): Linear(in_features=3072, out_features=768, bias=True)\n",
       "          )\n",
       "          (output_layer_norm): LayerNorm((768,), eps=1e-12, elementwise_affine=True)\n",
       "        )\n",
       "        (2): TransformerBlock(\n",
       "          (dropout): Dropout(p=0.1, inplace=False)\n",
       "          (attention): MultiHeadSelfAttention(\n",
       "            (dropout): Dropout(p=0.1, inplace=False)\n",
       "            (q_lin): Linear(in_features=768, out_features=768, bias=True)\n",
       "            (k_lin): Linear(in_features=768, out_features=768, bias=True)\n",
       "            (v_lin): Linear(in_features=768, out_features=768, bias=True)\n",
       "            (out_lin): Linear(in_features=768, out_features=768, bias=True)\n",
       "          )\n",
       "          (sa_layer_norm): LayerNorm((768,), eps=1e-12, elementwise_affine=True)\n",
       "          (ffn): FFN(\n",
       "            (dropout): Dropout(p=0.1, inplace=False)\n",
       "            (lin1): Linear(in_features=768, out_features=3072, bias=True)\n",
       "            (lin2): Linear(in_features=3072, out_features=768, bias=True)\n",
       "          )\n",
       "          (output_layer_norm): LayerNorm((768,), eps=1e-12, elementwise_affine=True)\n",
       "        )\n",
       "        (3): TransformerBlock(\n",
       "          (dropout): Dropout(p=0.1, inplace=False)\n",
       "          (attention): MultiHeadSelfAttention(\n",
       "            (dropout): Dropout(p=0.1, inplace=False)\n",
       "            (q_lin): Linear(in_features=768, out_features=768, bias=True)\n",
       "            (k_lin): Linear(in_features=768, out_features=768, bias=True)\n",
       "            (v_lin): Linear(in_features=768, out_features=768, bias=True)\n",
       "            (out_lin): Linear(in_features=768, out_features=768, bias=True)\n",
       "          )\n",
       "          (sa_layer_norm): LayerNorm((768,), eps=1e-12, elementwise_affine=True)\n",
       "          (ffn): FFN(\n",
       "            (dropout): Dropout(p=0.1, inplace=False)\n",
       "            (lin1): Linear(in_features=768, out_features=3072, bias=True)\n",
       "            (lin2): Linear(in_features=3072, out_features=768, bias=True)\n",
       "          )\n",
       "          (output_layer_norm): LayerNorm((768,), eps=1e-12, elementwise_affine=True)\n",
       "        )\n",
       "        (4): TransformerBlock(\n",
       "          (dropout): Dropout(p=0.1, inplace=False)\n",
       "          (attention): MultiHeadSelfAttention(\n",
       "            (dropout): Dropout(p=0.1, inplace=False)\n",
       "            (q_lin): Linear(in_features=768, out_features=768, bias=True)\n",
       "            (k_lin): Linear(in_features=768, out_features=768, bias=True)\n",
       "            (v_lin): Linear(in_features=768, out_features=768, bias=True)\n",
       "            (out_lin): Linear(in_features=768, out_features=768, bias=True)\n",
       "          )\n",
       "          (sa_layer_norm): LayerNorm((768,), eps=1e-12, elementwise_affine=True)\n",
       "          (ffn): FFN(\n",
       "            (dropout): Dropout(p=0.1, inplace=False)\n",
       "            (lin1): Linear(in_features=768, out_features=3072, bias=True)\n",
       "            (lin2): Linear(in_features=3072, out_features=768, bias=True)\n",
       "          )\n",
       "          (output_layer_norm): LayerNorm((768,), eps=1e-12, elementwise_affine=True)\n",
       "        )\n",
       "        (5): TransformerBlock(\n",
       "          (dropout): Dropout(p=0.1, inplace=False)\n",
       "          (attention): MultiHeadSelfAttention(\n",
       "            (dropout): Dropout(p=0.1, inplace=False)\n",
       "            (q_lin): Linear(in_features=768, out_features=768, bias=True)\n",
       "            (k_lin): Linear(in_features=768, out_features=768, bias=True)\n",
       "            (v_lin): Linear(in_features=768, out_features=768, bias=True)\n",
       "            (out_lin): Linear(in_features=768, out_features=768, bias=True)\n",
       "          )\n",
       "          (sa_layer_norm): LayerNorm((768,), eps=1e-12, elementwise_affine=True)\n",
       "          (ffn): FFN(\n",
       "            (dropout): Dropout(p=0.1, inplace=False)\n",
       "            (lin1): Linear(in_features=768, out_features=3072, bias=True)\n",
       "            (lin2): Linear(in_features=3072, out_features=768, bias=True)\n",
       "          )\n",
       "          (output_layer_norm): LayerNorm((768,), eps=1e-12, elementwise_affine=True)\n",
       "        )\n",
       "      )\n",
       "    )\n",
       "  )\n",
       "  (pre_classifier): Linear(in_features=768, out_features=768, bias=True)\n",
       "  (classifier): Linear(in_features=768, out_features=5, bias=True)\n",
       "  (dropout): Dropout(p=0.2, inplace=False)\n",
       ")"
      ]
     },
     "execution_count": 19,
     "metadata": {},
     "output_type": "execute_result"
    }
   ],
   "source": [
    "model.to(device)"
   ]
  },
  {
   "cell_type": "code",
   "execution_count": 20,
   "metadata": {},
   "outputs": [],
   "source": [
    "param_optimizer = model.named_parameters()\n",
    "no_decay = ['bias', 'LayerNorm.weight']\n",
    "\n",
    "optimizer_grouped_parameters = [{'params':\n",
    "                                 [p for n, p in param_optimizer\n",
    "                                  if not any(nd in n for nd in no_decay)],\n",
    "                                 'weight_decay': 0.00},\n",
    "                                {'params':\n",
    "                                 [p for n, p in param_optimizer\n",
    "                                  if any(nd in n for nd in no_decay)],\n",
    "                                 'weight_decay': 0.0}]\n",
    "optimizer = AdamW(optimizer_grouped_parameters, lr=learning_rate, correct_bias=False)\n",
    "\n",
    "num_warmup_steps = int(num_training_steps * 0.1)\n",
    "scheduler = get_linear_schedule_with_warmup(optimizer,\n",
    "                                            num_warmup_steps=num_warmup_steps,\n",
    "                                            num_training_steps=num_training_steps)"
   ]
  },
  {
   "cell_type": "code",
   "execution_count": 21,
   "metadata": {},
   "outputs": [],
   "source": [
    "global_step = 0\n",
    "nb_tr_steps = 0\n",
    "tr_loss = 0\n",
    "train_loss_set = []\n",
    "model.zero_grad()"
   ]
  },
  {
   "cell_type": "code",
   "execution_count": 23,
   "metadata": {},
   "outputs": [
    {
     "data": {
      "application/vnd.jupyter.widget-view+json": {
       "model_id": "2808ae76c61f49e2a9d8583813b3af1a",
       "version_major": 2,
       "version_minor": 0
      },
      "text/plain": [
       "HBox(children=(FloatProgress(value=0.0, description='Epoch', max=4.0, style=ProgressStyle(description_width='i…"
      ]
     },
     "metadata": {},
     "output_type": "display_data"
    },
    {
     "data": {
      "application/vnd.jupyter.widget-view+json": {
       "model_id": "bd8c5106f2ba4b2280ee6985a7f00c7b",
       "version_major": 2,
       "version_minor": 0
      },
      "text/plain": [
       "HBox(children=(FloatProgress(value=0.0, description='Iteration', max=104.0, style=ProgressStyle(description_wi…"
      ]
     },
     "metadata": {},
     "output_type": "display_data"
    },
    {
     "name": "stdout",
     "output_type": "stream",
     "text": [
      "0.795290\n"
     ]
    },
    {
     "data": {
      "application/vnd.jupyter.widget-view+json": {
       "model_id": "9190ffa5be84465eb67a5cb1e85ab490",
       "version_major": 2,
       "version_minor": 0
      },
      "text/plain": [
       "HBox(children=(FloatProgress(value=0.0, description='Iteration', max=104.0, style=ProgressStyle(description_wi…"
      ]
     },
     "metadata": {},
     "output_type": "display_data"
    },
    {
     "name": "stdout",
     "output_type": "stream",
     "text": [
      "0.093327\n"
     ]
    },
    {
     "data": {
      "application/vnd.jupyter.widget-view+json": {
       "model_id": "f974fad23d6f4e779cc908bd45473058",
       "version_major": 2,
       "version_minor": 0
      },
      "text/plain": [
       "HBox(children=(FloatProgress(value=0.0, description='Iteration', max=104.0, style=ProgressStyle(description_wi…"
      ]
     },
     "metadata": {},
     "output_type": "display_data"
    },
    {
     "name": "stdout",
     "output_type": "stream",
     "text": [
      "0.007423\n"
     ]
    },
    {
     "data": {
      "application/vnd.jupyter.widget-view+json": {
       "model_id": "c7870189a5ee481d8548bb567355d285",
       "version_major": 2,
       "version_minor": 0
      },
      "text/plain": [
       "HBox(children=(FloatProgress(value=0.0, description='Iteration', max=104.0, style=ProgressStyle(description_wi…"
      ]
     },
     "metadata": {},
     "output_type": "display_data"
    },
    {
     "name": "stdout",
     "output_type": "stream",
     "text": [
      "0.032561"
     ]
    },
    {
     "name": "stderr",
     "output_type": "stream",
     "text": [
      "2020-01-10 13:07:19.183 | INFO     | __main__:<module>:44 - ******* END OF TRAINING ******\n",
      "2020-01-10 13:07:19.183 | INFO     | __main__:<module>:45 - Train loss: 0.059022492138095774\n"
     ]
    },
    {
     "name": "stdout",
     "output_type": "stream",
     "text": [
      "0.021451\n",
      "\n"
     ]
    }
   ],
   "source": [
    "logger.info(\"***** Running training...\")\n",
    "logger.info(f\"  Num examples = {len(train_data)}\")\n",
    "logger.info(f\"  Batch size = {train_batch_size}\")\n",
    "logger.info(f\"  Num steps = {num_training_steps}\")\n",
    "for _ in trange(int(num_train_epochs), desc=\"Epoch\"):\n",
    "\n",
    "    # Tracking variables\n",
    "    tr_loss = 0\n",
    "    nb_tr_examples, nb_tr_steps = 0, 0\n",
    "\n",
    "    # Iterating through batches\n",
    "    for step, batch in enumerate(tqdm(train_dataloader, desc=\"Iteration\")):\n",
    "        # Set our model to training mode (as opposed to evaluation mode)\n",
    "        model.train()\n",
    "        batch = tuple(t.to(device) for t in batch)\n",
    "        inputs = {'input_ids':      batch[0],\n",
    "                  'attention_mask': batch[1],\n",
    "                  'labels':         batch[3]}\\\n",
    "\n",
    "        if model_type != 'distilbert':\n",
    "            inputs['token_type_ids'] = batch[2] if model_type in ['bert', 'xlnet'] else None\n",
    "\n",
    "        outputs = model(**inputs)\n",
    "        loss = outputs[0]\n",
    "        train_loss_set.append(loss)\n",
    "\n",
    "        if gradient_accumulation_steps > 1:\n",
    "            loss = loss / gradient_accumulation_steps\n",
    "\n",
    "        \n",
    "        \n",
    "        loss.backward()\n",
    "        # Update tracking variables\n",
    "        tr_loss += loss.item()\n",
    "        nb_tr_examples += inputs[\"input_ids\"].size(0)\n",
    "        nb_tr_steps += 1\n",
    "\n",
    "        if (step + 1) % gradient_accumulation_steps == 0:\n",
    "            torch.nn.utils.clip_grad_norm_(model.parameters(), 1)\n",
    "\n",
    "            print(\"\\r%f\" % loss, end='')\n",
    "\n",
    "            optimizer.step()\n",
    "            scheduler.step()\n",
    "            model.zero_grad()\n",
    "            global_step += 1\n",
    "\n",
    "logger.info(\"******* END OF TRAINING ******\")\n",
    "logger.info(f\"Train loss: {tr_loss/nb_tr_steps}\")"
   ]
  },
  {
   "cell_type": "markdown",
   "metadata": {},
   "source": [
    "### Evaluation of the Dev Set"
   ]
  },
  {
   "cell_type": "code",
   "execution_count": 24,
   "metadata": {},
   "outputs": [],
   "source": [
    "# Evaluation\n",
    "dev_examples = processor.get_dev_examples(model_input_folder)\n",
    "examples = [(example, label_map, max_seq_length, tokenizer, output_mode, pad_on_the_left,\n",
    "                     pad_token, pad_token_segment_id, mask_padding_with_zero)\n",
    "                    for example in dev_examples]"
   ]
  },
  {
   "cell_type": "code",
   "execution_count": 25,
   "metadata": {},
   "outputs": [
    {
     "data": {
      "application/vnd.jupyter.widget-view+json": {
       "model_id": "2f64c4820bed4924b2794c4d4b1a70a6",
       "version_major": 2,
       "version_minor": 0
      },
      "text/plain": [
       "HBox(children=(FloatProgress(value=0.0, max=367.0), HTML(value='')))"
      ]
     },
     "metadata": {},
     "output_type": "display_data"
    },
    {
     "name": "stdout",
     "output_type": "stream",
     "text": [
      "\n"
     ]
    }
   ],
   "source": [
    "with Pool(processor_count) as proc:\n",
    "    features = list(tqdm(proc.imap(convert_example_to_feature, examples), total=len(dev_examples)))"
   ]
  },
  {
   "cell_type": "code",
   "execution_count": 26,
   "metadata": {},
   "outputs": [],
   "source": [
    "dev_data = convert_to_tensors(features)\n",
    "dev_sampler = SequentialSampler(dev_data)\n",
    "dev_dataloader = DataLoader(dev_data, sampler=dev_sampler, batch_size=train_batch_size)"
   ]
  },
  {
   "cell_type": "code",
   "execution_count": 27,
   "metadata": {},
   "outputs": [],
   "source": [
    "def accuracy(preds, labels):\n",
    "    \"\"\"Calculate the accuracy of our predictions vs labels.\"\"\"\n",
    "    return (preds == labels).mean()\n",
    "\n",
    "def compute_metrics(preds, labels):\n",
    "    mcc = round(matthews_corrcoef(labels, preds), 4)\n",
    "    f1 = round(f1_score(labels, preds, average='macro'), 4)\n",
    "    acc = round(accuracy(preds, labels), 4)\n",
    "\n",
    "    metrics = {'metrics':{'acc': acc, 'mcc': mcc, 'f1': f1}}\n",
    "    return metrics"
   ]
  },
  {
   "cell_type": "code",
   "execution_count": 28,
   "metadata": {},
   "outputs": [
    {
     "name": "stderr",
     "output_type": "stream",
     "text": [
      "2020-01-10 13:09:44.808 | INFO     | __main__:<module>:8 - ***** Evaluating...*****\n",
      "2020-01-10 13:09:44.809 | INFO     | __main__:<module>:9 -   Num examples = 367\n",
      "2020-01-10 13:09:44.810 | INFO     | __main__:<module>:10 -   Batch size = 32\n"
     ]
    },
    {
     "data": {
      "application/vnd.jupyter.widget-view+json": {
       "model_id": "f8a633d0817c447aaeec0fd08dae5e32",
       "version_major": 2,
       "version_minor": 0
      },
      "text/plain": [
       "HBox(children=(FloatProgress(value=0.0, description='Evaluating...', max=12.0, style=ProgressStyle(description…"
      ]
     },
     "metadata": {},
     "output_type": "display_data"
    },
    {
     "name": "stderr",
     "output_type": "stream",
     "text": [
      "2020-01-10 13:09:46.453 | INFO     | __main__:<module>:45 - Outputting results...\n"
     ]
    },
    {
     "name": "stdout",
     "output_type": "stream",
     "text": [
      "\n",
      "{'metrics': {'acc': 0.9237, 'mcc': 0.8948, 'f1': 0.9037, 'eval_loss': 0.2568}}\n"
     ]
    }
   ],
   "source": [
    "# Initialize variables\n",
    "eval_loss = 0.0\n",
    "nb_eval_steps = 0\n",
    "preds = None\n",
    "results = {}\n",
    "out_label_ids = None\n",
    "\n",
    "logger.info(f\"***** Evaluating...*****\")\n",
    "logger.info(f\"  Num examples = {len(dev_data)}\")\n",
    "logger.info(f\"  Batch size = {train_batch_size}\")\n",
    "\n",
    "# Evaluate dev \n",
    "for batch in tqdm(dev_dataloader, desc=\"Evaluating...\"):\n",
    "    model.eval()\n",
    "    # Add batch to GPU\n",
    "    batch = tuple(t.to(device) for t in batch)\n",
    "\n",
    "    with torch.no_grad():\n",
    "        inputs = {'input_ids':      batch[0],\n",
    "                  'attention_mask': batch[1],\n",
    "                  'labels':         batch[3]}\n",
    "        if model_type != 'distilbert':\n",
    "            inputs['token_type_ids'] = batch[2] if model_type in ['bert', 'xlnet'] else None\n",
    "        # Forward pass, calculate logit predictions\n",
    "        outputs = model(**inputs)\n",
    "        tmp_eval_loss, logits = outputs[:2]\n",
    "        eval_loss += tmp_eval_loss.mean().item()\n",
    "    nb_eval_steps += 1\n",
    "\n",
    "    if preds is None:\n",
    "        preds = logits.detach().cpu().numpy()\n",
    "        maxes = np.max(preds, axis=1)\n",
    "        out_label_ids = inputs['labels'].detach().cpu().numpy()\n",
    "    else:\n",
    "        batch_preds = logits.detach().cpu().numpy()\n",
    "        maxes = np.append(maxes, np.max(batch_preds, axis=1), axis=0)\n",
    "        preds = np.append(preds, batch_preds, axis=0)\n",
    "        out_label_ids = np.append(out_label_ids, inputs['labels'].detach().cpu().numpy(), axis=0)\n",
    "\n",
    "preds = np.argmax(preds, axis=1)\n",
    "metrics = compute_metrics(preds, out_label_ids)\n",
    "eval_loss = round(eval_loss / nb_eval_steps, 4)\n",
    "metrics['metrics'].update({\"eval_loss\": eval_loss})\n",
    "results.update(metrics)\n",
    "logger.info(f\"Outputting results...\")\n",
    "print(results)"
   ]
  },
  {
   "cell_type": "code",
   "execution_count": 29,
   "metadata": {},
   "outputs": [
    {
     "name": "stdout",
     "output_type": "stream",
     "text": [
      "Overall Accurcy: 92.37\n",
      "There are 367 records in the Test Set\n",
      "Of those 339 are correctly assigned\n"
     ]
    }
   ],
   "source": [
    "cm = confusion_matrix(out_label_ids, preds)\n",
    "print(f'Overall Accurcy: {round(cm.diagonal().sum()*100/len(out_label_ids),2)}')\n",
    "print(f'There are {len(out_label_ids)} records in the Test Set')\n",
    "print(f'Of those {cm.diagonal().sum()} are correctly assigned')"
   ]
  },
  {
   "cell_type": "code",
   "execution_count": 30,
   "metadata": {},
   "outputs": [
    {
     "data": {
      "text/plain": [
       "<matplotlib.axes._subplots.AxesSubplot at 0x7f69d9447910>"
      ]
     },
     "execution_count": 30,
     "metadata": {},
     "output_type": "execute_result"
    },
    {
     "data": {
      "image/png": "[encoded data removed]",
      "text/plain": [
       "<Figure size 864x720 with 2 Axes>"
      ]
     },
     "metadata": {
      "needs_background": "light"
     },
     "output_type": "display_data"
    }
   ],
   "source": [
    "import seaborn as sn\n",
    "import pandas as pd\n",
    "import matplotlib.pyplot as plt\n",
    "cm = cm.astype('float') / cm.sum(axis=1)[:, np.newaxis]\n",
    "df_cm = pd.DataFrame(cm, index=labels, columns=labels)\n",
    "plt.figure(figsize = (12,10))\n",
    "sn.set(font_scale=1.4)#for label size\n",
    "sn.heatmap(df_cm, annot=True,annot_kws={\"size\": 16})"
   ]
  },
  {
   "cell_type": "code",
   "execution_count": 31,
   "metadata": {},
   "outputs": [
    {
     "data": {
      "image/png": "[encoded data removed]",
      "text/plain": [
       "<Figure size 864x720 with 1 Axes>"
      ]
     },
     "metadata": {},
     "output_type": "display_data"
    }
   ],
   "source": [
    "plt.figure(figsize=(12,10))\n",
    "_ = plt.hist(maxes, bins='auto')  # arguments are passed to np.histogram\n",
    "plt.title(\"Distribution of Logit Scores\")\n",
    "plt.show()\n"
   ]
  },
  {
   "cell_type": "markdown",
   "metadata": {},
   "source": [
    "### Predicting Unlabeled Cases"
   ]
  },
  {
   "cell_type": "code",
   "execution_count": 32,
   "metadata": {},
   "outputs": [],
   "source": [
    "test_examples = processor.get_test_examples(model_input_folder)\n",
    "examples = [(example, label_map, max_seq_length, tokenizer, output_mode, pad_on_the_left,\n",
    "                     pad_token, pad_token_segment_id, mask_padding_with_zero)\n",
    "                    for example in test_examples]"
   ]
  },
  {
   "cell_type": "code",
   "execution_count": 33,
   "metadata": {},
   "outputs": [
    {
     "data": {
      "application/vnd.jupyter.widget-view+json": {
       "model_id": "4cddbfab104948a68c018d25adfb06d8",
       "version_major": 2,
       "version_minor": 0
      },
      "text/plain": [
       "HBox(children=(FloatProgress(value=0.0, max=159764.0), HTML(value='')))"
      ]
     },
     "metadata": {},
     "output_type": "display_data"
    },
    {
     "name": "stdout",
     "output_type": "stream",
     "text": [
      "\n"
     ]
    }
   ],
   "source": [
    "with Pool(processor_count) as proc:\n",
    "    features = list(tqdm(proc.imap(convert_example_to_feature, examples), total=len(test_examples)))"
   ]
  },
  {
   "cell_type": "code",
   "execution_count": 41,
   "metadata": {},
   "outputs": [],
   "source": [
    "test_data = convert_to_tensors(features, 'test')\n",
    "test_sampler = SequentialSampler(test_data)\n",
    "test_dataloader = DataLoader(test_data, sampler=test_sampler, batch_size=256)"
   ]
  },
  {
   "cell_type": "code",
   "execution_count": 49,
   "metadata": {},
   "outputs": [
    {
     "name": "stderr",
     "output_type": "stream",
     "text": [
      "2020-01-10 14:16:58.063 | INFO     | __main__:<module>:7 - ***** Evaluating...*****\n",
      "2020-01-10 14:16:58.064 | INFO     | __main__:<module>:8 -   Num examples = 159764\n",
      "2020-01-10 14:16:58.065 | INFO     | __main__:<module>:9 -   Batch size = 256\n"
     ]
    },
    {
     "data": {
      "application/vnd.jupyter.widget-view+json": {
       "model_id": "bd0275fbb50c4f76bce968d43113850f",
       "version_major": 2,
       "version_minor": 0
      },
      "text/plain": [
       "HBox(children=(FloatProgress(value=0.0, description='Evaluating...', max=625.0, style=ProgressStyle(descriptio…"
      ]
     },
     "metadata": {},
     "output_type": "display_data"
    },
    {
     "name": "stdout",
     "output_type": "stream",
     "text": [
      "\n"
     ]
    }
   ],
   "source": [
    "# Initialize variables\n",
    "nb_eval_steps = 0\n",
    "preds = None\n",
    "results = {}\n",
    "out_label_ids = None\n",
    "\n",
    "logger.info(f\"***** Evaluating...*****\")\n",
    "logger.info(f\"  Num examples = {len(test_data)}\")\n",
    "logger.info(f\"  Batch size = {256}\")\n",
    "\n",
    "# Evaluate dev \n",
    "for batch in tqdm(test_dataloader, desc=\"Evaluating...\"):\n",
    "    model.eval()\n",
    "    # Add batch to GPU\n",
    "    batch = tuple(t.to(device) for t in batch)\n",
    "\n",
    "    with torch.no_grad():\n",
    "        inputs = {'input_ids':      batch[0],\n",
    "                  'attention_mask': batch[1]}\n",
    "        if model_type != 'distilbert':\n",
    "            inputs['token_type_ids'] = batch[2] if model_type in ['bert', 'xlnet'] else None\n",
    "        # Forward pass, calculate logit predictions\n",
    "        outputs = model(**inputs)\n",
    "        logits = outputs[0]\n",
    "        \n",
    "    nb_eval_steps += 1\n",
    "\n",
    "    if preds is None:\n",
    "        preds = logits.detach().cpu().numpy()\n",
    "    else:\n",
    "        preds = np.append(preds, logits.detach().cpu().numpy(), axis=0)\n"
   ]
  },
  {
   "cell_type": "code",
   "execution_count": 50,
   "metadata": {},
   "outputs": [],
   "source": [
    "y_pred = np.argmax(preds, axis=1)"
   ]
  },
  {
   "cell_type": "code",
   "execution_count": 52,
   "metadata": {},
   "outputs": [
    {
     "data": {
      "text/plain": [
       "array([4, 2, 2, 2])"
      ]
     },
     "execution_count": 52,
     "metadata": {},
     "output_type": "execute_result"
    }
   ],
   "source": []
  },
  {
   "cell_type": "code",
   "execution_count": 53,
   "metadata": {},
   "outputs": [
    {
     "data": {
      "text/plain": [
       "array([[-0.92500293, -0.28698632, -0.8086451 , -1.8950398 ,  2.995178  ],\n",
       "       [-1.1357877 , -1.4496826 ,  4.582952  , -0.46648246, -1.518142  ],\n",
       "       [ 0.91389585, -0.33213636,  1.403774  , -1.5004807 , -0.9216914 ],\n",
       "       [-0.84801656, -1.6984174 ,  4.683112  , -0.31364167, -1.5921848 ]],\n",
       "      dtype=float32)"
      ]
     },
     "execution_count": 53,
     "metadata": {},
     "output_type": "execute_result"
    }
   ],
   "source": [
    "preds[:4]"
   ]
  },
  {
   "cell_type": "code",
   "execution_count": 60,
   "metadata": {},
   "outputs": [],
   "source": [
    "df = pd.read_csv(model_input_folder / 'all_data.csv')"
   ]
  },
  {
   "cell_type": "code",
   "execution_count": 65,
   "metadata": {},
   "outputs": [],
   "source": [
    "# Label Index\n",
    "label_ix = {v:k for k,v in label_map.items()}"
   ]
  },
  {
   "cell_type": "code",
   "execution_count": 66,
   "metadata": {},
   "outputs": [],
   "source": [
    "df.loc[df.kw_label.isna(), 'y_pred'] = [label_ix[i]  for i in y_pred]"
   ]
  },
  {
   "cell_type": "code",
   "execution_count": 70,
   "metadata": {},
   "outputs": [
    {
     "data": {
      "text/plain": [
       "True"
      ]
     },
     "execution_count": 70,
     "metadata": {},
     "output_type": "execute_result"
    }
   ],
   "source": [
    "len(train_data) + len(dev_data) == df[~df.kw_label.isna()].shape[0]"
   ]
  },
  {
   "cell_type": "code",
   "execution_count": 71,
   "metadata": {},
   "outputs": [
    {
     "data": {
      "text/plain": [
       "True"
      ]
     },
     "execution_count": 71,
     "metadata": {},
     "output_type": "execute_result"
    }
   ],
   "source": [
    "len(test_data) == df[df.kw_label.isna()].shape[0]"
   ]
  },
  {
   "cell_type": "code",
   "execution_count": 74,
   "metadata": {},
   "outputs": [],
   "source": [
    "# Convert Logits to Probabilities with Softmax\n",
    "m = nn.Softmax(dim=-1)\n",
    "dat = torch.Tensor(preds)\n",
    "probs  = m(dat)\n",
    "probs = probs.numpy()"
   ]
  },
  {
   "cell_type": "code",
   "execution_count": 76,
   "metadata": {},
   "outputs": [],
   "source": [
    "df.loc[df.kw_label.isna(),'proba'] = np.max(probs, axis=1)"
   ]
  },
  {
   "cell_type": "code",
   "execution_count": 77,
   "metadata": {},
   "outputs": [
    {
     "data": {
      "text/html": [
       "<div>\n",
       "<style scoped>\n",
       "    .dataframe tbody tr th:only-of-type {\n",
       "        vertical-align: middle;\n",
       "    }\n",
       "\n",
       "    .dataframe tbody tr th {\n",
       "        vertical-align: top;\n",
       "    }\n",
       "\n",
       "    .dataframe thead th {\n",
       "        text-align: right;\n",
       "    }\n",
       "</style>\n",
       "<table border=\"1\" class=\"dataframe\">\n",
       "  <thead>\n",
       "    <tr style=\"text-align: right;\">\n",
       "      <th></th>\n",
       "      <th>url</th>\n",
       "      <th>dom_cat</th>\n",
       "      <th>title</th>\n",
       "      <th>description</th>\n",
       "      <th>keywords</th>\n",
       "      <th>news_keywords</th>\n",
       "      <th>text</th>\n",
       "      <th>kw_label</th>\n",
       "      <th>y_pred</th>\n",
       "      <th>proba</th>\n",
       "    </tr>\n",
       "  </thead>\n",
       "  <tbody>\n",
       "    <tr>\n",
       "      <th>0</th>\n",
       "      <td>https://chicago.cbslocal.com/2019/12/18/man-st...</td>\n",
       "      <td>sports</td>\n",
       "      <td>Man Stabbed After His Granddaughter And Three ...</td>\n",
       "      <td>A man's granddaughter is one of four teens acc...</td>\n",
       "      <td>grandfather, granddaughter, teen, teens, home ...</td>\n",
       "      <td>grandfather, granddaughter, teen, teens, home ...</td>\n",
       "      <td>Man Stabbed After His Granddaughter And Three ...</td>\n",
       "      <td>NaN</td>\n",
       "      <td>entertainment</td>\n",
       "      <td>0.919803</td>\n",
       "    </tr>\n",
       "    <tr>\n",
       "      <th>1</th>\n",
       "      <td>http://www.releasewire.com/press-releases/rele...</td>\n",
       "      <td>news</td>\n",
       "      <td>Commence Industrial CRM Achieves Sales Optimiz...</td>\n",
       "      <td>NaN</td>\n",
       "      <td>NaN</td>\n",
       "      <td>NaN</td>\n",
       "      <td>Commence Industrial CRM Achieves Sales Optimiz...</td>\n",
       "      <td>NaN</td>\n",
       "      <td>business_economy</td>\n",
       "      <td>0.985866</td>\n",
       "    </tr>\n",
       "    <tr>\n",
       "      <th>2</th>\n",
       "      <td>https://www.kark.com/news/national-news/1-dead...</td>\n",
       "      <td>news</td>\n",
       "      <td>1 dead, 2 injured in Oregon shopping center st...</td>\n",
       "      <td>Multiple people were stabbed at the Murray Hil...</td>\n",
       "      <td>NaN</td>\n",
       "      <td>NaN</td>\n",
       "      <td>1 dead, 2 injured in Oregon shopping center st...</td>\n",
       "      <td>NaN</td>\n",
       "      <td>business_economy</td>\n",
       "      <td>0.515074</td>\n",
       "    </tr>\n",
       "    <tr>\n",
       "      <th>3</th>\n",
       "      <td>https://www.ii.co.uk/etfs/sg-wti-x2-daily-long...</td>\n",
       "      <td>financial_news</td>\n",
       "      <td>LSE:SG30 ETF Share Price | SG WTI X2 Daily Lon...</td>\n",
       "      <td>Real-time share price updates and latest news ...</td>\n",
       "      <td>NaN</td>\n",
       "      <td>NaN</td>\n",
       "      <td>LSE:SG30 ETF Share Price | SG WTI X2 Daily Lon...</td>\n",
       "      <td>NaN</td>\n",
       "      <td>business_economy</td>\n",
       "      <td>0.985905</td>\n",
       "    </tr>\n",
       "    <tr>\n",
       "      <th>4</th>\n",
       "      <td>http://www.peicanada.com/island_deaths/frances...</td>\n",
       "      <td>news</td>\n",
       "      <td>Frances Salsman | Island Deaths | peicanada.com</td>\n",
       "      <td>SALSMAN, Frances (Fran) Townsend At the Prince...</td>\n",
       "      <td>island_deaths, death_notices</td>\n",
       "      <td>island_deaths, death_notices</td>\n",
       "      <td>Frances Salsman | Island Deaths | peicanada.co...</td>\n",
       "      <td>NaN</td>\n",
       "      <td>sports</td>\n",
       "      <td>0.429380</td>\n",
       "    </tr>\n",
       "  </tbody>\n",
       "</table>\n",
       "</div>"
      ],
      "text/plain": [
       "                                                 url         dom_cat  \\\n",
       "0  https://chicago.cbslocal.com/2019/12/18/man-st...          sports   \n",
       "1  http://www.releasewire.com/press-releases/rele...            news   \n",
       "2  https://www.kark.com/news/national-news/1-dead...            news   \n",
       "3  https://www.ii.co.uk/etfs/sg-wti-x2-daily-long...  financial_news   \n",
       "4  http://www.peicanada.com/island_deaths/frances...            news   \n",
       "\n",
       "                                               title  \\\n",
       "0  Man Stabbed After His Granddaughter And Three ...   \n",
       "1  Commence Industrial CRM Achieves Sales Optimiz...   \n",
       "2  1 dead, 2 injured in Oregon shopping center st...   \n",
       "3  LSE:SG30 ETF Share Price | SG WTI X2 Daily Lon...   \n",
       "4    Frances Salsman | Island Deaths | peicanada.com   \n",
       "\n",
       "                                         description  \\\n",
       "0  A man's granddaughter is one of four teens acc...   \n",
       "1                                                NaN   \n",
       "2  Multiple people were stabbed at the Murray Hil...   \n",
       "3  Real-time share price updates and latest news ...   \n",
       "4  SALSMAN, Frances (Fran) Townsend At the Prince...   \n",
       "\n",
       "                                            keywords  \\\n",
       "0  grandfather, granddaughter, teen, teens, home ...   \n",
       "1                                                NaN   \n",
       "2                                                NaN   \n",
       "3                                                NaN   \n",
       "4                       island_deaths, death_notices   \n",
       "\n",
       "                                       news_keywords  \\\n",
       "0  grandfather, granddaughter, teen, teens, home ...   \n",
       "1                                                NaN   \n",
       "2                                                NaN   \n",
       "3                                                NaN   \n",
       "4                       island_deaths, death_notices   \n",
       "\n",
       "                                                text kw_label  \\\n",
       "0  Man Stabbed After His Granddaughter And Three ...      NaN   \n",
       "1  Commence Industrial CRM Achieves Sales Optimiz...      NaN   \n",
       "2  1 dead, 2 injured in Oregon shopping center st...      NaN   \n",
       "3  LSE:SG30 ETF Share Price | SG WTI X2 Daily Lon...      NaN   \n",
       "4  Frances Salsman | Island Deaths | peicanada.co...      NaN   \n",
       "\n",
       "             y_pred     proba  \n",
       "0     entertainment  0.919803  \n",
       "1  business_economy  0.985866  \n",
       "2  business_economy  0.515074  \n",
       "3  business_economy  0.985905  \n",
       "4            sports  0.429380  "
      ]
     },
     "execution_count": 77,
     "metadata": {},
     "output_type": "execute_result"
    }
   ],
   "source": [
    "df.head()"
   ]
  },
  {
   "cell_type": "code",
   "execution_count": 78,
   "metadata": {},
   "outputs": [
    {
     "data": {
      "image/png": "[encoded data removed]",
      "text/plain": [
       "<Figure size 864x720 with 1 Axes>"
      ]
     },
     "metadata": {},
     "output_type": "display_data"
    }
   ],
   "source": [
    "plt.figure(figsize=(12,10))\n",
    "_ = plt.hist(np.max(probs, axis=1), bins='auto')  # arguments are passed to np.histogram\n",
    "plt.title(\"Distribution of Logit Scores\")\n",
    "plt.show()\n"
   ]
  },
  {
   "cell_type": "code",
   "execution_count": 81,
   "metadata": {},
   "outputs": [
    {
     "data": {
      "text/plain": [
       "0.65"
      ]
     },
     "execution_count": 81,
     "metadata": {},
     "output_type": "execute_result"
    }
   ],
   "source": [
    "np.floor(df.proba.quantile(0.2)*100)/100"
   ]
  },
  {
   "cell_type": "code",
   "execution_count": 88,
   "metadata": {},
   "outputs": [
    {
     "data": {
      "text/plain": [
       "0.558392378758669"
      ]
     },
     "execution_count": 88,
     "metadata": {},
     "output_type": "execute_result"
    }
   ],
   "source": [
    "len(df[(df.kw_label.isna()) & (df.proba>=0.9)]) / len(df[df.kw_label.isna()])"
   ]
  },
  {
   "cell_type": "code",
   "execution_count": 97,
   "metadata": {},
   "outputs": [
    {
     "data": {
      "text/plain": [
       "array(['entertainment', 'business_economy', 'sports', 'politics', 'world',\n",
       "       nan], dtype=object)"
      ]
     },
     "execution_count": 97,
     "metadata": {},
     "output_type": "execute_result"
    }
   ],
   "source": [
    "df.y_pred.unique()"
   ]
  },
  {
   "cell_type": "code",
   "execution_count": 101,
   "metadata": {},
   "outputs": [
    {
     "name": "stdout",
     "output_type": "stream",
     "text": [
      "entertainment\n",
      "----------------------------------------------------------------------------------------------------\n",
      "A Christmas Miracle Play with Nataliya Molsbee - One News Page VIDEO Global One News PageCelebrating 10 Years of Trusted News Discovery HOMEWORLDSPORTSPOLITICSBUSINESSPEOPLESCITECHTop Stories • Video • Live TVMovie ReviewsMost PopularFront Page NewsLatest One News Page > News Videos > A Christmas Miracle Play with Nataliya Molsbee A Christmas Miracle Play with Nataliya Molsbee Video Credit: WXXV - Published 10 hours ago< > Embed A Christmas Miracle Play with Nataliya Molsbee 0sharesShareTweetSavePostSend A Christmas Miracle Play with Nataliya Molsbee- it's not too late to catch a- christmas miracle this- holiday season! - natliya molsbee joins us now in- our studio to tell us all about- how she and her students are- bringing a christmas- miracle to life right here in - south mississippi!- - wxxv >> the students associate of participating in this concert. Can you tell me all about. Yes, there wouldn't have interested in a lot of them beginners ... and we also have announced ... students already but is that in different, ... sessions ... and they perform all over the coast ... and a fine visa. For instance second stop for me so i'll ... would just have a chance to see different levels of kid you kno they can ... someday play piano sound. They sing and play ... play at the same time they were talking about this this beautiful design is aggressive for the cover of the concert in october because they guess ... certainly You Might Like Tweets about thisOldGregg      RT @EdGambleComedy: It   s a Christmas miracle! You can now unwrap your surprise gift early, a new @OffMenuOfficial with the brilliant @joely    2 hours ago    Darcy     @AsheWolfix I ask to play Royale High with you on Christmas Eve :) 4 hours agoKeep the Peace It appears a naughty elf has been causing some issues with version 0.23 - but don't worry - our developer is workin    https://t.co/I2acb6cXZd 10 hours agomyisland          The weather app says snow on Christmas Day. Omg it would be a Xmas day miracle if instead of going to dinner with t    https://t.co/UWzH1QK3bJ 11 hours agoJamey Baskow RT @JameyBaskow: ICYMI: TK will return tonight folks, and play on a line with G, and Coots. The #Flyers have received a Christmas Miracle.    12 hours agoJamey Baskow ICYMI: TK will return tonight folks, and play on a line with G, and Coots. The #Flyers have received a Christmas Mi    https://t.co/USHsZphI3L 17 hours agoFlyersNittyGritty RT @FlyersKnitty: TK will return tonight folks, and play on a line with\n",
      "Top 19 Media Trends of 2019: Writers’ Guild vs. Talent Agencies – Variety   Continue to Variety SKIP AD You will be redirected back to your article in seconds United States Asia Global Instagram Twitter YouTube Facebook Read Next: Third Annual Variety500 - Our Selection Process Variety Intelligence Platform Got a News Tip? Newsletters Subscribe to Variety Login Variety.com Film TV Music Tech Theater Real Estate Awards Video Lifestyle V500 Subscribe Today! Login Variety Intelligence Platform HOME Biz News December 18, 2019 1:39PM PTTop 19 Media Trends of 2019: Writers’ Guild vs. Talent Agencies By Kevin Tran Kevin Tran Kevin's Most Recent Stories Top 19 Media Trends of 2019: Writers’ Guild vs. Talent Agencies Top 19 Media Trends of 2019: Streamers Strive for Oscars Survey: Streaming’s Film Boom Won’t Sap Theater Attendance View All Facebook Twitter Reddit Email Show more sharing options LinkedIn WhatsApp Print Pin It Tumblr CREDIT: sonia pulido for Variety Private equity (PE) firms are tightening their grip on the major Hollywood talent agencies. Crestview Partners, a PE firm managing about $9 billion in assets, on Monday spent nearly $150 million on a 33% stake in ICM Partners, one of the four major Hollywood talent agencies (WME, CAA, and UTA are the other three). With the investment, at least $3.3 billion has now been invested (not equally) across WME, CAA, UTA, and ICM. The move is likely causing some worries among Hollywood’s writers, the labor union of which released a report in March detailing how PE investment in top agencies has pushed those firms “even further away from business practices that serve the interests of their clients.” Private equity ownership’s most significant effect on top agencies has been the growing agency focus on buying and making content, according to the WGA. WME’s Endeavor Content has financed and/or sold over 100 shows and films since 2017, for example. The WGA argues that these practices create a conflict of interest as it opens up opportunities for agencies to be both employing and representing their clients. ICM CEO Chris Silbermann pushed back at the idea that the cash influx would push ICM into content production, though time will tell if the company stays true to its mission of focusing on representation. In the meantime, the Crestview-ICM deal is likely to accelerate the expansion of the talent agency biz globally. Deadline last week reported rumblings of a possible WME expansion into London, for example. And ICM is\n",
      "Billie Eilish on receiving approval from Dave Grohl and Billie Joe Armstrong: \"That shit is crazy\" Music Music News Opinion Music Interviews Album Reviews Live Reviews Album Release Dates New Music Film Film News Opinion Film Interviews Film Reviews Film Release Dates TV TV News TV Interviews TV Blogs TV Photos Video The Gig Guide Birmingham Brighton Bristol Cardiff Glasgow Leeds London Manchester Newcastle Paris Sheffield Shop Merch NME Special Issues Ultimate Music Guides History Of Rock Radio Discount Codes NME AAA Sign in Welcome!Log into your account your username your password Forgot your password? Password recovery Recover your password your email Search Music Music News Opinion Music Interviews Album Reviews Live Reviews Album Release Dates New Music Film Film News Opinion Film Interviews Film Reviews Film Release Dates TV TV News TV Interviews TV Blogs TV Photos Video The Gig Guide Birmingham Brighton Bristol Cardiff Glasgow Leeds London Manchester Newcastle Paris Sheffield Shop Merch NME Special Issues Ultimate Music Guides History Of Rock Radio Discount Codes NME AAA Music Music News Opinion Music Interviews Album Reviews Live Reviews Album Release Dates New Music Film Film News Opinion Film Interviews Film Reviews Film Release Dates TV TV News TV Interviews TV Blogs TV Photos Video The Gig Guide Birmingham Brighton Bristol Cardiff Glasgow Leeds London Manchester Newcastle Paris Sheffield Shop Merch NME Special Issues Ultimate Music Guides History Of Rock Radio Discount Codes NME AAA News Music News Billie Eilish on receiving approval from Dave Grohl and Billie Joe Armstrong: “That shit is crazy” \"I grew up on a lot of rock and shit like that\" Nick Reilly 49 seconds ago Share Facebook Twitter Pinterest WhatsApp Dave Grohl and Billie Eilish (Getty) Billie Eilish has spoken about how Foo Fighters frontman Dave Grohl and Green Day‘s Billie Joe Armstrong have continued to be some of her biggest high-profile fans in 2019. The singer, who rose to stratospheric fame with her debut album ‘When We All Fall Asleep, Where Do We Go?’ this year, has been championed by both rock icons, with Grohl previously likening Eilish’s relationship with her fans to that of Nirvana. READ MORE: The Big Read: Billie Eilish – Album Of The Year Speaking to NME for this week’s Big Read, Eilish explained: “I grew up on a lot of rock and shit like that, so it meant a lot to hear that kind of validation from somebody like [Grohl]. Advertisement “It’s funny to meet people that I \n",
      "****************************************************************************************************\n",
      "business_economy\n",
      "----------------------------------------------------------------------------------------------------\n",
      "Snowy Day Selling | Take Me Home | Bend | The Source Weekly - Bend, Oregon Search All in Articles & Posts in Locations Login Username View Profile Edit Profile Log Out Become a Source Insider Facebook Twitter Instagram Culture News & Feature Food & Drink Outside Calendar Shop Browse Culture Picks Music Film Artwatch Culture Features Cannabis Real Estate Spotlight Advice & Fun Best Of Central Oregon Bend Nest Browse News & Feature Local News Opinion Letters to the Editor Give Guide Special Issues & Guides On Stands Browse Food & Drink Chow Beer & Drink Find Restaurants Restaurant Guide Breakfast & Lunch Guide Happy Hour Guide Happy Hour Finder Browse Outside Outside Features Natural World Scout: Visitor's Guide Browse Calendar Upcoming Events Submit Event Ticket Giveaways Browse Shop Purchase Tickets Source Perks Switch to the mobile version of this page. Tweet Pin It Email Print Favorite Saving… Share December 18, 2019 Culture   Take Me Home Snowy Day Selling Taking advantage of the winter market By Abbie and Rick Sams Spring and summer seasons are traditionally the favored time to list a home, but the winter months also offer exceptional opportunities for sellers. The benefits to selling during the off season include a chance to encounter more serious buyers and less competition from the lower inventory. Winter provides an occasion for homeowners to accentuate a home's ability to deal with cold weather, which can give buyers a warm fuzzy feeling, and it's an ideal time to appeal to buyers' financial needs. Samantha Beach, Pexels Make Way For The Serious Buyers According to the National Association of Realtors, 50% of home buyers find their homes online first, and this can be done regardless of the weather. Open houses are popular year round, but the colder, harsher weather tends to bring out only the more serious buyers. If someone's braving the freezing temps and snow, there's a good chance this person is serious about making a purchase. Lower Inventory Since the warmer months are the most popular time to list a home, the market can become crowded with an abundance of home options. Consider the basic law of supply and demand: less inventory during the wintertime makes any home on the market more desirable and enticing. Low inventory means buyers don't have the flexibility to be as picky, especially if there are timelines to meet. Winter Home Readiness Central Oregon has experienced extreme winters over the past few years and this creates hesitation in po\n",
      "Electric Heating Element Market 2020 Size, Share – Global Trends, Market Demand, Industry Analysis, Growth, Opportunities and Forecast 2025 - Irvine Observer Press \"Enter\" to skip to content Search Irvine Observer December 18, 2019Latest News Trending News Back Electric Heating Element Market 2020 Size, Share – Global Trends, Market Demand, Industry Analysis, Growth, Opportunities and Forecast 2025 By Joann Wilson on December 18, 2019 Market Reports World presents Global Electric Heating Element Market 2020 Industry research report is a detailed analysis research report on the world’s major regional market conditions, focusing on the main regions (North America, Europe and Asia-Pacific). It covers the market landscape and its growth prospects over the coming years. The report also includes a discussion of the Key Vendors operating in this Global market.This Report Focuses on the Major Drivers, Restraints, Opportunities and Threats for Key Players. It also Provides Granular Analysis of Market Share, Segmentation, Revenue Forecasts and Regional Analysis till 2025. Request a sample copy of the report –https://www.marketreportsworld.com/enquiry/request-sample/14174263 The global Electric Heating Element market was valued at million US$ in 2018 and will reach million US$ by the end of 2025, growing at a CAGR of during 2019-2025.This report focuses on Electric Heating Element volume and value at global level, regional level and company level. From a global perspective, this report represents overall Electric Heating Element market size by analyzing historical data and future prospect.Regionally, this report categorizes the production, apparent consumption, export and import of Electric Heating Element in North America, Europe, China, Japan, Southeast Asia and India.For each manufacturer covered, this report analyzes their Electric Heating Element manufacturing sites, capacity, production, ex-factory price, revenue and market share in global market. Global Electric Heating Element market 2020 research provides a basic overview of the industry including definitions, classifications, applications and industry chain structure. The Global Electric Heating Element market analysis is provided for the international markets including development trends, competitive landscape analysis, and key regions development status. Development policies and plans are discussed as well as manufacturing processes and cost structures are also analyzed. This report also states import/exp\n",
      "Immigration bonds to repatriate displaced Dorian migrants – EyeWitness News WatchILTV Live Live Home Business Sports Editorials The Insider Videos Newscasts Trending Beyond the Headlines Contact Us News Tips Advertise with us Contact us EWN Profiles Hurricane Tracker Alerts Shelters Essential Supplies Trending Now Bahamas has yet to implement necessary intl. search and rescue protocols December 18, 2019 Caribbean Development Bank Approves $US 50 million loan to support The Bahamas post Dorian December 18, 2019 Abaco food security still a major concern, says local NGO December 18, 2019 Abaconians plead with govt. to release bodies of relatives killed in Hurricane Dorian December 18, 2019 $20-$25 million for schools affected by Dorian December 18, 2019 Immigration bonds to repatriate displaced Dorian migrants LocalDecember 16, 2019December 16, 2019 at 3:53 am Sloan Smith Facebook Twitter LinkedIn Email Print Minister of Immigration Elsworth Johnson NASSAU, BAHAMAS – The government will be calling on employers with immigration bonds to repatriate workers who no longer have jobs in the aftermath of Hurricane Dorian, Minister of Immigration Elsworth Johnson said yesterday. “Anybody who gets a work permit, the employer signs a bond, that bond says that when it’s time for these persons to go back, you will provide the funding,” said Johnson, in an interview with Eyewitness News Online. “We are now calling on those bonds and so the public purse is not burdened with that experience…with that bond you undertake to facilitate the safe passage of that person back. He said: “And so all of those persons who have those bonds we are gong to be calling on them.” Johnson said employers who have applied for permits should be fully aware of this agreement, but warned “for those who may suffer from selective amnesia, there is a systematic way to advise them of the bond”. Dorian pounded the islands of Abaco and Grand Bahama in early September, claiming the lives of at least 70 people — and displacing thousands, many of whom resided in Haitian shantytown communities in Abaco. The Category 5 storm destroyed the two largest of the six shantytowns on the island – The Mudd and the Peas. As of last week, 497 shelterees still reside on two designated sites in New Providence: 380 at the Kendal GL Isaacs Gymnasium and three tents, and 117 at the Bahamas Academy Gymnasium. Last week, Director of Immigration Clarence Russell told Eyewitness News Online the public should have no misconcept\n",
      "****************************************************************************************************\n",
      "sports\n",
      "----------------------------------------------------------------------------------------------------\n",
      "Second spot again the SSC kick floor | Prior Lake Sports | swnewsmedia.com Thank you for reading! Please purchase a subscription to read our premium content. If you have a subscription, please log in or sign up for an account on our website to continue. Purchase a Subscription Thank you for Reading! Please log in, or sign up for a new account to continue reading. Sign Up Log In Purchase a Subscription Thank you for Reading! We hope that you continue to enjoy our free content. Thank you for Reading! Please purchase a subscription to read our premium content. If you have a subscription, please log in or sign up for an account on our website to continue. Sign Up Log In Your current subscription does not provide access to this content. All-Access Online Subscription This All-Access Subscription provides access to all areas of the swnewsmedia.com including all content from all 8 newspapers: Chanhassen Villager Chaska Herald Eden Prairie News Jordan Independent Lakeshore Weekly Prior Lake American Savage Pacer Shakopee Valley News Looking for a Print Subscription with Digital Access? Click Here. Starting at $48.00 for 365 days Get Started View all rates Rate Price Duration 12-Month $48.00 for 365 days 24-Month $86.00 for 730 days 7-Day Pass $4.99 for 7 days Activate Your Digital Access - SWNewsMedia.com Newspaper Subscribers Do you already have a paid subscription to any of the SWNewsMedia newspapers? If so, you can Activate your Premium online account by clicking here. Activation will allow you to view unlimited online articles each month. To activate your Premium online account, the email address and phone number provided with your paid newspaper subscription needs to match the information you use in setting up your online user account. If you are having trouble or want to confirm what email address and phone number is listed on your subscription account, please call 952-345-6682 or email circulation@swpub.com and we'll be happy to assist. Free access for current print subscribers Get Started You are the owner of this article. Edit Article Add New Article Sign Up Log In Dashboard Logout My Account Dashboard Profile Saved items Logout Subscribe Communities Chanhassen Chaska Eden Prairie Jordan Lake Minnetonka Prior Lake Savage Shakopee Home News Public Notices Education Business Entertainment Opinion Visual Stories Things to do Best of the Best Staff Picks e-Edition Sports Events Obituaries Classifieds Public_notices Jobs In-paper ads Auto Business Directory Ho\n",
      "Cowboys QB Prescott expected to play despite shoulder injury | myMotherLode.com NewsWeatherSportsCommunityEntertainmentDining GuideReal EstateClassifiedsMore… myMotherLode.com - The Mother Lode's Local News, Sports, Weather, Movies, Classifieds, Yellow Pages, Real Estate Sports HomeNFLMLBNBANHLSoccerCollege SportsHigh School Sports NewsWeatherSportsCommunityEntertainmentDining GuideReal EstateClassifiedsMore… Sports HomeNFLMLBNBANHLSoccerCollege SportsHigh School Sports 56.1   FFull WeatherSponsored By: HomeSportsTop Sports General NewsCowboys QB Prescott expected to play despite shoulder injury Cowboys QB Prescott expected to play despite shoulder injury Sponsored by: By AP News Published Dec 18, 2019 02:24 pm Cowboys QB Prescott expected to play despite shoulder injury View PhotoFRISCO, Texas — Dallas quarterback Dak Prescott has a shoulder injury that is limiting him in practice but shouldn’t keep him out Sunday when the Cowboys try to qualify for the playoffs at Philadelphia.The Cowboys and Eagles are tied for the NFC East lead at 7-7, and Dallas advances to the postseason with a victory.Prescott didn’t throw during the portion of practice that was open to reporters Wednesday. Coach Jason Garrett said Prescott had an MRI and “everything seems to be OK.” Prescott was already dealing with injuries to his right index finger and left wrist.Troy Aikman, a Fox television analyst and former Dallas quarterback, said Prescott told him before last weekend’s 44-21 win over the Los Angeles Rams there was a hairline fracture in the finger. Garrett hasn’t discussed specifics of the finger injury.Garrett said he wasn’t concerned about the various injuries affecting Prescott’s performance.“He’s as tough as they come,” Garrett said. “His physical toughness and mental toughness are on par with anybody I’ve been around and that’s just what he’s all about.”Prescott was injured at the end of a 7-yard run in the first quarter when Rams linebacker Clay Matthews landed on his shoulder while making the tackle. Prescott didn’t leave the game and threw two touchdown passes in the first half.The 26-year-old Prescott has started every game in his four-year career, 62 so far in the regular season along with three playoff games.___More AP NFL: https://apnews.com/NFL and https://twitter.com/AP_NFL Other Top Sports NewsCowboys QB Prescott expected to play despite shoulder injury AP Interview Dressel a reluctant superstar heading to 2020 OBJ on his future with Browns ’I’m not going any\n",
      "Mitchell Trubisky helps Bears beat Cowboys 31-24 | WTOP Headlines Local News Virginia Alexandria Arlington Fairfax County Loudoun County Prince William County Stafford County Maryland Anne Arundel County Baltimore Calvert County Charles County Frederick County Howard County Montgomery County Prince George's County DC Crime News Weather News Transportation News National World Business & Finance Consumer Real Estate Recalls Government Congress Supreme Court White House Election News The Week on the Hill Lifestyle Animals & Pets Food & Restaurants Health & Fitness Life & Style Parenting Travel Entertainment Sports Baltimore Orioles Baltimore Ravens DC United Washington Capitals Washington Mystics Washington Nationals Washington Redskins Washington Wizards Photo Galleries Federal News Network Fun & Games WTOP Insights News Traffic Weather Listen Listen Live Podcast DC Live Events Washington's Top News Login D.C. Metro 42  site search query 27fb27dd01 {{headline}} Home   Latest News   Mitchell Trubisky helps Bears… Mitchell Trubisky helps Bears beat Cowboys 31-24 The Associated Press December 6, 2019, 1:18 AM Share This: share on facebook share on twitter share via email print CHICAGO (AP) — Mitchell Trubisky and the Chicago Bears appear to be hitting their stride, even if it might be… CHICAGO (AP) — Mitchell Trubisky and the Chicago Bears appear to be hitting their stride, even if it might be too late to salvage their season. Trubisky threw three touchdown passes and ran for a score in Chicago’s 31-24 victory over Dak Prescott and the slumping Dallas Cowboys on Thursday night. In a matchup between disappointing teams that made the playoffs last season, the Bears (7-6) came away with their fourth win in five games after dropping four in a row. The Cowboys (6-7) have lost seven of 10 since a 3-0 start. “I think it shows we’re resilient,” Trubisky said. “We stick together. We believe in each other even when nobody else believes in us. It’s a special group in that locker room. We just want to keep this feeling going.” Trubisky shook off an early interception near the goal line to complete 23 of 31 passes for 244 yards. He matched a season high for touchdown throws and set one with 63 yards rushing. That included a 23-yard scoring dash early in the fourth quarter to make it 31-14. Allen Robinson caught two TD passes and Anthony Miller had one as Chicago tied a season scoring high. On defense, Khalil Mack had a sack but l inebacker Roquan Smith left the game with a \n",
      "****************************************************************************************************\n",
      "politics\n",
      "----------------------------------------------------------------------------------------------------\n",
      "Ready To Declare A Mistrial Before Impeachment - One News Page VIDEO Global One News PageCelebrating 10 Years of Trusted News Discovery HOMEWORLDSPORTSPOLITICSBUSINESSPEOPLESCITECHTop Stories • Video • Live TVMovie ReviewsMost PopularFront Page NewsLatest One News Page > News Videos > Ready To Declare A Mistrial Before Impeachment Even Goes To Senate Ready To Declare A Mistrial Before Impeachment Even Goes To Senate Video Credit: Rumble - Duration: 02:34s - Published 3 hours ago< > Embed Ready To Declare A Mistrial Before Impeachment Even Goes To Senate    We   re going to have to call for a mistrial before it ever gets over to the Senate,    Rep. Jackie Speier says in response to House Majority Leader McConnell stating that he is not an impartial juror.    I would think Mitch McConnell should recuse himself.    https://cnn.it/2YWLzkx 0sharesShareTweetSavePostSend You Might Like Tweets about thisLynn Chance RT @DailyCaller: Democratic Rep. Jackie Speier Is Ready To Declare A Mistrial Before Impeachment Even Goes To Senate https://t.co/uKJj8Xa7WI 20 seconds agoJACKtheolePIRATE RT @DailyCaller: Democratic Rep. Jackie Speier Is Ready To Declare A Mistrial Before Impeachment Even Goes To Senate. https://t.co/uKJj8Xa7    4 minutes agoDean loadstar RT @DLoadstar: Democratic Rep. Jackie Speier Is Ready To Declare A Mistrial Before Impeachment Even Goes To Senate>BEFORE SHE CALL REPUBLIC    10 minutes agoDean loadstar Democratic Rep. Jackie Speier Is Ready To Declare A Mistrial Before Impeachment Even Goes To Senate>BEFORE SHE CALL    https://t.co/oc4xC2hA3x 10 minutes ago#InternetBillOfRights    Democratic Rep. Jackie Speier Is Ready To Declare A Mistrial Before Impeachment Even Goes To Senate https://t.co/dzGzTZg1yG 20 minutes agoChip Democratic Rep. Jackie Speier Is Ready To Declare A Mistrial Before Impeachment Even Goes To Senate | The Daily Cal    https://t.co/V3HYGV5Gqa 21 minutes agoMolly's Mom Democratic Rep. Jackie Speier Is Ready To Declare A Mistrial Before Impeachment Even Goes To Senate | The Daily Cal    https://t.co/lUFHAFfJp6 22 minutes agoJmar1105                   RT @Chris_1791: Democratic Rep. Jackie Speier Is Ready To Declare A Mistrial Before Impeachment Even Goes To Senate https://t.co/wmLv5aM7Eg    22 minutes ago In the NewsDonald TrumpPeugeotUnited States House of RepresentativesSouth KoreaPhilippine Statistics AuthoritySeoulDemocratic PartyBrexitRepublican PartyEuropean UnionSpotlight          LiveTV     Movie Reviews     LivenewsFiat Ch\n",
      "Mark Woods: Where is mayor’s outrage now? - News - The Florida Times-Union - Jacksonville, FL Sections NewsSportsEntertainmentLifeObitsClassifiedsHomesCarsJobse-EditionSubscribe Site Archive Log in Subscribe Now Mark Woods: Where is the mayor’s outrage now? Mark Woods @TUmarkwoods Wednesday Dec 18, 2019 at 7:00 PM As Aaron Zahn toppled from his JEA perch amidst public outrage and news of the State Attorney “looking into matters involving” Jacksonville’s public utility, the person most responsible for putting Zahn in that position — a mayor who hasn’t shied away from expressing outrage in the past — remained noticeably quiet. There once was a mayor who after reading stories in the Times-Union about the city’s public utility fired off emails to his top administrators that began by asking a pointed question: “What the hell” is going on at JEA?There once was a mayor who instead of shooting the messenger, aimed his outrage at what he considered to be “serious governance and legal issues.”There once was a mayor whose staff lamented “clandestine activity” at JEA, talked about the erosion of public trust in the utility and suggested a complete change of leadership.RELATED | Read more from Mark WoodsThere once was a mayor who called for heads to roll.That mayor was Lenny Curry.You’ll be forgiven if you don’t remember that Lenny Curry.That was four years ago. That controversy involved JEA board members using scripted talking points for meetings and seemingly rubber-stamping votes. While the public reaction was a yawn, the mayoral reaction was righteous outrage. He asked for the entire board to resign.When he got his wish, it set in motion a change of leadership, the hiring of Aaron Zahn as CEO and the path to where we are less than two years later — Zahn being pushed out amid governance and legal issues that far exceed what happened four years ago.Or at least that’s what most people in town would say.There have been numerous calls for investigations. And on Wednesday, State Attorney Melissa Nelson issued a statement saying that her office “is — and has been — looking into matters involving JEA.”Amid all the growing public outrage and public apologies of the past week, the mayor remained remarkably quiet. And that quiet spoke volumes.When Zahn toppled from his JEA perch, the person most responsible for putting him there took no responsibility.This is the Accountant Mayor, someone who likes to tout his expertise with dollars and cents. And yet he has said almost nothi\n",
      "Watch live: House debates Trump impeachment ahead of historic vote - WCBI TV | Your News Leader Sign in News Local News Crime MidMorning with Aundrea Educator of the Week Area Closings Election Results Sports Local Sports College Sports The EndZone Student Athlete of the Month Player of the Week 60 in 60 2018 Weather Latest Forecast Interactive Radar & Alerts Weather Maps ALFA Skycam Network Weather Fur-Cast WCBI Weather School Weather Safety Features Holiday Shopping with WCBI Health Talk with Baptist On the Beat Uncorked with Scott Martin Mom to Mom Cooking Up A Storm TECH BYTE Mr. Food Best of Class 2019 Special Shows CBS Livefeed All Videos Contests Contest Rules Contest Terms of Service Contest Privacy Statement Community Adopt-A-Family Bridal Showcase 2020 In The Kitchen Jingle and Mingle Midday Toy Giveaway 2019 WCBI Experts WCBI Medical Expert Hosford Legal Line JTS & Co. Mortgage Minute WCBI CW4 Health Experts Healthy Living for Seniors Expo Job Fair WCBI Starkville Job Fair 2019 Golden Triangle Job Fair Find A Job Deals Holiday Deals Store Coupons Click & Save Coupons! Pets Page Local Events Station Video Services of WCBI About WCBI-TV CW TV Shows What’s On Advertise Contact Us Meet the Team Mobile Employment Intern With Us WCBI Over the Air Antenna Viewers FCC REPORTS WCBI LIVE Sign in Welcome!Log into your account your username your password Forgot your password? Password recovery Recover your password your email Search Sign in Welcome! Log into your account your username your password Forgot your password? Get help Password recovery Recover your password your email A password will be e-mailed to you. WCBI TV | Your News Leader News News SectionsLocal News Crime MidMorning with Aundrea Educator of the Week Area Closings Election Results Latest News The sunshine returns for your Wednesday December 18, 2019 School District Gives Incentive To Math And Science Teachers December 17, 2019 Local School District Awards Employees With Thousands Of Dollars In Incentives December 17, 2019 5 tornadoes confirmed in northeast Mississippi December 17, 2019 Christmas comes early for some area kiddos December 17, 2019 MEMA releases statewide damage report after tornado outbreak December 17, 2019 Sunny & cool midweek December 17, 2019 More Clouds Today, Lots of Sun by Tomorrow December 17, 2019 Local News Crime MidMorning with Aundrea Educator of the Week Area Closings Election Results Sports Sports SectionsLocal Sports College Sports The EndZone Student Athlete\n",
      "****************************************************************************************************\n",
      "world\n",
      "----------------------------------------------------------------------------------------------------\n",
      "Former soldier jailed for knife attack on Welsh tourist Search Newsletters Crossword Notices My Account Subscribe Sign In The Irish Times Wed, Dec 18, 2019 The Irish Times News Sport Business Opinion Life & Style Culture More Video Podcasts Executive Jobs Search Subscribe My Account Sign In Courts Circuit Court Supreme Court High Court Criminal Court Coroner's Court District Court All News UK Election Brexit Ireland Irish News World UK Election UK Europe US Africa Middle East Asia-Pacific Politics Oireachtas Poll Elections Crime & Law Social Affairs Religion & Beliefs Health Education Student Hub 2nd Level Hub Parents Subscriber Only No Child 2020 Courts Environment Climate Change Heritage & Habitat Science Space Consumer Offbeat Highlights Specials China Cables Direct Provision Trump presidency Terror attacks Podcasts Inside Politics World View Subscriptions ePaper Newspaper Archive Former soldier jailed for knife attack on Welsh tourist Court hears Martin Clarke intoxicated on unprescribed tablets during Dublin assault about an hour ago Declan Brennan The attack took place while the victim and his husband were on the Liffey boardwalk in Dublin. Photograph: Dave Meehan A former soldier has received a three-year prison sentence for a random knife attack on a Welsh tourist. Dublin Circuit Criminal Court heard that Martin Clarke (35) was intoxicated on unprescribed tablets when he went up to Antoni Vitti and began lunging at him with a knife. The attack took place while the victim and his husband were on the Liffey boardwalk on June 13th, 2017. The two men ran from the attack but Clarke chased after them through traffic. The men ran into the nearby Arlington Hotel where staff managed to get Clarke to leave and the alarm was raised. Judge Melanie Greally described the attack as “random, unprovoked and menacing in nature.” The victim was left with a 3.5 cm scar on his hand, Garda Sergeant Micheal Galligan told the court. In a statement Mr Vitti said that the attack had affected his ability to be around people, which affected his work in the tourist industry in Wales. He said he feels uncomfortable and unsafe in groups of strangers and has become more anxious. Louth man Clarke, with a former address at St Nicholas Avenue, Castletown Road, Dundalk, pleaded guilty to assault causing harm and to production of a knife at Bachelor’s Walk, Dublin. He has previous convictions for theft, possession of knives and for road traffic offences including hit and run. Keith Sp\n",
      "Moscow wonders where winter has gone as temperatures hit 133-year high - Reuters FinancialGovernment SolutionsLegalReuters News AgencyRisk Management SolutionsTax & AccountingBlog: Answers OnInnovation @ Thomson ReutersDirectory of sitesLoginContactSupportBusinessMarketsIndiaSouth AsiaTVMoreIndia EnvironmentDecember 18, 2019 / 4:19 PM / Updated 3 hours agoMoscow wonders where winter has gone as temperatures hit 133-year high2 Min ReadMOSCOW (Reuters) - Residents of Moscow are wondering where winter has gone as the highest December temperatures for 133 years deprive the Russian capital of its customary covering of snow. A visitor walks in the Apothecary Garden, also known as the Botanic Garden of Moscow State University, in Moscow, Russia December 18, 2019. REUTERS/Shamil Zhumatov“This is not our winter,” said pensioner Ludmila Biryukova. “It came from somewhere else.” At a time when snow often blankets the streets and icicles hang from buildings, the temperature in Moscow is expected to reach 6 Celsius (42.8 Fahrenheit) overnight on Wednesday, according to Elena Vosolyuk of the FOBOS weather center. The last time Moscow was warmer than 5.3C on Dec. 18 was in 1886, she said. The usual air temperature for Dec. 18 is minus 6.2C, according to Russia’s Hydrometeorological Research Centre. The unseasonable warmth has been brought by an atmospheric front from the Atlantic Ocean, and rain, not snow, is forecast for the New Year holiday, Russia’s main festive celebration. And it’s not just people who have been surprised. At Moscow State University’s Apothecary Garden, snowdrops and rhododendron are among flowers that have mistaken the soft soil for the early onset of spring. “The plants were deceived by this (warm weather) and decided it is spring already, so they are in bloom,” said head gardener Anton Dubenyuk, warning that could mean less color later. “These flowers will certainly not survive when the cold comes. So there will be no spring blossom,” he said. Biryukova, who was walking in the Apothecary Garden, said: “I was born here and have lived here my whole life. “We are used to real winters.” (The story is refiled to change Roman alphabet spelling to Dubenyuk from Dubinyuk in seventh para) Reporting by Dmitry Antonov, Gennadiy Novik and Dmitry Madorsky; Writing by Alexander Marrow; Editing by Catherine EvansOur Standards:The Thomson Reuters Trust Principles.0 : 0narrow-browser-and-phonemedium-browser-and-portrait-tabletlandscape-tabletmedium-wide-browserwid\n",
      "Aftermath Of Easter Sunday Attacks: Tourism Needs Fixing – And Quickly – Colombo Telegraph 18 December, 2019 Home News Opinion WikiLeaks Video Editor’s Choice සිංහල Home News Opinion WikiLeaks Video Editor’s Choice සිංහල Home News Opinion WikiLeaks Video Editor’s Choice සිංහල Blog December 16, 2019 author: W.A. Wijewardena 9 Comments Aftermath Of Easter Sunday Attacks: Tourism Needs Fixing – And Quickly By W A Wijewardena – Dr. W.A Wijewardena Scene 1: The plight of a mid-size hotel down south It is a mid-size hotel facing the serene beaches of southern Sri Lanka. One wing of the hotel containing about 100 rooms has been permanently closed since the horrendous Easter bombings. Of the other wing, which also contains an equal number of rooms, a few have been occupied by foreign tourists. The pool is virtually empty. In the main dining room, there are more unoccupied tables than the few occupied ones. No luxury coaches waiting for tourists in the car park. One entrance to the hotel has been locked, presumably to save on the salaries of security officers. When we chose that hotel for our annual convention, the management was eager to accommodate every little need of our party. In previous years, hotels normally allowed us only two rooms as changing rooms. This time, they had more rooms to spare and hence, four rooms were placed at our disposal. But the rooms were from the closed wing and gave an acrid smell as you entered them. After a bout of coughs and loosened sinuses, you could get used to the new unfriendly environment. The management did not want to hide their concerns. “Around this time in previous years, we had always been overbooked,” one of the staff members told me, “But since May, even the booked ones have been cancelled. We get foreign tourists very rarely. That was why we had to close one wing altogether because we wanted to save the staff salaries and maintenance costs. We operate now with a minimum number of people.” I asked him about other hotels along the beach. “They are also in the same plight as we are. The whole sector in this area is paralysed.” That hotel belonged to a business conglomerate and they have been able to run it at a loss by pumping money from other operations. But they will not be able to do for long. Once they come to their limit, the choice is to give up entirety of the $100 million investment. Is Sri Lanka ready for this? Scene 2: The cash-collector turned cab-driver I met a middle aged cab-driver when I booked a cab. It\n",
      "****************************************************************************************************\n"
     ]
    }
   ],
   "source": [
    "for c in df[~df.y_pred.isna()].y_pred.unique():\n",
    "    print(c)\n",
    "    print(\"-\"*100)\n",
    "    for t in df[(df.kw_label.isna()) & (df.proba>=0.9) & (df.y_pred == c)].sample(3).text:\n",
    "        print(t)\n",
    "    print(\"*\"*100)"
   ]
  },
  {
   "cell_type": "code",
   "execution_count": null,
   "metadata": {},
   "outputs": [],
   "source": [
    "def concat_labels (kw_label, y_pred):\n",
    "    if y_pred:\n",
    "        return y_pred\n",
    "    \n",
    "    "
   ]
  },
  {
   "cell_type": "code",
   "execution_count": 113,
   "metadata": {},
   "outputs": [],
   "source": [
    "df['main_topic'] = df.apply(lambda row: row['y_pred'] if row['kw_label'] is np.nan else row['kw_label'], axis=1)"
   ]
  },
  {
   "cell_type": "code",
   "execution_count": 117,
   "metadata": {},
   "outputs": [
    {
     "data": {
      "text/html": [
       "<div>\n",
       "<style scoped>\n",
       "    .dataframe tbody tr th:only-of-type {\n",
       "        vertical-align: middle;\n",
       "    }\n",
       "\n",
       "    .dataframe tbody tr th {\n",
       "        vertical-align: top;\n",
       "    }\n",
       "\n",
       "    .dataframe thead th {\n",
       "        text-align: right;\n",
       "    }\n",
       "</style>\n",
       "<table border=\"1\" class=\"dataframe\">\n",
       "  <thead>\n",
       "    <tr style=\"text-align: right;\">\n",
       "      <th></th>\n",
       "      <th>url</th>\n",
       "      <th>dom_cat</th>\n",
       "      <th>title</th>\n",
       "      <th>description</th>\n",
       "      <th>keywords</th>\n",
       "      <th>news_keywords</th>\n",
       "      <th>text</th>\n",
       "      <th>kw_label</th>\n",
       "      <th>y_pred</th>\n",
       "      <th>proba</th>\n",
       "      <th>main_topic</th>\n",
       "    </tr>\n",
       "  </thead>\n",
       "  <tbody>\n",
       "    <tr>\n",
       "      <th>0</th>\n",
       "      <td>https://chicago.cbslocal.com/2019/12/18/man-st...</td>\n",
       "      <td>sports</td>\n",
       "      <td>Man Stabbed After His Granddaughter And Three ...</td>\n",
       "      <td>A man's granddaughter is one of four teens acc...</td>\n",
       "      <td>grandfather, granddaughter, teen, teens, home ...</td>\n",
       "      <td>grandfather, granddaughter, teen, teens, home ...</td>\n",
       "      <td>Man Stabbed After His Granddaughter And Three ...</td>\n",
       "      <td>NaN</td>\n",
       "      <td>entertainment</td>\n",
       "      <td>0.919803</td>\n",
       "      <td>entertainment</td>\n",
       "    </tr>\n",
       "    <tr>\n",
       "      <th>1</th>\n",
       "      <td>http://www.releasewire.com/press-releases/rele...</td>\n",
       "      <td>news</td>\n",
       "      <td>Commence Industrial CRM Achieves Sales Optimiz...</td>\n",
       "      <td>NaN</td>\n",
       "      <td>NaN</td>\n",
       "      <td>NaN</td>\n",
       "      <td>Commence Industrial CRM Achieves Sales Optimiz...</td>\n",
       "      <td>NaN</td>\n",
       "      <td>business_economy</td>\n",
       "      <td>0.985866</td>\n",
       "      <td>business_economy</td>\n",
       "    </tr>\n",
       "    <tr>\n",
       "      <th>2</th>\n",
       "      <td>https://www.kark.com/news/national-news/1-dead...</td>\n",
       "      <td>news</td>\n",
       "      <td>1 dead, 2 injured in Oregon shopping center st...</td>\n",
       "      <td>Multiple people were stabbed at the Murray Hil...</td>\n",
       "      <td>NaN</td>\n",
       "      <td>NaN</td>\n",
       "      <td>1 dead, 2 injured in Oregon shopping center st...</td>\n",
       "      <td>NaN</td>\n",
       "      <td>business_economy</td>\n",
       "      <td>0.515074</td>\n",
       "      <td>business_economy</td>\n",
       "    </tr>\n",
       "    <tr>\n",
       "      <th>3</th>\n",
       "      <td>https://www.ii.co.uk/etfs/sg-wti-x2-daily-long...</td>\n",
       "      <td>financial_news</td>\n",
       "      <td>LSE:SG30 ETF Share Price | SG WTI X2 Daily Lon...</td>\n",
       "      <td>Real-time share price updates and latest news ...</td>\n",
       "      <td>NaN</td>\n",
       "      <td>NaN</td>\n",
       "      <td>LSE:SG30 ETF Share Price | SG WTI X2 Daily Lon...</td>\n",
       "      <td>NaN</td>\n",
       "      <td>business_economy</td>\n",
       "      <td>0.985905</td>\n",
       "      <td>business_economy</td>\n",
       "    </tr>\n",
       "    <tr>\n",
       "      <th>4</th>\n",
       "      <td>http://www.peicanada.com/island_deaths/frances...</td>\n",
       "      <td>news</td>\n",
       "      <td>Frances Salsman | Island Deaths | peicanada.com</td>\n",
       "      <td>SALSMAN, Frances (Fran) Townsend At the Prince...</td>\n",
       "      <td>island_deaths, death_notices</td>\n",
       "      <td>island_deaths, death_notices</td>\n",
       "      <td>Frances Salsman | Island Deaths | peicanada.co...</td>\n",
       "      <td>NaN</td>\n",
       "      <td>sports</td>\n",
       "      <td>0.429380</td>\n",
       "      <td>sports</td>\n",
       "    </tr>\n",
       "  </tbody>\n",
       "</table>\n",
       "</div>"
      ],
      "text/plain": [
       "                                                 url         dom_cat  \\\n",
       "0  https://chicago.cbslocal.com/2019/12/18/man-st...          sports   \n",
       "1  http://www.releasewire.com/press-releases/rele...            news   \n",
       "2  https://www.kark.com/news/national-news/1-dead...            news   \n",
       "3  https://www.ii.co.uk/etfs/sg-wti-x2-daily-long...  financial_news   \n",
       "4  http://www.peicanada.com/island_deaths/frances...            news   \n",
       "\n",
       "                                               title  \\\n",
       "0  Man Stabbed After His Granddaughter And Three ...   \n",
       "1  Commence Industrial CRM Achieves Sales Optimiz...   \n",
       "2  1 dead, 2 injured in Oregon shopping center st...   \n",
       "3  LSE:SG30 ETF Share Price | SG WTI X2 Daily Lon...   \n",
       "4    Frances Salsman | Island Deaths | peicanada.com   \n",
       "\n",
       "                                         description  \\\n",
       "0  A man's granddaughter is one of four teens acc...   \n",
       "1                                                NaN   \n",
       "2  Multiple people were stabbed at the Murray Hil...   \n",
       "3  Real-time share price updates and latest news ...   \n",
       "4  SALSMAN, Frances (Fran) Townsend At the Prince...   \n",
       "\n",
       "                                            keywords  \\\n",
       "0  grandfather, granddaughter, teen, teens, home ...   \n",
       "1                                                NaN   \n",
       "2                                                NaN   \n",
       "3                                                NaN   \n",
       "4                       island_deaths, death_notices   \n",
       "\n",
       "                                       news_keywords  \\\n",
       "0  grandfather, granddaughter, teen, teens, home ...   \n",
       "1                                                NaN   \n",
       "2                                                NaN   \n",
       "3                                                NaN   \n",
       "4                       island_deaths, death_notices   \n",
       "\n",
       "                                                text kw_label  \\\n",
       "0  Man Stabbed After His Granddaughter And Three ...      NaN   \n",
       "1  Commence Industrial CRM Achieves Sales Optimiz...      NaN   \n",
       "2  1 dead, 2 injured in Oregon shopping center st...      NaN   \n",
       "3  LSE:SG30 ETF Share Price | SG WTI X2 Daily Lon...      NaN   \n",
       "4  Frances Salsman | Island Deaths | peicanada.co...      NaN   \n",
       "\n",
       "             y_pred     proba        main_topic  \n",
       "0     entertainment  0.919803     entertainment  \n",
       "1  business_economy  0.985866  business_economy  \n",
       "2  business_economy  0.515074  business_economy  \n",
       "3  business_economy  0.985905  business_economy  \n",
       "4            sports  0.429380            sports  "
      ]
     },
     "execution_count": 117,
     "metadata": {},
     "output_type": "execute_result"
    }
   ],
   "source": [
    "df.head()"
   ]
  },
  {
   "cell_type": "code",
   "execution_count": 134,
   "metadata": {},
   "outputs": [],
   "source": [
    "df_topic_ready = df.loc[(df.proba >=0.9) | (~df.kw_label.isna()), ['url', 'text', 'main_topic']].copy()\n",
    "df_topic_ready.reset_index(drop=True, inplace=True)"
   ]
  },
  {
   "cell_type": "code",
   "execution_count": 135,
   "metadata": {},
   "outputs": [
    {
     "data": {
      "text/html": [
       "<div>\n",
       "<style scoped>\n",
       "    .dataframe tbody tr th:only-of-type {\n",
       "        vertical-align: middle;\n",
       "    }\n",
       "\n",
       "    .dataframe tbody tr th {\n",
       "        vertical-align: top;\n",
       "    }\n",
       "\n",
       "    .dataframe thead th {\n",
       "        text-align: right;\n",
       "    }\n",
       "</style>\n",
       "<table border=\"1\" class=\"dataframe\">\n",
       "  <thead>\n",
       "    <tr style=\"text-align: right;\">\n",
       "      <th></th>\n",
       "      <th>url</th>\n",
       "      <th>text</th>\n",
       "      <th>main_topic</th>\n",
       "    </tr>\n",
       "  </thead>\n",
       "  <tbody>\n",
       "    <tr>\n",
       "      <th>0</th>\n",
       "      <td>https://chicago.cbslocal.com/2019/12/18/man-st...</td>\n",
       "      <td>Man Stabbed After His Granddaughter And Three ...</td>\n",
       "      <td>entertainment</td>\n",
       "    </tr>\n",
       "    <tr>\n",
       "      <th>1</th>\n",
       "      <td>http://www.releasewire.com/press-releases/rele...</td>\n",
       "      <td>Commence Industrial CRM Achieves Sales Optimiz...</td>\n",
       "      <td>business_economy</td>\n",
       "    </tr>\n",
       "    <tr>\n",
       "      <th>2</th>\n",
       "      <td>https://www.ii.co.uk/etfs/sg-wti-x2-daily-long...</td>\n",
       "      <td>LSE:SG30 ETF Share Price | SG WTI X2 Daily Lon...</td>\n",
       "      <td>business_economy</td>\n",
       "    </tr>\n",
       "    <tr>\n",
       "      <th>3</th>\n",
       "      <td>http://www.sbwire.com/press-releases/syndeo-co...</td>\n",
       "      <td>Syndeo Communications Invites the San Diego Bu...</td>\n",
       "      <td>business_economy</td>\n",
       "    </tr>\n",
       "    <tr>\n",
       "      <th>4</th>\n",
       "      <td>https://www.theverge.com/2019/12/18/21028416/a...</td>\n",
       "      <td>AT&amp;T will now show you a green check mark for ...</td>\n",
       "      <td>business_economy</td>\n",
       "    </tr>\n",
       "    <tr>\n",
       "      <th>...</th>\n",
       "      <td>...</td>\n",
       "      <td>...</td>\n",
       "      <td>...</td>\n",
       "    </tr>\n",
       "    <tr>\n",
       "      <th>92875</th>\n",
       "      <td>https://www.yourerie.com/news/newsmaker/newsma...</td>\n",
       "      <td>Newsmaker- Monsignor Ed Lohse | WJET/WFXP/Your...</td>\n",
       "      <td>sports</td>\n",
       "    </tr>\n",
       "    <tr>\n",
       "      <th>92876</th>\n",
       "      <td>https://www.trtworld.com/life/researchers-say-...</td>\n",
       "      <td>Researchers say may have found cause of mad co...</td>\n",
       "      <td>business_economy</td>\n",
       "    </tr>\n",
       "    <tr>\n",
       "      <th>92877</th>\n",
       "      <td>https://www.bakingbusiness.com/articles/49996-...</td>\n",
       "      <td>Dairy Farmers of America merges ingredients bu...</td>\n",
       "      <td>business_economy</td>\n",
       "    </tr>\n",
       "    <tr>\n",
       "      <th>92878</th>\n",
       "      <td>https://www.thehollywoodgossip.com/slideshows/...</td>\n",
       "      <td>90 Day Fiance Before The 90 Days: Trailer Teas...</td>\n",
       "      <td>entertainment</td>\n",
       "    </tr>\n",
       "    <tr>\n",
       "      <th>92879</th>\n",
       "      <td>https://www.hometownsource.com/county_news_rev...</td>\n",
       "      <td>Kenneth \"Ken\" Edwin Holmstrom | Obituaries | h...</td>\n",
       "      <td>sports</td>\n",
       "    </tr>\n",
       "  </tbody>\n",
       "</table>\n",
       "<p>92880 rows × 3 columns</p>\n",
       "</div>"
      ],
      "text/plain": [
       "                                                     url  \\\n",
       "0      https://chicago.cbslocal.com/2019/12/18/man-st...   \n",
       "1      http://www.releasewire.com/press-releases/rele...   \n",
       "2      https://www.ii.co.uk/etfs/sg-wti-x2-daily-long...   \n",
       "3      http://www.sbwire.com/press-releases/syndeo-co...   \n",
       "4      https://www.theverge.com/2019/12/18/21028416/a...   \n",
       "...                                                  ...   \n",
       "92875  https://www.yourerie.com/news/newsmaker/newsma...   \n",
       "92876  https://www.trtworld.com/life/researchers-say-...   \n",
       "92877  https://www.bakingbusiness.com/articles/49996-...   \n",
       "92878  https://www.thehollywoodgossip.com/slideshows/...   \n",
       "92879  https://www.hometownsource.com/county_news_rev...   \n",
       "\n",
       "                                                    text        main_topic  \n",
       "0      Man Stabbed After His Granddaughter And Three ...     entertainment  \n",
       "1      Commence Industrial CRM Achieves Sales Optimiz...  business_economy  \n",
       "2      LSE:SG30 ETF Share Price | SG WTI X2 Daily Lon...  business_economy  \n",
       "3      Syndeo Communications Invites the San Diego Bu...  business_economy  \n",
       "4      AT&T will now show you a green check mark for ...  business_economy  \n",
       "...                                                  ...               ...  \n",
       "92875  Newsmaker- Monsignor Ed Lohse | WJET/WFXP/Your...            sports  \n",
       "92876  Researchers say may have found cause of mad co...  business_economy  \n",
       "92877  Dairy Farmers of America merges ingredients bu...  business_economy  \n",
       "92878  90 Day Fiance Before The 90 Days: Trailer Teas...     entertainment  \n",
       "92879  Kenneth \"Ken\" Edwin Holmstrom | Obituaries | h...            sports  \n",
       "\n",
       "[92880 rows x 3 columns]"
      ]
     },
     "execution_count": 135,
     "metadata": {},
     "output_type": "execute_result"
    }
   ],
   "source": [
    "df_topic_ready"
   ]
  },
  {
   "cell_type": "code",
   "execution_count": 138,
   "metadata": {},
   "outputs": [],
   "source": [
    "out_path = Path.home() / 'Data' / 'cc_news' / 'model_output'\n",
    "if not out_path.is_dir():\n",
    "    Path.mkdir(out_path, parents=True, exist_ok=True)    "
   ]
  },
  {
   "cell_type": "code",
   "execution_count": 139,
   "metadata": {},
   "outputs": [],
   "source": [
    "df_topic_ready.to_csv(out_path / 'data_topic_model_ready.csv', header=True, index=False)"
   ]
  }
 ],
 "metadata": {
  "kernelspec": {
   "display_name": "Python 3.7 cc_news",
   "language": "python",
   "name": "cc_news_env"
  },
  "language_info": {
   "codemirror_mode": {
    "name": "ipython",
    "version": 3
   },
   "file_extension": ".py",
   "mimetype": "text/x-python",
   "name": "python",
   "nbconvert_exporter": "python",
   "pygments_lexer": "ipython3",
   "version": "3.7.5"
  }
 },
 "nbformat": 4,
 "nbformat_minor": 4
}
