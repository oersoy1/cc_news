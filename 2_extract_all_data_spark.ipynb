{
 "cells": [
  {
   "cell_type": "markdown",
   "metadata": {},
   "source": [
    "# Data Extraction\n",
    "\n",
    "Let's get going with the heavy lifting. Carrying over from the `1_eda` notebook: \n",
    "\n",
    "1. Run through the corpus with our classified English domain list\n",
    "2. Filter out `other` domains that are most likely not `news` channels.\n",
    "3. From the individual webpage, extract `title` `description` and `keywords` if there are any and the `body` content. \n",
    "4. Create a Data Frame to do more NLP\n",
    "5. Do all this in a parallel format with `Spark`\n"
   ]
  },
  {
   "cell_type": "code",
   "execution_count": 1,
   "metadata": {},
   "outputs": [],
   "source": [
    "import os\n",
    "import pandas as pd\n",
    "import sys\n",
    "\n",
    "from loguru import logger\n",
    "from lxml.html.clean import Cleaner\n",
    "from lxml.html import fromstring, HTMLParser\n",
    "from pathlib import Path\n",
    "from time import time, strftime, gmtime\n",
    "from urllib.parse import urlparse\n",
    "from warcio.archiveiterator import ArchiveIterator\n"
   ]
  },
  {
   "cell_type": "code",
   "execution_count": 2,
   "metadata": {},
   "outputs": [
    {
     "data": {
      "text/plain": [
       "[1]"
      ]
     },
     "execution_count": 2,
     "metadata": {},
     "output_type": "execute_result"
    }
   ],
   "source": [
    "# Configuring the logger\n",
    "config = {\"handlers\": [{\"sink\": sys.stdout,\"colorize\": True,\n",
    "          \"format\": \"<green>{time:YYYY-MM-DD HH:mm:ss}</green> | <level>{level: <8}</level> | <cyan>{name}</cyan>:<cyan>{function}</cyan>:<cyan>{line}</cyan> - <level>{message}</level>\"}]}\n",
    "logger.configure(**config)"
   ]
  },
  {
   "cell_type": "code",
   "execution_count": 3,
   "metadata": {},
   "outputs": [],
   "source": [
    "# Data Folder\n",
    "data_folder = Path.home() / 'Data' / 'cc_news'"
   ]
  },
  {
   "cell_type": "code",
   "execution_count": 4,
   "metadata": {},
   "outputs": [
    {
     "name": "stdout",
     "output_type": "stream",
     "text": [
      "Shape of the file: (5063, 7)\n",
      "\n",
      "Class Table:\n",
      " news              3688\n",
      "other              462\n",
      "financial_news     341\n",
      "tech_news          200\n",
      "sports             191\n",
      "entertainment      181\n",
      "Name: label, dtype: int64\n",
      "\n"
     ]
    },
    {
     "data": {
      "text/html": [
       "<div>\n",
       "<style scoped>\n",
       "    .dataframe tbody tr th:only-of-type {\n",
       "        vertical-align: middle;\n",
       "    }\n",
       "\n",
       "    .dataframe tbody tr th {\n",
       "        vertical-align: top;\n",
       "    }\n",
       "\n",
       "    .dataframe thead th {\n",
       "        text-align: right;\n",
       "    }\n",
       "</style>\n",
       "<table border=\"1\" class=\"dataframe\">\n",
       "  <thead>\n",
       "    <tr style=\"text-align: right;\">\n",
       "      <th></th>\n",
       "      <th>label</th>\n",
       "      <th>domain</th>\n",
       "      <th>title</th>\n",
       "      <th>description</th>\n",
       "      <th>city</th>\n",
       "      <th>country</th>\n",
       "      <th>title_desc</th>\n",
       "    </tr>\n",
       "  </thead>\n",
       "  <tbody>\n",
       "    <tr>\n",
       "      <th>0</th>\n",
       "      <td>entertainment</td>\n",
       "      <td>www.thesun.co.uk</td>\n",
       "      <td>News, sport, celebrities and gossip | The Sun</td>\n",
       "      <td>Get the latest news, exclusives, sport, celebr...</td>\n",
       "      <td>NaN</td>\n",
       "      <td>NaN</td>\n",
       "      <td>News, sport, celebrities and gossip | The Sun....</td>\n",
       "    </tr>\n",
       "    <tr>\n",
       "      <th>1</th>\n",
       "      <td>entertainment</td>\n",
       "      <td>parade.com</td>\n",
       "      <td>Parade</td>\n",
       "      <td>Your daily destination for celebrity news, vid...</td>\n",
       "      <td>NaN</td>\n",
       "      <td>NaN</td>\n",
       "      <td>Parade. Your daily destination for celebrity n...</td>\n",
       "    </tr>\n",
       "    <tr>\n",
       "      <th>2</th>\n",
       "      <td>entertainment</td>\n",
       "      <td>usweekly.com</td>\n",
       "      <td>USweekly</td>\n",
       "      <td>NaN</td>\n",
       "      <td>NaN</td>\n",
       "      <td>NaN</td>\n",
       "      <td>USweekly.</td>\n",
       "    </tr>\n",
       "    <tr>\n",
       "      <th>3</th>\n",
       "      <td>entertainment</td>\n",
       "      <td>www.whatsontv.co.uk</td>\n",
       "      <td>TV guide to top UK TV and soap spoilers | What...</td>\n",
       "      <td>What’s on TV is the best guide to UK TV, news,...</td>\n",
       "      <td>NaN</td>\n",
       "      <td>NaN</td>\n",
       "      <td>TV guide to top UK TV and soap spoilers | What...</td>\n",
       "    </tr>\n",
       "    <tr>\n",
       "      <th>4</th>\n",
       "      <td>entertainment</td>\n",
       "      <td>www.eonline.com</td>\n",
       "      <td>Entertainment News, Celebrity Gossip, Celebrit...</td>\n",
       "      <td>Your source for entertainment news, celebritie...</td>\n",
       "      <td>NaN</td>\n",
       "      <td>NaN</td>\n",
       "      <td>Entertainment News, Celebrity Gossip, Celebrit...</td>\n",
       "    </tr>\n",
       "  </tbody>\n",
       "</table>\n",
       "</div>"
      ],
      "text/plain": [
       "           label               domain  \\\n",
       "0  entertainment     www.thesun.co.uk   \n",
       "1  entertainment           parade.com   \n",
       "2  entertainment         usweekly.com   \n",
       "3  entertainment  www.whatsontv.co.uk   \n",
       "4  entertainment      www.eonline.com   \n",
       "\n",
       "                                               title  \\\n",
       "0      News, sport, celebrities and gossip | The Sun   \n",
       "1                                             Parade   \n",
       "2                                           USweekly   \n",
       "3  TV guide to top UK TV and soap spoilers | What...   \n",
       "4  Entertainment News, Celebrity Gossip, Celebrit...   \n",
       "\n",
       "                                         description city country  \\\n",
       "0  Get the latest news, exclusives, sport, celebr...  NaN     NaN   \n",
       "1  Your daily destination for celebrity news, vid...  NaN     NaN   \n",
       "2                                                NaN  NaN     NaN   \n",
       "3  What’s on TV is the best guide to UK TV, news,...  NaN     NaN   \n",
       "4  Your source for entertainment news, celebritie...  NaN     NaN   \n",
       "\n",
       "                                          title_desc  \n",
       "0  News, sport, celebrities and gossip | The Sun....  \n",
       "1  Parade. Your daily destination for celebrity n...  \n",
       "2                                         USweekly.   \n",
       "3  TV guide to top UK TV and soap spoilers | What...  \n",
       "4  Entertainment News, Celebrity Gossip, Celebrit...  "
      ]
     },
     "execution_count": 4,
     "metadata": {},
     "output_type": "execute_result"
    }
   ],
   "source": [
    "# Loading our domains\n",
    "df = pd.read_csv(data_folder / 'domains' / 'domains_labeled_complete.csv')\n",
    "print(f\"Shape of the file: {df.shape}\\n\")\n",
    "print(f\"Class Table:\\n {df.label.value_counts()}\\n\")\n",
    "df.head()"
   ]
  },
  {
   "cell_type": "code",
   "execution_count": 5,
   "metadata": {},
   "outputs": [],
   "source": [
    "# Get file names\n",
    "files = [str(x) for x in data_folder.glob('*') if x.is_file()]"
   ]
  },
  {
   "cell_type": "markdown",
   "metadata": {},
   "source": [
    "We loaded our domains, set up, got our file names. \n",
    "\n",
    "Before we get into parallelization with Spark, let's try to write the function and apply it on one file: "
   ]
  },
  {
   "cell_type": "code",
   "execution_count": 7,
   "metadata": {},
   "outputs": [],
   "source": [
    "def extractor_test(uri, doms):\n",
    "    # Specificy parser to remove blanks\n",
    "    parser = HTMLParser(remove_blank_text=True)\n",
    "    # Instantiate Cleaner to strip scripts, styles and links for our purposes\n",
    "    cleaner = Cleaner(scripts=True, javascript=True, style=True, links=True)\n",
    "    \n",
    "    # get bad domains\n",
    "    news_doms = doms[doms.label!='other'].domain.tolist()\n",
    "    with open(uri, 'rb') as stream:\n",
    "        for i, record in enumerate(ArchiveIterator(stream)):\n",
    "            if record.rec_type == 'response':\n",
    "                warc_uri = record.rec_headers.get_header('WARC-Target-URI')\n",
    "                domain = urlparse(warc_uri).netloc\n",
    "                \n",
    "                if domain in news_doms:\n",
    "                    domain_cat = doms[doms.domain == domain].label\n",
    "                    content = record.content_stream().read()\n",
    "                    try:\n",
    "                        tree = fromstring(content, parser=parser)\n",
    "                        title = tree.xpath(\"//title/text()\")\n",
    "                        title = title[0] if title else None\n",
    "                        description = tree.xpath(\"//meta[@name='description']/@content\")\n",
    "                        description = description[0] if description else None\n",
    "                        keywords = tree.xpath(\"//meta[@name='keywords']/@content\")\n",
    "                        news_keywords = tree.xpath(\"//meta[@name='news_keywords']/@content\")\n",
    "                        \n",
    "                        tree = cleaner.clean_html(tree)\n",
    "                        text = tree.text_content().strip()\n",
    "                        text = \" \".join(text.split())\n",
    "                    \n",
    "                    except TypeError:\n",
    "                        \n",
    "                        pass\n",
    "                    print(f\"{warc_uri}\")\n",
    "                    print(f\"{domain_cat}\")\n",
    "                    print(f\"{title}\")\n",
    "                    print(f\"{description}\")\n",
    "                    print(f\"{keywords}\")\n",
    "                    print(f\"{news_keywords}\\n\")\n",
    "\n",
    "            if i == 10:\n",
    "                break"
   ]
  },
  {
   "cell_type": "code",
   "execution_count": 8,
   "metadata": {},
   "outputs": [
    {
     "name": "stdout",
     "output_type": "stream",
     "text": [
      "https://chicago.cbslocal.com/2019/12/18/man-stabbed-after-his-granddaughter-three-other-teens-enter-rob-his-home/\n",
      "1111    sports\n",
      "Name: label, dtype: object\n",
      "Man Stabbed After His Granddaughter And Three Other Teens Enter, Rob His Home – CBS Chicago\n",
      "A man's granddaughter is one of four teens accused of stabbing him in the neck and stealing his car before crashing it on Monday night.\n",
      "['grandfather, granddaughter, teen, teens, home invasion, house, stabbed, assault, assaulted, robbery, car, wallet, cellphone, hazel dell, washington, seaside, oregon, police, pursuit']\n",
      "['grandfather, granddaughter, teen, teens, home invasion, house, stabbed, assault, assaulted, robbery, car, wallet, cellphone, hazel dell, washington, seaside, oregon, police, pursuit']\n",
      "\n",
      "http://www.releasewire.com/press-releases/release-9742.htm\n",
      "31    news\n",
      "Name: label, dtype: object\n",
      "Commence Industrial CRM Achieves Sales Optimization | Dec 21, 2006 - ReleaseWire\n",
      "None\n",
      "[]\n",
      "[]\n",
      "\n",
      "https://www.kark.com/news/national-news/1-dead-2-injured-in-oregon-shopping-center-stabbing/\n",
      "194    news\n",
      "Name: label, dtype: object\n",
      "1 dead, 2 injured in Oregon shopping center stabbing | KARK\n",
      "Multiple people were stabbed at the Murray Hill shopping center in Beaverton, police tweeted.\n",
      "[]\n",
      "[]\n",
      "\n",
      "https://www.eonline.com/ar/news/1104024/mira-a-harry-styles-llorando-por-culpa-de-ellen-degeneres\n",
      "4    entertainment\n",
      "Name: label, dtype: object\n",
      "Mira a Harry Styles llorando por culpa de Ellen Degeneres | E! News\n",
      "Denle un Oscar… El ex One Direction no solo canta, ¡también tiene amplios talentos histriónicos!\n",
      "[]\n",
      "['harry styles, harry styles hidden earpiece, harry styles ellen degeneres, harry styles the ellen degeneres show, harry styles pizza prank, harry styles hidden camera earpiece prank, ellen degeneres hidden camera earpiece prank, editors-pick']\n",
      "\n"
     ]
    }
   ],
   "source": [
    "extractor_test(files[0], df)"
   ]
  },
  {
   "cell_type": "markdown",
   "metadata": {},
   "source": [
    "#### Commentary\n",
    "Looking not bad. We have a slight problem, on the eonline.com entertainment page, we got some Spanish.  As expected, some news sites operate in several countries and may publish news in several languages accordingly.  Looking at that page, we can see the language tag is `es-Ar` instead of doing a full blown language detection one more time, let's just check html/lang tag. "
   ]
  },
  {
   "cell_type": "code",
   "execution_count": 9,
   "metadata": {},
   "outputs": [],
   "source": [
    "def extractor_test(uri, doms):\n",
    "    # Specificy parser to remove blanks\n",
    "    parser = HTMLParser(remove_blank_text=True)\n",
    "    # Instantiate Cleaner to strip scripts, styles and links for our purposes\n",
    "    cleaner = Cleaner(scripts=True, javascript=True, style=True, links=True)\n",
    "    \n",
    "    # get bad domains\n",
    "    news_doms = doms[doms.label!='other'].domain.tolist()\n",
    "    with open(uri, 'rb') as stream:\n",
    "        for i, record in enumerate(ArchiveIterator(stream)):\n",
    "            if record.rec_type == 'response':\n",
    "                warc_uri = record.rec_headers.get_header('WARC-Target-URI')\n",
    "                domain = urlparse(warc_uri).netloc\n",
    "                \n",
    "                if domain in news_doms:\n",
    "                    #df.at[0,'A']\n",
    "                    domain_cat = doms[doms.domain == domain].label.values[0]\n",
    "                    content = record.content_stream().read()\n",
    "                    tree = fromstring(content, parser=parser)\n",
    "                    try:\n",
    "                        parsed_lang = tree.get(\"lang\")\n",
    "                    except TypeError:\n",
    "                        parsed_lang = None\n",
    "                    if parsed_lang is None or parsed_lang[:2].lower() ==  'en':\n",
    "                        \n",
    "                        try:\n",
    "                            title = tree.xpath(\"//title/text()\")\n",
    "                            title = title[0] if title else None\n",
    "                            description = tree.xpath(\"//meta[@name='description']/@content\")\n",
    "                            description = description[0] if description else None\n",
    "                            keywords = tree.xpath(\"//meta[@name='keywords']/@content\")\n",
    "                            news_keywords = tree.xpath(\"//meta[@name='news_keywords']/@content\")\n",
    "\n",
    "                            tree = cleaner.clean_html(tree)\n",
    "                            text = tree.text_content().strip()\n",
    "                            text = \" \".join(text.split())\n",
    "                    \n",
    "                        except:\n",
    "                            pass\n",
    "                    print(f\"{warc_uri}\")\n",
    "                    print(f\"{domain_cat}\")\n",
    "                    print(f\"{title}\")\n",
    "                    print(f\"{description}\")\n",
    "                    print(f\"{keywords}\")\n",
    "                    print(f\"{news_keywords}\\n\")\n",
    "                    print(f\"{text}\\n\")\n",
    "\n",
    "            if i == 5:\n",
    "                break"
   ]
  },
  {
   "cell_type": "code",
   "execution_count": 10,
   "metadata": {},
   "outputs": [
    {
     "name": "stdout",
     "output_type": "stream",
     "text": [
      "https://chicago.cbslocal.com/2019/12/18/man-stabbed-after-his-granddaughter-three-other-teens-enter-rob-his-home/\n",
      "sports\n",
      "Man Stabbed After His Granddaughter And Three Other Teens Enter, Rob His Home – CBS Chicago\n",
      "A man's granddaughter is one of four teens accused of stabbing him in the neck and stealing his car before crashing it on Monday night.\n",
      "['grandfather, granddaughter, teen, teens, home invasion, house, stabbed, assault, assaulted, robbery, car, wallet, cellphone, hazel dell, washington, seaside, oregon, police, pursuit']\n",
      "['grandfather, granddaughter, teen, teens, home invasion, house, stabbed, assault, assaulted, robbery, car, wallet, cellphone, hazel dell, washington, seaside, oregon, police, pursuit']\n",
      "\n",
      "Man Stabbed After His Granddaughter And Three Other Teens Enter, Rob His Home – CBS Chicago Menu Videos Drugstore Fencing Ring Stolen GoodsMerchandise recovered from a fencing ring that took in stolen goods from drugstores and sold them online. (Credit: Wilmette Police)1 hour agoATM Stolen Stolen From Barber Shop In Belmont CraginShattered glass covered the ground at Chicago Fades near Belmont and Central, just after 4 a.m. Wednesday.7 hours ago More ContestsOnly CBSTravel News All News Chicago NewsInvestigativePoliticsBusinessConsumerEntertainmentHealthWatchPhotosAutosOnly CBS Latest Headlines R. Kelly Pleads Not Guilty To Bribery Charge In Video Appearance In NYC Courtroom From ChicagoR. Kelly pleaded not guilty Wednesday to bribery charges connected to his 1994 marriage to the late singer Aaliyah – who was a teenager at the time.Chiacgo Weather: A Warming Trend On The WayIt will remain chilly Wednesday afternoon, even with the sunshine. Fencing Ring Took Merchandise Stolen From Drugstores Around Chicago Area And Sold It Online, Police SayPolice in Wilmette announced Wednesday that they have busted a sophisticated fencing operation – in which they say the suspects took in stolen merchandise from retail stores and sold them online.City Council Rejects Black Caucus Bid To Delay Recreational Marijuana Sales By 6 MonthsFollowing a heated debate at City Hall, and multiple parliamentary votes on City Council procedures, aldermen on Wednesday voted down a bid by the Black Caucus to delay recreational marijuana sales in Chicago by six months. Weather Weather Links Chicago School ClosingsFlight Delays O'HareFlight Delays MidwayWeather App More Weather Chiacgo Weather: A Warming Trend On The WayIt will remain chilly Wednesday afternoon, even with the sunshine. Chicago Weather: Arctic Blast Brings Single Digit Temps, Warmup On The WayAn arctic blast has left the Chicago area with single digit temperatures.Chicago Weather: Arctic Cold Front Coming This WayAn Arctic cold front was over central Wisconsin Tuesday afternoon and is coming this way. Sports Featured Sports 2019 CBS Sports Classic: Matchups, Key Players And How To WatchWith the UNC-UCLA and #5 Ohio State-#6 Kentucky matchups, the 2019 CBS Sports Classic features some of college basketball's biggest name programs.3 Chicago Bears Named To Pro BowlBears Linebacker Khalil Mack, safety Eddie Jackson and special teamer Cordarrelle Patterson have been voted to the Pro Bowl, which will be played Jan. 26, 2020 at Camping World Stadium in Orlando, Florida. North Central College Fired Up To Vie For Division III NCAA ChampionshipChicago’s pro teams may not be doing much well right now, but a local college team is playing for a national championship on Friday nightFantasy Football Waiver Wire Week 16: Breshad Perriman Top Priority Add This WeekThe Buccaneers injuries at wide receiver have opened the door for the former first round pick to potentially thrive.Chicago White Sox Welcome Children's Home & Aid Holiday CelebrationThe Chicago White Sox continued the season of giving by welcoming the Children’s Home & Aid community for a holiday party at Guaranteed Rate Field.Bulls Blow 26-Point Lead, Lose To Oklahoma City ThunderThe Bulls played their best first half of basketball of the season Monday night, but that was only half the story. VideoBest Of Latest Headlines Are These Trending Chicago Restaurants On Your Radar?Wondering where Chicago's insiders are eating and drinking?Explore The 3 Freshest New Businesses To Debut In Chicago4 Events To Check Out In Chicago This WeekLooking for something to do this week?5 Great Music Events In Chicago This WeekendGet To Know The Freshest New Businesses To Open In ChicagoFrom a tapas bar to a sushi spot read on for a list of the newest destinations to make their debut near you.Trend Alert: What's Heating Up Chicago's Food Scene This MonthWant the intel on Chicago's most happening local spots? More Station Info CBS 2/Send TipsAdvertiseJobs & InternshipsContests Connect SocialCBS Local AppCBS Weather App Travel Heading To An NFL Game? Be Sure To Check Out Our NFL Stadium GuidesIf you and your family are headed to an NFL game this season, we have you covered with guides to stadiums across the league.Top 3 Eco-Friendly Vacation SpotsCheck out the three best spots for an eco-friendly vacation!Final Four Guide: Top 10 Most Instagram-Worthy Spots In Downtown MinneapolisWith thousands of Final Four fans heading to downtown Minneapolis in the coming days, you better believe the Instagram filters will be flying. More CBS Entertainment CBS 2On Air On Air Schedule:3:00 PMDr. Phil4:00 PMJudge Judy4:30 PMJudge Judy5:00 PMCBS 2 News at 5pm5:30 PMCBS Evening News with Norah O'Donnell View All Programs Man Stabbed After His Granddaughter And Three Other Teens Enter, Rob His Home December 18, 2019 at 2:30 pmFiled Under:Local TV, talkersHAZEL DELL, Wash. (CBS Local) — A Washington state man was stabbed in the neck and robbed by a group of teenagers, including his granddaughter, on Monday night, police said. The victim, 66, told investigators he was inside his home in Hazel Dell, Washington, when his granddaughter and three other teens entered the house, assaulted him and left with his car, wallet and cellphone. He was treated at a nearby hospital for life-threatening injuries. Officers tracked down the stolen vehicle in Seaside, Oregon, and pursued it. The car crashed into a swamp area and three of the suspects were arrested. The fourth suspect ran off and approached the home of Adam Israel, who said he was aware of police activity in the area. @ClarkCoSheriff responded to robbery yesterday near 83rd/26th. Deputies found a 66 y/o man stabbed in the neck. The victim told deputies his granddaughter and 3 other teens assaulted him and stole his wallet, phone and car. They were arrested in Clatsop Co. @KOINNews pic.twitter.com/zwNh7NKBDO — Jacquelyn Abad (@JacquelynAbadTV) December 17, 2019 “He walks up on my front porch and starts banging on my door and ringing the doorbell” Israel told CBS affiliate KOIN. “I grabbed my firearm and tell my family to get upstairs.” After walking around the porch and kicking the door, the suspect left. Israel watched him go to a nearby house to ask for dry clothing. The woman who answered the door turned him away. “He needed medical assistance because it was really cold last night — it was probably in the low 30s,” he said. Officers arrested the fourth suspect about 90 minutes later. One of the suspects, aged between 14 and 17 years old, was treated for minor injuries before being released back to authorities. Two of the suspects, both 17-year-old boys, are facing first-degree robbery and second-degree attempted murder charges, KATU reported. Follow Us facebook_urltwitter_urlyoutube_urlreddit_urllinkedin_url Our | NewsletterMost Viewed Bed Bugs Infuriate Residents At Arlington Heights Complex With 'World Class Amenities' Boy, 8, Found Dead In Closet In Lawndale; Police Say Suicide Is Likely Kankakee Catholic School Girls' Basketball Team Appalled By Racist And Body-Shaming Taunts At Elgin Game Police Chase Stolen Squad Car From Matteson To Harvey, Suspect Still At Large MISSING: Christian Salazar, 14, Of West Rogers Park Indiana Man Offered Plea Deal In Accidental Death Of Granddaughter On Cruise Ship In Puerto Rico Detectives Locate Vehicle In Slaying Of 16-Year-Old Angie Monroy In Little Village Owner Of Stolen Jeep Won't Press Charges Against Survivors Of Deadly Fernwood Crash Adrian Gutierrez, 32, Charged With Attacking Woman During Logan Square Crime Spree Follow Us FacebookTwitterYouTubeRedditLinkedIn News Chicago NewsInvestigativePoliticsConsumerHealthWatchEntertainment Sports Chicago SportsBullsCubsWhite SoxBearsBlackhawks Other Chicago WeatherBest OfOnly CBSTravel Contact Us CBS 2ConnectAdvertiseContest & Promotion Rules Corporate About UsAdvertiseAd ChoicesCBS Television Jobs ©2019 CBS Broadcasting Inc. All Rights Reserved. Powered by WordPress.com VIP By viewing our video content, you are accepting the terms of our Video Services Policy Privacy Policy Terms of Use California Privacy/Info We Collect California Do Not Sell My Info Mobile User Agreement Public File for WBBM-TV / CBS 2 Public Inspection File Help EEO Report\n",
      "\n"
     ]
    }
   ],
   "source": [
    "extractor_test(files[0], df)"
   ]
  },
  {
   "cell_type": "markdown",
   "metadata": {},
   "source": [
    "Fixed. Looking much better. Let's write generator to stream: "
   ]
  },
  {
   "cell_type": "code",
   "execution_count": 14,
   "metadata": {},
   "outputs": [],
   "source": [
    "def extractor_test_yield(uri, doms):\n",
    "    # Specificy parser to remove blanks\n",
    "    parser = HTMLParser(remove_blank_text=True)\n",
    "    # Instantiate Cleaner to strip scripts, styles and links for our purposes\n",
    "    cleaner = Cleaner(scripts=True, javascript=True, style=True, links=True)\n",
    "    \n",
    "    # get bad domains\n",
    "    news_doms = doms[doms.label!='other'].domain.tolist()\n",
    "    with open(uri, 'rb') as stream:\n",
    "        for i, record in enumerate(ArchiveIterator(stream)):\n",
    "            if record.rec_type == 'response':\n",
    "                warc_uri = record.rec_headers.get_header('WARC-Target-URI')\n",
    "                domain = urlparse(warc_uri).netloc\n",
    "                \n",
    "                if domain in news_doms:\n",
    "                    #df.at[0,'A']\n",
    "                    domain_cat = doms[doms.domain == domain].label.values[0]\n",
    "                    content = record.content_stream().read()\n",
    "                    tree = fromstring(content, parser=parser)\n",
    "                    try:\n",
    "                        parsed_lang = tree.get(\"lang\")\n",
    "                    except TypeError:\n",
    "                        parsed_lang = None\n",
    "                    if parsed_lang is None or parsed_lang[:2].lower() ==  'en':\n",
    "                        \n",
    "                        try:\n",
    "                            title = tree.xpath(\"//title/text()\")\n",
    "                            title = title[0] if title else None\n",
    "                            description = tree.xpath(\"//meta[@name='description']/@content\")\n",
    "                            description = description[0] if description else None\n",
    "                            keywords = tree.xpath(\"//meta[@name='keywords']/@content\")\n",
    "                            news_keywords = tree.xpath(\"//meta[@name='news_keywords']/@content\")\n",
    "\n",
    "                            tree = cleaner.clean_html(tree)\n",
    "                            text = tree.text_content().strip()\n",
    "                            text = \" \".join(text.split())\n",
    "                    \n",
    "                        except:\n",
    "                            pass\n",
    "                    yield [warc_uri, domain_cat, title, description, keywords, news_keywords, text]\n",
    "\n",
    "            if i == 10:\n",
    "                break"
   ]
  },
  {
   "cell_type": "code",
   "execution_count": 15,
   "metadata": {},
   "outputs": [],
   "source": [
    "some_results = [result for result in extractor_test_yield(files[0], df)]"
   ]
  },
  {
   "cell_type": "code",
   "execution_count": 16,
   "metadata": {},
   "outputs": [
    {
     "data": {
      "text/plain": [
       "[['https://chicago.cbslocal.com/2019/12/18/man-stabbed-after-his-granddaughter-three-other-teens-enter-rob-his-home/',\n",
       "  'sports',\n",
       "  'Man Stabbed After His Granddaughter And Three Other Teens Enter, Rob His Home – CBS Chicago',\n",
       "  \"A man's granddaughter is one of four teens accused of stabbing him in the neck and stealing his car before crashing it on Monday night.\",\n",
       "  ['grandfather, granddaughter, teen, teens, home invasion, house, stabbed, assault, assaulted, robbery, car, wallet, cellphone, hazel dell, washington, seaside, oregon, police, pursuit'],\n",
       "  ['grandfather, granddaughter, teen, teens, home invasion, house, stabbed, assault, assaulted, robbery, car, wallet, cellphone, hazel dell, washington, seaside, oregon, police, pursuit'],\n",
       "  \"Man Stabbed After His Granddaughter And Three Other Teens Enter, Rob His Home – CBS Chicago Menu Videos Drugstore Fencing Ring Stolen GoodsMerchandise recovered from a fencing ring that took in stolen goods from drugstores and sold them online. (Credit: Wilmette Police)1 hour agoATM Stolen Stolen From Barber Shop In Belmont CraginShattered glass covered the ground at Chicago Fades near Belmont and Central, just after 4 a.m. Wednesday.7 hours ago More ContestsOnly CBSTravel News All News Chicago NewsInvestigativePoliticsBusinessConsumerEntertainmentHealthWatchPhotosAutosOnly CBS Latest Headlines R. Kelly Pleads Not Guilty To Bribery Charge In Video Appearance In NYC Courtroom From ChicagoR. Kelly pleaded not guilty Wednesday to bribery charges connected to his 1994 marriage to the late singer Aaliyah – who was a teenager at the time.Chiacgo Weather: A Warming Trend On The WayIt will remain chilly Wednesday afternoon, even with the sunshine. Fencing Ring Took Merchandise Stolen From Drugstores Around Chicago Area And Sold It Online, Police SayPolice in Wilmette announced Wednesday that they have busted a sophisticated fencing operation – in which they say the suspects took in stolen merchandise from retail stores and sold them online.City Council Rejects Black Caucus Bid To Delay Recreational Marijuana Sales By 6 MonthsFollowing a heated debate at City Hall, and multiple parliamentary votes on City Council procedures, aldermen on Wednesday voted down a bid by the Black Caucus to delay recreational marijuana sales in Chicago by six months. Weather Weather Links Chicago School ClosingsFlight Delays O'HareFlight Delays MidwayWeather App More Weather Chiacgo Weather: A Warming Trend On The WayIt will remain chilly Wednesday afternoon, even with the sunshine. Chicago Weather: Arctic Blast Brings Single Digit Temps, Warmup On The WayAn arctic blast has left the Chicago area with single digit temperatures.Chicago Weather: Arctic Cold Front Coming This WayAn Arctic cold front was over central Wisconsin Tuesday afternoon and is coming this way. Sports Featured Sports 2019 CBS Sports Classic: Matchups, Key Players And How To WatchWith the UNC-UCLA and #5 Ohio State-#6 Kentucky matchups, the 2019 CBS Sports Classic features some of college basketball's biggest name programs.3 Chicago Bears Named To Pro BowlBears Linebacker Khalil Mack, safety Eddie Jackson and special teamer Cordarrelle Patterson have been voted to the Pro Bowl, which will be played Jan. 26, 2020 at Camping World Stadium in Orlando, Florida. North Central College Fired Up To Vie For Division III NCAA ChampionshipChicago’s pro teams may not be doing much well right now, but a local college team is playing for a national championship on Friday nightFantasy Football Waiver Wire Week 16: Breshad Perriman Top Priority Add This WeekThe Buccaneers injuries at wide receiver have opened the door for the former first round pick to potentially thrive.Chicago White Sox Welcome Children's Home & Aid Holiday CelebrationThe Chicago White Sox continued the season of giving by welcoming the Children’s Home & Aid community for a holiday party at Guaranteed Rate Field.Bulls Blow 26-Point Lead, Lose To Oklahoma City ThunderThe Bulls played their best first half of basketball of the season Monday night, but that was only half the story. VideoBest Of Latest Headlines Are These Trending Chicago Restaurants On Your Radar?Wondering where Chicago's insiders are eating and drinking?Explore The 3 Freshest New Businesses To Debut In Chicago4 Events To Check Out In Chicago This WeekLooking for something to do this week?5 Great Music Events In Chicago This WeekendGet To Know The Freshest New Businesses To Open In ChicagoFrom a tapas bar to a sushi spot read on for a list of the newest destinations to make their debut near you.Trend Alert: What's Heating Up Chicago's Food Scene This MonthWant the intel on Chicago's most happening local spots? More Station Info CBS 2/Send TipsAdvertiseJobs & InternshipsContests Connect SocialCBS Local AppCBS Weather App Travel Heading To An NFL Game? Be Sure To Check Out Our NFL Stadium GuidesIf you and your family are headed to an NFL game this season, we have you covered with guides to stadiums across the league.Top 3 Eco-Friendly Vacation SpotsCheck out the three best spots for an eco-friendly vacation!Final Four Guide: Top 10 Most Instagram-Worthy Spots In Downtown MinneapolisWith thousands of Final Four fans heading to downtown Minneapolis in the coming days, you better believe the Instagram filters will be flying. More CBS Entertainment CBS 2On Air On Air Schedule:3:00 PMDr. Phil4:00 PMJudge Judy4:30 PMJudge Judy5:00 PMCBS 2 News at 5pm5:30 PMCBS Evening News with Norah O'Donnell View All Programs Man Stabbed After His Granddaughter And Three Other Teens Enter, Rob His Home December 18, 2019 at 2:30 pmFiled Under:Local TV, talkersHAZEL DELL, Wash. (CBS Local) — A Washington state man was stabbed in the neck and robbed by a group of teenagers, including his granddaughter, on Monday night, police said. The victim, 66, told investigators he was inside his home in Hazel Dell, Washington, when his granddaughter and three other teens entered the house, assaulted him and left with his car, wallet and cellphone. He was treated at a nearby hospital for life-threatening injuries. Officers tracked down the stolen vehicle in Seaside, Oregon, and pursued it. The car crashed into a swamp area and three of the suspects were arrested. The fourth suspect ran off and approached the home of Adam Israel, who said he was aware of police activity in the area. @ClarkCoSheriff responded to robbery yesterday near 83rd/26th. Deputies found a 66 y/o man stabbed in the neck. The victim told deputies his granddaughter and 3 other teens assaulted him and stole his wallet, phone and car. They were arrested in Clatsop Co. @KOINNews pic.twitter.com/zwNh7NKBDO — Jacquelyn Abad (@JacquelynAbadTV) December 17, 2019 “He walks up on my front porch and starts banging on my door and ringing the doorbell” Israel told CBS affiliate KOIN. “I grabbed my firearm and tell my family to get upstairs.” After walking around the porch and kicking the door, the suspect left. Israel watched him go to a nearby house to ask for dry clothing. The woman who answered the door turned him away. “He needed medical assistance because it was really cold last night — it was probably in the low 30s,” he said. Officers arrested the fourth suspect about 90 minutes later. One of the suspects, aged between 14 and 17 years old, was treated for minor injuries before being released back to authorities. Two of the suspects, both 17-year-old boys, are facing first-degree robbery and second-degree attempted murder charges, KATU reported. Follow Us facebook_urltwitter_urlyoutube_urlreddit_urllinkedin_url Our | NewsletterMost Viewed Bed Bugs Infuriate Residents At Arlington Heights Complex With 'World Class Amenities' Boy, 8, Found Dead In Closet In Lawndale; Police Say Suicide Is Likely Kankakee Catholic School Girls' Basketball Team Appalled By Racist And Body-Shaming Taunts At Elgin Game Police Chase Stolen Squad Car From Matteson To Harvey, Suspect Still At Large MISSING: Christian Salazar, 14, Of West Rogers Park Indiana Man Offered Plea Deal In Accidental Death Of Granddaughter On Cruise Ship In Puerto Rico Detectives Locate Vehicle In Slaying Of 16-Year-Old Angie Monroy In Little Village Owner Of Stolen Jeep Won't Press Charges Against Survivors Of Deadly Fernwood Crash Adrian Gutierrez, 32, Charged With Attacking Woman During Logan Square Crime Spree Follow Us FacebookTwitterYouTubeRedditLinkedIn News Chicago NewsInvestigativePoliticsConsumerHealthWatchEntertainment Sports Chicago SportsBullsCubsWhite SoxBearsBlackhawks Other Chicago WeatherBest OfOnly CBSTravel Contact Us CBS 2ConnectAdvertiseContest & Promotion Rules Corporate About UsAdvertiseAd ChoicesCBS Television Jobs ©2019 CBS Broadcasting Inc. All Rights Reserved. Powered by WordPress.com VIP By viewing our video content, you are accepting the terms of our Video Services Policy Privacy Policy Terms of Use California Privacy/Info We Collect California Do Not Sell My Info Mobile User Agreement Public File for WBBM-TV / CBS 2 Public Inspection File Help EEO Report\"],\n",
       " ['http://www.releasewire.com/press-releases/release-9742.htm',\n",
       "  'news',\n",
       "  'Commence Industrial CRM Achieves Sales Optimization | Dec 21, 2006 - ReleaseWire',\n",
       "  None,\n",
       "  [],\n",
       "  [],\n",
       "  \"Commence Industrial CRM Achieves Sales Optimization | Dec 21, 2006 - ReleaseWire ReleaseWire Sign Up Login Services Distribution NewsWire MediaWire SBWire Engagement CRM Connect Publisher Media Monitoring SenFluence For Journalists Journalists Center Process Create Distribute Analyze Respond Newsroom Press Releases Multimedia Help About Commence Email Alerts| RSS Commence Industrial CRM Achieves Sales Optimization Commence Industrial CRM Achieves Sales Optimization Tinton Falls, NJ -- (ReleaseWire) -- 12/21/2006 --Commence offers a customer relationship management solution that is focused on solving the issues facing today's manufacturers and distributors. The Commence solution is designed to meet the following objectives: • Streamline internal business processes • Execution of a structured approach for optimizing the sales process • Delight your customers with world-class customer service According to Larry Caretsky, President of Commence Corporation (www.commence.com/mfg/), “Contrary to popular belief all CRM solutions are not alike. Manufacturers and distributors are beginning to realize that they don’t’ need overly complex or costly solutions to efficiently manage customer relationships. These organizations are beginning to turn their attention to more affordable, easier to use solutions that address their industry specific business requirements.” The CRM industry has been plagued by vendors offering overly complex solutions to solve basic business problems. This has resulted in a low adoption rate and failed customer expectations. The concern for most businesses today is not a lack of technology, but rather how they can leverage technology to improve their internal processes and ultimately their bottom line. Commence has taken a unique approach to meeting these objectives beginning with the fundamental knowledge that most small to mid-size manufacturers and distributors must first address the problem of data capture, data consolidation and data sharing. The issue they face is that vital customer information is spread throughout their organization in contact managers, back office systems and excel spreadsheets and is often difficult to attain. Employees spend a significant amount of time trying to determine where or who in the organization has the information they need to address customer inquiries. This robs sales and service people of precious time during their day. Caretsky assures that “Industrial management recognizes this problem and realizes that in order to become a more efficient sales and service organization they must get the right information in the hands of the right people at the right time.” Commence offers lean industrial companies complete “Freedom Of Choice” to select the solutions and platform that best meets the business requirements of manufacturers and distributors. The comprehensive CRM Industrial application suite is available for use on premise or on-demand as a hosted service. Industrial leaders often build departmental lean CRM solutions with the award winning Commence Lean Industrial CRM Framework. These choices are why so many industrial companies choose Commence as the solution for managing customer relationships. All Commence Industrial solutions support mobile or wireless connectivity and integration to back-office accounting and ERP systems. Media Relations Contact Larry Caretsky PresidentCommence732-380-9100 Email | Web | Profile Follow Commence Source: Commence Posted Thursday, December 21, 2006 at 10:13 AM CST - Permalink For information regarding the content of this press release please contact the media relations contact listed above directly. Privacy Policy | Cookie Policy | Terms of Service | Report Abuse Copyright © 2005 - 2019 - ReleaseWire LLC All Rights Reserved - Important Disclaimer Try it now with OnDemand\"],\n",
       " ['https://www.kark.com/news/national-news/1-dead-2-injured-in-oregon-shopping-center-stabbing/',\n",
       "  'news',\n",
       "  '1 dead, 2 injured in Oregon shopping center stabbing | KARK',\n",
       "  'Multiple people were stabbed at the Murray Hill shopping center in Beaverton, police tweeted.',\n",
       "  [],\n",
       "  [],\n",
       "  \"1 dead, 2 injured in Oregon shopping center stabbing | KARK Skip to content KARK Little Rock 51° Sponsored By Search Primary Menu News Local News State News Capitol View Politics KARK 4 Today Arkansas Today Traffic National News Washington DC Bureau Business Entertainment Victory over Violence Weird News Newsfeed Now Border Report Tour Top Stories Domestic violence shelter shares heartbreaking letter to Santa from 7-year-old Center for Arkansas Legal Services awarded $500,000 for 2019 disaster relief grant Peyton Manning and Dallas Cowboys stop in Stuttgart! 1 dead, 2 injured in Oregon shopping center stabbing Weather Map Center NE Arkansas Forecast NW Arkansas Forecast SE Arkansas Forecast SW Arkansas Forecast Closings and Delays Weather Headlines Arkansas Storm Chasers Your Weather Photos Pig Trail Nation Hogville SEC Football Fearless Friday Golf NFL MLB The Big Game Japan 2020 Keep On Amazing AR Pros Home Improvement Pros Health Pros Real Estate Pros Retail Pros Automotive Pros Legal Pros AR Careers Contests Community Clear the Shelters Recipes Showcase Missing Persons Most Wanted Susanne Brunner’s Book-A-Thon: 10 Books. 10 Weeks. No Text Zone Gas Tracker Local Events CSAs Daily Horoscopes Daily Pledge AR Scholarship Lottery Veterans Voices Home for the Holidays Santa Shops Local Lone Star NYE 2020 Military Greetings Santa Tracker About Us Contact Us Meet the Team TV Schedule What is on NBC Advertise With Us Work For Us Search Search Search 1 dead, 2 injured in Oregon shopping center stabbing National News Police on scene in Murray Hill neighborhood by: KOIN 6 News Staff Posted: Dec 18, 2019 / 02:27 PM CST / Updated: Dec 18, 2019 / 02:27 PM CST BEAVERTON, Ore. – One person is reported dead after multiple people were stabbed in an incident at a local shopping center. It happened around 11:30 Wednesday morning in the Murray Hill area of Beaverton, reports our sister station KOIN 6 News. Less than an hour after first tweeting about the incident, the Beaverton Police Department reported there was a suspect in custody. The stabbing victims were taken to the hospital, but there was no further word on their condition. Beaverton is just west of Portland. Copyright 2019 Nexstar Broadcasting, Inc. All rights reserved. This material may not be published, broadcast, rewritten, or redistributed. Share this story More National News Stories Domestic violence shelter shares heartbreaking letter to Santa from 7-year-old Dec 18, 2019 FORT WORTH, Texas (WCMH) — A Texas domestic violence shelter is sharing a child's heartbreaking letter to Santa. According to SafeHaven of Tarrant County, the letter was found in the backpack of a 7-year-old child who is staying in a domestic violence shelter with his mother. The shelter shared the letter on Facebook in hopes of raising money for other families. Read the Full Article Stabbing at Oregon shopping center kills 1, wounds others Dec 18, 2019 BEAVERTON, Ore. (AP) — An attacker stabbed multiple people at a suburban Portland shopping center Wednesday, killing one person and wounding others before being apprehended, authorities said. Police in the city of Beaverton said that at least one person was stabbed inside a Wells Fargo bank and that multiple people were taken to hospitals. Read the Full Article Ailing former WorldCom CEO ordered freed from prison Dec 18, 2019 NEW YORK (AP) — A former top executive sentenced to 25 years in prison in one of the largest corporate accounting scandals in U.S. history was ordered freed from prison Wednesday for medical reasons. U.S. District Judge Valerie E. Caproni ordered the release of former WorldCom chief Bernard Ebbers after hearing lawyers discuss his medical condition. Ebbers was not in court and his lawyers said he was hospitalized Wednesday. Read the Full Article More Stories Live updates: House votes on impeachment of President Donald Trump Top Stories / 8 hours ago Shedding light on a topic to bring people out of the darkness Local News / 7 seconds ago Center for Arkansas Legal Services awarded $500,000 for 2019 disaster relief grant Local News / 30 mins ago Peyton Manning and Dallas Cowboys stop in Stuttgart! Local News / 23 mins ago Read more stories Arkansas State Fair Thanksgiving Taco Desserts Sweet Bacon Cake Stuffed Jalapenos Dill Pickle Corndog Monster Limo Kona Ice Funnel Cake Burger Fried Lasagna Fried Donuts Crawfish Pies Corn Dogs Pineapple Twist Don't Miss Anchors Away Don't Miss / 5 months ago Contests Don't Miss / 3 months ago Keep On Amazing Don't Miss / 3 months ago Missing Persons Don't Miss / 3 months ago Arkansas Professionals Don't Miss / 3 months ago More Don't Miss Follow Us Facebook Twitter YouTube Email News App Weather App News Weather Contests Keep On Amazing AR Pros AR Careers About Us Terms of Use Privacy Policy EEO Report KARK Public File KARZ Public File KARZ2 Public File Nexstar CC Certification © 1998 - 2019 Nexstar Broadcasting, Inc. | All Rights Reserved. × Close Ad\"],\n",
       " ['https://www.eonline.com/ar/news/1104024/mira-a-harry-styles-llorando-por-culpa-de-ellen-degeneres',\n",
       "  'entertainment',\n",
       "  '1 dead, 2 injured in Oregon shopping center stabbing | KARK',\n",
       "  'Multiple people were stabbed at the Murray Hill shopping center in Beaverton, police tweeted.',\n",
       "  [],\n",
       "  [],\n",
       "  \"1 dead, 2 injured in Oregon shopping center stabbing | KARK Skip to content KARK Little Rock 51° Sponsored By Search Primary Menu News Local News State News Capitol View Politics KARK 4 Today Arkansas Today Traffic National News Washington DC Bureau Business Entertainment Victory over Violence Weird News Newsfeed Now Border Report Tour Top Stories Domestic violence shelter shares heartbreaking letter to Santa from 7-year-old Center for Arkansas Legal Services awarded $500,000 for 2019 disaster relief grant Peyton Manning and Dallas Cowboys stop in Stuttgart! 1 dead, 2 injured in Oregon shopping center stabbing Weather Map Center NE Arkansas Forecast NW Arkansas Forecast SE Arkansas Forecast SW Arkansas Forecast Closings and Delays Weather Headlines Arkansas Storm Chasers Your Weather Photos Pig Trail Nation Hogville SEC Football Fearless Friday Golf NFL MLB The Big Game Japan 2020 Keep On Amazing AR Pros Home Improvement Pros Health Pros Real Estate Pros Retail Pros Automotive Pros Legal Pros AR Careers Contests Community Clear the Shelters Recipes Showcase Missing Persons Most Wanted Susanne Brunner’s Book-A-Thon: 10 Books. 10 Weeks. No Text Zone Gas Tracker Local Events CSAs Daily Horoscopes Daily Pledge AR Scholarship Lottery Veterans Voices Home for the Holidays Santa Shops Local Lone Star NYE 2020 Military Greetings Santa Tracker About Us Contact Us Meet the Team TV Schedule What is on NBC Advertise With Us Work For Us Search Search Search 1 dead, 2 injured in Oregon shopping center stabbing National News Police on scene in Murray Hill neighborhood by: KOIN 6 News Staff Posted: Dec 18, 2019 / 02:27 PM CST / Updated: Dec 18, 2019 / 02:27 PM CST BEAVERTON, Ore. – One person is reported dead after multiple people were stabbed in an incident at a local shopping center. It happened around 11:30 Wednesday morning in the Murray Hill area of Beaverton, reports our sister station KOIN 6 News. Less than an hour after first tweeting about the incident, the Beaverton Police Department reported there was a suspect in custody. The stabbing victims were taken to the hospital, but there was no further word on their condition. Beaverton is just west of Portland. Copyright 2019 Nexstar Broadcasting, Inc. All rights reserved. This material may not be published, broadcast, rewritten, or redistributed. Share this story More National News Stories Domestic violence shelter shares heartbreaking letter to Santa from 7-year-old Dec 18, 2019 FORT WORTH, Texas (WCMH) — A Texas domestic violence shelter is sharing a child's heartbreaking letter to Santa. According to SafeHaven of Tarrant County, the letter was found in the backpack of a 7-year-old child who is staying in a domestic violence shelter with his mother. The shelter shared the letter on Facebook in hopes of raising money for other families. Read the Full Article Stabbing at Oregon shopping center kills 1, wounds others Dec 18, 2019 BEAVERTON, Ore. (AP) — An attacker stabbed multiple people at a suburban Portland shopping center Wednesday, killing one person and wounding others before being apprehended, authorities said. Police in the city of Beaverton said that at least one person was stabbed inside a Wells Fargo bank and that multiple people were taken to hospitals. Read the Full Article Ailing former WorldCom CEO ordered freed from prison Dec 18, 2019 NEW YORK (AP) — A former top executive sentenced to 25 years in prison in one of the largest corporate accounting scandals in U.S. history was ordered freed from prison Wednesday for medical reasons. U.S. District Judge Valerie E. Caproni ordered the release of former WorldCom chief Bernard Ebbers after hearing lawyers discuss his medical condition. Ebbers was not in court and his lawyers said he was hospitalized Wednesday. Read the Full Article More Stories Live updates: House votes on impeachment of President Donald Trump Top Stories / 8 hours ago Shedding light on a topic to bring people out of the darkness Local News / 7 seconds ago Center for Arkansas Legal Services awarded $500,000 for 2019 disaster relief grant Local News / 30 mins ago Peyton Manning and Dallas Cowboys stop in Stuttgart! Local News / 23 mins ago Read more stories Arkansas State Fair Thanksgiving Taco Desserts Sweet Bacon Cake Stuffed Jalapenos Dill Pickle Corndog Monster Limo Kona Ice Funnel Cake Burger Fried Lasagna Fried Donuts Crawfish Pies Corn Dogs Pineapple Twist Don't Miss Anchors Away Don't Miss / 5 months ago Contests Don't Miss / 3 months ago Keep On Amazing Don't Miss / 3 months ago Missing Persons Don't Miss / 3 months ago Arkansas Professionals Don't Miss / 3 months ago More Don't Miss Follow Us Facebook Twitter YouTube Email News App Weather App News Weather Contests Keep On Amazing AR Pros AR Careers About Us Terms of Use Privacy Policy EEO Report KARK Public File KARZ Public File KARZ2 Public File Nexstar CC Certification © 1998 - 2019 Nexstar Broadcasting, Inc. | All Rights Reserved. × Close Ad\"]]"
      ]
     },
     "execution_count": 16,
     "metadata": {},
     "output_type": "execute_result"
    }
   ],
   "source": [
    "some_results"
   ]
  },
  {
   "cell_type": "markdown",
   "metadata": {},
   "source": [
    "#### Commentary\n",
    "Looks Good. Now let's run it on the whole file"
   ]
  },
  {
   "cell_type": "code",
   "execution_count": 17,
   "metadata": {},
   "outputs": [],
   "source": [
    "def extractor(uri, doms):\n",
    "    # Specificy parser to remove blanks\n",
    "    parser = HTMLParser(remove_blank_text=True)\n",
    "    # Instantiate Cleaner to strip scripts, styles and links for our purposes\n",
    "    cleaner = Cleaner(scripts=True, javascript=True, style=True, links=True)\n",
    "    \n",
    "    # get bad domains\n",
    "    news_doms = doms[doms.label!='other'].domain.tolist()\n",
    "    with open(uri, 'rb') as stream:\n",
    "        for i, record in enumerate(ArchiveIterator(stream)):\n",
    "            if record.rec_type == 'response':\n",
    "                warc_uri = record.rec_headers.get_header('WARC-Target-URI')\n",
    "                domain = urlparse(warc_uri).netloc\n",
    "                \n",
    "                if domain in news_doms:\n",
    "                    domain_cat = doms[doms.domain == domain].label.values[0]\n",
    "                    content = record.content_stream().read()\n",
    "                    tree = fromstring(content, parser=parser)\n",
    "                    try:\n",
    "                        parsed_lang = tree.get(\"lang\")\n",
    "                    except TypeError:\n",
    "                        parsed_lang = None\n",
    "                    if parsed_lang is None or parsed_lang[:2].lower() ==  'en':\n",
    "                        \n",
    "                        try:\n",
    "                            title = tree.xpath(\"//title/text()\")\n",
    "                            title = title[0] if title else None\n",
    "                            description = tree.xpath(\"//meta[@name='description']/@content\")\n",
    "                            description = description[0] if description else None\n",
    "                            keywords = tree.xpath(\"//meta[@name='keywords']/@content\")\n",
    "                            news_keywords = tree.xpath(\"//meta[@name='news_keywords']/@content\")\n",
    "\n",
    "                            tree = cleaner.clean_html(tree)\n",
    "                            text = tree.text_content().strip()\n",
    "                            text = \" \".join(text.split())\n",
    "                    \n",
    "                        except:\n",
    "                            pass\n",
    "                    yield [warc_uri, domain_cat, title, description, keywords, news_keywords, text]"
   ]
  },
  {
   "cell_type": "code",
   "execution_count": 18,
   "metadata": {},
   "outputs": [
    {
     "name": "stdout",
     "output_type": "stream",
     "text": [
      "\u001b[32m2020-01-08 17:27:20\u001b[0m | \u001b[1mINFO    \u001b[0m | \u001b[36m__main__\u001b[0m:\u001b[36m<module>\u001b[0m:\u001b[36m4\u001b[0m - \u001b[1mIt took 00:01:34 to run this script!\u001b[0m\n"
     ]
    }
   ],
   "source": [
    "start_time = time()\n",
    "first_file_data = [result for result in extractor(files[0], df)]\n",
    "elapsed = strftime(\"%H:%M:%S\", gmtime(time() - start_time))\n",
    "logger.info(f'It took {elapsed} to run this script!')\n",
    "os.system(\"play /usr/share/sounds/sound-icons/trumpet-1.wav\")"
   ]
  },
  {
   "cell_type": "code",
   "execution_count": null,
   "metadata": {},
   "outputs": [],
   "source": [
    "len(first_file_data)"
   ]
  },
  {
   "cell_type": "code",
   "execution_count": 20,
   "metadata": {},
   "outputs": [
    {
     "data": {
      "text/plain": [
       "['https://chicago.cbslocal.com/2019/12/18/man-stabbed-after-his-granddaughter-three-other-teens-enter-rob-his-home/',\n",
       " 'sports',\n",
       " 'Man Stabbed After His Granddaughter And Three Other Teens Enter, Rob His Home – CBS Chicago',\n",
       " \"A man's granddaughter is one of four teens accused of stabbing him in the neck and stealing his car before crashing it on Monday night.\",\n",
       " ['grandfather, granddaughter, teen, teens, home invasion, house, stabbed, assault, assaulted, robbery, car, wallet, cellphone, hazel dell, washington, seaside, oregon, police, pursuit'],\n",
       " ['grandfather, granddaughter, teen, teens, home invasion, house, stabbed, assault, assaulted, robbery, car, wallet, cellphone, hazel dell, washington, seaside, oregon, police, pursuit'],\n",
       " \"Man Stabbed After His Granddaughter And Three Other Teens Enter, Rob His Home – CBS Chicago Menu Videos Drugstore Fencing Ring Stolen GoodsMerchandise recovered from a fencing ring that took in stolen goods from drugstores and sold them online. (Credit: Wilmette Police)1 hour agoATM Stolen Stolen From Barber Shop In Belmont CraginShattered glass covered the ground at Chicago Fades near Belmont and Central, just after 4 a.m. Wednesday.7 hours ago More ContestsOnly CBSTravel News All News Chicago NewsInvestigativePoliticsBusinessConsumerEntertainmentHealthWatchPhotosAutosOnly CBS Latest Headlines R. Kelly Pleads Not Guilty To Bribery Charge In Video Appearance In NYC Courtroom From ChicagoR. Kelly pleaded not guilty Wednesday to bribery charges connected to his 1994 marriage to the late singer Aaliyah – who was a teenager at the time.Chiacgo Weather: A Warming Trend On The WayIt will remain chilly Wednesday afternoon, even with the sunshine. Fencing Ring Took Merchandise Stolen From Drugstores Around Chicago Area And Sold It Online, Police SayPolice in Wilmette announced Wednesday that they have busted a sophisticated fencing operation – in which they say the suspects took in stolen merchandise from retail stores and sold them online.City Council Rejects Black Caucus Bid To Delay Recreational Marijuana Sales By 6 MonthsFollowing a heated debate at City Hall, and multiple parliamentary votes on City Council procedures, aldermen on Wednesday voted down a bid by the Black Caucus to delay recreational marijuana sales in Chicago by six months. Weather Weather Links Chicago School ClosingsFlight Delays O'HareFlight Delays MidwayWeather App More Weather Chiacgo Weather: A Warming Trend On The WayIt will remain chilly Wednesday afternoon, even with the sunshine. Chicago Weather: Arctic Blast Brings Single Digit Temps, Warmup On The WayAn arctic blast has left the Chicago area with single digit temperatures.Chicago Weather: Arctic Cold Front Coming This WayAn Arctic cold front was over central Wisconsin Tuesday afternoon and is coming this way. Sports Featured Sports 2019 CBS Sports Classic: Matchups, Key Players And How To WatchWith the UNC-UCLA and #5 Ohio State-#6 Kentucky matchups, the 2019 CBS Sports Classic features some of college basketball's biggest name programs.3 Chicago Bears Named To Pro BowlBears Linebacker Khalil Mack, safety Eddie Jackson and special teamer Cordarrelle Patterson have been voted to the Pro Bowl, which will be played Jan. 26, 2020 at Camping World Stadium in Orlando, Florida. North Central College Fired Up To Vie For Division III NCAA ChampionshipChicago’s pro teams may not be doing much well right now, but a local college team is playing for a national championship on Friday nightFantasy Football Waiver Wire Week 16: Breshad Perriman Top Priority Add This WeekThe Buccaneers injuries at wide receiver have opened the door for the former first round pick to potentially thrive.Chicago White Sox Welcome Children's Home & Aid Holiday CelebrationThe Chicago White Sox continued the season of giving by welcoming the Children’s Home & Aid community for a holiday party at Guaranteed Rate Field.Bulls Blow 26-Point Lead, Lose To Oklahoma City ThunderThe Bulls played their best first half of basketball of the season Monday night, but that was only half the story. VideoBest Of Latest Headlines Are These Trending Chicago Restaurants On Your Radar?Wondering where Chicago's insiders are eating and drinking?Explore The 3 Freshest New Businesses To Debut In Chicago4 Events To Check Out In Chicago This WeekLooking for something to do this week?5 Great Music Events In Chicago This WeekendGet To Know The Freshest New Businesses To Open In ChicagoFrom a tapas bar to a sushi spot read on for a list of the newest destinations to make their debut near you.Trend Alert: What's Heating Up Chicago's Food Scene This MonthWant the intel on Chicago's most happening local spots? More Station Info CBS 2/Send TipsAdvertiseJobs & InternshipsContests Connect SocialCBS Local AppCBS Weather App Travel Heading To An NFL Game? Be Sure To Check Out Our NFL Stadium GuidesIf you and your family are headed to an NFL game this season, we have you covered with guides to stadiums across the league.Top 3 Eco-Friendly Vacation SpotsCheck out the three best spots for an eco-friendly vacation!Final Four Guide: Top 10 Most Instagram-Worthy Spots In Downtown MinneapolisWith thousands of Final Four fans heading to downtown Minneapolis in the coming days, you better believe the Instagram filters will be flying. More CBS Entertainment CBS 2On Air On Air Schedule:3:00 PMDr. Phil4:00 PMJudge Judy4:30 PMJudge Judy5:00 PMCBS 2 News at 5pm5:30 PMCBS Evening News with Norah O'Donnell View All Programs Man Stabbed After His Granddaughter And Three Other Teens Enter, Rob His Home December 18, 2019 at 2:30 pmFiled Under:Local TV, talkersHAZEL DELL, Wash. (CBS Local) — A Washington state man was stabbed in the neck and robbed by a group of teenagers, including his granddaughter, on Monday night, police said. The victim, 66, told investigators he was inside his home in Hazel Dell, Washington, when his granddaughter and three other teens entered the house, assaulted him and left with his car, wallet and cellphone. He was treated at a nearby hospital for life-threatening injuries. Officers tracked down the stolen vehicle in Seaside, Oregon, and pursued it. The car crashed into a swamp area and three of the suspects were arrested. The fourth suspect ran off and approached the home of Adam Israel, who said he was aware of police activity in the area. @ClarkCoSheriff responded to robbery yesterday near 83rd/26th. Deputies found a 66 y/o man stabbed in the neck. The victim told deputies his granddaughter and 3 other teens assaulted him and stole his wallet, phone and car. They were arrested in Clatsop Co. @KOINNews pic.twitter.com/zwNh7NKBDO — Jacquelyn Abad (@JacquelynAbadTV) December 17, 2019 “He walks up on my front porch and starts banging on my door and ringing the doorbell” Israel told CBS affiliate KOIN. “I grabbed my firearm and tell my family to get upstairs.” After walking around the porch and kicking the door, the suspect left. Israel watched him go to a nearby house to ask for dry clothing. The woman who answered the door turned him away. “He needed medical assistance because it was really cold last night — it was probably in the low 30s,” he said. Officers arrested the fourth suspect about 90 minutes later. One of the suspects, aged between 14 and 17 years old, was treated for minor injuries before being released back to authorities. Two of the suspects, both 17-year-old boys, are facing first-degree robbery and second-degree attempted murder charges, KATU reported. Follow Us facebook_urltwitter_urlyoutube_urlreddit_urllinkedin_url Our | NewsletterMost Viewed Bed Bugs Infuriate Residents At Arlington Heights Complex With 'World Class Amenities' Boy, 8, Found Dead In Closet In Lawndale; Police Say Suicide Is Likely Kankakee Catholic School Girls' Basketball Team Appalled By Racist And Body-Shaming Taunts At Elgin Game Police Chase Stolen Squad Car From Matteson To Harvey, Suspect Still At Large MISSING: Christian Salazar, 14, Of West Rogers Park Indiana Man Offered Plea Deal In Accidental Death Of Granddaughter On Cruise Ship In Puerto Rico Detectives Locate Vehicle In Slaying Of 16-Year-Old Angie Monroy In Little Village Owner Of Stolen Jeep Won't Press Charges Against Survivors Of Deadly Fernwood Crash Adrian Gutierrez, 32, Charged With Attacking Woman During Logan Square Crime Spree Follow Us FacebookTwitterYouTubeRedditLinkedIn News Chicago NewsInvestigativePoliticsConsumerHealthWatchEntertainment Sports Chicago SportsBullsCubsWhite SoxBearsBlackhawks Other Chicago WeatherBest OfOnly CBSTravel Contact Us CBS 2ConnectAdvertiseContest & Promotion Rules Corporate About UsAdvertiseAd ChoicesCBS Television Jobs ©2019 CBS Broadcasting Inc. All Rights Reserved. Powered by WordPress.com VIP By viewing our video content, you are accepting the terms of our Video Services Policy Privacy Policy Terms of Use California Privacy/Info We Collect California Do Not Sell My Info Mobile User Agreement Public File for WBBM-TV / CBS 2 Public Inspection File Help EEO Report\"]"
      ]
     },
     "execution_count": 20,
     "metadata": {},
     "output_type": "execute_result"
    }
   ],
   "source": [
    "first_file_data[0]"
   ]
  },
  {
   "cell_type": "markdown",
   "metadata": {},
   "source": [
    "## Leveraging Spark \n",
    "The first file took a minute and half. We can easily parallelize this function with `Pool` from `multiprocessing` package and run it in parallel, should run under 5 mins or so. However, we will leverage `Spark`'s power to do even more. \n",
    "\n",
    "Here we will run Spark as standalone. But we have to change our extraction function and wrap it around with `decorator`"
   ]
  },
  {
   "cell_type": "code",
   "execution_count": 21,
   "metadata": {},
   "outputs": [],
   "source": [
    "# Decorator\n",
    "# Wraps around the data extractor function and modifies it to return a \n",
    "# function which has the row/record of the Warc file as an argument\n",
    "def get_data_yield(f):\n",
    "    def func(warc_files):\n",
    "        for warc_file in warc_files:\n",
    "            with open(warc_file, 'rb') as stream:\n",
    "                try:\n",
    "                    for record in ArchiveIterator(stream):\n",
    "                        warc_uri = record.rec_headers.get_header('WARC-Target-URI')\n",
    "                        domain = urlparse(warc_uri).netloc\n",
    "                        if domain in doms_dict_bc.value.keys():\n",
    "                            yield from f(record)\n",
    "                except ArchiveLoadFailed:\n",
    "                    pass\n",
    "    return func"
   ]
  },
  {
   "cell_type": "code",
   "execution_count": 22,
   "metadata": {},
   "outputs": [],
   "source": [
    "@get_data_yield\n",
    "def extractor_spark(record):\n",
    "    warc_url = record.rec_headers.get_header('WARC-Target-URI')\n",
    "    dom_cat = doms_dict_bc.value[urlparse(warc_url).netloc]\n",
    "    parser = HTMLParser(remove_blank_text=True)\n",
    "    cleaner = Cleaner(scripts=True, javascript=True, style=True, links=True)\n",
    "    content = record.content_stream().read()\n",
    "    \n",
    "    try:\n",
    "        tree = fromstring(content, parser=parser)\n",
    "        parsed_lang = tree.get(\"lang\")\n",
    "    \n",
    "        if parsed_lang[:2].lower() ==  'en':\n",
    "            try:\n",
    "                title = tree.xpath(\"//title/text()\")\n",
    "                title = str(title[0]) if title else None\n",
    "                description = tree.xpath(\"//meta[@name='description']/@content\")\n",
    "                description = str(description[0]) if description else None\n",
    "                keywords = tree.xpath(\"//meta[@name='keywords']/@content\")\n",
    "                keywords = str(keywords) if keywords else None\n",
    "                news_keywords = tree.xpath(\"//meta[@name='news_keywords']/@content\")\n",
    "                news_keywords = str(news_keywords) if news_keywords else None\n",
    "                try:\n",
    "                    tree = cleaner.clean_html(tree)\n",
    "                    text = tree.text_content().strip()\n",
    "                    text = \" \".join(text.split())[:2500]  # We truncate because a) we don' need \n",
    "                                                          # the whole document for training our models\n",
    "                                                          # b) Can get Java Heap Size errors\n",
    "                except EOFError:\n",
    "                    text = None\n",
    "                yield warc_url, dom_cat, title, description, keywords, news_keywords, text\n",
    "            except:\n",
    "                pass\n",
    "                # We could catch these guys but I decided to pass them for the time being \n",
    "                #yield warc_url, None, None, None, None, None\n",
    "    except:\n",
    "        pass\n",
    "        #yield warc_url, None, None, None, None, None\n",
    "        "
   ]
  },
  {
   "cell_type": "code",
   "execution_count": 24,
   "metadata": {},
   "outputs": [],
   "source": [
    "# Kill Spark Context if we have one running already\n",
    "try:\n",
    "    sc\n",
    "except NameError:\n",
    "    pass\n",
    "else:\n",
    "    sc.stop()"
   ]
  },
  {
   "cell_type": "code",
   "execution_count": 25,
   "metadata": {},
   "outputs": [],
   "source": [
    "# Instantiate our Spark Context and SQL Sessions and configure them\n",
    "import pyspark\n",
    "from pyspark import SparkConf, SparkContext\n",
    "from pyspark.sql import SparkSession\n",
    "from pyspark.sql.types import StructType, StructField, StringType\n",
    "\n",
    "conf = SparkConf().setAppName(\"cc_news\").set(\"spark.driver.memory\",\"8g\")\n",
    "SparkContext.setSystemProperty('spark.executor.memory', '2g')\n",
    "SparkContext.setSystemProperty('spark.driver.maxResultSize', '12g')\n",
    "sc = pyspark.SparkContext(conf=conf)\n",
    "sql_context = SparkSession(sc)"
   ]
  },
  {
   "cell_type": "code",
   "execution_count": 26,
   "metadata": {},
   "outputs": [
    {
     "data": {
      "text/plain": [
       "[('spark.executor.memory', '2g'),\n",
       " ('spark.app.name', 'cc_news'),\n",
       " ('spark.rdd.compress', 'True'),\n",
       " ('spark.driver.memory', '8g'),\n",
       " ('spark.driver.port', '44009'),\n",
       " ('spark.serializer.objectStreamReset', '100'),\n",
       " ('spark.app.id', 'local-1578523088650'),\n",
       " ('spark.master', 'local[*]'),\n",
       " ('spark.executor.id', 'driver'),\n",
       " ('spark.submit.deployMode', 'client'),\n",
       " ('spark.driver.maxResultSize', '12g'),\n",
       " ('spark.driver.host', 'ozanix'),\n",
       " ('spark.ui.showConsoleProgress', 'true')]"
      ]
     },
     "execution_count": 26,
     "metadata": {},
     "output_type": "execute_result"
    }
   ],
   "source": [
    "# Get our current configuration \n",
    "sc._conf.getAll()"
   ]
  },
  {
   "cell_type": "code",
   "execution_count": 27,
   "metadata": {},
   "outputs": [],
   "source": [
    "# We will broadcast our domains and domain categories to all executors\n",
    "domains = pd.read_csv(data_folder / \"domains\" / 'domains_labeled_complete.csv')\n",
    "doms_dict = domains[domains.label != 'other'].set_index('domain').to_dict()['label']\n",
    "doms_dict_bc = sc.broadcast(doms_dict)"
   ]
  },
  {
   "cell_type": "code",
   "execution_count": 28,
   "metadata": {},
   "outputs": [],
   "source": [
    "# Parallelize Warc Files to our Cores\n",
    "warcs = sc.parallelize([str(f) for f in files])"
   ]
  },
  {
   "cell_type": "code",
   "execution_count": 29,
   "metadata": {},
   "outputs": [],
   "source": [
    "# Map our function to our different datasets\n",
    "results = warcs.mapPartitions(extractor_spark)"
   ]
  },
  {
   "cell_type": "code",
   "execution_count": 30,
   "metadata": {},
   "outputs": [],
   "source": [
    "# Create a Schema manually so that Spark does not have to guess\n",
    "schema = StructType([\n",
    "        StructField(\"url\", StringType(), True),\n",
    "        StructField(\"dom_cat\", StringType(), True),\n",
    "        StructField(\"title\", StringType(), True),\n",
    "        StructField(\"description\", StringType(), True),\n",
    "        StructField(\"keywords\", StringType(), True),\n",
    "        StructField(\"news_keywords\", StringType(), True),\n",
    "        StructField(\"text\", StringType(), True)\n",
    "    ])"
   ]
  },
  {
   "cell_type": "code",
   "execution_count": 31,
   "metadata": {},
   "outputs": [
    {
     "name": "stdout",
     "output_type": "stream",
     "text": [
      "\u001b[32m2020-01-08 17:45:15\u001b[0m | \u001b[1mINFO    \u001b[0m | \u001b[36m__main__\u001b[0m:\u001b[36m<module>\u001b[0m:\u001b[36m6\u001b[0m - \u001b[1mIt took 00:03:49 to run this script!\u001b[0m\n"
     ]
    },
    {
     "data": {
      "text/plain": [
       "0"
      ]
     },
     "execution_count": 31,
     "metadata": {},
     "output_type": "execute_result"
    }
   ],
   "source": [
    "# And run!\n",
    "start_time = time()\n",
    "df_final = sql_context.createDataFrame(results, schema)\n",
    "df_final = df_final.toPandas()\n",
    "elapsed = strftime(\"%H:%M:%S\", gmtime(time() - start_time))\n",
    "logger.info(f'It took {elapsed} to run this script!')\n",
    "os.system(\"play /usr/share/sounds/sound-icons/trumpet-1.wav \") # Beeps an alert. May not run on your machine"
   ]
  },
  {
   "cell_type": "markdown",
   "metadata": {},
   "source": [
    "### Comment:\n",
    "Ran under 4 minutes and we got 160K+ documents!"
   ]
  },
  {
   "cell_type": "code",
   "execution_count": 36,
   "metadata": {},
   "outputs": [
    {
     "name": "stdout",
     "output_type": "stream",
     "text": [
      "G Sosa- 'Timing' Top StoriesNewsRumorsVideosFeaturesMusicOpinionIC: TheReasonMusic NewsA3CAllHipHopNewsRumorsVideosFeaturesMusicOpinionIC: TheReasonMusic NewsA3CThe ScumfrogLoginHomeMusicG Sosa- 'Timing'byAllHipHop Staff3 days-editedNorth Carolina's own G Sosa returns with 'Timing' EP. (AllHipHop Music) Gregory Barnes, better known as G Sosa, was born and raised in eastern North Carolina and currently resides in the Raleigh, North Carolina area.The young star's music interest began at the age of 15 as he freestyled over industry beats. He truly started to take his craft seriously as an adult.He released his first single “Tears Away” earlier this year, and he released two additional singles in the summer of 2019, to be followed up by his latest EP, 'Timing.'G Sosa plans to be one of the next big break out artists by 2020. His new single “LLNU” is a pain record dedicated to his best friend that passed in 2019 and is growing on his fans as one of his best works. G's passion for music grew even more once he released his first single. For the past year, music has been his top priority. Through music, G Sosa found happiness and a way to express and cope with his everyday life issues.Best known for his unique rapping style, fans enjoy his melodic flow which sets him apart from most artists. His local buzz has caught the attention of many including well-known industry producers. As his followers and fan base grow, we can’t help but wonder what the future holds for the young artist.Check out his new EP 'Timing' below. Comments Sort: NewestPREMIERE: Billy Byrd Drops New Video \"To Be Continued...\"AllHipHop Staff2 daysLikeLikeCommentKxng Crooked x Bronze Nazareth - 'Gravitas' Ft.RZA, Ghostface Killah, DMX, SnoopEditorOnlineCrates2 daysLikeLikeComment24Hrs & Wiz Khalifa - “911”EditorOnlineCrates5 days1Like3Last Reply3 days· byKesteKHALIFA my favourite, also check more of KHALIFA at https://www.storemp3.com The Bobby Effect Wants You to Know She's Got Her \"OWN\" EditorJaneenAdams20 hrsLikeLike1Last Reply38 mins· byRolfweinsteinAre you serious? Female rap is seriously retarded. No joke, that was some of the most childish elementary worst lyrics I…RushBilli- 'Rush 2 Kill'AllHipHop Staff3 daysLikeLikeCommentRebel Rodomez Ft. Benny The Butcher - \"Scare No One\"EditorOnlineCrates6 daysLikeLike1Last Reply3 days· byChinnexa1https://gistfam.com/harry-styles-sunflower-vol-6-mp3-download/ Wow, that is a mad flows there..Cam'ron - \"Believe in Flee\"EditorOnlineCratesDec 11LikeLike2La\n",
      "Hong Kong's senior citizens get new generation of 'safety phones' enabled with technology to track their locations , Digital, Asia News - AsiaOne Skip to main content asia one Latest Singapore Malaysia China Asia World MORE All Sections ENTERTAINMENT Lifestyle DIGITAL TRAVEL FOOD HEALTH WOMEN VIDEOS Money Business Broadcast Home Works Horoscope Chinese Zodiac Currency Converter Follow Us Careers Careers Latest Singapore Malaysia China Asia World Entertainment Lifestyle Digital Travel Home Works Food Health Women Videos Money Business Broadcast Services Horoscope Chinese Zodiac Currency Converter Hong Kong's senior citizens get new generation of 'safety phones' enabled with technology to track their locations Senior Citizen Home Safety Association launches new ‘safety phone’ for elderly Hongkongers. PHOTO: South China Morning Post Victor Ting South China Morning Post Dec 18, 2019 With the push of a button on mobile phones especially designed for the elderly, hundreds of thousands of Hong Kong's senior citizens have found emergency help for their medical needs, counselling support, and other care services for almost a decade. Earlier this month, Senior Citizen Home Safety Association launched the third generation of its \"safety phone\" device, which has been popular among the elderly for nine years. Using \"location-based\" technology, the NGO will be able to monitor and call its elderly service recipients, and their family members or carers if necessary, if they have not used their phones for more than a day. \"In an ageing society where a third of our citizens will soon be above the age of 65, we need to reimagine the care we offer them,\" Maura Wong, CEO of the association, said. \"This new feature will allow us to check on the elderly, to see if anything has gone wrong and why haven't they left their homes or used their phones to call someone for a few days.\" Last year, 80,000 elderly users made 700,000 calls, or 2,000 calls a day on average, to the NGO. About 100 calls were received every day with requests for an ambulance. The phone, costing HK$188 (S$33) per month, has a traditional flip-open design with numbers on a keyboard rather than a touch screen, and extra large words on the screen. NGO chairwoman Christine Fang Meng-sang said her organisation had evolved with the times and expanded to include a round-the-clock hotline service, with a team of nurses, counsellors and social workers providing help over the phone, ranging from making appointments at pub\n"
     ]
    }
   ],
   "source": [
    "# Inspect\n",
    "for text in df_final.sample(2)['text']:\n",
    "    print (text)"
   ]
  },
  {
   "cell_type": "code",
   "execution_count": 37,
   "metadata": {},
   "outputs": [
    {
     "data": {
      "text/html": [
       "<div>\n",
       "<style scoped>\n",
       "    .dataframe tbody tr th:only-of-type {\n",
       "        vertical-align: middle;\n",
       "    }\n",
       "\n",
       "    .dataframe tbody tr th {\n",
       "        vertical-align: top;\n",
       "    }\n",
       "\n",
       "    .dataframe thead th {\n",
       "        text-align: right;\n",
       "    }\n",
       "</style>\n",
       "<table border=\"1\" class=\"dataframe\">\n",
       "  <thead>\n",
       "    <tr style=\"text-align: right;\">\n",
       "      <th></th>\n",
       "      <th>url</th>\n",
       "      <th>dom_cat</th>\n",
       "      <th>title</th>\n",
       "      <th>description</th>\n",
       "      <th>keywords</th>\n",
       "      <th>news_keywords</th>\n",
       "      <th>text</th>\n",
       "    </tr>\n",
       "  </thead>\n",
       "  <tbody>\n",
       "    <tr>\n",
       "      <th>0</th>\n",
       "      <td>https://chicago.cbslocal.com/2019/12/18/man-st...</td>\n",
       "      <td>sports</td>\n",
       "      <td>Man Stabbed After His Granddaughter And Three ...</td>\n",
       "      <td>A man's granddaughter is one of four teens acc...</td>\n",
       "      <td>['grandfather, granddaughter, teen, teens, hom...</td>\n",
       "      <td>['grandfather, granddaughter, teen, teens, hom...</td>\n",
       "      <td>Man Stabbed After His Granddaughter And Three ...</td>\n",
       "    </tr>\n",
       "    <tr>\n",
       "      <th>1</th>\n",
       "      <td>http://www.releasewire.com/press-releases/rele...</td>\n",
       "      <td>news</td>\n",
       "      <td>Commence Industrial CRM Achieves Sales Optimiz...</td>\n",
       "      <td>None</td>\n",
       "      <td>None</td>\n",
       "      <td>None</td>\n",
       "      <td>Commence Industrial CRM Achieves Sales Optimiz...</td>\n",
       "    </tr>\n",
       "    <tr>\n",
       "      <th>2</th>\n",
       "      <td>https://www.kark.com/news/national-news/1-dead...</td>\n",
       "      <td>news</td>\n",
       "      <td>1 dead, 2 injured in Oregon shopping center st...</td>\n",
       "      <td>Multiple people were stabbed at the Murray Hil...</td>\n",
       "      <td>None</td>\n",
       "      <td>None</td>\n",
       "      <td>1 dead, 2 injured in Oregon shopping center st...</td>\n",
       "    </tr>\n",
       "    <tr>\n",
       "      <th>3</th>\n",
       "      <td>https://www.ii.co.uk/etfs/sg-wti-x2-daily-long...</td>\n",
       "      <td>financial_news</td>\n",
       "      <td>LSE:SG30 ETF Share Price | SG WTI X2 Daily Lon...</td>\n",
       "      <td>Real-time share price updates and latest news ...</td>\n",
       "      <td>None</td>\n",
       "      <td>None</td>\n",
       "      <td>LSE:SG30 ETF Share Price | SG WTI X2 Daily Lon...</td>\n",
       "    </tr>\n",
       "    <tr>\n",
       "      <th>4</th>\n",
       "      <td>http://www.peicanada.com/island_deaths/frances...</td>\n",
       "      <td>news</td>\n",
       "      <td>Frances Salsman | Island Deaths | peicanada.com</td>\n",
       "      <td>SALSMAN, Frances (Fran) Townsend At the Prince...</td>\n",
       "      <td>['island_deaths, death_notices']</td>\n",
       "      <td>['island_deaths, death_notices']</td>\n",
       "      <td>Frances Salsman | Island Deaths | peicanada.co...</td>\n",
       "    </tr>\n",
       "  </tbody>\n",
       "</table>\n",
       "</div>"
      ],
      "text/plain": [
       "                                                 url         dom_cat  \\\n",
       "0  https://chicago.cbslocal.com/2019/12/18/man-st...          sports   \n",
       "1  http://www.releasewire.com/press-releases/rele...            news   \n",
       "2  https://www.kark.com/news/national-news/1-dead...            news   \n",
       "3  https://www.ii.co.uk/etfs/sg-wti-x2-daily-long...  financial_news   \n",
       "4  http://www.peicanada.com/island_deaths/frances...            news   \n",
       "\n",
       "                                               title  \\\n",
       "0  Man Stabbed After His Granddaughter And Three ...   \n",
       "1  Commence Industrial CRM Achieves Sales Optimiz...   \n",
       "2  1 dead, 2 injured in Oregon shopping center st...   \n",
       "3  LSE:SG30 ETF Share Price | SG WTI X2 Daily Lon...   \n",
       "4    Frances Salsman | Island Deaths | peicanada.com   \n",
       "\n",
       "                                         description  \\\n",
       "0  A man's granddaughter is one of four teens acc...   \n",
       "1                                               None   \n",
       "2  Multiple people were stabbed at the Murray Hil...   \n",
       "3  Real-time share price updates and latest news ...   \n",
       "4  SALSMAN, Frances (Fran) Townsend At the Prince...   \n",
       "\n",
       "                                            keywords  \\\n",
       "0  ['grandfather, granddaughter, teen, teens, hom...   \n",
       "1                                               None   \n",
       "2                                               None   \n",
       "3                                               None   \n",
       "4                   ['island_deaths, death_notices']   \n",
       "\n",
       "                                       news_keywords  \\\n",
       "0  ['grandfather, granddaughter, teen, teens, hom...   \n",
       "1                                               None   \n",
       "2                                               None   \n",
       "3                                               None   \n",
       "4                   ['island_deaths, death_notices']   \n",
       "\n",
       "                                                text  \n",
       "0  Man Stabbed After His Granddaughter And Three ...  \n",
       "1  Commence Industrial CRM Achieves Sales Optimiz...  \n",
       "2  1 dead, 2 injured in Oregon shopping center st...  \n",
       "3  LSE:SG30 ETF Share Price | SG WTI X2 Daily Lon...  \n",
       "4  Frances Salsman | Island Deaths | peicanada.co...  "
      ]
     },
     "execution_count": 37,
     "metadata": {},
     "output_type": "execute_result"
    }
   ],
   "source": [
    "df_final.head()"
   ]
  },
  {
   "cell_type": "code",
   "execution_count": null,
   "metadata": {},
   "outputs": [],
   "source": [
    "# Strip brackets and single quotes from keywords\n",
    "df_final['keywords'] = df_final.keywords.str.replace(\"'\", \"\")\n",
    "df_final['keywords'] = df_final.keywords.str.strip('[]')\n",
    "\n",
    "df_final['news_keywords'] = df_final.news_keywords.str.replace(\"'\", \"\")\n",
    "df_final['news_keywords'] = df_final.news_keywords.str.strip('[]')"
   ]
  },
  {
   "cell_type": "code",
   "execution_count": 68,
   "metadata": {},
   "outputs": [],
   "source": [
    "# Save to disk\n",
    "# In case we need to persist some data, let's create a folder under Home directory -> Data and call it cc_news\n",
    "file_path = Path.home() / 'Data' / 'cc_news' / 'spark_output'\n",
    "if not file_path.is_dir():\n",
    "    Path.mkdir(file_path, parents=True, exist_ok=True)\n",
    "df_final.to_csv(file_path / 'df_final.csv', header=True, index=False, na_rep=\"\")"
   ]
  },
  {
   "cell_type": "markdown",
   "metadata": {},
   "source": [
    "## End of Notebook\n",
    "We could have instead saved the Spark `DataFrame` as a `parquet` file which would have been a lot more efficient and we could have extracted a lot wider text but we will continue in the `pandas` world for the next steps. \n",
    "\n",
    "1. Mainly, in Spark, we\n",
    "2. Ran through the corpus with our classified English domain list\n",
    "3. Filtered out `other` domains that are most likely not `news` channels.\n",
    "4. From the individual webpage, extracted `title` `description` and `keywords` if there are any and the `body` content. \n",
    "5. Created a Data Frame to do more NLP\n",
    "\n",
    "All this is not trivial work, but more to come.  For the next steps, we will\n",
    "\n",
    "1. Create our final labels\n",
    "2. Do some feature engineering \n",
    "3. Train BERT like models \n",
    "4. And classify our documents into their final categories. \n"
   ]
  },
  {
   "cell_type": "code",
   "execution_count": null,
   "metadata": {},
   "outputs": [],
   "source": [
    "\n"
   ]
  }
 ],
 "metadata": {
  "kernelspec": {
   "display_name": "Python 3.7 cc_news",
   "language": "python",
   "name": "cc_news_env"
  },
  "language_info": {
   "codemirror_mode": {
    "name": "ipython",
    "version": 3
   },
   "file_extension": ".py",
   "mimetype": "text/x-python",
   "name": "python",
   "nbconvert_exporter": "python",
   "pygments_lexer": "ipython3",
   "version": "3.7.5"
  }
 },
 "nbformat": 4,
 "nbformat_minor": 4
}
