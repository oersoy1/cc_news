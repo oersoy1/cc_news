{
 "cells": [
  {
   "cell_type": "markdown",
   "metadata": {},
   "source": [
    "# Objective\n",
    "Select a day’s worth of CC news articles and identify the top 10 discussed topics.\n",
    "\n",
    "## Data\n",
    "The list of Web Archive files on the Common Crawl News Channel can be obtained as such (Requires `aws cli` installed): \n",
    "\n",
    "## Exploratory Data Analysis"
   ]
  },
  {
   "cell_type": "code",
   "execution_count": 1,
   "metadata": {},
   "outputs": [],
   "source": [
    "import matplotlib.pyplot as plt\n",
    "import numpy as np\n",
    "import os\n",
    "import pandas as pd\n",
    "import requests\n",
    "import seaborn as sns\n",
    "import sys\n",
    "import string\n",
    "\n",
    "from bs4 import BeautifulSoup\n",
    "from collections import Counter\n",
    "from datetime import datetime\n",
    "from geotext import GeoText\n",
    "from multiprocessing import Pool, cpu_count\n",
    "from langdetect import detect\n",
    "from loguru import logger\n",
    "from lxml.html.clean import Cleaner\n",
    "from lxml.html import fromstring, parse, HTMLParser\n",
    "from pathlib import Path\n",
    "from urllib.parse import urlparse\n",
    "from time import time, strftime, gmtime\n",
    "from warcio.archiveiterator import ArchiveIterator\n",
    "from wget import download\n",
    "\n"
   ]
  },
  {
   "cell_type": "code",
   "execution_count": 2,
   "metadata": {},
   "outputs": [
    {
     "data": {
      "text/plain": [
       "[1]"
      ]
     },
     "execution_count": 2,
     "metadata": {},
     "output_type": "execute_result"
    }
   ],
   "source": [
    "#Configuring the logger\n",
    "config = {\"handlers\": [{\"sink\": sys.stdout,\"colorize\": True,\n",
    "          \"format\": \"<green>{time:YYYY-MM-DD HH:mm:ss}</green> | <level>{level: <8}</level> | <cyan>{name}</cyan>:<cyan>{function}</cyan>:<cyan>{line}</cyan> - <level>{message}</level>\"}]}\n",
    "logger.configure(**config)"
   ]
  },
  {
   "cell_type": "code",
   "execution_count": 3,
   "metadata": {},
   "outputs": [],
   "source": [
    "# In case we need to persist some data, let's create a folder under Home directory -> Data and call it cc_news\n",
    "data_folder = Path.home() / 'Data' / 'cc_news'\n",
    "if not data_folder.is_dir():\n",
    "    Path.mkdir(Path.home() / 'Data' / 'cc_news' , parents=True, exist_ok=True)"
   ]
  },
  {
   "cell_type": "code",
   "execution_count": 4,
   "metadata": {},
   "outputs": [],
   "source": [
    "list_of_files = !aws s3 ls --no-sign-request --human-readable --recursive s3://commoncrawl/crawl-data/CC-NEWS/2019/12"
   ]
  },
  {
   "cell_type": "code",
   "execution_count": 5,
   "metadata": {},
   "outputs": [
    {
     "name": "stdout",
     "output_type": "stream",
     "text": [
      "There are 391 files as of 2020/01/13\n"
     ]
    }
   ],
   "source": [
    "today = datetime.today().strftime('%Y/%m/%d')\n",
    "print(f\"There are {len(list_of_files)} files as of {today}\") "
   ]
  },
  {
   "cell_type": "code",
   "execution_count": 6,
   "metadata": {},
   "outputs": [
    {
     "data": {
      "text/plain": [
       "['2019-12-01 00:05:03 1023.0 MiB crawl-data/CC-NEWS/2019/12/CC-NEWS-20191201003247-02108.warc.gz',\n",
       " '2019-12-01 03:05:03 1023.1 MiB crawl-data/CC-NEWS/2019/12/CC-NEWS-20191201043503-02109.warc.gz',\n",
       " '2019-12-01 06:05:03 1023.0 MiB crawl-data/CC-NEWS/2019/12/CC-NEWS-20191201075211-02110.warc.gz',\n",
       " '2019-12-01 09:05:02 1023.0 MiB crawl-data/CC-NEWS/2019/12/CC-NEWS-20191201104146-02111.warc.gz',\n",
       " '2019-12-01 11:05:03 1023.0 MiB crawl-data/CC-NEWS/2019/12/CC-NEWS-20191201132240-02112.warc.gz',\n",
       " '2019-12-01 14:05:03 1023.0 MiB crawl-data/CC-NEWS/2019/12/CC-NEWS-20191201154712-02113.warc.gz',\n",
       " '2019-12-01 16:05:02 1023.0 MiB crawl-data/CC-NEWS/2019/12/CC-NEWS-20191201180626-02114.warc.gz',\n",
       " '2019-12-01 19:05:03 1023.0 MiB crawl-data/CC-NEWS/2019/12/CC-NEWS-20191201202144-02115.warc.gz',\n",
       " '2019-12-01 22:05:02 1023.0 MiB crawl-data/CC-NEWS/2019/12/CC-NEWS-20191201230603-02116.warc.gz',\n",
       " '2019-12-02 01:05:02 1023.0 MiB crawl-data/CC-NEWS/2019/12/CC-NEWS-20191202023532-02117.warc.gz']"
      ]
     },
     "execution_count": 6,
     "metadata": {},
     "output_type": "execute_result"
    }
   ],
   "source": [
    "list_of_files[:10]"
   ]
  },
  {
   "cell_type": "markdown",
   "metadata": {},
   "source": [
    "## 1. Basic stats about the files per day"
   ]
  },
  {
   "cell_type": "markdown",
   "metadata": {},
   "source": [
    "Seems like the `warc.gz` files are named with CC-NEWS-{time_stamp} convention and the `s3` dates match the file names in terms dates. Mostly they are equal size 1GB files, so how many files per date? "
   ]
  },
  {
   "cell_type": "code",
   "execution_count": 7,
   "metadata": {},
   "outputs": [],
   "source": [
    "# Get the -nix -ls command's dates And count by date\n",
    "dates = [url.split()[0] for url in list_of_files]\n",
    "counts_by_date = Counter(dates) "
   ]
  },
  {
   "cell_type": "code",
   "execution_count": 8,
   "metadata": {},
   "outputs": [
    {
     "data": {
      "text/plain": [
       "[('2019-12-25', 8), ('2019-12-15', 8), ('2019-12-08', 8)]"
      ]
     },
     "execution_count": 8,
     "metadata": {},
     "output_type": "execute_result"
    }
   ],
   "source": [
    "# Dates with fewest files\n",
    "counts_by_date.most_common(len(counts_by_date))[:-4:-1]"
   ]
  },
  {
   "cell_type": "code",
   "execution_count": 9,
   "metadata": {},
   "outputs": [
    {
     "data": {
      "text/plain": [
       "[('2019-12-19', 24), ('2019-12-18', 23), ('2019-12-20', 19)]"
      ]
     },
     "execution_count": 9,
     "metadata": {},
     "output_type": "execute_result"
    }
   ],
   "source": [
    "# Dates with the most files\n",
    "counts_by_date.most_common(len(counts_by_date))[:3]"
   ]
  },
  {
   "cell_type": "code",
   "execution_count": 10,
   "metadata": {},
   "outputs": [
    {
     "data": {
      "text/plain": [
       "12.612903225806452"
      ]
     },
     "execution_count": 10,
     "metadata": {},
     "output_type": "execute_result"
    }
   ],
   "source": [
    "# Average number of files per Day.\n",
    "np.mean(list(counts_by_date.values()))"
   ]
  },
  {
   "cell_type": "markdown",
   "metadata": {},
   "source": [
    "#### Basic Plotting\n",
    "Let's just plot counts of files to see if there is a trend:"
   ]
  },
  {
   "cell_type": "code",
   "execution_count": 11,
   "metadata": {},
   "outputs": [
    {
     "data": {
      "image/png": "[encoded data removed]",
      "text/plain": [
       "<Figure size 1008x864 with 1 Axes>"
      ]
     },
     "metadata": {
      "needs_background": "light"
     },
     "output_type": "display_data"
    }
   ],
   "source": [
    "# Counter data, counter is your counter object\n",
    "dates = [k for k in counts_by_date.keys()]\n",
    "# get the counts for each date\n",
    "count_per_date = [counts_by_date[k] for k in dates]\n",
    "\n",
    "fig, ax = plt.subplots(figsize=(14, 12))\n",
    "fig.autofmt_xdate()\n",
    "plt.bar(dates, count_per_date)\n",
    "\n",
    "plt.xlabel('Dates')\n",
    "plt.ylabel('Counts')\n",
    "plt.title('Number of Files per Day In December')\n",
    "\n",
    "plt.show()"
   ]
  },
  {
   "cell_type": "markdown",
   "metadata": {},
   "source": [
    "#### Observation\n",
    "It is always good to plot your data.  Here, we can see there is weekly seasonality. During the weekends, there are less data and mid week there is steady stream of news. This might be because some of these news sites are actually Financial News Reporting sites and the markets are closed during the weekends or in general, not much is happening. \n",
    "\n",
    "There are 2 anamolies:\n",
    "* December 18-19: Seems like Internet broke and some major stuff happened.\n",
    "* December 25th: substantially lower volume since it was of course Christmas time. \n"
   ]
  },
  {
   "cell_type": "markdown",
   "metadata": {},
   "source": [
    "It might be interesting to find out what happened on December 18th and talked about for 2 days. So let's pick that date for our specific date to study. "
   ]
  },
  {
   "cell_type": "code",
   "execution_count": 12,
   "metadata": {},
   "outputs": [],
   "source": [
    "news_date = '2019-12-18'\n",
    "needed_files = [file_name.split()[-1] for file_name in list_of_files if file_name.split()[0] == news_date]"
   ]
  },
  {
   "cell_type": "code",
   "execution_count": 13,
   "metadata": {},
   "outputs": [],
   "source": [
    "# If we hit the https versions, we won't have to deal with s3 sign on issues. \n",
    "root_url = \"https://commoncrawl.s3.amazonaws.com/\"\n",
    "file_urls  = [root_url + f for f in needed_files]"
   ]
  },
  {
   "cell_type": "markdown",
   "metadata": {},
   "source": [
    "## 2. Meta Data Extraction\n",
    "Let's get some meta data from these files. Quick questions to answer:\n",
    "\n",
    "* How many warc files are in each `.gz` file are there?\n",
    "* How many of those warc files have actually a 200 response?\n",
    "* How many of them are in English? (Previous scan has shown that this is a World Wide Web crawl in all languages which we have to discard as it is not of use to us for this project)\n",
    "* How many of website domains are there?\n",
    "* How many good (response=200) and English news pages are there per web domain? \n",
    "\n",
    "That's actually a lot.  \n",
    "\n",
    "Here we will use `warcio` package's `ArchiveIterator` which does not download the files and can decompress the `.gz` and quickly iterate through the files. \n",
    "A Warc file has Response Headers (Warc headers), HTTP headers and response content in its simplest form. [More Information is here](https://commoncrawl.org/the-data/get-started/)\n",
    "\n",
    "Let's check the first `warc` file with a 200 crawler response on the first `.gz` file:"
   ]
  },
  {
   "cell_type": "code",
   "execution_count": 14,
   "metadata": {},
   "outputs": [
    {
     "name": "stdout",
     "output_type": "stream",
     "text": [
      "WARC/1.0\n",
      "WARC-Record-ID: <urn:uuid:e9b214cd-aeb7-4f10-b49d-870a2d3f76ee>\n",
      "Content-Length: 151065\n",
      "WARC-Date: 2019-12-18T03:57:23Z\n",
      "WARC-Type: response\n",
      "WARC-IP-Address: 192.0.66.120\n",
      "WARC-Target-URI: https://www.easttexasmatters.com/news/international/vote-to-remove-estonia-minister-over-jab-at-finnish-pm-fails/\n",
      "Content-Type: application/http; msgtype=response\n",
      "WARC-Payload-Digest: sha1:NDDJAGLNXU5IKEH3CWEIZU5LNRL4FKHM\n",
      "WARC-Block-Digest: sha1:YQ754TWACN2G2F4LQS4FMN4R6KT2EEU3\n",
      "\n"
     ]
    }
   ],
   "source": [
    "# For The WARC Header\n",
    "resp = requests.get(file_urls[0], stream=True)\n",
    "for record in ArchiveIterator(resp.raw, arc2warc=True):\n",
    "    if record.rec_type == 'response':\n",
    "        print (record.rec_headers)\n",
    "        break "
   ]
  },
  {
   "cell_type": "markdown",
   "metadata": {},
   "source": [
    "Pretty basic meta data.  We can extract the domain name from `WARC-Target-URI` field. "
   ]
  },
  {
   "cell_type": "code",
   "execution_count": 15,
   "metadata": {},
   "outputs": [
    {
     "name": "stdout",
     "output_type": "stream",
     "text": [
      "HTTP/1.1 200 OK\n",
      "Server: nginx\n",
      "Date: Wed, 18 Dec 2019 03:57:24 GMT\n",
      "Content-Type: text/html; charset=UTF-8\n",
      "X-Crawler-Transfer-Encoding: chunked\n",
      "Connection: keep-alive\n",
      "X-hacker: If you're reading this, you should visit wpvip.com/careers and apply to join the fun, mention this header.\n",
      "X-Powered-By: WordPress.com VIP <https://wpvip.com>\n",
      "Link: <https://www.easttexasmatters.com/wp-json/>; rel=\"https://api.w.org/\"\n",
      "Link: <https://www.easttexasmatters.com/?p=241230>; rel=shortlink\n",
      "X-Crawler-Content-Encoding: gzip\n",
      "X-rq: dca3 112 86 3148\n",
      "Cache-Control: max-age=300, must-revalidate\n",
      "Age: 0\n",
      "X-Cache: miss\n",
      "Vary: Accept-Encoding\n",
      "Accept-Ranges: bytes\n",
      "\n"
     ]
    }
   ],
   "source": [
    "# For The HTTP Header\n",
    "resp = requests.get(file_urls[0], stream=True)\n",
    "for record in ArchiveIterator(resp.raw, arc2warc=True):\n",
    "    if record.rec_type == 'response':\n",
    "        print (record.http_headers)\n",
    "        break "
   ]
  },
  {
   "cell_type": "markdown",
   "metadata": {},
   "source": [
    "Again pretty basic stuff that is not to our interest for our purposes. \n",
    "\n",
    "So far, we can answer almost all questions above except the language.  One way is to extract the body of the text and detect language on it using a library that has these models already trained (For reader's information, they are slightly more sophisticated than models trained classifiers on stop words). We can also try to extract the `lang` descriptor from the `html` tag on each page, if we can. Seems like parsing the text from the web content and then detecting the language is more time costly so let's try to get the language from the html tag first. If it is not English then we pass that file not detecting the language but if it says \"English\" then we make sure that it is. \n",
    "\n",
    "Let's start with the `BeautifulSoup` package to parse out the text from the web page because it is simpler to use.  However, my experience is that it does not scale well. "
   ]
  },
  {
   "cell_type": "markdown",
   "metadata": {},
   "source": [
    "## 3. Parsing text out of the web archives and detecting Language"
   ]
  },
  {
   "cell_type": "code",
   "execution_count": 16,
   "metadata": {},
   "outputs": [],
   "source": [
    "# This utility function will clean the html body from <script> and <style> tags and then extract text\n",
    "def get_text(content):\n",
    "    souped= BeautifulSoup(content, \"lxml\")\n",
    "    \n",
    "    # Clean all script and style elements\n",
    "    for script in souped([\"script\", \"style\"]):\n",
    "        script.decompose()\n",
    "\n",
    "    return souped.get_text(\" \", strip=True)"
   ]
  },
  {
   "cell_type": "code",
   "execution_count": 19,
   "metadata": {},
   "outputs": [
    {
     "name": "stdout",
     "output_type": "stream",
     "text": [
      "Vote to remove Estonia minister over jab at Finnish PM fails – KETK | FOX51 | EastTexasMatters.com Skip to content KETK | FOX51 | EastTexasMatters.com Tyler 36° Sponsored By Toggle Menu Open Navigation Close Navigation Search Primary Menu News Top Stories Local News Crime Texas News Veterans Voices East Texas Addicted Home for the Holidays Your Local Election HQ Special Reports BorderReport.com Texas Politics Washington D.C. National News Newsfeed Now Top Stories McDermott International relocates to Tyler in Plaza Tower Top Stories FBI involved in ‘continuous’ search for missing south Austin mom, infant; no person of interest Tool developed in Texas to predict power failures now being tested in California to prevent wildfires Four Dallas Cowboys headed to Pro Bowl Van Zandt County family loses everything in Monday house fire Weather Map Center Hurricane Tracker Interactive Radar Bus Stop Forecast Weather Talk Weather Headlines Weather Alerts Closings and Delays Sports Local Sports Friday Football Fever presented by SUBWAY® Athlete of the Week presented by CHRISTUS Health The Big Game SEC Football Silver Star Nation Olympics NFL MLB NBA College Golf NHL MLS Top Stories Flyers dedicate 4-1 victory to cancer-stricken teammate Top Stories Hayden Fry, Texan who turned around Iowa, dies at 90 OF Avisaíl García agrees to deal with Milwaukee Brewers No. 5 Buckeyes bounce back, rout Southeast Missouri State Baltimore Ravens tie Pro Bowl record with 12 selections East Texas Live KETK Gives Back Community KETK Today Happy Birthday Calendar Texas Rose Festival Top Stories City of Tyler and Liberty Hall talk about all they have coming up Top Stories Texas A&M Agrilife shows how to make a healthy soup during the cold temps Top Stories Kelly Community Credit Union has some last minute gift giving ideas Precision Spine Care stops by the KETK Studio to talk chronic pain over the holiday season Spinout shares some great holiday gift ideas Roberts & Roberts explains their annual “The Ride is on Us” campaign Contests Nominate a Remarkable Woman in Your Life KETK Christmas Giveaway by Sweet Gourmet Home for the Holidays KETK Best Dressed House by Christmas Park Land of Lights KETK Pro Football Challenge presented by Loving Toyota Athlete of the Week presented by CHRISTUS Health Orthopedics & Sports Medicine CTCU & KETK Today Coffee Mug Giveaway Winners About Us Report It Contact Us Meet the Team Advertise With Us TV Schedule The Mel Robbins Show Newsletters Stay Connected Work for Us Closed Captioning Issues Video Livestream Top Stories McDermott International relocates to Tyler in Plaza Tower Top Stories FBI involved in ‘continuous’ search for missing south Austin mom, infant; no person of interest Top Stories Van Zandt County family loses everything in Monday house fire Tuesday Night Forecast: Frost & freeze by morning, a warmer Wednesday Flu season showing its face once more in East Texas MISSING MEAT: Customers frustrated after local processing plant suddenly closes Lone Star NYE 2020 Christmas in East Texas Search Search Search Vote to remove Estonia minister over jab at Finnish PM fails International by: JARI TANNER, Associated Press Posted: Dec 17, 2019 / 08:13 AM CST / Updated: Dec 17, 2019 / 08:13 AM CST FILE – In this Monday, March 4, 2019 file photo, Chairman of the Estonian Conservative People’s Party (EKRE) Mart Helme speaks at the headquarters after parliamentary elections in Tallinn, Estonia. Estonia’s interior minister and gaffe-prone nationalist party leader survives Parliament’s confidence vote triggered by a big uproar in the Baltic country after his mocking the new female prime minister of close neighbor Finland and her Social Democratic party. (AP Photo/Tanel Meos, file) HELSINKI (AP) — Estonia’s nationalist interior minister narrowly survived a no-confidence vote Tuesday that was triggered by his mocking of neighboring Finland’s young new prime minister and her party. Members of the 101-seat Riigikogu voted 44-42 to remove Estonian Conservative People’s Party Chairman Mart Helme from his Cabinet post. However, the motion needed an absolute majority of 51 votes to pass. The move was initiated by the opposition Reform Party. During a radio interview on Sunday, Helme, 70, took a swipe at Finnish Prime Minister Sanna Marin, 34. He quipped that “a cashier” was now leading Estonia’s close neighbor — an apparent reference to Marin’s past stint working at a department store. Helme, a former Estonian ambassador to Russia, also called Marin’s Social Democratic Party “red” and alleged it was out to “liquidate” Finland with its policies. Marin last week became the world’s youngest sitting prime minister and the third woman to lead Finland’s government. Estonian President Kersti Kaljulaid telephoned her Finnish counterpart, Sauli Niinisto, on Monday to give a public apology on behalf of Estonia and its interior minister to Marin and her government. Helme himself apologized much later Monday, blaming media for overplaying his comments. He is widely known in the Baltic country for political gaffes and sexist comments, including personal attacks on Kaljulaid. Earlier this year, he described Estonia’s first female president as “an emotionally heated woman.” His remarks about Marin nearly led Monday to the collapse of Estonia’s three-party coalition government led by Prime Minister Juri Ratas. Kaljulaid urged him to fire Helme. Ratas refused, offering the government’s apology to Finland but saying his Cabinet would remain unchanged. Helme’s anti-immigrant Estonian Conservative People’s Party, or EKRE, emerged from a March election as Estonia’s third-largest party. His son Martin Helme, 43, is EKRE’s vice chairman and Estonia’s current finance minister. Three of the party’s ministers have resigned from the Cabinet over various scandals since Ratas’ government took office in April. Along with EKRE and Ratas’ Center Party, the majority coalition includes the conservative Fatherland party. Copyright 2019 The Associated Press. All rights reserved. This material may not be published, broadcast, rewritten or redistributed. Share this story More International Stories Secretive FISA court rebukes FBI over errors in Russia probe by ERIC TUCKER, Associated Press / Dec 17, 2019 WASHINGTON (AP) — The chief judge of a secretive surveillance court said Tuesday that the FBI provided “unsupported\" information when it applied to eavesdrop on a former Trump campaign adviser and directed the bureau to report back by next month on what steps it was taking to fix the problems. The four-page order from Judge Rosemary Collyer followed a harshly critical Justice Department inspector general report that said the FBI had withheld key information when it submitted four applications in 2016 and 2017 to monitor the communications of Carter Page. Read the Full Article AP Photos: Cadet ball revives imperial Russia’s splendor by ALEXANDER ZEMLIANICHENKO, Associated Press / Dec 17, 2019 MOSCOW (AP) — Military school students from across Russia lined up to dance Tuesday at an annual cadet ball in Moscow that blends patriotism with imperial-style grandeur. The organizers said that the fourth International Kremlin Cadet Ball also drew students from Belarus, Kazakhstan, and two regions of eastern Ukraine controlled by Russia-backed separatists. Read the Full Article Venice’s endurance symbolized in Royal Gardens re-opening by COLLEEN BARRY, Associated Press / Dec 17, 2019 VENICE, Italy (AP) — Venice’s Royal Gardens were first envisioned by Napoleon, flourished under Austrian Empress Sissi and were finally turned over to the public by the House of Savoy, only to fall into disrepair in recent years. After an extensive restoration, the gardens reopened Tuesday as a symbol both of the lagoon city’s endurance after last month’s record floods, and the necessity of public-private partnerships to care for Italy’s enormous cultural heritage. Read the Full Article More Stories MISSING MEAT: Customers frustrated after local processing plant suddenly closes Local News / 3 hours ago Van Zandt County family loses everything in Monday house fire News / 3 hours ago Flu season showing its face once more in East Texas Top Stories / 3 hours ago FBI involved in ‘continuous’ search for missing south Austin mom, infant; no person of interest Top Stories / 2 hours ago Read more stories Trending Right Now Four Dallas Cowboys headed to Pro Bowl MISSING MEAT: Customers frustrated after local processing plant suddenly closes FBI involved in ‘continuous’ search for missing south Austin mom, infant; no person of interest Weather Javi’s replacing old Juls’ location in South Tyler Community Calendar Don't Miss Nominate a Remarkable Woman in Your Life Home for the Holidays Best Dressed House by Christmas Park Land of Lights Pro Football Challenge KETK TODAY: Happy Birthday Athlete of the Week KETK Twitter & Facebook Follow @KETK KETK NBC Trending Stories Four Dallas Cowboys headed to Pro Bowl MISSING MEAT: Customers frustrated after local processing plant suddenly closes FBI involved in ‘continuous’ search for missing south Austin mom, infant; no person of interest Weather Javi’s replacing old Juls’ location in South Tyler Follow Us Facebook Twitter Pinterest YouTube RSS Feed Email News App Weather App News Weather Sports Community Video Contact Us Terms of Use Privacy Policy EEO Report KETK FCC Public File KFXK FCC Public File KTPN FCC Public File Nexstar Closed Captioning Certification © 1998 - 2019 Nexstar Broadcasting, Inc. | All Rights Reserved. × Close Ad\n",
      "********************************************************************************\n",
      "This page has a language tag: en-US\n",
      "Detected Language: en\n"
     ]
    }
   ],
   "source": [
    "# Language detection\n",
    "resp = requests.get(file_urls[0], stream=True)\n",
    "for record in ArchiveIterator(resp.raw, arc2warc=True):\n",
    "    if record.rec_type == 'response':\n",
    "        content = record.content_stream().read()\n",
    "        tree = fromstring(content) \n",
    "        parsed_lang = tree.get(\"lang\")\n",
    "        text = get_text(content)\n",
    "        detected_lang= detect(text)\n",
    "        print(text)\n",
    "        print(\"*\"*80)\n",
    "        print(f\"This page has a language tag: {parsed_lang}\")\n",
    "        print(f\"Detected Language: {detected_lang}\")      \n",
    "        break "
   ]
  },
  {
   "cell_type": "markdown",
   "metadata": {},
   "source": [
    "Nice! So this particular web page is tagged to be in \"English - US\". What we are interested in is all English derivates so we will parse out any that start out with \"en\"\n",
    "\n",
    "Let's start putting together a function and print after processing 1000 records break at 3000. What we want is to count the English Pages.  Also, note that we are checking for domains to end with `.com` or `.uk`.  Other domains are more likely to be non-english speaking countries, such as, `www.t24.com.tr` is a Turkish news media outlet and we do not need to detect language for them. "
   ]
  },
  {
   "cell_type": "code",
   "execution_count": 20,
   "metadata": {},
   "outputs": [],
   "source": [
    "def get_meta_data_test(url):\n",
    "    resp = requests.get(url, stream=True)\n",
    "    \n",
    "    domain_counter = Counter()\n",
    "    \n",
    "    for i, record in enumerate(ArchiveIterator(resp.raw, arc2warc=True)):\n",
    "        if record.rec_type == 'response':\n",
    "    \n",
    "            uri = record.rec_headers.get_header('WARC-Target-URI')\n",
    "            domain = urlparse(uri).netloc\n",
    "            if domain.split('.')[-1] in ['com', 'uk']:\n",
    "                try:\n",
    "                    content = record.content_stream().read()\n",
    "                    tree = fromstring(content) \n",
    "                    parsed_lang = tree.get(\"lang\")\n",
    "                except TypeError:\n",
    "                    parsed_lang = None\n",
    "                if parsed_lang is None or parsed_lang[:2].lower() ==  'en':\n",
    "                    try:\n",
    "                        detected_lang = detect(get_text(content))\n",
    "                    except:\n",
    "                        detected_lang = \"can't detect\"\n",
    "                    if detected_lang == 'en':\n",
    "                        domain_counter.update({domain: 1})\n",
    "\n",
    "            if i % 1000 == 0 :\n",
    "                logger.info(f\"I have processed {i} warc files so far\")\n",
    "                logger.info(f\"\\tI found {sum(domain_counter.values())} English pages\")\n",
    "                logger.info(f\"\\tI found {len(domain_counter.keys())} domains\")\n",
    "\n",
    "            \n",
    "        if i ==3001:\n",
    "            print(domain_counter)\n",
    "            break\n",
    "            "
   ]
  },
  {
   "cell_type": "code",
   "execution_count": 21,
   "metadata": {},
   "outputs": [
    {
     "name": "stdout",
     "output_type": "stream",
     "text": [
      "\u001b[32m2020-01-13 09:25:35\u001b[0m | \u001b[1mINFO    \u001b[0m | \u001b[36m__main__\u001b[0m:\u001b[36mget_meta_data_test\u001b[0m:\u001b[36m27\u001b[0m - \u001b[1mI have processed 1000 warc files so far\u001b[0m\n",
      "\u001b[32m2020-01-13 09:25:35\u001b[0m | \u001b[1mINFO    \u001b[0m | \u001b[36m__main__\u001b[0m:\u001b[36mget_meta_data_test\u001b[0m:\u001b[36m28\u001b[0m - \u001b[1m\tI found 291 English pages\u001b[0m\n",
      "\u001b[32m2020-01-13 09:25:35\u001b[0m | \u001b[1mINFO    \u001b[0m | \u001b[36m__main__\u001b[0m:\u001b[36mget_meta_data_test\u001b[0m:\u001b[36m29\u001b[0m - \u001b[1m\tI found 37 domains\u001b[0m\n",
      "\u001b[32m2020-01-13 09:26:30\u001b[0m | \u001b[1mINFO    \u001b[0m | \u001b[36m__main__\u001b[0m:\u001b[36mget_meta_data_test\u001b[0m:\u001b[36m27\u001b[0m - \u001b[1mI have processed 2000 warc files so far\u001b[0m\n",
      "\u001b[32m2020-01-13 09:26:30\u001b[0m | \u001b[1mINFO    \u001b[0m | \u001b[36m__main__\u001b[0m:\u001b[36mget_meta_data_test\u001b[0m:\u001b[36m28\u001b[0m - \u001b[1m\tI found 520 English pages\u001b[0m\n",
      "\u001b[32m2020-01-13 09:26:30\u001b[0m | \u001b[1mINFO    \u001b[0m | \u001b[36m__main__\u001b[0m:\u001b[36mget_meta_data_test\u001b[0m:\u001b[36m29\u001b[0m - \u001b[1m\tI found 64 domains\u001b[0m\n",
      "\u001b[32m2020-01-13 09:27:38\u001b[0m | \u001b[1mINFO    \u001b[0m | \u001b[36m__main__\u001b[0m:\u001b[36mget_meta_data_test\u001b[0m:\u001b[36m27\u001b[0m - \u001b[1mI have processed 3000 warc files so far\u001b[0m\n",
      "\u001b[32m2020-01-13 09:27:38\u001b[0m | \u001b[1mINFO    \u001b[0m | \u001b[36m__main__\u001b[0m:\u001b[36mget_meta_data_test\u001b[0m:\u001b[36m28\u001b[0m - \u001b[1m\tI found 770 English pages\u001b[0m\n",
      "\u001b[32m2020-01-13 09:27:38\u001b[0m | \u001b[1mINFO    \u001b[0m | \u001b[36m__main__\u001b[0m:\u001b[36mget_meta_data_test\u001b[0m:\u001b[36m29\u001b[0m - \u001b[1m\tI found 99 domains\u001b[0m\n",
      "Counter({'www.pcgamer.com': 83, 'www.easttexasmatters.com': 75, 'www.saucey.com': 60, 'www.michigansthumb.com': 53, 'www.seattlepi.com': 51, 'www.reuters.com': 36, 'www.wivb.com': 36, 'www.houstonchronicle.com': 32, 'www.bigrapidsnews.com': 22, 'www.washingtonpost.com': 21, 'www.nbcnews.com': 18, 'www.wfmz.com': 18, 'economictimes.indiatimes.com': 14, 'www.wkrg.com': 11, 'fcnp.com': 10, 'www.dailymail.co.uk': 9, 'www.bclocalnews.com': 8, 'www.telegraph.co.uk': 8, 'www.tahlequahdailypress.com': 8, 'lincoln.wickedlocal.com': 7, 'www.iberianet.com': 6, 'www.tokyoreporter.com': 6, 'www.wenatcheeworld.com': 5, 'abc7chicago.com': 5, 'www.forexlive.com': 5, 'northborough.wickedlocal.com': 5, 'siouxcityjournal.com': 5, 'www.kltv.com': 5, 'www.newschief.com': 5, 'www.journalnow.com': 5, 'www.modernghana.com': 4, 'www.teutopolispress.com': 4, 'www.woodtv.com': 4, 'fox59.com': 4, 'www.sandiegouniontribune.com': 4, 'www.breakingisraelnews.com': 3, 'www.freep.com': 3, 'frankreport.com': 3, 'www.wtsp.com': 3, 'www.foxnews.com': 3, 'abc7news.com': 3, 'poststar.com': 3, 'www.youtube.com': 3, 'www.courthousenews.com': 3, 'kdvr.com': 3, 'www.gametimect.com': 3, 'www.straitstimes.com': 3, 'nationalpost.com': 3, 'www.defense-aerospace.com': 3, 'www.nationalreview.com': 3, 'www.pennlive.com': 3, 'clarion.causeaction.com': 2, 'norwood.wickedlocal.com': 2, 'www.westernjournal.com': 2, 'www.news9.com': 2, 'lsu.forums.rivals.com': 2, 'lsu.rivals.com': 2, 'fox2now.com': 2, 'www.startribune.com': 2, 'www.pressargus.com': 2, 'www.dothaneagle.com': 2, 'xconomy.com': 2, 'www.nevadaiowajournal.com': 2, 'www.bangkokpost.com': 2, 'www.seattlemet.com': 2, 'mmajunkie.usatoday.com': 2, 'www.rockdalenewtoncitizen.com': 2, 'clinton.wickedlocal.com': 2, 'pokerfuse.com': 2, 'accidentaldeliberations.blogspot.com': 2, 'www.cleveland.com': 2, 'www.kens5.com': 2, 'www.nbcbayarea.com': 2, '1053rnb.com': 1, 'www.orlandosentinel.com': 1, 'natick.wickedlocal.com': 1, 'www.djournal.com': 1, 'www.wearegreenbay.com': 1, 'www.marionstar.com': 1, 'fox5sandiego.com': 1, 'www.dealnews.com': 1, 'abc7ny.com': 1, 'hellobeautiful.com': 1, 'www.wogx.com': 1, 'fun101fm.blogspot.com': 1, 'sputniknews.com': 1, 'www.punxsutawneyspirit.com': 1, 'www.thedailybeast.com': 1, 'zeenews.india.com': 1, 'www.masslive.com': 1, 'time.com': 1, 'winnipegsun.com': 1, 'www.jupiterbroadcasting.com': 1, 'krvn.com': 1, 'oregonstate.rivals.com': 1, 'www.sfexaminer.com': 1, 'www.eonline.com': 1, 'www.newsadvance.com': 1, 'www.kmov.com': 1})\n",
      "\u001b[32m2020-01-13 09:27:38\u001b[0m | \u001b[1mINFO    \u001b[0m | \u001b[36m__main__\u001b[0m:\u001b[36m<module>\u001b[0m:\u001b[36m4\u001b[0m - \u001b[1mIt took 00:03:03 to run this script!\u001b[0m\n"
     ]
    }
   ],
   "source": [
    "start_time = time()\n",
    "get_meta_data_test(file_urls[0])\n",
    "elapsed = strftime(\"%H:%M:%S\", gmtime(time() - start_time))\n",
    "logger.info(f'It took {elapsed} to run this script!')"
   ]
  },
  {
   "cell_type": "markdown",
   "metadata": {},
   "source": [
    "Looking at the domain names, it looks like we got what we wanted, however, it took a whopping a minute for 1000 warc files. We would be looking at roughly an hour to process all of our data, which seems too long. I suspect this is due to `BeatifulSoup`, need to run the profiler on this function to make sure, but for practical purposes, let's go ahead and refactor the code with `lxml` "
   ]
  },
  {
   "cell_type": "code",
   "execution_count": 22,
   "metadata": {},
   "outputs": [],
   "source": [
    "# Specificy parser to remove blanks\n",
    "parser = HTMLParser(remove_blank_text=True)\n",
    "# Instantiate Cleaner to strip scripts, styles and links for our purposes\n",
    "cleaner = Cleaner(scripts=True, javascript=True, style=True, links=True)"
   ]
  },
  {
   "cell_type": "markdown",
   "metadata": {},
   "source": [
    "Let's make sure we will get the same results that we got with Beautiful Soup"
   ]
  },
  {
   "cell_type": "code",
   "execution_count": 23,
   "metadata": {},
   "outputs": [
    {
     "name": "stdout",
     "output_type": "stream",
     "text": [
      "Vote to remove Estonia minister over jab at Finnish PM fails – KETK | FOX51 | EastTexasMatters.com Skip to content KETK | FOX51 | EastTexasMatters.com Tyler 36° Sponsored By Search Primary Menu News Top Stories Local News Crime Texas News Veterans Voices East Texas Addicted Home for the Holidays Your Local Election HQ Special Reports BorderReport.com Texas Politics Washington D.C. National News Newsfeed Now Top Stories McDermott International relocates to Tyler in Plaza Tower Top Stories FBI involved in ‘continuous’ search for missing south Austin mom, infant; no person of interest Tool developed in Texas to predict power failures now being tested in California to prevent wildfires Four Dallas Cowboys headed to Pro Bowl Van Zandt County family loses everything in Monday house fire Weather Map Center Hurricane Tracker Interactive Radar Bus Stop Forecast Weather Talk Weather Headlines Weather Alerts Closings and Delays Sports Local Sports Friday Football Fever presented by SUBWAY® Athlete of the Week presented by CHRISTUS Health The Big Game SEC Football Silver Star Nation Olympics NFL MLB NBA College Golf NHL MLS Top Stories Flyers dedicate 4-1 victory to cancer-stricken teammate Top Stories Hayden Fry, Texan who turned around Iowa, dies at 90 OF Avisaíl García agrees to deal with Milwaukee Brewers No. 5 Buckeyes bounce back, rout Southeast Missouri State Baltimore Ravens tie Pro Bowl record with 12 selections East Texas Live KETK Gives Back Community KETK Today Happy Birthday Calendar Texas Rose Festival Top Stories City of Tyler and Liberty Hall talk about all they have coming up Top Stories Texas A&M Agrilife shows how to make a healthy soup during the cold temps Top Stories Kelly Community Credit Union has some last minute gift giving ideas Precision Spine Care stops by the KETK Studio to talk chronic pain over the holiday season Spinout shares some great holiday gift ideas Roberts & Roberts explains their annual “The Ride is on Us” campaign Contests Nominate a Remarkable Woman in Your Life KETK Christmas Giveaway by Sweet Gourmet Home for the Holidays KETK Best Dressed House by Christmas Park Land of Lights KETK Pro Football Challenge presented by Loving Toyota Athlete of the Week presented by CHRISTUS Health Orthopedics & Sports Medicine CTCU & KETK Today Coffee Mug Giveaway Winners About Us Report It Contact Us Meet the Team Advertise With Us TV Schedule The Mel Robbins Show Newsletters Stay Connected Work for Us Closed Captioning Issues Video Livestream Top Stories McDermott International relocates to Tyler in Plaza Tower Top Stories FBI involved in ‘continuous’ search for missing south Austin mom, infant; no person of interest Top Stories Van Zandt County family loses everything in Monday house fire Tuesday Night Forecast: Frost & freeze by morning, a warmer Wednesday Flu season showing its face once more in East Texas MISSING MEAT: Customers frustrated after local processing plant suddenly closes Lone Star NYE 2020 Christmas in East Texas Search Search Search Vote to remove Estonia minister over jab at Finnish PM fails International by: JARI TANNER, Associated Press Posted: Dec 17, 2019 / 08:13 AM CST / Updated: Dec 17, 2019 / 08:13 AM CST FILE – In this Monday, March 4, 2019 file photo, Chairman of the Estonian Conservative People’s Party (EKRE) Mart Helme speaks at the headquarters after parliamentary elections in Tallinn, Estonia. Estonia’s interior minister and gaffe-prone nationalist party leader survives Parliament’s confidence vote triggered by a big uproar in the Baltic country after his mocking the new female prime minister of close neighbor Finland and her Social Democratic party. (AP Photo/Tanel Meos, file) HELSINKI (AP) — Estonia’s nationalist interior minister narrowly survived a no-confidence vote Tuesday that was triggered by his mocking of neighboring Finland’s young new prime minister and her party. Members of the 101-seat Riigikogu voted 44-42 to remove Estonian Conservative People’s Party Chairman Mart Helme from his Cabinet post. However, the motion needed an absolute majority of 51 votes to pass. The move was initiated by the opposition Reform Party. During a radio interview on Sunday, Helme, 70, took a swipe at Finnish Prime Minister Sanna Marin, 34. He quipped that “a cashier” was now leading Estonia’s close neighbor — an apparent reference to Marin’s past stint working at a department store. Helme, a former Estonian ambassador to Russia, also called Marin’s Social Democratic Party “red” and alleged it was out to “liquidate” Finland with its policies. Marin last week became the world’s youngest sitting prime minister and the third woman to lead Finland’s government. Estonian President Kersti Kaljulaid telephoned her Finnish counterpart, Sauli Niinisto, on Monday to give a public apology on behalf of Estonia and its interior minister to Marin and her government. Helme himself apologized much later Monday, blaming media for overplaying his comments. He is widely known in the Baltic country for political gaffes and sexist comments, including personal attacks on Kaljulaid. Earlier this year, he described Estonia’s first female president as “an emotionally heated woman.” His remarks about Marin nearly led Monday to the collapse of Estonia’s three-party coalition government led by Prime Minister Juri Ratas. Kaljulaid urged him to fire Helme. Ratas refused, offering the government’s apology to Finland but saying his Cabinet would remain unchanged. Helme’s anti-immigrant Estonian Conservative People’s Party, or EKRE, emerged from a March election as Estonia’s third-largest party. His son Martin Helme, 43, is EKRE’s vice chairman and Estonia’s current finance minister. Three of the party’s ministers have resigned from the Cabinet over various scandals since Ratas’ government took office in April. Along with EKRE and Ratas’ Center Party, the majority coalition includes the conservative Fatherland party. Copyright 2019 The Associated Press. All rights reserved. This material may not be published, broadcast, rewritten or redistributed. Share this story More International Stories Secretive FISA court rebukes FBI over errors in Russia probe by ERIC TUCKER, Associated Press / Dec 17, 2019 WASHINGTON (AP) — The chief judge of a secretive surveillance court said Tuesday that the FBI provided “unsupported\" information when it applied to eavesdrop on a former Trump campaign adviser and directed the bureau to report back by next month on what steps it was taking to fix the problems. The four-page order from Judge Rosemary Collyer followed a harshly critical Justice Department inspector general report that said the FBI had withheld key information when it submitted four applications in 2016 and 2017 to monitor the communications of Carter Page. Read the Full Article AP Photos: Cadet ball revives imperial Russia’s splendor by ALEXANDER ZEMLIANICHENKO, Associated Press / Dec 17, 2019 MOSCOW (AP) — Military school students from across Russia lined up to dance Tuesday at an annual cadet ball in Moscow that blends patriotism with imperial-style grandeur. The organizers said that the fourth International Kremlin Cadet Ball also drew students from Belarus, Kazakhstan, and two regions of eastern Ukraine controlled by Russia-backed separatists. Read the Full Article Venice’s endurance symbolized in Royal Gardens re-opening by COLLEEN BARRY, Associated Press / Dec 17, 2019 VENICE, Italy (AP) — Venice’s Royal Gardens were first envisioned by Napoleon, flourished under Austrian Empress Sissi and were finally turned over to the public by the House of Savoy, only to fall into disrepair in recent years. After an extensive restoration, the gardens reopened Tuesday as a symbol both of the lagoon city’s endurance after last month’s record floods, and the necessity of public-private partnerships to care for Italy’s enormous cultural heritage. Read the Full Article More Stories MISSING MEAT: Customers frustrated after local processing plant suddenly closes Local News / 3 hours ago Van Zandt County family loses everything in Monday house fire News / 3 hours ago Flu season showing its face once more in East Texas Top Stories / 3 hours ago FBI involved in ‘continuous’ search for missing south Austin mom, infant; no person of interest Top Stories / 2 hours ago Read more stories Trending Right Now Four Dallas Cowboys headed to Pro Bowl MISSING MEAT: Customers frustrated after local processing plant suddenly closes FBI involved in ‘continuous’ search for missing south Austin mom, infant; no person of interest Weather Javi’s replacing old Juls’ location in South Tyler Community Calendar Don't Miss Nominate a Remarkable Woman in Your Life Home for the Holidays Best Dressed House by Christmas Park Land of Lights Pro Football Challenge KETK TODAY: Happy Birthday Athlete of the Week KETK Twitter & FacebookFollow @KETK KETK NBC Trending Stories Four Dallas Cowboys headed to Pro Bowl MISSING MEAT: Customers frustrated after local processing plant suddenly closes FBI involved in ‘continuous’ search for missing south Austin mom, infant; no person of interest Weather Javi’s replacing old Juls’ location in South Tyler Follow Us Facebook Twitter Pinterest YouTube RSS Feed Email News App Weather App News Weather Sports Community Video Contact Us Terms of Use Privacy Policy EEO Report KETK FCC Public File KFXK FCC Public File KTPN FCC Public File Nexstar Closed Captioning Certification © 1998 - 2019 Nexstar Broadcasting, Inc. | All Rights Reserved. × Close Ad\n",
      "********************************************************************************\n",
      "This page has a language tag: en-US\n",
      "Detected Language: en\n"
     ]
    }
   ],
   "source": [
    "resp = requests.get(file_urls[0], stream=True)\n",
    "for record in ArchiveIterator(resp.raw, arc2warc=True):\n",
    "    if record.rec_type == 'response':\n",
    "        content = record.content_stream().read()\n",
    "        tree = fromstring(content, parser=parser)\n",
    "        parsed_lang = tree.get(\"lang\")\n",
    "        tree = cleaner.clean_html(tree)\n",
    "    \n",
    "        text = tree.text_content().strip()\n",
    "        text = \" \".join(text.split())\n",
    "        detected_lang= detect(text)\n",
    "        \n",
    "        print(text)\n",
    "        print(\"*\"*80)\n",
    "        print(f\"This page has a language tag: {parsed_lang}\")\n",
    "        print(f\"Detected Language: {detected_lang}\") \n",
    "     \n",
    "        break "
   ]
  },
  {
   "cell_type": "markdown",
   "metadata": {},
   "source": [
    "Yes! A little bit more cumborsome but it is the same thing. Let's refactor the function. "
   ]
  },
  {
   "cell_type": "code",
   "execution_count": 24,
   "metadata": {},
   "outputs": [],
   "source": [
    "def get_meta_data_test_lxml(url):\n",
    "    resp = requests.get(url, stream=True)\n",
    "    \n",
    "    domain_counter = Counter()\n",
    "    \n",
    "    for i, record in enumerate(ArchiveIterator(resp.raw, arc2warc=True)):\n",
    "        if record.rec_type == 'response':\n",
    "    \n",
    "            uri = record.rec_headers.get_header('WARC-Target-URI')\n",
    "            domain = urlparse(uri).netloc\n",
    "            if domain.split('.')[-1] in ['com', 'uk']:\n",
    "                content = record.content_stream().read()\n",
    "                tree = fromstring(content, parser=parser)\n",
    "\n",
    "                try:\n",
    "                    tree = fromstring(content) \n",
    "                    parsed_lang = tree.get(\"lang\")\n",
    "                except TypeError:\n",
    "                    parsed_lang = None\n",
    "                if parsed_lang is None or parsed_lang[:2].lower() ==  'en':\n",
    "                    try:\n",
    "                        tree = cleaner.clean_html(tree)\n",
    "                        text = tree.text_content().strip()\n",
    "                        text = \" \".join(text.split())\n",
    "                        detected_lang= detect(text)\n",
    "                    except:\n",
    "                        detected_lang = \"can't detect\"\n",
    "                    if detected_lang == 'en':\n",
    "                        domain_counter.update({domain: 1})\n",
    "\n",
    "            if i % 1000 == 0 :\n",
    "                logger.info(f\"I have processed {i} warc files so far\")\n",
    "                logger.info(f\"\\tI found {sum(domain_counter.values())} English pages\")\n",
    "                logger.info(f\"\\tI found {len(domain_counter.keys())} domains\")\n",
    "\n",
    "        if i ==3000:\n",
    "            print(domain_counter)\n",
    "            break\n",
    "            "
   ]
  },
  {
   "cell_type": "code",
   "execution_count": 25,
   "metadata": {},
   "outputs": [
    {
     "name": "stdout",
     "output_type": "stream",
     "text": [
      "\u001b[32m2020-01-13 09:28:39\u001b[0m | \u001b[1mINFO    \u001b[0m | \u001b[36m__main__\u001b[0m:\u001b[36mget_meta_data_test_lxml\u001b[0m:\u001b[36m32\u001b[0m - \u001b[1mI have processed 1000 warc files so far\u001b[0m\n",
      "\u001b[32m2020-01-13 09:28:39\u001b[0m | \u001b[1mINFO    \u001b[0m | \u001b[36m__main__\u001b[0m:\u001b[36mget_meta_data_test_lxml\u001b[0m:\u001b[36m33\u001b[0m - \u001b[1m\tI found 294 English pages\u001b[0m\n",
      "\u001b[32m2020-01-13 09:28:39\u001b[0m | \u001b[1mINFO    \u001b[0m | \u001b[36m__main__\u001b[0m:\u001b[36mget_meta_data_test_lxml\u001b[0m:\u001b[36m34\u001b[0m - \u001b[1m\tI found 38 domains\u001b[0m\n",
      "\u001b[32m2020-01-13 09:28:49\u001b[0m | \u001b[1mINFO    \u001b[0m | \u001b[36m__main__\u001b[0m:\u001b[36mget_meta_data_test_lxml\u001b[0m:\u001b[36m32\u001b[0m - \u001b[1mI have processed 2000 warc files so far\u001b[0m\n",
      "\u001b[32m2020-01-13 09:28:49\u001b[0m | \u001b[1mINFO    \u001b[0m | \u001b[36m__main__\u001b[0m:\u001b[36mget_meta_data_test_lxml\u001b[0m:\u001b[36m33\u001b[0m - \u001b[1m\tI found 523 English pages\u001b[0m\n",
      "\u001b[32m2020-01-13 09:28:49\u001b[0m | \u001b[1mINFO    \u001b[0m | \u001b[36m__main__\u001b[0m:\u001b[36mget_meta_data_test_lxml\u001b[0m:\u001b[36m34\u001b[0m - \u001b[1m\tI found 65 domains\u001b[0m\n",
      "\u001b[32m2020-01-13 09:29:00\u001b[0m | \u001b[1mINFO    \u001b[0m | \u001b[36m__main__\u001b[0m:\u001b[36mget_meta_data_test_lxml\u001b[0m:\u001b[36m32\u001b[0m - \u001b[1mI have processed 3000 warc files so far\u001b[0m\n",
      "\u001b[32m2020-01-13 09:29:00\u001b[0m | \u001b[1mINFO    \u001b[0m | \u001b[36m__main__\u001b[0m:\u001b[36mget_meta_data_test_lxml\u001b[0m:\u001b[36m33\u001b[0m - \u001b[1m\tI found 773 English pages\u001b[0m\n",
      "\u001b[32m2020-01-13 09:29:00\u001b[0m | \u001b[1mINFO    \u001b[0m | \u001b[36m__main__\u001b[0m:\u001b[36mget_meta_data_test_lxml\u001b[0m:\u001b[36m34\u001b[0m - \u001b[1m\tI found 100 domains\u001b[0m\n",
      "Counter({'www.pcgamer.com': 83, 'www.easttexasmatters.com': 75, 'www.saucey.com': 60, 'www.michigansthumb.com': 53, 'www.seattlepi.com': 51, 'www.reuters.com': 36, 'www.wivb.com': 36, 'www.houstonchronicle.com': 32, 'www.bigrapidsnews.com': 22, 'www.washingtonpost.com': 21, 'www.nbcnews.com': 18, 'www.wfmz.com': 18, 'economictimes.indiatimes.com': 14, 'www.wkrg.com': 11, 'fcnp.com': 10, 'www.dailymail.co.uk': 9, 'www.bclocalnews.com': 8, 'www.telegraph.co.uk': 8, 'www.tahlequahdailypress.com': 8, 'lincoln.wickedlocal.com': 7, 'www.iberianet.com': 6, 'www.tokyoreporter.com': 6, 'www.wenatcheeworld.com': 5, 'abc7chicago.com': 5, 'www.forexlive.com': 5, 'northborough.wickedlocal.com': 5, 'siouxcityjournal.com': 5, 'www.kltv.com': 5, 'www.newschief.com': 5, 'www.journalnow.com': 5, 'www.breakingisraelnews.com': 4, 'www.modernghana.com': 4, 'www.teutopolispress.com': 4, 'www.woodtv.com': 4, 'fox59.com': 4, 'www.sandiegouniontribune.com': 4, 'www.freep.com': 3, 'frankreport.com': 3, 'www.wtsp.com': 3, 'www.foxnews.com': 3, 'abc7news.com': 3, 'poststar.com': 3, 'www.youtube.com': 3, 'www.courthousenews.com': 3, 'kdvr.com': 3, 'www.gametimect.com': 3, 'www.straitstimes.com': 3, 'nationalpost.com': 3, 'www.defense-aerospace.com': 3, 'www.nationalreview.com': 3, 'www.pennlive.com': 3, 'clarion.causeaction.com': 2, 'www.goal.com': 2, 'norwood.wickedlocal.com': 2, 'www.westernjournal.com': 2, 'www.news9.com': 2, 'lsu.forums.rivals.com': 2, 'lsu.rivals.com': 2, 'fox2now.com': 2, 'www.startribune.com': 2, 'www.pressargus.com': 2, 'www.dothaneagle.com': 2, 'xconomy.com': 2, 'www.nevadaiowajournal.com': 2, 'www.bangkokpost.com': 2, 'www.seattlemet.com': 2, 'mmajunkie.usatoday.com': 2, 'www.rockdalenewtoncitizen.com': 2, 'clinton.wickedlocal.com': 2, 'pokerfuse.com': 2, 'accidentaldeliberations.blogspot.com': 2, 'www.cleveland.com': 2, 'www.kens5.com': 2, 'www.nbcbayarea.com': 2, '1053rnb.com': 1, 'www.orlandosentinel.com': 1, 'natick.wickedlocal.com': 1, 'www.djournal.com': 1, 'www.wearegreenbay.com': 1, 'www.marionstar.com': 1, 'fox5sandiego.com': 1, 'www.dealnews.com': 1, 'abc7ny.com': 1, 'hellobeautiful.com': 1, 'www.wogx.com': 1, 'fun101fm.blogspot.com': 1, 'sputniknews.com': 1, 'www.punxsutawneyspirit.com': 1, 'www.thedailybeast.com': 1, 'zeenews.india.com': 1, 'www.masslive.com': 1, 'time.com': 1, 'winnipegsun.com': 1, 'www.jupiterbroadcasting.com': 1, 'krvn.com': 1, 'oregonstate.rivals.com': 1, 'www.sfexaminer.com': 1, 'www.eonline.com': 1, 'www.newsadvance.com': 1, 'www.kmov.com': 1})\n",
      "\u001b[32m2020-01-13 09:29:00\u001b[0m | \u001b[1mINFO    \u001b[0m | \u001b[36m__main__\u001b[0m:\u001b[36m<module>\u001b[0m:\u001b[36m4\u001b[0m - \u001b[1mIt took 00:00:32 to run this script!\u001b[0m\n"
     ]
    }
   ],
   "source": [
    "start_time = time()\n",
    "get_meta_data_test_lxml(file_urls[0])\n",
    "elapsed = strftime(\"%H:%M:%S\", gmtime(time() - start_time))\n",
    "logger.info(f'It took {elapsed} to run this script!')"
   ]
  },
  {
   "cell_type": "markdown",
   "metadata": {},
   "source": [
    "A `6x` speed performance improvement.  Love `lxml`. From now on, we shall go with `lxml`. Let's process one file. \n",
    "\n",
    "First modify the function: "
   ]
  },
  {
   "cell_type": "code",
   "execution_count": 26,
   "metadata": {},
   "outputs": [],
   "source": [
    "def get_meta_data(url):\n",
    "    resp = requests.get(url, stream=True)\n",
    "    \n",
    "    domain_counter = Counter()\n",
    "    for i, record in enumerate(ArchiveIterator(resp.raw, arc2warc=True)):\n",
    "        if record.rec_type == 'response':\n",
    "    \n",
    "            uri = record.rec_headers.get_header('WARC-Target-URI')\n",
    "            domain = urlparse(uri).netloc\n",
    "            if domain.split('.')[-1] in ['com', 'uk']:\n",
    "                content = record.content_stream().read()\n",
    "                tree = fromstring(content, parser=parser)\n",
    "\n",
    "                try:\n",
    "                    tree = fromstring(content) \n",
    "                    parsed_lang = tree.get(\"lang\")\n",
    "                except TypeError:\n",
    "                    parsed_lang = None\n",
    "                if parsed_lang is None or parsed_lang[:2].lower() ==  'en':\n",
    "                    try:\n",
    "                        tree = cleaner.clean_html(tree)\n",
    "                        text = tree.text_content().strip()\n",
    "                        text = \" \".join(text.split())\n",
    "                        detected_lang= detect(text)\n",
    "                    except:\n",
    "                        detected_lang = \"can't detect\"\n",
    "                    if detected_lang == 'en':\n",
    "                        domain_counter.update({domain: 1})\n",
    "\n",
    "    logger.info(f\"I have processed {i} warc files in Total!\")\n",
    "    logger.info(f\"I found {sum(domain_counter.values())} English pages\")\n",
    "    logger.info(f\"I found {len(domain_counter.keys())} domains\")\n",
    "            \n",
    "    return domain_counter"
   ]
  },
  {
   "cell_type": "code",
   "execution_count": 27,
   "metadata": {},
   "outputs": [
    {
     "name": "stdout",
     "output_type": "stream",
     "text": [
      "\u001b[32m2020-01-13 09:39:39\u001b[0m | \u001b[1mINFO    \u001b[0m | \u001b[36m__main__\u001b[0m:\u001b[36mget_meta_data\u001b[0m:\u001b[36m30\u001b[0m - \u001b[1mI have processed 71548 warc files in Total!\u001b[0m\n",
      "\u001b[32m2020-01-13 09:39:39\u001b[0m | \u001b[1mINFO    \u001b[0m | \u001b[36m__main__\u001b[0m:\u001b[36mget_meta_data\u001b[0m:\u001b[36m31\u001b[0m - \u001b[1mI found 14348 English pages\u001b[0m\n",
      "\u001b[32m2020-01-13 09:39:39\u001b[0m | \u001b[1mINFO    \u001b[0m | \u001b[36m__main__\u001b[0m:\u001b[36mget_meta_data\u001b[0m:\u001b[36m32\u001b[0m - \u001b[1mI found 1292 domains\u001b[0m\n",
      "\u001b[32m2020-01-13 09:39:39\u001b[0m | \u001b[1mINFO    \u001b[0m | \u001b[36m__main__\u001b[0m:\u001b[36m<module>\u001b[0m:\u001b[36m4\u001b[0m - \u001b[1mIt took 00:10:32 to run this script!\u001b[0m\n"
     ]
    }
   ],
   "source": [
    "start_time = time()\n",
    "domains = get_meta_data(file_urls[0])\n",
    "elapsed = strftime(\"%H:%M:%S\", gmtime(time() - start_time))\n",
    "logger.info(f'It took {elapsed} to run this script!')"
   ]
  },
  {
   "cell_type": "code",
   "execution_count": 28,
   "metadata": {},
   "outputs": [
    {
     "data": {
      "text/plain": [
       "[('www.pcgamer.com', 1637),\n",
       " ('irvineobserver.com', 281),\n",
       " ('www.easttexasmatters.com', 232),\n",
       " ('www.dailymail.co.uk', 221),\n",
       " ('www.legacy.com', 206),\n",
       " ('www.informnny.com', 152),\n",
       " ('www.nwahomepage.com', 135),\n",
       " ('www.wivb.com', 129),\n",
       " ('www.sheltonherald.com', 118),\n",
       " ('www.bigcountryhomepage.com', 117),\n",
       " ('www.nhregister.com', 116),\n",
       " ('www.fairfieldcitizenonline.com', 115),\n",
       " ('www.chron.com', 113),\n",
       " ('www.seattlepi.com', 109),\n",
       " ('www.theridgefieldpress.com', 108),\n",
       " ('www.wiltonbulletin.com', 108),\n",
       " ('www.michigansthumb.com', 105),\n",
       " ('www.mrt.com', 104),\n",
       " ('www.sfgate.com', 104),\n",
       " ('www.ctpost.com', 103)]"
      ]
     },
     "execution_count": 28,
     "metadata": {},
     "output_type": "execute_result"
    }
   ],
   "source": [
    "# Get the most common domains\n",
    "domains.most_common(20)"
   ]
  },
  {
   "cell_type": "markdown",
   "metadata": {},
   "source": [
    "This is from just the first file.  One file took 10+ minutes so if we run a loop processing through all files will take about 4 hours even for this simple function. That's way too long. Can we parellize the process?  But before we do that, let's just simplify the function just to see it works. We will take out the language detection from text part out. "
   ]
  },
  {
   "cell_type": "code",
   "execution_count": 29,
   "metadata": {},
   "outputs": [],
   "source": [
    "def get_meta_data_p(url):\n",
    "    resp = requests.get(url, stream=True)\n",
    "    \n",
    "    domain_counter = Counter()\n",
    "    if record.rec_type == 'response':\n",
    "        uri = record.rec_headers.get_header('WARC-Target-URI')\n",
    "        domain = urlparse(uri).netloc\n",
    "        if domain.split('.')[-1] in ['com', 'uk']:\n",
    "            content = record.content_stream().read()\n",
    "            tree = fromstring(content, parser=parser)\n",
    "            try:\n",
    "                tree = fromstring(content) \n",
    "                parsed_lang = tree.get(\"lang\")\n",
    "            except TypeError:\n",
    "                parsed_lang = None\n",
    "            if detected_lang == 'en':\n",
    "                domain_counter.update({domain: 1})        \n",
    "    return domain_counter"
   ]
  },
  {
   "cell_type": "code",
   "execution_count": 30,
   "metadata": {},
   "outputs": [
    {
     "data": {
      "text/plain": [
       "23"
      ]
     },
     "execution_count": 30,
     "metadata": {},
     "output_type": "execute_result"
    }
   ],
   "source": [
    "cpu_count() -1"
   ]
  },
  {
   "cell_type": "code",
   "execution_count": 31,
   "metadata": {},
   "outputs": [],
   "source": [
    "# For testing purposes, do not run:\n",
    "if 1 == 0:\n",
    "    start_time = time()\n",
    "    with Pool(processes=(cpu_count() -1)) as proc:\n",
    "        results = list(proc.imap(get_meta_data_p, file_urls))\n",
    "    elapsed = strftime(\"%H:%M:%S\", gmtime(time() - start_time))\n",
    "    logger.info(f'It took {elapsed} to run this script!')"
   ]
  },
  {
   "cell_type": "markdown",
   "metadata": {},
   "source": [
    "It took a whopping 36 mins to run through 23 files. One file takes a little over 2 mins, so if we serialized it, we would expect it to take about 50 mins. So there is about 40% improvement but this code is run on a 12 core 24 thread machine so there is a bottleneck here. It is likely that there are some S3 Bucket \"same machine/simultaneous streaming\" constraints that is throttling the streaming. I see all cores fired up but only 6 of them is maximized at any given time.  And if we added the language detection part, then we would be looking at 4 hours. Way way too long. \n",
    "\n",
    "This have to take the hit and download these files onto the machine.  This way we can take a one-time hit but eliminate network streaming issues.  After all, we were trying to stream through 23, GB files at the same time. \n",
    "\n",
    "Belove code leverages `wget` package which is a wrapper around 'nix `wget` and will download the files into our data folder. It takes about 90 seconds per file. "
   ]
  },
  {
   "cell_type": "code",
   "execution_count": 32,
   "metadata": {},
   "outputs": [],
   "source": [
    "# Do not run unless you want to download these files onto your machine. \n",
    "if 1 == 0:\n",
    "    for url in file_urls:\n",
    "        wget.download(url, str(data_folder / url.split('/')[-1]))"
   ]
  },
  {
   "cell_type": "code",
   "execution_count": 33,
   "metadata": {},
   "outputs": [],
   "source": [
    "# Get File URIs\n",
    "files = [str(x) for x in data_folder.glob('*') if x.is_file()]"
   ]
  },
  {
   "cell_type": "markdown",
   "metadata": {},
   "source": [
    "Now, we have to refactor the function to read warc.gz files on the machine instead of streaming them from the s3 bucket. "
   ]
  },
  {
   "cell_type": "code",
   "execution_count": 36,
   "metadata": {},
   "outputs": [],
   "source": [
    "def get_meta_data_f(uri):\n",
    "    domain_counter = Counter()\n",
    "    with open(uri, 'rb') as stream:\n",
    "        for i, record in enumerate(ArchiveIterator(stream, arc2warc=True)):\n",
    "            if record.rec_type == 'response':\n",
    "                warc_uri = record.rec_headers.get_header('WARC-Target-URI')\n",
    "                domain = urlparse(warc_uri).netloc\n",
    "                if domain.split('.')[-1] in ['com', 'uk']:\n",
    "                    content = record.content_stream().read()\n",
    "                    tree = fromstring(content, parser=parser)\n",
    "                    try:\n",
    "                        tree = fromstring(content) \n",
    "                        parsed_lang = tree.get(\"lang\")\n",
    "                    except TypeError:\n",
    "                        parsed_lang = None\n",
    "                        detected_lang = None\n",
    "                        pass\n",
    "                    if parsed_lang is not None and parsed_lang[:2].lower() ==  'en':\n",
    "                        try:\n",
    "                            tree = cleaner.clean_html(tree)\n",
    "                            text = tree.text_content().strip()\n",
    "                            text = \" \".join(text.split())\n",
    "                            detected_lang= detect(text)\n",
    "                        except:\n",
    "                            detected_lang = \"can't detect\"\n",
    "                        if detected_lang == 'en':\n",
    "                            domain_counter.update({domain: 1})\n",
    "\n",
    "    logger.info(f\"I have processed {i} warc files in Total!\")\n",
    "    logger.info(f\"I found {sum(domain_counter.values())} English pages\")\n",
    "    logger.info(f\"I found {len(domain_counter.keys())} domains\")\n",
    "            \n",
    "    return domain_counter"
   ]
  },
  {
   "cell_type": "markdown",
   "metadata": {},
   "source": [
    "Let's try it on one file:"
   ]
  },
  {
   "cell_type": "code",
   "execution_count": 37,
   "metadata": {},
   "outputs": [
    {
     "name": "stdout",
     "output_type": "stream",
     "text": [
      "\u001b[32m2020-01-13 09:48:59\u001b[0m | \u001b[1mINFO    \u001b[0m | \u001b[36m__main__\u001b[0m:\u001b[36mget_meta_data_f\u001b[0m:\u001b[36m29\u001b[0m - \u001b[1mI have processed 66830 warc files in Total!\u001b[0m\n",
      "\u001b[32m2020-01-13 09:48:59\u001b[0m | \u001b[1mINFO    \u001b[0m | \u001b[36m__main__\u001b[0m:\u001b[36mget_meta_data_f\u001b[0m:\u001b[36m30\u001b[0m - \u001b[1mI found 11869 English pages\u001b[0m\n",
      "\u001b[32m2020-01-13 09:48:59\u001b[0m | \u001b[1mINFO    \u001b[0m | \u001b[36m__main__\u001b[0m:\u001b[36mget_meta_data_f\u001b[0m:\u001b[36m31\u001b[0m - \u001b[1mI found 636 domains\u001b[0m\n",
      "\u001b[32m2020-01-13 09:48:59\u001b[0m | \u001b[1mINFO    \u001b[0m | \u001b[36m__main__\u001b[0m:\u001b[36m<module>\u001b[0m:\u001b[36m4\u001b[0m - \u001b[1mIt took 00:07:37 to run this script!\u001b[0m\n"
     ]
    }
   ],
   "source": [
    "start_time = time()\n",
    "domains = get_meta_data_f(files[0])\n",
    "elapsed = strftime(\"%H:%M:%S\", gmtime(time() - start_time))\n",
    "logger.info(f'It took {elapsed} to run this script!')\n",
    "os.system(\"play /usr/share/sounds/sound-icons/trumpet-1.wav\")"
   ]
  },
  {
   "cell_type": "markdown",
   "metadata": {},
   "source": [
    "Let's Parallelize the function and leverage all cores available... "
   ]
  },
  {
   "cell_type": "code",
   "execution_count": 39,
   "metadata": {},
   "outputs": [],
   "source": [
    "def get_meta_data_f_p(uri):\n",
    "    domain_counter = Counter()\n",
    "    with open(uri, 'rb') as stream:\n",
    "        for i, record in enumerate(ArchiveIterator(stream, arc2warc=True)):\n",
    "            if record.rec_type == 'response':\n",
    "                warc_uri = record.rec_headers.get_header('WARC-Target-URI')\n",
    "                domain = urlparse(warc_uri).netloc\n",
    "                if domain.split('.')[-1] in ['com', 'uk']:\n",
    "                    content = record.content_stream().read()\n",
    "                    try:\n",
    "                        tree = fromstring(content, parser=parser)\n",
    "                        parsed_lang = tree.get(\"lang\")\n",
    "                        if parsed_lang is not None and parsed_lang[:2].lower() ==  'en':\n",
    "                            try:\n",
    "                                tree = cleaner.clean_html(tree)\n",
    "                                text = tree.text_content().strip()\n",
    "                                text = \" \".join(text.split())\n",
    "                                detected_lang= detect(text)\n",
    "                            except:\n",
    "                                detected_lang = None\n",
    "                            if detected_lang == 'en':\n",
    "                                domain_counter.update({domain: 1})\n",
    "                    except:\n",
    "                        parsed_lang = None\n",
    "                        detected_lang = None\n",
    "                        pass\n",
    "                            \n",
    "    return domain_counter, i"
   ]
  },
  {
   "cell_type": "code",
   "execution_count": 40,
   "metadata": {},
   "outputs": [
    {
     "name": "stdout",
     "output_type": "stream",
     "text": [
      "\u001b[32m2020-01-13 10:02:17\u001b[0m | \u001b[1mINFO    \u001b[0m | \u001b[36m__main__\u001b[0m:\u001b[36m<module>\u001b[0m:\u001b[36m5\u001b[0m - \u001b[1mIt took 00:12:13 to run this script!\u001b[0m\n"
     ]
    },
    {
     "data": {
      "text/plain": [
       "0"
      ]
     },
     "execution_count": 40,
     "metadata": {},
     "output_type": "execute_result"
    }
   ],
   "source": [
    "start_time = time()\n",
    "with Pool(processes=(cpu_count() -1)) as proc:\n",
    "    results = list(proc.imap(get_meta_data_f_p, files))\n",
    "elapsed = strftime(\"%H:%M:%S\", gmtime(time() - start_time))\n",
    "logger.info(f'It took {elapsed} to run this script!')\n",
    "os.system(\"play /usr/share/sounds/sound-icons/trumpet-1.wav\")"
   ]
  },
  {
   "cell_type": "markdown",
   "metadata": {},
   "source": [
    "Combine results from all files: "
   ]
  },
  {
   "cell_type": "code",
   "execution_count": 41,
   "metadata": {},
   "outputs": [],
   "source": [
    "all_domains = Counter()\n",
    "num_files = []\n",
    "for dom in results:\n",
    "    all_domains = all_domains + dom[0]\n",
    "    num_files.append(dom[1])"
   ]
  },
  {
   "cell_type": "code",
   "execution_count": 42,
   "metadata": {},
   "outputs": [
    {
     "name": "stdout",
     "output_type": "stream",
     "text": [
      "We have processed total of 1,669,087 files.\n",
      "We have got a hit for 233,917 web pages in English!\n",
      "In this set, there are 5,061 unique domains!\n"
     ]
    }
   ],
   "source": [
    "print(f\"We have processed total of {sum(num_files):,} files.\")\n",
    "print(f\"We have got a hit for {sum(all_domains.values()):,} web pages in English!\")\n",
    "print(f\"In this set, there are {len(all_domains.keys()):,} unique domains!\")"
   ]
  },
  {
   "cell_type": "markdown",
   "metadata": {},
   "source": [
    "All this in 12 mins on this machine is not bad and can be optimized even further but this will do for the time being. Let's take a look at the top domains:"
   ]
  },
  {
   "cell_type": "code",
   "execution_count": 43,
   "metadata": {},
   "outputs": [
    {
     "name": "stdout",
     "output_type": "stream",
     "text": [
      "And here are the domains with the most hits:\n",
      "('www.pcgamer.com', 14079)\n",
      "('www.sbwire.com', 6919)\n",
      "('www.releasewire.com', 6875)\n",
      "('www.gamesradar.com', 6775)\n",
      "('www.musicradar.com', 6654)\n",
      "('www.itproportal.com', 6619)\n",
      "('www.tesco.com', 6498)\n",
      "('www.autotrader.co.uk', 4472)\n",
      "('www.whatsonstage.com', 4340)\n",
      "('www.theatermania.com', 3134)\n",
      "('irvineobserver.com', 2623)\n",
      "('www.ii.co.uk', 2531)\n",
      "('www.mysmartrend.com', 1921)\n",
      "('www.devdiscourse.com', 1756)\n",
      "('www.goal.com', 1697)\n",
      "('www.onenewspage.com', 1601)\n",
      "('www.bhg.com', 1388)\n",
      "('www.bbc.co.uk', 1278)\n",
      "('www.reuters.com', 1265)\n",
      "('shopping.yahoo.com', 1105)\n",
      "('www.refinery29.com', 1104)\n",
      "('www.ultimate-guitar.com', 1014)\n",
      "('www.pagalguy.com', 1000)\n",
      "('www.eglobalist.com', 1000)\n",
      "('www.eastlaketimes.com', 969)\n",
      "('www.thehindu.com', 928)\n",
      "('www.sfchronicle.com', 841)\n",
      "('www.houstonchronicle.com', 834)\n",
      "('www.westernjournal.com', 826)\n",
      "('www.prnewswire.com', 818)\n"
     ]
    }
   ],
   "source": [
    "print(f\"And here are the domains with the most hits:\")\n",
    "print(*all_domains.most_common(30), sep = \"\\n\")"
   ]
  },
  {
   "cell_type": "markdown",
   "metadata": {},
   "source": [
    "#### Observations\n",
    "\n",
    "A few quick ones:\n",
    "* There are non news sites, mostly ecommerce, i.e. pcgamer, musicradar, autotrader, whatsonstage, shopping.yahoo.com, etc. I am not sure why they are being scraped but is a problem.\n",
    "* There are some legit news sites like, reuters.com, bbc.co.uk\n",
    "* There are some sports sites for sports related news, like goal.com\n",
    "* There are some IT related sites\n",
    "* There are some financial business news sites\n",
    "* And there is a bunch of local sites like thehindu.com. \n",
    "\n",
    "So how do we go about all this?  We have to create a filter for what we want and categorize these sites.\n",
    "\n",
    "One way to train a model on some corpus like newsgroups and classify the domains via their title or description.\n",
    "That seems a good idea but in the interest of time might be too much. \n",
    "\n",
    "We could also get their descriptions and titles and try to classify them on a rule based method. Let's try that. We will demonstrate scraping the information from the actual websites: "
   ]
  },
  {
   "cell_type": "markdown",
   "metadata": {},
   "source": [
    "## 4. Scrapting domain title and descriptins"
   ]
  },
  {
   "cell_type": "code",
   "execution_count": 49,
   "metadata": {},
   "outputs": [],
   "source": [
    "min_thresh = 10\n",
    "most_common = dict(all_domains.most_common())\n",
    "most_common_doms = {x : most_common[x] for x in most_common if most_common[x] >= min_thresh}"
   ]
  },
  {
   "cell_type": "code",
   "execution_count": 50,
   "metadata": {},
   "outputs": [],
   "source": [
    "def get_titles (doms):\n",
    "    results = []\n",
    "    for dom in doms:\n",
    "        result = {}\n",
    "        try:\n",
    "            web_response = requests.get(\"http://\" + dom, timeout=(10,20)) \n",
    "            tree = fromstring(web_response.text)\n",
    "            title = tree.xpath(\"//title/text()\")\n",
    "            title = str(title[0]) if title else None\n",
    "            description = tree.xpath(\"//meta[@name='description']/@content\")\n",
    "            description = str(description[0]) if description else None\n",
    "            \n",
    "            result = {'domain':dom, 'title':title, 'description': description}\n",
    "        except:\n",
    "            result = {'domain':dom, 'title':None, 'description': None }\n",
    "        results.append(result)\n",
    "    print(results)"
   ]
  },
  {
   "cell_type": "code",
   "execution_count": 51,
   "metadata": {},
   "outputs": [
    {
     "name": "stdout",
     "output_type": "stream",
     "text": [
      "[{'domain': 'www.pcgamer.com', 'title': 'PC Gamer', 'description': 'PC Gamer is your source for exclusive reviews, demos, updates and news on all your favorite PC gaming franchises.'}, {'domain': 'www.sbwire.com', 'title': 'SBWire - The Small Business Newswire', 'description': None}, {'domain': 'www.releasewire.com', 'title': 'ReleaseWire - From Release To Results', 'description': None}, {'domain': 'www.gamesradar.com', 'title': 'GamesRadar+', 'description': 'GamesRadar+ takes you closer to the games, movies and TV you love.'}, {'domain': 'www.musicradar.com', 'title': 'Music Gear, Equipment, News, Tutorials & Reviews | MusicRadar', 'description': 'Get up to the minute news and reviews for all music makers'}]\n",
      "\u001b[32m2020-01-13 10:06:33\u001b[0m | \u001b[1mINFO    \u001b[0m | \u001b[36m__main__\u001b[0m:\u001b[36m<module>\u001b[0m:\u001b[36m4\u001b[0m - \u001b[1mIt took 00:00:03 to run this script!\u001b[0m\n"
     ]
    }
   ],
   "source": [
    "start_time = time()\n",
    "subset_titles = get_titles(list(most_common_doms.keys())[:5])\n",
    "elapsed = strftime(\"%H:%M:%S\", gmtime(time() - start_time))\n",
    "logger.info(f'It took {elapsed} to run this script!')"
   ]
  },
  {
   "cell_type": "code",
   "execution_count": 54,
   "metadata": {},
   "outputs": [
    {
     "data": {
      "text/plain": [
       "['www.pcgamer.com',\n",
       " 'www.sbwire.com',\n",
       " 'www.releasewire.com',\n",
       " 'www.gamesradar.com',\n",
       " 'www.musicradar.com',\n",
       " 'www.itproportal.com',\n",
       " 'www.tesco.com',\n",
       " 'www.autotrader.co.uk',\n",
       " 'www.whatsonstage.com',\n",
       " 'www.theatermania.com']"
      ]
     },
     "execution_count": 54,
     "metadata": {},
     "output_type": "execute_result"
    }
   ],
   "source": [
    "list(most_common_doms.keys())[:10]"
   ]
  },
  {
   "cell_type": "code",
   "execution_count": 55,
   "metadata": {},
   "outputs": [],
   "source": [
    "def get_titles_p (dom):\n",
    "    try:\n",
    "        web_response = requests.get(\"http://\" + dom, timeout=(10,20)) \n",
    "        tree = fromstring(web_response.text)\n",
    "        title = tree.xpath(\"//title/text()\")\n",
    "        title = title[0] if title else None\n",
    "        description = tree.xpath(\"//meta[@name='description']/@content\")\n",
    "        description = description[0] if description else None\n",
    "            \n",
    "        result = {'domain':dom, 'title':title, 'description': description}   \n",
    "    except:\n",
    "        result = {'domain':dom, 'title': None, 'description': None}\n",
    "    return result"
   ]
  },
  {
   "cell_type": "code",
   "execution_count": 56,
   "metadata": {},
   "outputs": [
    {
     "name": "stdout",
     "output_type": "stream",
     "text": [
      "\u001b[32m2020-01-13 10:11:28\u001b[0m | \u001b[1mINFO    \u001b[0m | \u001b[36m__main__\u001b[0m:\u001b[36m<module>\u001b[0m:\u001b[36m5\u001b[0m - \u001b[1mIt took 00:02:05 to run this script!\u001b[0m\n"
     ]
    },
    {
     "data": {
      "text/plain": [
       "0"
      ]
     },
     "execution_count": 56,
     "metadata": {},
     "output_type": "execute_result"
    }
   ],
   "source": [
    "start_time = time()\n",
    "with Pool(processes=(cpu_count() -1)) as proc:\n",
    "    titles = list(proc.imap(get_titles_p, list(most_common_doms.keys())))\n",
    "elapsed = strftime(\"%H:%M:%S\", gmtime(time() - start_time))\n",
    "logger.info(f'It took {elapsed} to run this script!')\n",
    "os.system(\"play /usr/share/sounds/sound-icons/trumpet-1.wav\")"
   ]
  },
  {
   "cell_type": "code",
   "execution_count": 57,
   "metadata": {},
   "outputs": [
    {
     "name": "stdout",
     "output_type": "stream",
     "text": [
      "(3127, 3)\n",
      "                domain                                              title  \\\n",
      "0      www.pcgamer.com                                           PC Gamer   \n",
      "1       www.sbwire.com               SBWire - The Small Business Newswire   \n",
      "2  www.releasewire.com              ReleaseWire - From Release To Results   \n",
      "3   www.gamesradar.com                                        GamesRadar+   \n",
      "4   www.musicradar.com  Music Gear, Equipment, News, Tutorials & Revie...   \n",
      "\n",
      "                                         description  \n",
      "0  PC Gamer is your source for exclusive reviews,...  \n",
      "1                                               None  \n",
      "2                                               None  \n",
      "3  GamesRadar+ takes you closer to the games, mov...  \n",
      "4  Get up to the minute news and reviews for all ...  \n",
      "********************************************************************************\n",
      "Number of domains with no title or description 38\n"
     ]
    }
   ],
   "source": [
    "df = pd.DataFrame(titles, columns=['domain', 'title', 'description'])\n",
    "print(df.shape)\n",
    "print(df.head())\n",
    "print(\"*\"*80)\n",
    "print(f\"Number of domains with no title or description {df[df.title.isna() & df.description.isna()].shape[0]}\")"
   ]
  },
  {
   "cell_type": "markdown",
   "metadata": {},
   "source": [
    "### Observation\n",
    "Pretty good... We have gotten the titles and descriptions of 5000+ domains and only small portion (~1%) of them has neither. \n",
    "\n",
    "## 5. Getting Locality\n",
    "Can we extract Geo Locations from the title's and descriptions?  A quick way is to leverage `geotext` package.  A more eloborate Entity Recognition could be to use `spacy` package, even more advanced state of the art methods would be to use BERT like transformer models.  Let's do a quick and dirty version. First a function as always:"
   ]
  },
  {
   "cell_type": "code",
   "execution_count": 58,
   "metadata": {},
   "outputs": [],
   "source": [
    "def get_locality (desc, title):\n",
    "    if desc:\n",
    "        places = GeoText(desc)\n",
    "        city = places.cities[0] if places.cities else None\n",
    "        country = places.countries[0] if places.countries else None\n",
    "        return [city, country]\n",
    "    elif title:\n",
    "        places = GeoText(title)\n",
    "        city = places.cities[0] if places.cities else None\n",
    "        country = places.countries[0] if places.countries else None\n",
    "        return [city, country]\n",
    "    else:\n",
    "        return [None, None]"
   ]
  },
  {
   "cell_type": "code",
   "execution_count": 59,
   "metadata": {},
   "outputs": [],
   "source": [
    "# Apply and create new fields\n",
    "df['city'], df['country'] = zip(*df.apply(lambda row: get_locality(row['description'], row['title']), axis=1))"
   ]
  },
  {
   "cell_type": "code",
   "execution_count": 60,
   "metadata": {},
   "outputs": [
    {
     "data": {
      "text/html": [
       "<div>\n",
       "<style scoped>\n",
       "    .dataframe tbody tr th:only-of-type {\n",
       "        vertical-align: middle;\n",
       "    }\n",
       "\n",
       "    .dataframe tbody tr th {\n",
       "        vertical-align: top;\n",
       "    }\n",
       "\n",
       "    .dataframe thead th {\n",
       "        text-align: right;\n",
       "    }\n",
       "</style>\n",
       "<table border=\"1\" class=\"dataframe\">\n",
       "  <thead>\n",
       "    <tr style=\"text-align: right;\">\n",
       "      <th></th>\n",
       "      <th>domain</th>\n",
       "      <th>title</th>\n",
       "      <th>description</th>\n",
       "      <th>city</th>\n",
       "      <th>country</th>\n",
       "    </tr>\n",
       "  </thead>\n",
       "  <tbody>\n",
       "    <tr>\n",
       "      <th>8</th>\n",
       "      <td>www.whatsonstage.com</td>\n",
       "      <td>Theatre shows, special offers, news, reviews a...</td>\n",
       "      <td>Find London theatre tickets for current shows ...</td>\n",
       "      <td>West End</td>\n",
       "      <td>None</td>\n",
       "    </tr>\n",
       "    <tr>\n",
       "      <th>26</th>\n",
       "      <td>www.sfchronicle.com</td>\n",
       "      <td>San Francisco Chronicle - Bay Area news, sport...</td>\n",
       "      <td>Exclusive Bay Area and San Francisco breaking ...</td>\n",
       "      <td>San Francisco</td>\n",
       "      <td>None</td>\n",
       "    </tr>\n",
       "    <tr>\n",
       "      <th>27</th>\n",
       "      <td>www.houstonchronicle.com</td>\n",
       "      <td>Houston Chronicle | HoustonChronicle.com - Hou...</td>\n",
       "      <td>Get the latest news on Houston, Texas, the Uni...</td>\n",
       "      <td>Houston</td>\n",
       "      <td>United States</td>\n",
       "    </tr>\n",
       "    <tr>\n",
       "      <th>36</th>\n",
       "      <td>www.washingtonpost.com</td>\n",
       "      <td>Washington Post: Breaking News, World, US, DC ...</td>\n",
       "      <td>Breaking news and analysis on politics, busine...</td>\n",
       "      <td>Virginia</td>\n",
       "      <td>None</td>\n",
       "    </tr>\n",
       "    <tr>\n",
       "      <th>46</th>\n",
       "      <td>www.seattletimes.com</td>\n",
       "      <td>The Seattle Times | Local news, sports, busine...</td>\n",
       "      <td>Local news, sports, business, politics, entert...</td>\n",
       "      <td>Seattle</td>\n",
       "      <td>None</td>\n",
       "    </tr>\n",
       "    <tr>\n",
       "      <th>...</th>\n",
       "      <td>...</td>\n",
       "      <td>...</td>\n",
       "      <td>...</td>\n",
       "      <td>...</td>\n",
       "      <td>...</td>\n",
       "    </tr>\n",
       "    <tr>\n",
       "      <th>3082</th>\n",
       "      <td>spokanefavs.com</td>\n",
       "      <td>SpokaneFAVS</td>\n",
       "      <td>Spokane's faith, ethics and religion news and ...</td>\n",
       "      <td>Spokane</td>\n",
       "      <td>None</td>\n",
       "    </tr>\n",
       "    <tr>\n",
       "      <th>3086</th>\n",
       "      <td>www.focusnewspaper.com</td>\n",
       "      <td>Focus Newspaper | Your #1 community and entert...</td>\n",
       "      <td>Free every Thursday! Your #1 community and ent...</td>\n",
       "      <td>Carolina</td>\n",
       "      <td>None</td>\n",
       "    </tr>\n",
       "    <tr>\n",
       "      <th>3101</th>\n",
       "      <td>www.hungryforever.com</td>\n",
       "      <td>HungryForever | No.1 Food Blog in Chennai, Ban...</td>\n",
       "      <td>None</td>\n",
       "      <td>Chennai</td>\n",
       "      <td>None</td>\n",
       "    </tr>\n",
       "    <tr>\n",
       "      <th>3105</th>\n",
       "      <td>www.brockvillenewswatch.com</td>\n",
       "      <td>Brockville Newswatch | News that matters in Br...</td>\n",
       "      <td>None</td>\n",
       "      <td>Brockville</td>\n",
       "      <td>None</td>\n",
       "    </tr>\n",
       "    <tr>\n",
       "      <th>3111</th>\n",
       "      <td>www.thejusticegap.com</td>\n",
       "      <td>\\n\\t\\t\\tThe Justice Gap – A magazine about law...</td>\n",
       "      <td>None</td>\n",
       "      <td>Gap</td>\n",
       "      <td>None</td>\n",
       "    </tr>\n",
       "  </tbody>\n",
       "</table>\n",
       "<p>693 rows × 5 columns</p>\n",
       "</div>"
      ],
      "text/plain": [
       "                           domain  \\\n",
       "8            www.whatsonstage.com   \n",
       "26            www.sfchronicle.com   \n",
       "27       www.houstonchronicle.com   \n",
       "36         www.washingtonpost.com   \n",
       "46           www.seattletimes.com   \n",
       "...                           ...   \n",
       "3082              spokanefavs.com   \n",
       "3086       www.focusnewspaper.com   \n",
       "3101        www.hungryforever.com   \n",
       "3105  www.brockvillenewswatch.com   \n",
       "3111        www.thejusticegap.com   \n",
       "\n",
       "                                                  title  \\\n",
       "8     Theatre shows, special offers, news, reviews a...   \n",
       "26    San Francisco Chronicle - Bay Area news, sport...   \n",
       "27    Houston Chronicle | HoustonChronicle.com - Hou...   \n",
       "36    Washington Post: Breaking News, World, US, DC ...   \n",
       "46    The Seattle Times | Local news, sports, busine...   \n",
       "...                                                 ...   \n",
       "3082                                        SpokaneFAVS   \n",
       "3086  Focus Newspaper | Your #1 community and entert...   \n",
       "3101  HungryForever | No.1 Food Blog in Chennai, Ban...   \n",
       "3105  Brockville Newswatch | News that matters in Br...   \n",
       "3111  \\n\\t\\t\\tThe Justice Gap – A magazine about law...   \n",
       "\n",
       "                                            description           city  \\\n",
       "8     Find London theatre tickets for current shows ...       West End   \n",
       "26    Exclusive Bay Area and San Francisco breaking ...  San Francisco   \n",
       "27    Get the latest news on Houston, Texas, the Uni...        Houston   \n",
       "36    Breaking news and analysis on politics, busine...       Virginia   \n",
       "46    Local news, sports, business, politics, entert...        Seattle   \n",
       "...                                                 ...            ...   \n",
       "3082  Spokane's faith, ethics and religion news and ...        Spokane   \n",
       "3086  Free every Thursday! Your #1 community and ent...       Carolina   \n",
       "3101                                               None        Chennai   \n",
       "3105                                               None     Brockville   \n",
       "3111                                               None            Gap   \n",
       "\n",
       "            country  \n",
       "8              None  \n",
       "26             None  \n",
       "27    United States  \n",
       "36             None  \n",
       "46             None  \n",
       "...             ...  \n",
       "3082           None  \n",
       "3086           None  \n",
       "3101           None  \n",
       "3105           None  \n",
       "3111           None  \n",
       "\n",
       "[693 rows x 5 columns]"
      ]
     },
     "execution_count": 60,
     "metadata": {},
     "output_type": "execute_result"
    }
   ],
   "source": [
    "df[~df.city.isna()]"
   ]
  },
  {
   "cell_type": "markdown",
   "metadata": {},
   "source": [
    "Pretty good results. Although we do not have an immediate use for it, it is good information, we may use it to detect local news for specific locations. \n",
    "\n",
    "##  5. Manual labeling for a simple classifier\n",
    "How do we classify whether the domain is really news, not news (like tesco.com), sports or financial specific. We will manually hand label some of these domains.\n",
    "1. Save the data on to disk\n",
    "2. Open the file on a spreadsheet app\n",
    "3. Hand label some records and save"
   ]
  },
  {
   "cell_type": "code",
   "execution_count": 64,
   "metadata": {},
   "outputs": [],
   "source": [
    "# Save to disk\n",
    "file_path = data_folder / 'domains'\n",
    "if not file_path.is_dir():\n",
    "    Path.mkdir(file_path, parents=True, exist_ok=True)\n",
    "df.to_csv(file_path / 'domains.csv', index=False, header=True)"
   ]
  },
  {
   "cell_type": "code",
   "execution_count": 66,
   "metadata": {},
   "outputs": [],
   "source": [
    "df_labeled = pd.read_csv(file_path / 'domains_labeled.csv')"
   ]
  },
  {
   "cell_type": "code",
   "execution_count": 67,
   "metadata": {},
   "outputs": [
    {
     "data": {
      "text/plain": [
       "news              29\n",
       "other             27\n",
       "financial_news    18\n",
       "tech_news         11\n",
       "sports            11\n",
       "entertainment     10\n",
       "Name: label, dtype: int64"
      ]
     },
     "execution_count": 67,
     "metadata": {},
     "output_type": "execute_result"
    }
   ],
   "source": [
    "df_labeled.label.value_counts()"
   ]
  },
  {
   "cell_type": "markdown",
   "metadata": {},
   "source": [
    "Here, we labeled about 100 domains in a few minutes into 6 classes. `Active learning` could be applied to increase the human labeled records. Or crowd source and label all 5,000+ domains. \n",
    "\n",
    "We got our labels, How about our Input text? We will concatenate our title and description fields."
   ]
  },
  {
   "cell_type": "code",
   "execution_count": 68,
   "metadata": {},
   "outputs": [
    {
     "data": {
      "text/html": [
       "<div>\n",
       "<style scoped>\n",
       "    .dataframe tbody tr th:only-of-type {\n",
       "        vertical-align: middle;\n",
       "    }\n",
       "\n",
       "    .dataframe tbody tr th {\n",
       "        vertical-align: top;\n",
       "    }\n",
       "\n",
       "    .dataframe thead th {\n",
       "        text-align: right;\n",
       "    }\n",
       "</style>\n",
       "<table border=\"1\" class=\"dataframe\">\n",
       "  <thead>\n",
       "    <tr style=\"text-align: right;\">\n",
       "      <th></th>\n",
       "      <th>label</th>\n",
       "      <th>domain</th>\n",
       "      <th>title</th>\n",
       "      <th>description</th>\n",
       "      <th>city</th>\n",
       "      <th>country</th>\n",
       "      <th>title_desc</th>\n",
       "    </tr>\n",
       "  </thead>\n",
       "  <tbody>\n",
       "    <tr>\n",
       "      <th>0</th>\n",
       "      <td>entertainment</td>\n",
       "      <td>www.thesun.co.uk</td>\n",
       "      <td>News, sport, celebrities and gossip | The Sun</td>\n",
       "      <td>Get the latest news, exclusives, sport, celebr...</td>\n",
       "      <td>NaN</td>\n",
       "      <td>NaN</td>\n",
       "      <td>News, sport, celebrities and gossip | The Sun....</td>\n",
       "    </tr>\n",
       "    <tr>\n",
       "      <th>1</th>\n",
       "      <td>entertainment</td>\n",
       "      <td>parade.com</td>\n",
       "      <td>Parade</td>\n",
       "      <td>Your daily destination for celebrity news, vid...</td>\n",
       "      <td>NaN</td>\n",
       "      <td>NaN</td>\n",
       "      <td>Parade. Your daily destination for celebrity n...</td>\n",
       "    </tr>\n",
       "    <tr>\n",
       "      <th>2</th>\n",
       "      <td>entertainment</td>\n",
       "      <td>usweekly.com</td>\n",
       "      <td>USweekly</td>\n",
       "      <td>NaN</td>\n",
       "      <td>NaN</td>\n",
       "      <td>NaN</td>\n",
       "      <td>USweekly.</td>\n",
       "    </tr>\n",
       "    <tr>\n",
       "      <th>3</th>\n",
       "      <td>entertainment</td>\n",
       "      <td>www.whatsontv.co.uk</td>\n",
       "      <td>TV guide to top UK TV and soap spoilers | What...</td>\n",
       "      <td>What’s on TV is the best guide to UK TV, news,...</td>\n",
       "      <td>NaN</td>\n",
       "      <td>NaN</td>\n",
       "      <td>TV guide to top UK TV and soap spoilers | What...</td>\n",
       "    </tr>\n",
       "    <tr>\n",
       "      <th>4</th>\n",
       "      <td>entertainment</td>\n",
       "      <td>www.eonline.com</td>\n",
       "      <td>Entertainment News, Celebrity Gossip, Celebrit...</td>\n",
       "      <td>Your source for entertainment news, celebritie...</td>\n",
       "      <td>NaN</td>\n",
       "      <td>NaN</td>\n",
       "      <td>Entertainment News, Celebrity Gossip, Celebrit...</td>\n",
       "    </tr>\n",
       "    <tr>\n",
       "      <th>...</th>\n",
       "      <td>...</td>\n",
       "      <td>...</td>\n",
       "      <td>...</td>\n",
       "      <td>...</td>\n",
       "      <td>...</td>\n",
       "      <td>...</td>\n",
       "      <td>...</td>\n",
       "    </tr>\n",
       "    <tr>\n",
       "      <th>5058</th>\n",
       "      <td>NaN</td>\n",
       "      <td>www.daviddavismp.com</td>\n",
       "      <td>Rt Hon David Davis MP</td>\n",
       "      <td>NaN</td>\n",
       "      <td>NaN</td>\n",
       "      <td>NaN</td>\n",
       "      <td>Rt Hon David Davis MP .</td>\n",
       "    </tr>\n",
       "    <tr>\n",
       "      <th>5059</th>\n",
       "      <td>NaN</td>\n",
       "      <td>www.ptleader.com</td>\n",
       "      <td>Port Townsend Leader</td>\n",
       "      <td>NaN</td>\n",
       "      <td>NaN</td>\n",
       "      <td>NaN</td>\n",
       "      <td>Port Townsend Leader.</td>\n",
       "    </tr>\n",
       "    <tr>\n",
       "      <th>5060</th>\n",
       "      <td>NaN</td>\n",
       "      <td>www.hotelbusiness.com</td>\n",
       "      <td>Home | Hotel Business</td>\n",
       "      <td>Hotel Business - A leader in hospitality news ...</td>\n",
       "      <td>NaN</td>\n",
       "      <td>NaN</td>\n",
       "      <td>Home | Hotel Business. Hotel Business - A lead...</td>\n",
       "    </tr>\n",
       "    <tr>\n",
       "      <th>5061</th>\n",
       "      <td>NaN</td>\n",
       "      <td>pets.webmd.com</td>\n",
       "      <td>Pet Health Center | Veterinary Care and Inform...</td>\n",
       "      <td>Welcome to the new WebMD Pet Health Center. We...</td>\n",
       "      <td>NaN</td>\n",
       "      <td>NaN</td>\n",
       "      <td>Pet Health Center | Veterinary Care and Inform...</td>\n",
       "    </tr>\n",
       "    <tr>\n",
       "      <th>5062</th>\n",
       "      <td>NaN</td>\n",
       "      <td>mauinow.com</td>\n",
       "      <td>Maui Now  :  Local Maui News and Information</td>\n",
       "      <td>Hawaii's source for local Maui News, Events, B...</td>\n",
       "      <td>NaN</td>\n",
       "      <td>NaN</td>\n",
       "      <td>Maui Now  :  Local Maui News and Information. ...</td>\n",
       "    </tr>\n",
       "  </tbody>\n",
       "</table>\n",
       "<p>5063 rows × 7 columns</p>\n",
       "</div>"
      ],
      "text/plain": [
       "              label                 domain  \\\n",
       "0     entertainment       www.thesun.co.uk   \n",
       "1     entertainment             parade.com   \n",
       "2     entertainment           usweekly.com   \n",
       "3     entertainment    www.whatsontv.co.uk   \n",
       "4     entertainment        www.eonline.com   \n",
       "...             ...                    ...   \n",
       "5058            NaN   www.daviddavismp.com   \n",
       "5059            NaN       www.ptleader.com   \n",
       "5060            NaN  www.hotelbusiness.com   \n",
       "5061            NaN         pets.webmd.com   \n",
       "5062            NaN            mauinow.com   \n",
       "\n",
       "                                                  title  \\\n",
       "0         News, sport, celebrities and gossip | The Sun   \n",
       "1                                                Parade   \n",
       "2                                              USweekly   \n",
       "3     TV guide to top UK TV and soap spoilers | What...   \n",
       "4     Entertainment News, Celebrity Gossip, Celebrit...   \n",
       "...                                                 ...   \n",
       "5058                             Rt Hon David Davis MP    \n",
       "5059                               Port Townsend Leader   \n",
       "5060                              Home | Hotel Business   \n",
       "5061  Pet Health Center | Veterinary Care and Inform...   \n",
       "5062       Maui Now  :  Local Maui News and Information   \n",
       "\n",
       "                                            description city country  \\\n",
       "0     Get the latest news, exclusives, sport, celebr...  NaN     NaN   \n",
       "1     Your daily destination for celebrity news, vid...  NaN     NaN   \n",
       "2                                                   NaN  NaN     NaN   \n",
       "3     What’s on TV is the best guide to UK TV, news,...  NaN     NaN   \n",
       "4     Your source for entertainment news, celebritie...  NaN     NaN   \n",
       "...                                                 ...  ...     ...   \n",
       "5058                                                NaN  NaN     NaN   \n",
       "5059                                                NaN  NaN     NaN   \n",
       "5060  Hotel Business - A leader in hospitality news ...  NaN     NaN   \n",
       "5061  Welcome to the new WebMD Pet Health Center. We...  NaN     NaN   \n",
       "5062  Hawaii's source for local Maui News, Events, B...  NaN     NaN   \n",
       "\n",
       "                                             title_desc  \n",
       "0     News, sport, celebrities and gossip | The Sun....  \n",
       "1     Parade. Your daily destination for celebrity n...  \n",
       "2                                            USweekly.   \n",
       "3     TV guide to top UK TV and soap spoilers | What...  \n",
       "4     Entertainment News, Celebrity Gossip, Celebrit...  \n",
       "...                                                 ...  \n",
       "5058                           Rt Hon David Davis MP .   \n",
       "5059                             Port Townsend Leader.   \n",
       "5060  Home | Hotel Business. Hotel Business - A lead...  \n",
       "5061  Pet Health Center | Veterinary Care and Inform...  \n",
       "5062  Maui Now  :  Local Maui News and Information. ...  \n",
       "\n",
       "[5063 rows x 7 columns]"
      ]
     },
     "execution_count": 68,
     "metadata": {},
     "output_type": "execute_result"
    }
   ],
   "source": [
    "df_labeled['title_desc'] = df_labeled['title'].fillna('') + '. ' + df_labeled['description'].fillna('')\n",
    "df_labeled"
   ]
  },
  {
   "cell_type": "markdown",
   "metadata": {},
   "source": [
    "## 5. Training a Naive Bayes Classifier\n",
    "\n",
    "### Train and validation split "
   ]
  },
  {
   "cell_type": "code",
   "execution_count": 69,
   "metadata": {},
   "outputs": [],
   "source": [
    "from sklearn.model_selection import train_test_split"
   ]
  },
  {
   "cell_type": "code",
   "execution_count": 70,
   "metadata": {},
   "outputs": [],
   "source": [
    "df_abt = df_labeled.loc[~df_labeled.label.isna()].copy()"
   ]
  },
  {
   "cell_type": "code",
   "execution_count": 71,
   "metadata": {},
   "outputs": [],
   "source": [
    "X_train, X_val, y_train, y_val = train_test_split(df_abt['title_desc'], df_abt['label'], random_state=210, test_size=0.1, stratify=df_abt['label'])"
   ]
  },
  {
   "cell_type": "code",
   "execution_count": 72,
   "metadata": {},
   "outputs": [
    {
     "data": {
      "text/plain": [
       "news              3\n",
       "other             3\n",
       "financial_news    2\n",
       "sports            1\n",
       "tech_news         1\n",
       "entertainment     1\n",
       "Name: label, dtype: int64"
      ]
     },
     "execution_count": 72,
     "metadata": {},
     "output_type": "execute_result"
    }
   ],
   "source": [
    "y_val.value_counts()"
   ]
  },
  {
   "cell_type": "markdown",
   "metadata": {},
   "source": [
    "Now we need to train a basic classifier for our purpose. We will leverage Naive Bayes which is my go-to classifier for any Text Classification problem to get a base.  It is quick and most cases gives a reasonable enough result. "
   ]
  },
  {
   "cell_type": "code",
   "execution_count": 73,
   "metadata": {},
   "outputs": [],
   "source": [
    "# Vectorize ->  Term Frequency Matrix creation\n",
    "from sklearn.feature_extraction.text import CountVectorizer\n",
    "vectorize = CountVectorizer(strip_accents='unicode', stop_words='english') # Remove Stop Words "
   ]
  },
  {
   "cell_type": "code",
   "execution_count": 74,
   "metadata": {},
   "outputs": [],
   "source": [
    "X_train_vec = vectorize.fit_transform(X_train)\n",
    "X_val_vec = vectorize.transform(X_val)"
   ]
  },
  {
   "cell_type": "code",
   "execution_count": 75,
   "metadata": {},
   "outputs": [
    {
     "data": {
      "text/html": [
       "<div>\n",
       "<style scoped>\n",
       "    .dataframe tbody tr th:only-of-type {\n",
       "        vertical-align: middle;\n",
       "    }\n",
       "\n",
       "    .dataframe tbody tr th {\n",
       "        vertical-align: top;\n",
       "    }\n",
       "\n",
       "    .dataframe thead th {\n",
       "        text-align: right;\n",
       "    }\n",
       "</style>\n",
       "<table border=\"1\" class=\"dataframe\">\n",
       "  <thead>\n",
       "    <tr style=\"text-align: right;\">\n",
       "      <th></th>\n",
       "      <th>000</th>\n",
       "      <th>10</th>\n",
       "      <th>100</th>\n",
       "      <th>14</th>\n",
       "      <th>19</th>\n",
       "      <th>2004</th>\n",
       "      <th>2018</th>\n",
       "      <th>2019</th>\n",
       "      <th>360</th>\n",
       "      <th>400</th>\n",
       "      <th>...</th>\n",
       "      <th>windows</th>\n",
       "      <th>winning</th>\n",
       "      <th>woman</th>\n",
       "      <th>women</th>\n",
       "      <th>world</th>\n",
       "      <th>written</th>\n",
       "      <th>yahoo</th>\n",
       "      <th>york</th>\n",
       "      <th>zdnet</th>\n",
       "      <th>zealand</th>\n",
       "    </tr>\n",
       "  </thead>\n",
       "  <tbody>\n",
       "    <tr>\n",
       "      <th>0</th>\n",
       "      <td>0</td>\n",
       "      <td>0</td>\n",
       "      <td>0</td>\n",
       "      <td>0</td>\n",
       "      <td>0</td>\n",
       "      <td>0</td>\n",
       "      <td>0</td>\n",
       "      <td>0</td>\n",
       "      <td>0</td>\n",
       "      <td>0</td>\n",
       "      <td>...</td>\n",
       "      <td>0</td>\n",
       "      <td>0</td>\n",
       "      <td>0</td>\n",
       "      <td>0</td>\n",
       "      <td>0</td>\n",
       "      <td>0</td>\n",
       "      <td>0</td>\n",
       "      <td>0</td>\n",
       "      <td>0</td>\n",
       "      <td>0</td>\n",
       "    </tr>\n",
       "    <tr>\n",
       "      <th>1</th>\n",
       "      <td>0</td>\n",
       "      <td>0</td>\n",
       "      <td>0</td>\n",
       "      <td>0</td>\n",
       "      <td>0</td>\n",
       "      <td>0</td>\n",
       "      <td>0</td>\n",
       "      <td>0</td>\n",
       "      <td>0</td>\n",
       "      <td>0</td>\n",
       "      <td>...</td>\n",
       "      <td>0</td>\n",
       "      <td>0</td>\n",
       "      <td>0</td>\n",
       "      <td>0</td>\n",
       "      <td>0</td>\n",
       "      <td>0</td>\n",
       "      <td>0</td>\n",
       "      <td>0</td>\n",
       "      <td>0</td>\n",
       "      <td>0</td>\n",
       "    </tr>\n",
       "    <tr>\n",
       "      <th>2</th>\n",
       "      <td>0</td>\n",
       "      <td>0</td>\n",
       "      <td>0</td>\n",
       "      <td>0</td>\n",
       "      <td>0</td>\n",
       "      <td>0</td>\n",
       "      <td>0</td>\n",
       "      <td>0</td>\n",
       "      <td>0</td>\n",
       "      <td>0</td>\n",
       "      <td>...</td>\n",
       "      <td>0</td>\n",
       "      <td>0</td>\n",
       "      <td>0</td>\n",
       "      <td>0</td>\n",
       "      <td>1</td>\n",
       "      <td>0</td>\n",
       "      <td>0</td>\n",
       "      <td>0</td>\n",
       "      <td>0</td>\n",
       "      <td>0</td>\n",
       "    </tr>\n",
       "    <tr>\n",
       "      <th>3</th>\n",
       "      <td>0</td>\n",
       "      <td>0</td>\n",
       "      <td>0</td>\n",
       "      <td>0</td>\n",
       "      <td>0</td>\n",
       "      <td>0</td>\n",
       "      <td>0</td>\n",
       "      <td>0</td>\n",
       "      <td>0</td>\n",
       "      <td>0</td>\n",
       "      <td>...</td>\n",
       "      <td>0</td>\n",
       "      <td>0</td>\n",
       "      <td>0</td>\n",
       "      <td>0</td>\n",
       "      <td>0</td>\n",
       "      <td>0</td>\n",
       "      <td>0</td>\n",
       "      <td>0</td>\n",
       "      <td>0</td>\n",
       "      <td>0</td>\n",
       "    </tr>\n",
       "    <tr>\n",
       "      <th>4</th>\n",
       "      <td>0</td>\n",
       "      <td>0</td>\n",
       "      <td>0</td>\n",
       "      <td>0</td>\n",
       "      <td>0</td>\n",
       "      <td>0</td>\n",
       "      <td>0</td>\n",
       "      <td>0</td>\n",
       "      <td>0</td>\n",
       "      <td>0</td>\n",
       "      <td>...</td>\n",
       "      <td>0</td>\n",
       "      <td>0</td>\n",
       "      <td>0</td>\n",
       "      <td>0</td>\n",
       "      <td>0</td>\n",
       "      <td>0</td>\n",
       "      <td>0</td>\n",
       "      <td>0</td>\n",
       "      <td>0</td>\n",
       "      <td>0</td>\n",
       "    </tr>\n",
       "  </tbody>\n",
       "</table>\n",
       "<p>5 rows × 647 columns</p>\n",
       "</div>"
      ],
      "text/plain": [
       "   000  10  100  14  19  2004  2018  2019  360  400  ...  windows  winning  \\\n",
       "0    0   0    0   0   0     0     0     0    0    0  ...        0        0   \n",
       "1    0   0    0   0   0     0     0     0    0    0  ...        0        0   \n",
       "2    0   0    0   0   0     0     0     0    0    0  ...        0        0   \n",
       "3    0   0    0   0   0     0     0     0    0    0  ...        0        0   \n",
       "4    0   0    0   0   0     0     0     0    0    0  ...        0        0   \n",
       "\n",
       "   woman  women  world  written  yahoo  york  zdnet  zealand  \n",
       "0      0      0      0        0      0     0      0        0  \n",
       "1      0      0      0        0      0     0      0        0  \n",
       "2      0      0      1        0      0     0      0        0  \n",
       "3      0      0      0        0      0     0      0        0  \n",
       "4      0      0      0        0      0     0      0        0  \n",
       "\n",
       "[5 rows x 647 columns]"
      ]
     },
     "execution_count": 75,
     "metadata": {},
     "output_type": "execute_result"
    }
   ],
   "source": [
    "# Spot checking \n",
    "word_freq = pd.DataFrame(X_train_vec.toarray(), columns=vectorize.get_feature_names())\n",
    "word_freq.head()"
   ]
  },
  {
   "cell_type": "code",
   "execution_count": 77,
   "metadata": {},
   "outputs": [
    {
     "data": {
      "text/html": [
       "<div>\n",
       "<style scoped>\n",
       "    .dataframe tbody tr th:only-of-type {\n",
       "        vertical-align: middle;\n",
       "    }\n",
       "\n",
       "    .dataframe tbody tr th {\n",
       "        vertical-align: top;\n",
       "    }\n",
       "\n",
       "    .dataframe thead th {\n",
       "        text-align: right;\n",
       "    }\n",
       "</style>\n",
       "<table border=\"1\" class=\"dataframe\">\n",
       "  <thead>\n",
       "    <tr style=\"text-align: right;\">\n",
       "      <th></th>\n",
       "      <th>0</th>\n",
       "    </tr>\n",
       "  </thead>\n",
       "  <tbody>\n",
       "    <tr>\n",
       "      <th>news</th>\n",
       "      <td>194</td>\n",
       "    </tr>\n",
       "    <tr>\n",
       "      <th>latest</th>\n",
       "      <td>46</td>\n",
       "    </tr>\n",
       "    <tr>\n",
       "      <th>business</th>\n",
       "      <td>35</td>\n",
       "    </tr>\n",
       "    <tr>\n",
       "      <th>sports</th>\n",
       "      <td>33</td>\n",
       "    </tr>\n",
       "    <tr>\n",
       "      <th>breaking</th>\n",
       "      <td>30</td>\n",
       "    </tr>\n",
       "  </tbody>\n",
       "</table>\n",
       "</div>"
      ],
      "text/plain": [
       "            0\n",
       "news      194\n",
       "latest     46\n",
       "business   35\n",
       "sports     33\n",
       "breaking   30"
      ]
     },
     "execution_count": 77,
     "metadata": {},
     "output_type": "execute_result"
    }
   ],
   "source": [
    "top_words = pd.DataFrame(word_freq.sum()).sort_values(0, ascending=False)\n",
    "top_words.head()"
   ]
  },
  {
   "cell_type": "markdown",
   "metadata": {},
   "source": [
    "Makes sense. We can now fit our model"
   ]
  },
  {
   "cell_type": "code",
   "execution_count": 78,
   "metadata": {},
   "outputs": [
    {
     "data": {
      "text/plain": [
       "MultinomialNB(alpha=1.0, class_prior=None, fit_prior=True)"
      ]
     },
     "execution_count": 78,
     "metadata": {},
     "output_type": "execute_result"
    }
   ],
   "source": [
    "from sklearn.naive_bayes import MultinomialNB\n",
    "naive_bayes = MultinomialNB()\n",
    "naive_bayes.fit(X_train_vec, y_train)"
   ]
  },
  {
   "cell_type": "code",
   "execution_count": 79,
   "metadata": {},
   "outputs": [],
   "source": [
    "# Get our predictions on the validation set\n",
    "preds = naive_bayes.predict(X_val_vec)"
   ]
  },
  {
   "cell_type": "code",
   "execution_count": 80,
   "metadata": {},
   "outputs": [
    {
     "name": "stdout",
     "output_type": "stream",
     "text": [
      "Accuracy: 0.91\n",
      "Matthews Correlation Coefficient: 0.89\n"
     ]
    }
   ],
   "source": [
    "# Calculate accuracy metrics\n",
    "from sklearn.metrics import accuracy_score, matthews_corrcoef, confusion_matrix\n",
    "print(f'Accuracy: {round(accuracy_score(y_val, preds), 2)}')\n",
    "print(f'Matthews Correlation Coefficient: {round(matthews_corrcoef(y_val, preds),2)}')"
   ]
  },
  {
   "cell_type": "markdown",
   "metadata": {},
   "source": [
    "### Results\n",
    "That's pretty good based on a few records. Obviously, we cheated a little. If we do Cross validation, or resample our train/test splits, the average accuracy metrics may not be as good. However, for demonstration purposes, this is good enough.  Let's plot the confusion matrix"
   ]
  },
  {
   "cell_type": "code",
   "execution_count": 81,
   "metadata": {},
   "outputs": [
    {
     "data": {
      "text/plain": [
       "['entertainment', 'financial_news', 'news', 'other', 'sports', 'tech_news']"
      ]
     },
     "execution_count": 81,
     "metadata": {},
     "output_type": "execute_result"
    }
   ],
   "source": [
    "# Get labels \n",
    "labels = df_abt.label.value_counts().index.tolist()\n",
    "labels = df_abt.label.unique().tolist()\n",
    "labels"
   ]
  },
  {
   "cell_type": "code",
   "execution_count": 82,
   "metadata": {},
   "outputs": [
    {
     "data": {
      "image/png": "[encoded data removed]",
      "text/plain": [
       "<Figure size 720x504 with 2 Axes>"
      ]
     },
     "metadata": {
      "needs_background": "light"
     },
     "output_type": "display_data"
    }
   ],
   "source": [
    "# Plotting the Confusion matrix\n",
    "cm = pd.DataFrame(confusion_matrix(y_val, preds), index=labels, columns=labels)\n",
    "plt.figure(figsize = (10,7))\n",
    "heatmap = sns.heatmap(cm, annot=True, fmt=\"d\")\n",
    "heatmap.yaxis.set_ticklabels(heatmap.yaxis.get_ticklabels(), rotation=0, ha='right', fontsize=12)\n",
    "heatmap.xaxis.set_ticklabels(heatmap.xaxis.get_ticklabels(), rotation=45, ha='right', fontsize=12)\n",
    "plt.ylabel('True label')\n",
    "plt.xlabel('Predicted label')\n",
    "plt.show()\n"
   ]
  },
  {
   "cell_type": "markdown",
   "metadata": {},
   "source": [
    "We are missing one. Let's check it out"
   ]
  },
  {
   "cell_type": "code",
   "execution_count": 83,
   "metadata": {},
   "outputs": [
    {
     "data": {
      "text/plain": [
       "['Automated Test and Automated Measurement Systems - National Instruments. NI equips engineers and scientists with systems that accelerate productivity, innovation, and discovery.']"
      ]
     },
     "execution_count": 83,
     "metadata": {},
     "output_type": "execute_result"
    }
   ],
   "source": [
    "validation = df_abt.iloc[y_val.index].copy()\n",
    "validation['preds'] = preds\n",
    "list(validation[validation.label != validation.preds].title_desc)"
   ]
  },
  {
   "cell_type": "markdown",
   "metadata": {},
   "source": [
    "### Observation\n",
    "This should have been Other but was classified as \"News\". Obviously, more training data will help. We just had 100+ records. \n",
    "\n",
    "Let's get all of the other records classed. "
   ]
  },
  {
   "cell_type": "code",
   "execution_count": 84,
   "metadata": {},
   "outputs": [],
   "source": [
    "X_test_vec= vectorize.transform(df_labeled.loc[df_labeled.label.isna(), 'title_desc'])\n",
    "test_preds = naive_bayes.predict(X_test_vec)\n",
    "df_labeled.loc[df_labeled.label.isna(), 'label'] = test_preds"
   ]
  },
  {
   "cell_type": "code",
   "execution_count": 85,
   "metadata": {},
   "outputs": [
    {
     "data": {
      "text/html": [
       "<div>\n",
       "<style scoped>\n",
       "    .dataframe tbody tr th:only-of-type {\n",
       "        vertical-align: middle;\n",
       "    }\n",
       "\n",
       "    .dataframe tbody tr th {\n",
       "        vertical-align: top;\n",
       "    }\n",
       "\n",
       "    .dataframe thead th {\n",
       "        text-align: right;\n",
       "    }\n",
       "</style>\n",
       "<table border=\"1\" class=\"dataframe\">\n",
       "  <thead>\n",
       "    <tr style=\"text-align: right;\">\n",
       "      <th></th>\n",
       "      <th>label</th>\n",
       "      <th>domain</th>\n",
       "      <th>title</th>\n",
       "      <th>description</th>\n",
       "      <th>city</th>\n",
       "      <th>country</th>\n",
       "      <th>title_desc</th>\n",
       "    </tr>\n",
       "  </thead>\n",
       "  <tbody>\n",
       "    <tr>\n",
       "      <th>1977</th>\n",
       "      <td>financial_news</td>\n",
       "      <td>blueandgreentomorrow.com</td>\n",
       "      <td>Blue and Green Tomorrow: Ethical Investments &amp;...</td>\n",
       "      <td>Find news, advice and information about Sustai...</td>\n",
       "      <td>NaN</td>\n",
       "      <td>NaN</td>\n",
       "      <td>Blue and Green Tomorrow: Ethical Investments &amp;...</td>\n",
       "    </tr>\n",
       "    <tr>\n",
       "      <th>1881</th>\n",
       "      <td>news</td>\n",
       "      <td>www.tdtnews.com</td>\n",
       "      <td>tdtnews.com</td>\n",
       "      <td>NaN</td>\n",
       "      <td>NaN</td>\n",
       "      <td>NaN</td>\n",
       "      <td>tdtnews.com.</td>\n",
       "    </tr>\n",
       "    <tr>\n",
       "      <th>2889</th>\n",
       "      <td>news</td>\n",
       "      <td>blueridgemuse.com</td>\n",
       "      <td>Blue Ridge Muse – News, views and musings from...</td>\n",
       "      <td>NaN</td>\n",
       "      <td>NaN</td>\n",
       "      <td>NaN</td>\n",
       "      <td>Blue Ridge Muse – News, views and musings from...</td>\n",
       "    </tr>\n",
       "    <tr>\n",
       "      <th>2571</th>\n",
       "      <td>sports</td>\n",
       "      <td>nhl.nbcsports.com</td>\n",
       "      <td>NHL News, Video, Scores | NBC Sports' ProHocke...</td>\n",
       "      <td>Find the latest NHL hockey live scores, standi...</td>\n",
       "      <td>NaN</td>\n",
       "      <td>NaN</td>\n",
       "      <td>NHL News, Video, Scores | NBC Sports' ProHocke...</td>\n",
       "    </tr>\n",
       "    <tr>\n",
       "      <th>3005</th>\n",
       "      <td>tech_news</td>\n",
       "      <td>upstatehouse.com</td>\n",
       "      <td>Upstate House - At home in the Hudson Valley U...</td>\n",
       "      <td>At home in the Hudson Valley</td>\n",
       "      <td>NaN</td>\n",
       "      <td>NaN</td>\n",
       "      <td>Upstate House - At home in the Hudson Valley U...</td>\n",
       "    </tr>\n",
       "    <tr>\n",
       "      <th>732</th>\n",
       "      <td>financial_news</td>\n",
       "      <td>www.canindia.com</td>\n",
       "      <td>Canindia News – Canada's favorite south asian ...</td>\n",
       "      <td>NaN</td>\n",
       "      <td>NaN</td>\n",
       "      <td>Canada</td>\n",
       "      <td>Canindia News – Canada's favorite south asian ...</td>\n",
       "    </tr>\n",
       "    <tr>\n",
       "      <th>104</th>\n",
       "      <td>tech_news</td>\n",
       "      <td>www.geeky-gadgets.com</td>\n",
       "      <td>Geeky Gadgets - Gadgets and Technology News</td>\n",
       "      <td>Geeky Gadgets brings you the latest gadgets an...</td>\n",
       "      <td>NaN</td>\n",
       "      <td>NaN</td>\n",
       "      <td>Geeky Gadgets - Gadgets and Technology News. G...</td>\n",
       "    </tr>\n",
       "    <tr>\n",
       "      <th>3665</th>\n",
       "      <td>sports</td>\n",
       "      <td>www.packersnews.com</td>\n",
       "      <td>PackersNews.com --  Green Bay Packers news fro...</td>\n",
       "      <td>Green Bay Packers fans can catch the latest te...</td>\n",
       "      <td>Green Bay</td>\n",
       "      <td>NaN</td>\n",
       "      <td>PackersNews.com --  Green Bay Packers news fro...</td>\n",
       "    </tr>\n",
       "    <tr>\n",
       "      <th>1362</th>\n",
       "      <td>other</td>\n",
       "      <td>www.metalunderground.com</td>\n",
       "      <td>Metal Underground.com - some music was meant t...</td>\n",
       "      <td>NaN</td>\n",
       "      <td>NaN</td>\n",
       "      <td>NaN</td>\n",
       "      <td>Metal Underground.com - some music was meant t...</td>\n",
       "    </tr>\n",
       "    <tr>\n",
       "      <th>2833</th>\n",
       "      <td>entertainment</td>\n",
       "      <td>303magazine.com</td>\n",
       "      <td>303 MAGAZINE | FASHION • CULTURE • STYLE</td>\n",
       "      <td>For the past 13 years, known as Denver's best ...</td>\n",
       "      <td>Denver</td>\n",
       "      <td>NaN</td>\n",
       "      <td>303 MAGAZINE | FASHION • CULTURE • STYLE. For ...</td>\n",
       "    </tr>\n",
       "    <tr>\n",
       "      <th>2969</th>\n",
       "      <td>entertainment</td>\n",
       "      <td>hollywire.com</td>\n",
       "      <td>Hollywood‘s Most Popular Celebrity Interviews ...</td>\n",
       "      <td>Have a look at Hollywood’s most popular celebr...</td>\n",
       "      <td>Hollywood</td>\n",
       "      <td>NaN</td>\n",
       "      <td>Hollywood‘s Most Popular Celebrity Interviews ...</td>\n",
       "    </tr>\n",
       "    <tr>\n",
       "      <th>4520</th>\n",
       "      <td>other</td>\n",
       "      <td>www.toddparr.com</td>\n",
       "      <td>Todd Parr – Home | Todd Parr</td>\n",
       "      <td>NaN</td>\n",
       "      <td>NaN</td>\n",
       "      <td>NaN</td>\n",
       "      <td>Todd Parr – Home | Todd Parr.</td>\n",
       "    </tr>\n",
       "  </tbody>\n",
       "</table>\n",
       "</div>"
      ],
      "text/plain": [
       "               label                    domain  \\\n",
       "1977  financial_news  blueandgreentomorrow.com   \n",
       "1881            news           www.tdtnews.com   \n",
       "2889            news         blueridgemuse.com   \n",
       "2571          sports         nhl.nbcsports.com   \n",
       "3005       tech_news          upstatehouse.com   \n",
       "732   financial_news          www.canindia.com   \n",
       "104        tech_news     www.geeky-gadgets.com   \n",
       "3665          sports       www.packersnews.com   \n",
       "1362           other  www.metalunderground.com   \n",
       "2833   entertainment           303magazine.com   \n",
       "2969   entertainment             hollywire.com   \n",
       "4520           other          www.toddparr.com   \n",
       "\n",
       "                                                  title  \\\n",
       "1977  Blue and Green Tomorrow: Ethical Investments &...   \n",
       "1881                                        tdtnews.com   \n",
       "2889  Blue Ridge Muse – News, views and musings from...   \n",
       "2571  NHL News, Video, Scores | NBC Sports' ProHocke...   \n",
       "3005  Upstate House - At home in the Hudson Valley U...   \n",
       "732   Canindia News – Canada's favorite south asian ...   \n",
       "104         Geeky Gadgets - Gadgets and Technology News   \n",
       "3665  PackersNews.com --  Green Bay Packers news fro...   \n",
       "1362  Metal Underground.com - some music was meant t...   \n",
       "2833           303 MAGAZINE | FASHION • CULTURE • STYLE   \n",
       "2969  Hollywood‘s Most Popular Celebrity Interviews ...   \n",
       "4520                       Todd Parr – Home | Todd Parr   \n",
       "\n",
       "                                            description       city country  \\\n",
       "1977  Find news, advice and information about Sustai...        NaN     NaN   \n",
       "1881                                                NaN        NaN     NaN   \n",
       "2889                                                NaN        NaN     NaN   \n",
       "2571  Find the latest NHL hockey live scores, standi...        NaN     NaN   \n",
       "3005                       At home in the Hudson Valley        NaN     NaN   \n",
       "732                                                 NaN        NaN  Canada   \n",
       "104   Geeky Gadgets brings you the latest gadgets an...        NaN     NaN   \n",
       "3665  Green Bay Packers fans can catch the latest te...  Green Bay     NaN   \n",
       "1362                                                NaN        NaN     NaN   \n",
       "2833  For the past 13 years, known as Denver's best ...     Denver     NaN   \n",
       "2969  Have a look at Hollywood’s most popular celebr...  Hollywood     NaN   \n",
       "4520                                                NaN        NaN     NaN   \n",
       "\n",
       "                                             title_desc  \n",
       "1977  Blue and Green Tomorrow: Ethical Investments &...  \n",
       "1881                                      tdtnews.com.   \n",
       "2889  Blue Ridge Muse – News, views and musings from...  \n",
       "2571  NHL News, Video, Scores | NBC Sports' ProHocke...  \n",
       "3005  Upstate House - At home in the Hudson Valley U...  \n",
       "732   Canindia News – Canada's favorite south asian ...  \n",
       "104   Geeky Gadgets - Gadgets and Technology News. G...  \n",
       "3665  PackersNews.com --  Green Bay Packers news fro...  \n",
       "1362  Metal Underground.com - some music was meant t...  \n",
       "2833  303 MAGAZINE | FASHION • CULTURE • STYLE. For ...  \n",
       "2969  Hollywood‘s Most Popular Celebrity Interviews ...  \n",
       "4520                     Todd Parr – Home | Todd Parr.   "
      ]
     },
     "execution_count": 85,
     "metadata": {},
     "output_type": "execute_result"
    }
   ],
   "source": [
    "# Sample some\n",
    "df_labeled.sample(frac=1, random_state=99).groupby('label').head(2)"
   ]
  },
  {
   "cell_type": "markdown",
   "metadata": {},
   "source": [
    "### Commentary\n",
    "They look reasonable enough.  We got several of them right. The final distribution of the 5K domains are as such: "
   ]
  },
  {
   "cell_type": "code",
   "execution_count": 86,
   "metadata": {},
   "outputs": [
    {
     "data": {
      "text/plain": [
       "news              3685\n",
       "other              462\n",
       "financial_news     344\n",
       "tech_news          200\n",
       "sports             191\n",
       "entertainment      181\n",
       "Name: label, dtype: int64"
      ]
     },
     "execution_count": 86,
     "metadata": {},
     "output_type": "execute_result"
    }
   ],
   "source": [
    "df_labeled.label.value_counts()"
   ]
  },
  {
   "cell_type": "code",
   "execution_count": null,
   "metadata": {},
   "outputs": [],
   "source": [
    "# Saving the record set\n",
    "df_labeled.to_csv(file_path / 'domains_labeled_complete.csv', header=True, index=False)"
   ]
  },
  {
   "cell_type": "markdown",
   "metadata": {},
   "source": [
    "## End of Notebook\n",
    "\n",
    "We \n",
    "1. extracted some high level meta data from the corpus\n",
    "2. Performed some basic EDA done\n",
    "3. Were able to pull the text data and detect the language on it. \n",
    "4. Extracted the English Domains\n",
    "5. On a gross level classified these English domains included in the set into 6 main categories. \n",
    "6. And did some parallelization to speed up the process\n",
    "\n",
    "All this is not trivial work, but more to come.  For the next steps, we will\n",
    "\n",
    "1. Run through the corpus with our classified English domain list\n",
    "2. Filter out `other` domains that are most likely not `news` channels.\n",
    "3. From the individual webpage, extract `title` `description` and `keywords` if there are any and the `body` content. \n",
    "4. Create a Data Frame to do more NLP\n",
    "5. Do all this in a parallel format with `Spark`\n",
    "\n",
    "We could have bypassed a lot of this but we would still have to determine the domain (bad domain/non-news/other) issue later on, plus this will allow us to process less data. "
   ]
  },
  {
   "cell_type": "code",
   "execution_count": null,
   "metadata": {},
   "outputs": [],
   "source": []
  }
 ],
 "metadata": {
  "kernelspec": {
   "display_name": "Python 3.7 cc_news",
   "language": "python",
   "name": "cc_news_env"
  },
  "language_info": {
   "codemirror_mode": {
    "name": "ipython",
    "version": 3
   },
   "file_extension": ".py",
   "mimetype": "text/x-python",
   "name": "python",
   "nbconvert_exporter": "python",
   "pygments_lexer": "ipython3",
   "version": "3.7.5"
  }
 },
 "nbformat": 4,
 "nbformat_minor": 4
}
